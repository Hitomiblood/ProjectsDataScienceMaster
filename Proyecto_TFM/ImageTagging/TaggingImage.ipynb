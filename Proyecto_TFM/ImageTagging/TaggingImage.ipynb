{
 "cells": [
  {
   "cell_type": "markdown",
   "id": "4eed6996",
   "metadata": {},
   "source": [
    "# Etiquetado de imagenes para el entrenamiento del Modelo basado en YoloV8"
   ]
  },
  {
   "cell_type": "markdown",
   "id": "fb0b45b4",
   "metadata": {},
   "source": [
    "## Definiendo funciones utiles necesarias"
   ]
  },
  {
   "cell_type": "code",
   "execution_count": 1,
   "id": "4008dedf",
   "metadata": {},
   "outputs": [],
   "source": [
    "# Definiendo la clase utils para usar funciones genericas\n",
    "import numpy as np\n",
    "import cv2 as cv\n",
    "\n",
    "class Utils:\n",
    "\n",
    "    @staticmethod\n",
    "    def filterKernel():\n",
    "        return np.array([[-1, -1, -1], [-1, 9, -1], [-1, -1, -1]])\n"
   ]
  },
  {
   "cell_type": "markdown",
   "id": "4bc211c2",
   "metadata": {},
   "source": [
    "## Creación de las opciones básicas que usa el programa\n"
   ]
  },
  {
   "cell_type": "code",
   "execution_count": 2,
   "id": "1922cd08",
   "metadata": {},
   "outputs": [],
   "source": [
    "import tkinter as tk\n",
    "from tkinter import *\n",
    "from tkinter import filedialog, ttk\n",
    "\n",
    "class OptionsHough:\n",
    "    def __init__(self):\n",
    "        self.minRadius = \"25\"\n",
    "        self.maxRadius = \"45\"\n",
    "        self.param1 = \"80\"\n",
    "        self.param2 = \"35\"\n",
    "        self.mediumCellSize = \"180\"\n",
    "        self.scale = \"0.59\"\n",
    "        self.cameraHeight = \"10\"\n",
    "        self.diluent = \"0\"        \n",
    "\n",
    "    def return_options(self):\n",
    "        return(int(self.minRadius),\n",
    "                                       int(self.maxRadius),\n",
    "                                       int(self.param1),\n",
    "                                       int(self.param2),\n",
    "                                       int(self.mediumCellSize),\n",
    "                                       float(self.scale),\n",
    "                                       int(self.cameraHeight),\n",
    "                                       int(self.diluent)\n",
    "                                       )"
   ]
  },
  {
   "cell_type": "markdown",
   "id": "35f2f66b",
   "metadata": {},
   "source": [
    "## Definición de la clase FrameVideo"
   ]
  },
  {
   "cell_type": "code",
   "execution_count": 3,
   "id": "33c62a24",
   "metadata": {},
   "outputs": [],
   "source": [
    "class FrameVideo():\n",
    "\n",
    "    def __init__(self, img, number_frame):\n",
    "        self.circles_opencv = []\n",
    "        self.number_frame = number_frame\n",
    "        self.frame = img\n",
    "        \n",
    "    @staticmethod\n",
    "    def analyzeFrame(frame_and_options):\n",
    "        frame, options = frame_and_options\n",
    "        filterKernel = Utils.filterKernel()\n",
    "        (minRadius, maxRadius, _, _, _, _, _, _) = options\n",
    "\n",
    "\n",
    "        height, width, depth = frame.frame.shape\n",
    "        w = width + 50\n",
    "        h = height + 50\n",
    "\n",
    "        image = cv.cvtColor(frame.frame, cv.COLOR_BGR2GRAY)\n",
    "        cv.normalize(image, image, 0, 255, cv.NORM_MINMAX)\n",
    "        image = cv.filter2D(image, -1, filterKernel)\n",
    "        img_border = cv.copyMakeBorder(image, 50, 50, 50, 50, cv.BORDER_REFLECT)\n",
    "        circles = cv.HoughCircles(img_border, cv.HOUGH_GRADIENT, 1, 25, param1=80, param2=35, minRadius=minRadius,\n",
    "                                  maxRadius=maxRadius)\n",
    "        circles = np.uint16(np.around(circles))\n",
    "        # I choose the circles that are inside the image\n",
    "        circles2 = []\n",
    "        for (x, y, r) in circles[0, :]:\n",
    "            if ((x >= 50) and x <= w and (y >= 50) and y <= h):\n",
    "                mask = np.zeros((height, width), np.uint8)\n",
    "                cv.circle(mask, (x, y), r, 255, -1)\n",
    "                points = np.transpose(np.where(mask == 255))\n",
    "                sum = 0\n",
    "                for (a, b) in points:\n",
    "                    sum = sum + img_border[a][b]\n",
    "                # suma = suma + img_border[a][b][0] + img_border[a][b][1] + img_border[a][b][2] # Aqui mejor poner algo como que > 50% pixeles tienen alta intensidad\n",
    "                if (sum <= 128 * 0.6 * len(points)):\n",
    "                    circles2.append([x - 50, y - 50, r])\n",
    "\n",
    "        frame.circles_opencv = circles2\n",
    "        frame.frame=image\n",
    "        return frame"
   ]
  },
  {
   "cell_type": "markdown",
   "id": "f7e677f3",
   "metadata": {},
   "source": [
    "## Definición clase video Analyzer"
   ]
  },
  {
   "cell_type": "code",
   "execution_count": 4,
   "id": "417dacf9",
   "metadata": {},
   "outputs": [],
   "source": [
    "from multiprocessing import Pool\n",
    "import os\n",
    "\n",
    "class VideoAnalyzer:\n",
    "\n",
    "    def __init__(self, file_path):\n",
    "        self.file_path = file_path\n",
    "        i = self.file_path.rindex(\"\\\\\")\n",
    "        self.outputVideo = file_path[:i] + \"\\\\Output\\\\\" + file_path[i + 1:]\n",
    "        os.makedirs(file_path[:i] + \"\\\\Output\\\\\", exist_ok=True)\n",
    "        self.frames = []\n",
    "\n",
    "    def videoSpermDetection(self, options):\n",
    "        self.frames = [] #Reiniciamos por si acaso\n",
    "        video = self.file_path\n",
    "        outputVideo = self.outputVideo\n",
    "        output_dir_images = os.path.join(os.path.dirname(outputVideo), \"images\")\n",
    "        output_dir_labels = os.path.join(os.path.dirname(outputVideo), \"labels\")\n",
    "        os.makedirs(output_dir_images, exist_ok=True)\n",
    "        os.makedirs(output_dir_labels, exist_ok=True)\n",
    "\n",
    "        vidcap = cv.VideoCapture(video)\n",
    "        success, image = vidcap.read()\n",
    "        frame_number = 0\n",
    "\n",
    "        while success:\n",
    "            f = FrameVideo(image, frame_number)\n",
    "            self.frames.append(f)\n",
    "            success, image = vidcap.read()\n",
    "            frame_number += 1\n",
    "\n",
    "        vidcap.release()\n",
    "\n",
    "        jobs = [(frame, options) for frame in self.frames]\n",
    "        with Pool() as p:\n",
    "            self.frames = p.map(FrameVideo.analyzeFrame, jobs)\n",
    "            p.close()\n",
    "\n",
    "        for frame in self.frames:\n",
    "            \n",
    "            # Guardar la imagen con el cuadrado dibujado\n",
    "            image_filename = f\"{output_dir_images}/frame_{frame.number_frame}.jpg\"\n",
    "            cv.imwrite(image_filename, frame.frame)\n",
    "\n",
    "            # Guardar las etiquetas YOLO en un archivo\n",
    "            label_filename = f\"{output_dir_labels}/frame_{frame.number_frame}.txt\"\n",
    "            with open(label_filename, \"w\") as f:\n",
    "                for circle in frame.circles_opencv:\n",
    "                    x, y, r = circle\n",
    "                    # Normalizar las coordenadas X y Y y calcular el ancho y alto del cuadro\n",
    "                    img_width = frame.frame.shape[1]\n",
    "                    img_height = frame.frame.shape[0]\n",
    "                    x_center = x / img_width\n",
    "                    y_center = y / img_height\n",
    "                    box_width = (2 * r) / img_width\n",
    "                    box_height = (2 * r) / img_height\n",
    "                    f.write(f\"0 {x_center:.3f} {y_center:.3f} {box_width:.3f} {box_height:.3f}\\n\")"
   ]
  },
  {
   "cell_type": "code",
   "execution_count": 29,
   "id": "ecd149ed",
   "metadata": {},
   "outputs": [],
   "source": [
    "video = VideoAnalyzer(\"D:\\OneDrive - Universidad de La Rioja\\RepositoriosPersonales\\TrabajosMaestriaCienciadeDatos\\Proyecto_TFM\\Supplementary_Files\\Supplementary_Files\\Suppl_1.avi\")\n",
    "options = OptionsHough()\n",
    "video.videoSpermDetection(options.return_options())"
   ]
  }
 ],
 "metadata": {
  "kernelspec": {
   "display_name": "TFM_Taggagin",
   "language": "python",
   "name": "python3"
  },
  "language_info": {
   "codemirror_mode": {
    "name": "ipython",
    "version": 3
   },
   "file_extension": ".py",
   "mimetype": "text/x-python",
   "name": "python",
   "nbconvert_exporter": "python",
   "pygments_lexer": "ipython3",
   "version": "3.11.8"
  }
 },
 "nbformat": 4,
 "nbformat_minor": 5
}
