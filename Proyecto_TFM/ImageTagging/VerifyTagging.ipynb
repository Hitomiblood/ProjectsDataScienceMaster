{
 "cells": [
  {
   "cell_type": "markdown",
   "metadata": {},
   "source": [
    "# Cuaderno para la verificación de las anotaciones de las imagenes"
   ]
  },
  {
   "cell_type": "code",
   "execution_count": 6,
   "metadata": {},
   "outputs": [],
   "source": [
    "import cv2\n",
    "\n",
    "def visualize_bounding_boxes(image_path, annotation_path, class_names, resolucion):    \n",
    "        \n",
    "    # Leer la imagen\n",
    "    image = cv2.imread(image_path)\n",
    "    \n",
    "    # Obtener las dimensiones de la imagen\n",
    "    height, width, _ = image.shape\n",
    "    \n",
    "    # Leer las anotaciones YOLO\n",
    "    with open(annotation_path, 'r') as file:\n",
    "        lines = file.readlines()\n",
    "    \n",
    "    # Dibujar las cajas delimitadoras en la imagen\n",
    "    for line in lines:\n",
    "        class_id, x_center, y_center, bbox_width, bbox_height = map(float, line.split())\n",
    "        \n",
    "        # Convertir las coordenadas de YOLO a coordenadas de imagen\n",
    "        x_center *= width\n",
    "        y_center *= height\n",
    "        bbox_width *= width\n",
    "        bbox_height *= height\n",
    "        \n",
    "        # Calcular las coordenadas de la esquina superior izquierda y la esquina inferior derecha\n",
    "        x1 = int(x_center - (bbox_width / 2))\n",
    "        y1 = int(y_center - (bbox_height / 2))\n",
    "        x2 = int(x_center + (bbox_width / 2))\n",
    "        y2 = int(y_center + (bbox_height / 2))\n",
    "        \n",
    "        # Dibujar la caja delimitadora\n",
    "        color = (0, 255, 0)  # Color verde\n",
    "        thickness = 2\n",
    "        cv2.rectangle(image, (x1, y1), (x2, y2), color, thickness)\n",
    "        \n",
    "        # Mostrar el nombre de la clase\n",
    "        class_name = class_names[int(class_id)]\n",
    "        cv2.putText(image, class_name, (x1, y1 - 5), cv2.FONT_HERSHEY_SIMPLEX, 0.5, color, 2)\n",
    "    \n",
    "    # Redimensionar la imagen para que la ventana sea más pequeña\n",
    "    resized_image = cv2.resize(image, resolucion)  # Cambia el tamaño según sea necesario\n",
    "    \n",
    "    # Mostrar la imagen con las cajas delimitadoras\n",
    "    cv2.imshow('Image with Bounding Boxes', resized_image)\n",
    "    cv2.waitKey(0)\n",
    "    cv2.destroyAllWindows()\n"
   ]
  },
  {
   "cell_type": "code",
   "execution_count": 1,
   "metadata": {},
   "outputs": [],
   "source": [
    "import os\n",
    "\n",
    "def modify_annotations(folder_path):\n",
    "    # Obtener la lista de archivos en la carpeta\n",
    "    files = os.listdir(folder_path)\n",
    "    \n",
    "    # Iterar sobre cada archivo en la carpeta\n",
    "    for file_name in files:\n",
    "        file_path = os.path.join(folder_path, file_name)\n",
    "        \n",
    "        # Leer el contenido del archivo\n",
    "        with open(file_path, 'r') as file:\n",
    "            lines = file.readlines()\n",
    "        \n",
    "        # Modificar las anotaciones en el archivo\n",
    "        modified_lines = []\n",
    "        for line in lines:\n",
    "            line_split = line.strip().split()\n",
    "            # Modificar la primera columna a 0\n",
    "            line_split[0] = '0'\n",
    "            # Eliminar la última columna\n",
    "            modified_line = ' '.join(line_split[:-1]) + '\\n'\n",
    "            modified_lines.append(modified_line)\n",
    "        \n",
    "        # Escribir las anotaciones modificadas de vuelta al archivo\n",
    "        with open(file_path, 'w') as file:\n",
    "            file.writelines(modified_lines)"
   ]
  },
  {
   "cell_type": "code",
   "execution_count": 3,
   "metadata": {},
   "outputs": [],
   "source": [
    "import os\n",
    "\n",
    "def eliminar_anotaciones_no_deseadas(carpeta_anotaciones, anotaciones_a_eliminar):\n",
    "    # Obtener la lista de archivos de anotaciones en la carpeta especificada\n",
    "    archivos_anotaciones = [archivo for archivo in os.listdir(carpeta_anotaciones) if archivo.endswith('.txt')]\n",
    "\n",
    "    # Recorrer cada archivo de anotaciones\n",
    "    for archivo in archivos_anotaciones:\n",
    "        ruta_archivo = os.path.join(carpeta_anotaciones, archivo)\n",
    "        with open(ruta_archivo, 'r') as f:\n",
    "            lineas = f.readlines()\n",
    "\n",
    "        # Filtrar las líneas que no contienen los números de anotaciones a eliminar\n",
    "        lineas_filtradas = []\n",
    "        for linea in lineas:\n",
    "            numero_anotacion = linea.strip().split()[-1]  # Obtener el número de la última columna\n",
    "            if numero_anotacion not in anotaciones_a_eliminar:\n",
    "                lineas_filtradas.append(linea)\n",
    "\n",
    "        # Escribir las líneas filtradas de nuevo al archivo\n",
    "        with open(ruta_archivo, 'w') as f:\n",
    "            f.writelines(lineas_filtradas)\n",
    "\n",
    "\n"
   ]
  },
  {
   "cell_type": "code",
   "execution_count": 2,
   "metadata": {},
   "outputs": [],
   "source": [
    "# Ejemplo de uso\n",
    "folder_path = 'D:\\OneDrive - Universidad de La Rioja\\RepositoriosPersonales\\TrabajosMaestriaCienciadeDatos\\Proyecto_TFM\\Supplementary_Files\\AnotacionesVerificadas\\V1\\Labels'\n",
    "modify_annotations(folder_path)"
   ]
  },
  {
   "cell_type": "code",
   "execution_count": 11,
   "metadata": {},
   "outputs": [],
   "source": [
    "# Ruta de la imagen y la anotación\n",
    "image_path = 'D:\\OneDrive - Universidad de La Rioja\\RepositoriosPersonales\\TrabajosMaestriaCienciadeDatos\\Proyecto_TFM\\Supplementary_Files\\AnotacionesVerificadas\\V1\\Images_Original\\\\frame_0.jpg'\n",
    "annotation_path = 'D:\\OneDrive - Universidad de La Rioja\\RepositoriosPersonales\\TrabajosMaestriaCienciadeDatos\\Proyecto_TFM\\Supplementary_Files\\AnotacionesVerificadas\\V1\\Labels\\\\frame_0.txt'\n",
    "\n",
    "# Nombres de las clases\n",
    "class_names = ['Movil']  # Reemplaza con los nombres de tus clases\n",
    "\n",
    "# Resolución de la imagen\n",
    "resolucion = (1920, 980)  # Cambia el tamaño según sea necesario\n",
    "\n",
    "# Visualizar las cajas delimitadoras en la imagen\n",
    "visualize_bounding_boxes(image_path, annotation_path, class_names,resolucion)"
   ]
  },
  {
   "cell_type": "code",
   "execution_count": 4,
   "metadata": {},
   "outputs": [],
   "source": [
    "# Ejemplo de uso:\n",
    "carpeta_anotaciones = \"D:\\OneDrive - Universidad de La Rioja\\RepositoriosPersonales\\TrabajosMaestriaCienciadeDatos\\Proyecto_TFM\\Prueba\\Labels\"\n",
    "anotaciones_a_eliminar = [\"8\", \"4\", \"6\"]  # Números de anotaciones que deseas eliminar\n",
    "eliminar_anotaciones_no_deseadas(carpeta_anotaciones, anotaciones_a_eliminar)"
   ]
  },
  {
   "cell_type": "code",
   "execution_count": null,
   "metadata": {},
   "outputs": [],
   "source": []
  }
 ],
 "metadata": {
  "kernelspec": {
   "display_name": "TFM_Taggagin",
   "language": "python",
   "name": "python3"
  },
  "language_info": {
   "codemirror_mode": {
    "name": "ipython",
    "version": 3
   },
   "file_extension": ".py",
   "mimetype": "text/x-python",
   "name": "python",
   "nbconvert_exporter": "python",
   "pygments_lexer": "ipython3",
   "version": "3.11.8"
  }
 },
 "nbformat": 4,
 "nbformat_minor": 2
}
