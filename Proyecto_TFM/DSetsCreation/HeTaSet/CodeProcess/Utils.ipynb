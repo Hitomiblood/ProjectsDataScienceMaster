{
 "cells": [
  {
   "cell_type": "markdown",
   "metadata": {},
   "source": [
    "# Code to Merge Images Information"
   ]
  },
  {
   "cell_type": "code",
   "execution_count": 6,
   "metadata": {},
   "outputs": [],
   "source": [
    "import os\n",
    "import shutil\n",
    "\n",
    "def combinar_imagenes(directorios_entrada, directorio_salida):\n",
    "    # Crear el directorio de salida si no existe\n",
    "    if not os.path.exists(directorio_salida):\n",
    "        os.makedirs(directorio_salida)\n",
    "    \n",
    "    # Contador para las imágenes\n",
    "    contador_imagenes = 0\n",
    "    \n",
    "    for directorio in directorios_entrada:\n",
    "        # Listar todas las imágenes en el directorio de entrada\n",
    "        imagenes = [f for f in os.listdir(directorio) if f.endswith(('.jpg', '.jpeg', '.png'))]\n",
    "        \n",
    "        for imagen in imagenes:\n",
    "            # Generar el nuevo nombre de la imagen\n",
    "            nuevo_nombre = f\"objeto_{contador_imagenes}.jpg\"\n",
    "            \n",
    "            # Ruta completa de la imagen de entrada y salida\n",
    "            ruta_imagen_entrada = os.path.join(directorio, imagen)\n",
    "            ruta_imagen_salida = os.path.join(directorio_salida, nuevo_nombre)\n",
    "            \n",
    "            # Copiar la imagen al directorio de salida con el nuevo nombre\n",
    "            shutil.copy2(ruta_imagen_entrada, ruta_imagen_salida)\n",
    "            \n",
    "            # Incrementar el contador de imágenes\n",
    "            contador_imagenes += 1\n",
    "\n",
    "# Ejemplo de uso\n",
    "directorios_entrada = ['D:\\OneDrive - Universidad de La Rioja\\RepositoriosPersonales\\TrabajosMaestriaCienciadeDatos\\Proyecto_TFM\\DSetsCreation\\HeTaSet\\Images\\\\acA1920-155um__22949301__20200710_094124535',\n",
    "                        'D:\\OneDrive - Universidad de La Rioja\\RepositoriosPersonales\\TrabajosMaestriaCienciadeDatos\\Proyecto_TFM\\DSetsCreation\\HeTaSet\\Images\\\\acA1920-155um__22949301__20210625_105958792',\n",
    "                        'D:\\OneDrive - Universidad de La Rioja\\RepositoriosPersonales\\TrabajosMaestriaCienciadeDatos\\Proyecto_TFM\\DSetsCreation\\HeTaSet\\Images\\\\acA1920-155um__22949301__20220526_124553810',\n",
    "                        'D:\\OneDrive - Universidad de La Rioja\\RepositoriosPersonales\\TrabajosMaestriaCienciadeDatos\\Proyecto_TFM\\DSetsCreation\\HeTaSet\\Images\\\\acA1920-155um__22949301__20220526_160756867']\n",
    "directorio_salida = 'D:\\OneDrive - Universidad de La Rioja\\RepositoriosPersonales\\TrabajosMaestriaCienciadeDatos\\Proyecto_TFM\\DSetsCreation\\HeTaSet\\Data\\Val'\n",
    "combinar_imagenes(directorios_entrada, directorio_salida)\n"
   ]
  },
  {
   "cell_type": "code",
   "execution_count": 12,
   "metadata": {},
   "outputs": [],
   "source": [
    "import os\n",
    "import shutil\n",
    "\n",
    "def filter_images_with_annotations(images_folder, annotations_folder, output_folder):\n",
    "    # Crear el folder de salida si no existe\n",
    "    if not os.path.exists(output_folder):\n",
    "        os.makedirs(output_folder)\n",
    "\n",
    "    # Obtener la lista de nombres de archivos de anotaciones (sin la extensión .txt)\n",
    "    annotation_files = [os.path.splitext(f)[0] for f in os.listdir(annotations_folder) if f.endswith('.txt')]\n",
    "\n",
    "    # Filtrar las imágenes que tienen una anotación correspondiente\n",
    "    for image_file in os.listdir(images_folder):\n",
    "        if image_file.endswith('.jpg'):\n",
    "            image_name = os.path.splitext(image_file)[0]\n",
    "            if image_name in annotation_files:\n",
    "                # Copiar la imagen al folder de salida\n",
    "                shutil.copy(os.path.join(images_folder, image_file), os.path.join(output_folder, image_file))\n",
    "\n",
    "# Ejemplo de uso\n",
    "images_folder = 'D:\\OneDrive - Universidad de La Rioja\\RepositoriosPersonales\\TrabajosMaestriaCienciadeDatos\\Proyecto_TFM\\DSetsCreation\\HeTaSet\\Data\\Test'\n",
    "annotations_folder = 'D:\\OneDrive - Universidad de La Rioja\\RepositoriosPersonales\\TrabajosMaestriaCienciadeDatos\\Proyecto_TFM\\DSetsCreation\\HeTaSet\\Data\\TestAnnotations\\labels_test'\n",
    "output_folder = 'D:\\OneDrive - Universidad de La Rioja\\RepositoriosPersonales\\TrabajosMaestriaCienciadeDatos\\Proyecto_TFM\\DSetsCreation\\HeTaSet\\Data\\TestFilter'\n",
    "\n",
    "filter_images_with_annotations(images_folder, annotations_folder, output_folder)\n"
   ]
  }
 ],
 "metadata": {
  "kernelspec": {
   "display_name": "TFM_Taggagin",
   "language": "python",
   "name": "python3"
  },
  "language_info": {
   "codemirror_mode": {
    "name": "ipython",
    "version": 3
   },
   "file_extension": ".py",
   "mimetype": "text/x-python",
   "name": "python",
   "nbconvert_exporter": "python",
   "pygments_lexer": "ipython3",
   "version": "3.11.8"
  }
 },
 "nbformat": 4,
 "nbformat_minor": 2
}
