{
 "cells": [
  {
   "cell_type": "markdown",
   "metadata": {
    "colab_type": "text",
    "id": "view-in-github"
   },
   "source": [
    "<a href=\"https://colab.research.google.com/github/Hitomiblood/ProjectsDataScienceMaster/blob/main/Proyecto_TFM/TestingModelos/YoloV8Small_100Epochs.ipynb\" target=\"_parent\"><img src=\"https://colab.research.google.com/assets/colab-badge.svg\" alt=\"Open In Colab\"/></a>"
   ]
  },
  {
   "cell_type": "markdown",
   "metadata": {
    "id": "-xvSbyMnbedE"
   },
   "source": [
    "# Modelo de detección de espermatozoides usando YoloV8 Small"
   ]
  },
  {
   "cell_type": "markdown",
   "metadata": {
    "id": "k_vcIT-ktXpv"
   },
   "source": [
    "Se realiza la instalación de las librerías necesarias para el procedimiento:"
   ]
  },
  {
   "cell_type": "markdown",
   "metadata": {
    "id": "SSM8V8NocT2b"
   },
   "source": [
    "Cargamos un modelo preentrenado. En este caso usaremos el modelo Small de Yolo para ver el comportamiento en el proceso de entrenamiento y posteriormente aumentar el tamaño del modelo a entrenar."
   ]
  },
  {
   "cell_type": "code",
   "execution_count": 1,
   "metadata": {
    "colab": {
     "base_uri": "https://localhost:8080/"
    },
    "id": "YWqxKLAZcGxV",
    "outputId": "1cf206e0-df84-4e95-d326-3b8ef6a2c78e"
   },
   "outputs": [
    {
     "name": "stdout",
     "output_type": "stream",
     "text": [
      "Downloading https://github.com/ultralytics/assets/releases/download/v8.2.0/yolov8l.pt to 'yolov8l.pt'...\n"
     ]
    },
    {
     "data": {
      "application/vnd.jupyter.widget-view+json": {
       "model_id": "0dba32235656475db55b56c45546f48a",
       "version_major": 2,
       "version_minor": 0
      },
      "text/plain": [
       "  0%|          | 0.00/83.7M [00:00<?, ?B/s]"
      ]
     },
     "metadata": {},
     "output_type": "display_data"
    }
   ],
   "source": [
    "from ultralytics import YOLO\n",
    "import cv2 as cv2\n",
    "from PIL import Image\n",
    "\n",
    "# Load a pretrained YOLO model (recommended for training)\n",
    "model = YOLO('yolov8l.pt')\n",
    "name = \"003_YoloV8Large_100Epochs_1920.ipynb\""
   ]
  },
  {
   "cell_type": "code",
   "execution_count": 2,
   "metadata": {
    "id": "FjaiEBRV1k4v"
   },
   "outputs": [],
   "source": [
    "import os\n",
    "\n",
    "# Función para corregir las anotaciones\n",
    "def fix_annotations(annotation_folder):\n",
    "    for root, dirs, files in os.walk(annotation_folder):\n",
    "        for file in files:\n",
    "            if file.endswith(\".txt\"):\n",
    "                file_path = os.path.join(root, file)\n",
    "                fix_annotation_file(file_path)\n",
    "\n",
    "# Función para corregir un archivo de anotación específico\n",
    "def fix_annotation_file(file_path):\n",
    "    with open(file_path, \"r+\") as file:\n",
    "        lines = file.readlines()\n",
    "        file.seek(0)\n",
    "        for line in lines:\n",
    "            parts = line.strip().split()\n",
    "            if len(parts) > 5:\n",
    "                parts = parts[:5]  # Mantener solo las primeras 5 columnas\n",
    "            fixed_line = \" \".join(parts) + \"\\n\"\n",
    "            file.write(fixed_line)\n",
    "        file.truncate()\n",
    "\n",
    "# Directorio donde se encuentran los archivos de anotaciones\n",
    "annotation_folder = \"dataSet/labels/val\"\n",
    "\n",
    "# Corregir las anotaciones\n",
    "fix_annotations(annotation_folder)\n",
    "\n",
    "# Directorio donde se encuentran los archivos de anotaciones\n",
    "annotation_folder = \"dataSet/labels/test\"\n",
    "\n",
    "# Corregir las anotaciones\n",
    "fix_annotations(annotation_folder)\n",
    "# Directorio donde se encuentran los archivos de anotaciones\n",
    "annotation_folder = \"dataSet/labels/train\"\n",
    "\n",
    "# Corregir las anotaciones\n",
    "fix_annotations(annotation_folder)\n"
   ]
  },
  {
   "cell_type": "code",
   "execution_count": 3,
   "metadata": {
    "colab": {
     "base_uri": "https://localhost:8080/"
    },
    "id": "eOfRR4UBcWf-",
    "outputId": "0ffc156f-d0de-4ced-f59a-6d2bf450e201"
   },
   "outputs": [
    {
     "name": "stdout",
     "output_type": "stream",
     "text": [
      "Ultralytics YOLOv8.2.9 🚀 Python-3.9.13 torch-1.12.0+cu113 CUDA:1 (NVIDIA GeForce RTX 3090, 24268MiB)\n",
      "WARNING ⚠️ Upgrade to torch>=2.0.0 for deterministic training.\n",
      "\u001b[34m\u001b[1mengine/trainer: \u001b[0mtask=detect, mode=train, model=yolov8l.pt, data=dataSet.yaml, epochs=100, time=None, patience=100, batch=-1, imgsz=1920, save=True, save_period=-1, cache=False, device=1, workers=8, project=None, name=003_YoloV8Large_100Epochs_1920.ipynb, exist_ok=False, pretrained=True, optimizer=auto, verbose=True, seed=0, deterministic=True, single_cls=False, rect=False, cos_lr=False, close_mosaic=10, resume=False, amp=True, fraction=1.0, profile=False, freeze=None, multi_scale=False, overlap_mask=True, mask_ratio=4, dropout=0.0, val=True, split=val, save_json=False, save_hybrid=False, conf=None, iou=0.7, max_det=300, half=False, dnn=False, plots=True, source=None, vid_stride=1, stream_buffer=False, visualize=False, augment=False, agnostic_nms=False, classes=None, retina_masks=False, embed=None, show=False, save_frames=False, save_txt=False, save_conf=False, save_crop=False, show_labels=True, show_conf=True, show_boxes=True, line_width=None, format=torchscript, keras=False, optimize=False, int8=False, dynamic=False, simplify=False, opset=None, workspace=4, nms=False, lr0=0.01, lrf=0.01, momentum=0.937, weight_decay=0.0005, warmup_epochs=3.0, warmup_momentum=0.8, warmup_bias_lr=0.1, box=7.5, cls=0.5, dfl=1.5, pose=12.0, kobj=1.0, label_smoothing=0.0, nbs=64, hsv_h=0.015, hsv_s=0.7, hsv_v=0.4, degrees=0.0, translate=0.1, scale=0.5, shear=0.0, perspective=0.0, flipud=0.0, fliplr=0.5, bgr=0.0, mosaic=1.0, mixup=0.0, copy_paste=0.0, auto_augment=randaugment, erasing=0.4, crop_fraction=1.0, cfg=None, tracker=botsort.yaml, save_dir=runs/detect/003_YoloV8Large_100Epochs_1920.ipynb\n",
      "Overriding model.yaml nc=80 with nc=1\n",
      "\n",
      "                   from  n    params  module                                       arguments                     \n",
      "  0                  -1  1      1856  ultralytics.nn.modules.conv.Conv             [3, 64, 3, 2]                 \n",
      "  1                  -1  1     73984  ultralytics.nn.modules.conv.Conv             [64, 128, 3, 2]               \n",
      "  2                  -1  3    279808  ultralytics.nn.modules.block.C2f             [128, 128, 3, True]           \n",
      "  3                  -1  1    295424  ultralytics.nn.modules.conv.Conv             [128, 256, 3, 2]              \n",
      "  4                  -1  6   2101248  ultralytics.nn.modules.block.C2f             [256, 256, 6, True]           \n",
      "  5                  -1  1   1180672  ultralytics.nn.modules.conv.Conv             [256, 512, 3, 2]              \n",
      "  6                  -1  6   8396800  ultralytics.nn.modules.block.C2f             [512, 512, 6, True]           \n",
      "  7                  -1  1   2360320  ultralytics.nn.modules.conv.Conv             [512, 512, 3, 2]              \n",
      "  8                  -1  3   4461568  ultralytics.nn.modules.block.C2f             [512, 512, 3, True]           \n",
      "  9                  -1  1    656896  ultralytics.nn.modules.block.SPPF            [512, 512, 5]                 \n",
      " 10                  -1  1         0  torch.nn.modules.upsampling.Upsample         [None, 2, 'nearest']          \n",
      " 11             [-1, 6]  1         0  ultralytics.nn.modules.conv.Concat           [1]                           \n",
      " 12                  -1  3   4723712  ultralytics.nn.modules.block.C2f             [1024, 512, 3]                \n",
      " 13                  -1  1         0  torch.nn.modules.upsampling.Upsample         [None, 2, 'nearest']          \n",
      " 14             [-1, 4]  1         0  ultralytics.nn.modules.conv.Concat           [1]                           \n",
      " 15                  -1  3   1247744  ultralytics.nn.modules.block.C2f             [768, 256, 3]                 \n",
      " 16                  -1  1    590336  ultralytics.nn.modules.conv.Conv             [256, 256, 3, 2]              \n",
      " 17            [-1, 12]  1         0  ultralytics.nn.modules.conv.Concat           [1]                           \n",
      " 18                  -1  3   4592640  ultralytics.nn.modules.block.C2f             [768, 512, 3]                 \n",
      " 19                  -1  1   2360320  ultralytics.nn.modules.conv.Conv             [512, 512, 3, 2]              \n",
      " 20             [-1, 9]  1         0  ultralytics.nn.modules.conv.Concat           [1]                           \n",
      " 21                  -1  3   4723712  ultralytics.nn.modules.block.C2f             [1024, 512, 3]                \n",
      " 22        [15, 18, 21]  1   5583571  ultralytics.nn.modules.head.Detect           [1, [256, 512, 512]]          \n",
      "Model summary: 365 layers, 43630611 parameters, 43630595 gradients, 165.4 GFLOPs\n",
      "\n",
      "Transferred 589/595 items from pretrained weights\n",
      "\u001b[34m\u001b[1mTensorBoard: \u001b[0mStart with 'tensorboard --logdir runs/detect/003_YoloV8Large_100Epochs_1920.ipynb', view at http://localhost:6006/\n",
      "Freezing layer 'model.22.dfl.conv.weight'\n",
      "\u001b[34m\u001b[1mAMP: \u001b[0mrunning Automatic Mixed Precision (AMP) checks with YOLOv8n...\n",
      "\u001b[34m\u001b[1mAMP: \u001b[0mchecks passed ✅\n",
      "\u001b[34m\u001b[1mAutoBatch: \u001b[0mComputing optimal batch size for imgsz=1920\n",
      "\u001b[34m\u001b[1mAutoBatch: \u001b[0mCUDA:0 (NVIDIA GeForce RTX 3090) 23.70G total, 0.36G reserved, 0.34G allocated, 23.00G free\n",
      "      Params      GFLOPs  GPU_mem (GB)  forward (ms) backward (ms)                   input                  output\n",
      "    43630611        1489         5.467         60.63         65.23      (1, 3, 1920, 1920)                    list\n",
      "    43630611        2977        10.492         86.91         106.4      (2, 3, 1920, 1920)                    list\n",
      "    43630611        5955        19.992         169.9         196.6      (4, 3, 1920, 1920)                    list\n",
      "CUDA out of memory. Tried to allocate 58.00 MiB (GPU 0; 23.70 GiB total capacity; 21.61 GiB already allocated; 20.56 MiB free; 21.97 GiB reserved in total by PyTorch) If reserved memory is >> allocated memory try setting max_split_size_mb to avoid fragmentation.  See documentation for Memory Management and PYTORCH_CUDA_ALLOC_CONF\n",
      "CUDA out of memory. Tried to allocate 2.20 GiB (GPU 0; 23.70 GiB total capacity; 20.21 GiB already allocated; 472.56 MiB free; 21.53 GiB reserved in total by PyTorch) If reserved memory is >> allocated memory try setting max_split_size_mb to avoid fragmentation.  See documentation for Memory Management and PYTORCH_CUDA_ALLOC_CONF\n",
      "\u001b[34m\u001b[1mAutoBatch: \u001b[0mUsing batch-size 2 for CUDA:0 11.07G/23.70G (47%) ✅\n"
     ]
    },
    {
     "name": "stderr",
     "output_type": "stream",
     "text": [
      "\u001b[34m\u001b[1mtrain: \u001b[0mScanning /grupob/home/jodivaso/tfm_miguel/dataSet/labels/train.cache... 1408 images, 0 backgrounds, 0 corrupt: 100%|██████████| 1408/1408 [00:00<?, ?it/s]\n"
     ]
    },
    {
     "name": "stdout",
     "output_type": "stream",
     "text": [
      "\u001b[34m\u001b[1malbumentations: \u001b[0mBlur(p=0.01, blur_limit=(3, 7)), MedianBlur(p=0.01, blur_limit=(3, 7)), ToGray(p=0.01), CLAHE(p=0.01, clip_limit=(1, 4.0), tile_grid_size=(8, 8))\n"
     ]
    },
    {
     "name": "stderr",
     "output_type": "stream",
     "text": [
      "\u001b[34m\u001b[1mval: \u001b[0mScanning /grupob/home/jodivaso/tfm_miguel/dataSet/labels/val.cache... 228 images, 0 backgrounds, 0 corrupt: 100%|██████████| 228/228 [00:00<?, ?it/s]\n"
     ]
    },
    {
     "name": "stdout",
     "output_type": "stream",
     "text": [
      "Plotting labels to runs/detect/003_YoloV8Large_100Epochs_1920.ipynb/labels.jpg... \n",
      "\u001b[34m\u001b[1moptimizer:\u001b[0m 'optimizer=auto' found, ignoring 'lr0=0.01' and 'momentum=0.937' and determining best 'optimizer', 'lr0' and 'momentum' automatically... \n",
      "\u001b[34m\u001b[1moptimizer:\u001b[0m AdamW(lr=0.002, momentum=0.9) with parameter groups 97 weight(decay=0.0), 104 weight(decay=0.0005), 103 bias(decay=0.0)\n",
      "\u001b[34m\u001b[1mTensorBoard: \u001b[0mmodel graph visualization added ✅\n",
      "Image sizes 1920 train, 1920 val\n",
      "Using 8 dataloader workers\n",
      "Logging results to \u001b[1mruns/detect/003_YoloV8Large_100Epochs_1920.ipynb\u001b[0m\n",
      "Starting training for 100 epochs...\n",
      "\n",
      "      Epoch    GPU_mem   box_loss   cls_loss   dfl_loss  Instances       Size\n"
     ]
    },
    {
     "name": "stderr",
     "output_type": "stream",
     "text": [
      "      1/100        12G      1.162     0.8931      1.365        157       1920: 100%|██████████| 704/704 [03:26<00:00,  3.41it/s]\n",
      "                 Class     Images  Instances      Box(P          R      mAP50  mAP50-95): 100%|██████████| 57/57 [00:07<00:00,  7.43it/s]"
     ]
    },
    {
     "name": "stdout",
     "output_type": "stream",
     "text": [
      "                   all        228       8684      0.875      0.918      0.962      0.652\n"
     ]
    },
    {
     "name": "stderr",
     "output_type": "stream",
     "text": [
      "\n"
     ]
    },
    {
     "name": "stdout",
     "output_type": "stream",
     "text": [
      "\n",
      "      Epoch    GPU_mem   box_loss   cls_loss   dfl_loss  Instances       Size\n"
     ]
    },
    {
     "name": "stderr",
     "output_type": "stream",
     "text": [
      "      2/100      11.4G      1.144     0.7661      1.404         89       1920: 100%|██████████| 704/704 [03:19<00:00,  3.52it/s]\n",
      "                 Class     Images  Instances      Box(P          R      mAP50  mAP50-95): 100%|██████████| 57/57 [00:07<00:00,  7.38it/s]"
     ]
    },
    {
     "name": "stdout",
     "output_type": "stream",
     "text": [
      "                   all        228       8684      0.832       0.88      0.909      0.575\n"
     ]
    },
    {
     "name": "stderr",
     "output_type": "stream",
     "text": [
      "\n"
     ]
    },
    {
     "name": "stdout",
     "output_type": "stream",
     "text": [
      "\n",
      "      Epoch    GPU_mem   box_loss   cls_loss   dfl_loss  Instances       Size\n"
     ]
    },
    {
     "name": "stderr",
     "output_type": "stream",
     "text": [
      "      3/100      11.6G      1.124     0.7288        1.4         97       1920: 100%|██████████| 704/704 [03:18<00:00,  3.54it/s]\n",
      "                 Class     Images  Instances      Box(P          R      mAP50  mAP50-95): 100%|██████████| 57/57 [00:07<00:00,  7.35it/s]"
     ]
    },
    {
     "name": "stdout",
     "output_type": "stream",
     "text": [
      "                   all        228       8684      0.785      0.823       0.87      0.545\n"
     ]
    },
    {
     "name": "stderr",
     "output_type": "stream",
     "text": [
      "\n"
     ]
    },
    {
     "name": "stdout",
     "output_type": "stream",
     "text": [
      "\n",
      "      Epoch    GPU_mem   box_loss   cls_loss   dfl_loss  Instances       Size\n"
     ]
    },
    {
     "name": "stderr",
     "output_type": "stream",
     "text": [
      "      4/100      11.6G      1.098     0.6401      1.389        147       1920: 100%|██████████| 704/704 [03:18<00:00,  3.55it/s]\n",
      "                 Class     Images  Instances      Box(P          R      mAP50  mAP50-95): 100%|██████████| 57/57 [00:07<00:00,  7.49it/s]"
     ]
    },
    {
     "name": "stdout",
     "output_type": "stream",
     "text": [
      "                   all        228       8684      0.897      0.872      0.955      0.656\n"
     ]
    },
    {
     "name": "stderr",
     "output_type": "stream",
     "text": [
      "\n"
     ]
    },
    {
     "name": "stdout",
     "output_type": "stream",
     "text": [
      "\n",
      "      Epoch    GPU_mem   box_loss   cls_loss   dfl_loss  Instances       Size\n"
     ]
    },
    {
     "name": "stderr",
     "output_type": "stream",
     "text": [
      "      5/100      11.6G      1.077     0.6211      1.396        131       1920: 100%|██████████| 704/704 [03:18<00:00,  3.55it/s]\n",
      "                 Class     Images  Instances      Box(P          R      mAP50  mAP50-95): 100%|██████████| 57/57 [00:07<00:00,  7.41it/s]"
     ]
    },
    {
     "name": "stdout",
     "output_type": "stream",
     "text": [
      "                   all        228       8684      0.848      0.837      0.918      0.608\n"
     ]
    },
    {
     "name": "stderr",
     "output_type": "stream",
     "text": [
      "\n"
     ]
    },
    {
     "name": "stdout",
     "output_type": "stream",
     "text": [
      "\n",
      "      Epoch    GPU_mem   box_loss   cls_loss   dfl_loss  Instances       Size\n"
     ]
    },
    {
     "name": "stderr",
     "output_type": "stream",
     "text": [
      "      6/100      11.6G      1.064     0.5739       1.39         63       1920: 100%|██████████| 704/704 [03:18<00:00,  3.55it/s]\n",
      "                 Class     Images  Instances      Box(P          R      mAP50  mAP50-95): 100%|██████████| 57/57 [00:07<00:00,  7.44it/s]"
     ]
    },
    {
     "name": "stdout",
     "output_type": "stream",
     "text": [
      "                   all        228       8684      0.881      0.865      0.946      0.658\n"
     ]
    },
    {
     "name": "stderr",
     "output_type": "stream",
     "text": [
      "\n"
     ]
    },
    {
     "name": "stdout",
     "output_type": "stream",
     "text": [
      "\n",
      "      Epoch    GPU_mem   box_loss   cls_loss   dfl_loss  Instances       Size\n"
     ]
    },
    {
     "name": "stderr",
     "output_type": "stream",
     "text": [
      "      7/100      11.7G       1.04     0.5332      1.371         67       1920: 100%|██████████| 704/704 [03:18<00:00,  3.55it/s]\n",
      "                 Class     Images  Instances      Box(P          R      mAP50  mAP50-95): 100%|██████████| 57/57 [00:07<00:00,  7.35it/s]"
     ]
    },
    {
     "name": "stdout",
     "output_type": "stream",
     "text": [
      "                   all        228       8684      0.893      0.831      0.931      0.625\n"
     ]
    },
    {
     "name": "stderr",
     "output_type": "stream",
     "text": [
      "\n"
     ]
    },
    {
     "name": "stdout",
     "output_type": "stream",
     "text": [
      "\n",
      "      Epoch    GPU_mem   box_loss   cls_loss   dfl_loss  Instances       Size\n"
     ]
    },
    {
     "name": "stderr",
     "output_type": "stream",
     "text": [
      "      8/100      11.4G      1.031     0.5284      1.362         60       1920: 100%|██████████| 704/704 [03:18<00:00,  3.54it/s]\n",
      "                 Class     Images  Instances      Box(P          R      mAP50  mAP50-95): 100%|██████████| 57/57 [00:07<00:00,  7.54it/s]"
     ]
    },
    {
     "name": "stdout",
     "output_type": "stream",
     "text": [
      "                   all        228       8684      0.873      0.899      0.945      0.652\n"
     ]
    },
    {
     "name": "stderr",
     "output_type": "stream",
     "text": [
      "\n"
     ]
    },
    {
     "name": "stdout",
     "output_type": "stream",
     "text": [
      "\n",
      "      Epoch    GPU_mem   box_loss   cls_loss   dfl_loss  Instances       Size\n"
     ]
    },
    {
     "name": "stderr",
     "output_type": "stream",
     "text": [
      "      9/100      11.7G      1.015     0.4922      1.357         84       1920: 100%|██████████| 704/704 [03:18<00:00,  3.55it/s]\n",
      "                 Class     Images  Instances      Box(P          R      mAP50  mAP50-95): 100%|██████████| 57/57 [00:07<00:00,  7.48it/s]"
     ]
    },
    {
     "name": "stdout",
     "output_type": "stream",
     "text": [
      "                   all        228       8684      0.851      0.886      0.927      0.634\n"
     ]
    },
    {
     "name": "stderr",
     "output_type": "stream",
     "text": [
      "\n"
     ]
    },
    {
     "name": "stdout",
     "output_type": "stream",
     "text": [
      "\n",
      "      Epoch    GPU_mem   box_loss   cls_loss   dfl_loss  Instances       Size\n"
     ]
    },
    {
     "name": "stderr",
     "output_type": "stream",
     "text": [
      "     10/100      11.7G      1.005     0.4932      1.347        103       1920: 100%|██████████| 704/704 [03:18<00:00,  3.55it/s]\n",
      "                 Class     Images  Instances      Box(P          R      mAP50  mAP50-95): 100%|██████████| 57/57 [00:07<00:00,  7.48it/s]"
     ]
    },
    {
     "name": "stdout",
     "output_type": "stream",
     "text": [
      "                   all        228       8684      0.812      0.842      0.894      0.592\n"
     ]
    },
    {
     "name": "stderr",
     "output_type": "stream",
     "text": [
      "\n"
     ]
    },
    {
     "name": "stdout",
     "output_type": "stream",
     "text": [
      "\n",
      "      Epoch    GPU_mem   box_loss   cls_loss   dfl_loss  Instances       Size\n"
     ]
    },
    {
     "name": "stderr",
     "output_type": "stream",
     "text": [
      "     11/100      11.7G      1.006     0.4818       1.35        191       1920: 100%|██████████| 704/704 [03:18<00:00,  3.55it/s]\n",
      "                 Class     Images  Instances      Box(P          R      mAP50  mAP50-95): 100%|██████████| 57/57 [00:07<00:00,  7.49it/s]"
     ]
    },
    {
     "name": "stdout",
     "output_type": "stream",
     "text": [
      "                   all        228       8684      0.868      0.838      0.913      0.622\n"
     ]
    },
    {
     "name": "stderr",
     "output_type": "stream",
     "text": [
      "\n"
     ]
    },
    {
     "name": "stdout",
     "output_type": "stream",
     "text": [
      "\n",
      "      Epoch    GPU_mem   box_loss   cls_loss   dfl_loss  Instances       Size\n"
     ]
    },
    {
     "name": "stderr",
     "output_type": "stream",
     "text": [
      "     12/100      11.5G      1.002     0.4745      1.362        156       1920: 100%|██████████| 704/704 [03:18<00:00,  3.55it/s]\n",
      "                 Class     Images  Instances      Box(P          R      mAP50  mAP50-95): 100%|██████████| 57/57 [00:07<00:00,  7.46it/s]"
     ]
    },
    {
     "name": "stdout",
     "output_type": "stream",
     "text": [
      "                   all        228       8684      0.835      0.889      0.918      0.626\n"
     ]
    },
    {
     "name": "stderr",
     "output_type": "stream",
     "text": [
      "\n"
     ]
    },
    {
     "name": "stdout",
     "output_type": "stream",
     "text": [
      "\n",
      "      Epoch    GPU_mem   box_loss   cls_loss   dfl_loss  Instances       Size\n"
     ]
    },
    {
     "name": "stderr",
     "output_type": "stream",
     "text": [
      "     13/100      11.7G     0.9966     0.4548      1.347        183       1920: 100%|██████████| 704/704 [03:18<00:00,  3.55it/s]\n",
      "                 Class     Images  Instances      Box(P          R      mAP50  mAP50-95): 100%|██████████| 57/57 [00:07<00:00,  7.48it/s]"
     ]
    },
    {
     "name": "stdout",
     "output_type": "stream",
     "text": [
      "                   all        228       8684      0.839      0.903      0.933      0.661\n"
     ]
    },
    {
     "name": "stderr",
     "output_type": "stream",
     "text": [
      "\n"
     ]
    },
    {
     "name": "stdout",
     "output_type": "stream",
     "text": [
      "\n",
      "      Epoch    GPU_mem   box_loss   cls_loss   dfl_loss  Instances       Size\n"
     ]
    },
    {
     "name": "stderr",
     "output_type": "stream",
     "text": [
      "     14/100      11.6G     0.9959     0.4496      1.343        153       1920: 100%|██████████| 704/704 [03:18<00:00,  3.55it/s]\n",
      "                 Class     Images  Instances      Box(P          R      mAP50  mAP50-95): 100%|██████████| 57/57 [00:07<00:00,  7.48it/s]"
     ]
    },
    {
     "name": "stdout",
     "output_type": "stream",
     "text": [
      "                   all        228       8684      0.834      0.843      0.901      0.612\n"
     ]
    },
    {
     "name": "stderr",
     "output_type": "stream",
     "text": [
      "\n"
     ]
    },
    {
     "name": "stdout",
     "output_type": "stream",
     "text": [
      "\n",
      "      Epoch    GPU_mem   box_loss   cls_loss   dfl_loss  Instances       Size\n"
     ]
    },
    {
     "name": "stderr",
     "output_type": "stream",
     "text": [
      "     15/100      11.6G     0.9861     0.4353      1.343        104       1920: 100%|██████████| 704/704 [03:18<00:00,  3.54it/s]\n",
      "                 Class     Images  Instances      Box(P          R      mAP50  mAP50-95): 100%|██████████| 57/57 [00:07<00:00,  7.49it/s]"
     ]
    },
    {
     "name": "stdout",
     "output_type": "stream",
     "text": [
      "                   all        228       8684      0.855      0.799      0.875       0.58\n"
     ]
    },
    {
     "name": "stderr",
     "output_type": "stream",
     "text": [
      "\n"
     ]
    },
    {
     "name": "stdout",
     "output_type": "stream",
     "text": [
      "\n",
      "      Epoch    GPU_mem   box_loss   cls_loss   dfl_loss  Instances       Size\n"
     ]
    },
    {
     "name": "stderr",
     "output_type": "stream",
     "text": [
      "     16/100      11.6G     0.9677     0.4283      1.331         90       1920: 100%|██████████| 704/704 [03:18<00:00,  3.55it/s]\n",
      "                 Class     Images  Instances      Box(P          R      mAP50  mAP50-95): 100%|██████████| 57/57 [00:07<00:00,  7.48it/s]"
     ]
    },
    {
     "name": "stdout",
     "output_type": "stream",
     "text": [
      "                   all        228       8684      0.894      0.858      0.923      0.642\n"
     ]
    },
    {
     "name": "stderr",
     "output_type": "stream",
     "text": [
      "\n"
     ]
    },
    {
     "name": "stdout",
     "output_type": "stream",
     "text": [
      "\n",
      "      Epoch    GPU_mem   box_loss   cls_loss   dfl_loss  Instances       Size\n"
     ]
    },
    {
     "name": "stderr",
     "output_type": "stream",
     "text": [
      "     17/100      11.7G     0.9663     0.4228      1.329         33       1920: 100%|██████████| 704/704 [03:18<00:00,  3.54it/s]\n",
      "                 Class     Images  Instances      Box(P          R      mAP50  mAP50-95): 100%|██████████| 57/57 [00:07<00:00,  7.41it/s]"
     ]
    },
    {
     "name": "stdout",
     "output_type": "stream",
     "text": [
      "                   all        228       8684      0.837      0.893      0.932      0.639\n"
     ]
    },
    {
     "name": "stderr",
     "output_type": "stream",
     "text": [
      "\n"
     ]
    },
    {
     "name": "stdout",
     "output_type": "stream",
     "text": [
      "\n",
      "      Epoch    GPU_mem   box_loss   cls_loss   dfl_loss  Instances       Size\n"
     ]
    },
    {
     "name": "stderr",
     "output_type": "stream",
     "text": [
      "     18/100      12.1G     0.9705     0.4268      1.329        113       1920: 100%|██████████| 704/704 [03:19<00:00,  3.53it/s]\n",
      "                 Class     Images  Instances      Box(P          R      mAP50  mAP50-95): 100%|██████████| 57/57 [00:07<00:00,  7.42it/s]"
     ]
    },
    {
     "name": "stdout",
     "output_type": "stream",
     "text": [
      "                   all        228       8684       0.89      0.841      0.923      0.654\n"
     ]
    },
    {
     "name": "stderr",
     "output_type": "stream",
     "text": [
      "\n"
     ]
    },
    {
     "name": "stdout",
     "output_type": "stream",
     "text": [
      "\n",
      "      Epoch    GPU_mem   box_loss   cls_loss   dfl_loss  Instances       Size\n"
     ]
    },
    {
     "name": "stderr",
     "output_type": "stream",
     "text": [
      "     19/100      11.7G     0.9591     0.4133      1.326         67       1920: 100%|██████████| 704/704 [03:18<00:00,  3.54it/s]\n",
      "                 Class     Images  Instances      Box(P          R      mAP50  mAP50-95): 100%|██████████| 57/57 [00:07<00:00,  7.43it/s]"
     ]
    },
    {
     "name": "stdout",
     "output_type": "stream",
     "text": [
      "                   all        228       8684      0.874      0.895      0.924      0.639\n"
     ]
    },
    {
     "name": "stderr",
     "output_type": "stream",
     "text": [
      "\n"
     ]
    },
    {
     "name": "stdout",
     "output_type": "stream",
     "text": [
      "\n",
      "      Epoch    GPU_mem   box_loss   cls_loss   dfl_loss  Instances       Size\n"
     ]
    },
    {
     "name": "stderr",
     "output_type": "stream",
     "text": [
      "     20/100      11.7G      0.956     0.4173      1.323         86       1920: 100%|██████████| 704/704 [03:18<00:00,  3.54it/s]\n",
      "                 Class     Images  Instances      Box(P          R      mAP50  mAP50-95): 100%|██████████| 57/57 [00:07<00:00,  7.42it/s]"
     ]
    },
    {
     "name": "stdout",
     "output_type": "stream",
     "text": [
      "                   all        228       8684      0.868      0.885      0.936      0.662\n"
     ]
    },
    {
     "name": "stderr",
     "output_type": "stream",
     "text": [
      "\n"
     ]
    },
    {
     "name": "stdout",
     "output_type": "stream",
     "text": [
      "\n",
      "      Epoch    GPU_mem   box_loss   cls_loss   dfl_loss  Instances       Size\n"
     ]
    },
    {
     "name": "stderr",
     "output_type": "stream",
     "text": [
      "     21/100      11.6G     0.9521     0.4013      1.313         84       1920: 100%|██████████| 704/704 [03:17<00:00,  3.56it/s]\n",
      "                 Class     Images  Instances      Box(P          R      mAP50  mAP50-95): 100%|██████████| 57/57 [00:07<00:00,  7.43it/s]"
     ]
    },
    {
     "name": "stdout",
     "output_type": "stream",
     "text": [
      "                   all        228       8684      0.833      0.847      0.904      0.615\n"
     ]
    },
    {
     "name": "stderr",
     "output_type": "stream",
     "text": [
      "\n"
     ]
    },
    {
     "name": "stdout",
     "output_type": "stream",
     "text": [
      "\n",
      "      Epoch    GPU_mem   box_loss   cls_loss   dfl_loss  Instances       Size\n"
     ]
    },
    {
     "name": "stderr",
     "output_type": "stream",
     "text": [
      "     22/100      11.6G      0.953     0.4062      1.309         56       1920: 100%|██████████| 704/704 [03:18<00:00,  3.54it/s]\n",
      "                 Class     Images  Instances      Box(P          R      mAP50  mAP50-95): 100%|██████████| 57/57 [00:07<00:00,  7.42it/s]"
     ]
    },
    {
     "name": "stdout",
     "output_type": "stream",
     "text": [
      "                   all        228       8684      0.847      0.848      0.901      0.614\n"
     ]
    },
    {
     "name": "stderr",
     "output_type": "stream",
     "text": [
      "\n"
     ]
    },
    {
     "name": "stdout",
     "output_type": "stream",
     "text": [
      "\n",
      "      Epoch    GPU_mem   box_loss   cls_loss   dfl_loss  Instances       Size\n"
     ]
    },
    {
     "name": "stderr",
     "output_type": "stream",
     "text": [
      "     23/100      11.7G     0.9455     0.4018      1.307         87       1920: 100%|██████████| 704/704 [03:18<00:00,  3.55it/s]\n",
      "                 Class     Images  Instances      Box(P          R      mAP50  mAP50-95): 100%|██████████| 57/57 [00:07<00:00,  7.39it/s]"
     ]
    },
    {
     "name": "stdout",
     "output_type": "stream",
     "text": [
      "                   all        228       8684      0.872      0.807      0.891      0.616\n"
     ]
    },
    {
     "name": "stderr",
     "output_type": "stream",
     "text": [
      "\n"
     ]
    },
    {
     "name": "stdout",
     "output_type": "stream",
     "text": [
      "\n",
      "      Epoch    GPU_mem   box_loss   cls_loss   dfl_loss  Instances       Size\n"
     ]
    },
    {
     "name": "stderr",
     "output_type": "stream",
     "text": [
      "     24/100      11.6G     0.9532     0.3994      1.313        114       1920: 100%|██████████| 704/704 [03:19<00:00,  3.53it/s]\n",
      "                 Class     Images  Instances      Box(P          R      mAP50  mAP50-95): 100%|██████████| 57/57 [00:07<00:00,  7.41it/s]"
     ]
    },
    {
     "name": "stdout",
     "output_type": "stream",
     "text": [
      "                   all        228       8684       0.86      0.847      0.916      0.624\n"
     ]
    },
    {
     "name": "stderr",
     "output_type": "stream",
     "text": [
      "\n"
     ]
    },
    {
     "name": "stdout",
     "output_type": "stream",
     "text": [
      "\n",
      "      Epoch    GPU_mem   box_loss   cls_loss   dfl_loss  Instances       Size\n"
     ]
    },
    {
     "name": "stderr",
     "output_type": "stream",
     "text": [
      "     25/100      11.7G     0.9403     0.3934      1.291         47       1920: 100%|██████████| 704/704 [03:18<00:00,  3.54it/s]\n",
      "                 Class     Images  Instances      Box(P          R      mAP50  mAP50-95): 100%|██████████| 57/57 [00:07<00:00,  7.40it/s]"
     ]
    },
    {
     "name": "stdout",
     "output_type": "stream",
     "text": [
      "                   all        228       8684      0.872       0.89      0.932      0.658\n"
     ]
    },
    {
     "name": "stderr",
     "output_type": "stream",
     "text": [
      "\n"
     ]
    },
    {
     "name": "stdout",
     "output_type": "stream",
     "text": [
      "\n",
      "      Epoch    GPU_mem   box_loss   cls_loss   dfl_loss  Instances       Size\n"
     ]
    },
    {
     "name": "stderr",
     "output_type": "stream",
     "text": [
      "     26/100      11.6G       0.94     0.3919      1.307         85       1920: 100%|██████████| 704/704 [03:18<00:00,  3.55it/s]\n",
      "                 Class     Images  Instances      Box(P          R      mAP50  mAP50-95): 100%|██████████| 57/57 [00:07<00:00,  7.44it/s]"
     ]
    },
    {
     "name": "stdout",
     "output_type": "stream",
     "text": [
      "                   all        228       8684       0.87      0.839      0.913      0.639\n"
     ]
    },
    {
     "name": "stderr",
     "output_type": "stream",
     "text": [
      "\n"
     ]
    },
    {
     "name": "stdout",
     "output_type": "stream",
     "text": [
      "\n",
      "      Epoch    GPU_mem   box_loss   cls_loss   dfl_loss  Instances       Size\n"
     ]
    },
    {
     "name": "stderr",
     "output_type": "stream",
     "text": [
      "     27/100      11.6G     0.9391       0.39      1.316         77       1920: 100%|██████████| 704/704 [03:18<00:00,  3.55it/s]\n",
      "                 Class     Images  Instances      Box(P          R      mAP50  mAP50-95): 100%|██████████| 57/57 [00:07<00:00,  7.39it/s]"
     ]
    },
    {
     "name": "stdout",
     "output_type": "stream",
     "text": [
      "                   all        228       8684      0.863      0.832      0.905      0.626\n"
     ]
    },
    {
     "name": "stderr",
     "output_type": "stream",
     "text": [
      "\n"
     ]
    },
    {
     "name": "stdout",
     "output_type": "stream",
     "text": [
      "\n",
      "      Epoch    GPU_mem   box_loss   cls_loss   dfl_loss  Instances       Size\n"
     ]
    },
    {
     "name": "stderr",
     "output_type": "stream",
     "text": [
      "     28/100      12.1G     0.9372     0.3884      1.309        172       1920: 100%|██████████| 704/704 [03:18<00:00,  3.55it/s]\n",
      "                 Class     Images  Instances      Box(P          R      mAP50  mAP50-95): 100%|██████████| 57/57 [00:07<00:00,  7.44it/s]"
     ]
    },
    {
     "name": "stdout",
     "output_type": "stream",
     "text": [
      "                   all        228       8684      0.891      0.836      0.916      0.651\n"
     ]
    },
    {
     "name": "stderr",
     "output_type": "stream",
     "text": [
      "\n"
     ]
    },
    {
     "name": "stdout",
     "output_type": "stream",
     "text": [
      "\n",
      "      Epoch    GPU_mem   box_loss   cls_loss   dfl_loss  Instances       Size\n"
     ]
    },
    {
     "name": "stderr",
     "output_type": "stream",
     "text": [
      "     29/100      11.6G     0.9331     0.3847      1.314        101       1920: 100%|██████████| 704/704 [03:18<00:00,  3.55it/s]\n",
      "                 Class     Images  Instances      Box(P          R      mAP50  mAP50-95): 100%|██████████| 57/57 [00:07<00:00,  7.45it/s]"
     ]
    },
    {
     "name": "stdout",
     "output_type": "stream",
     "text": [
      "                   all        228       8684      0.853      0.895      0.927      0.652\n"
     ]
    },
    {
     "name": "stderr",
     "output_type": "stream",
     "text": [
      "\n"
     ]
    },
    {
     "name": "stdout",
     "output_type": "stream",
     "text": [
      "\n",
      "      Epoch    GPU_mem   box_loss   cls_loss   dfl_loss  Instances       Size\n"
     ]
    },
    {
     "name": "stderr",
     "output_type": "stream",
     "text": [
      "     30/100      11.4G     0.9286     0.3837       1.31         50       1920: 100%|██████████| 704/704 [03:18<00:00,  3.55it/s]\n",
      "                 Class     Images  Instances      Box(P          R      mAP50  mAP50-95): 100%|██████████| 57/57 [00:07<00:00,  7.42it/s]"
     ]
    },
    {
     "name": "stdout",
     "output_type": "stream",
     "text": [
      "                   all        228       8684      0.848      0.853      0.903      0.637\n"
     ]
    },
    {
     "name": "stderr",
     "output_type": "stream",
     "text": [
      "\n"
     ]
    },
    {
     "name": "stdout",
     "output_type": "stream",
     "text": [
      "\n",
      "      Epoch    GPU_mem   box_loss   cls_loss   dfl_loss  Instances       Size\n"
     ]
    },
    {
     "name": "stderr",
     "output_type": "stream",
     "text": [
      "     31/100      11.7G     0.9309     0.3861      1.306         36       1920: 100%|██████████| 704/704 [03:19<00:00,  3.54it/s]\n",
      "                 Class     Images  Instances      Box(P          R      mAP50  mAP50-95): 100%|██████████| 57/57 [00:07<00:00,  7.43it/s]"
     ]
    },
    {
     "name": "stdout",
     "output_type": "stream",
     "text": [
      "                   all        228       8684      0.854      0.859      0.903      0.628\n"
     ]
    },
    {
     "name": "stderr",
     "output_type": "stream",
     "text": [
      "\n"
     ]
    },
    {
     "name": "stdout",
     "output_type": "stream",
     "text": [
      "\n",
      "      Epoch    GPU_mem   box_loss   cls_loss   dfl_loss  Instances       Size\n"
     ]
    },
    {
     "name": "stderr",
     "output_type": "stream",
     "text": [
      "     32/100      11.7G     0.9235     0.3847      1.297         56       1920: 100%|██████████| 704/704 [03:18<00:00,  3.55it/s]\n",
      "                 Class     Images  Instances      Box(P          R      mAP50  mAP50-95): 100%|██████████| 57/57 [00:07<00:00,  7.43it/s]"
     ]
    },
    {
     "name": "stdout",
     "output_type": "stream",
     "text": [
      "                   all        228       8684       0.86      0.869      0.915      0.632\n"
     ]
    },
    {
     "name": "stderr",
     "output_type": "stream",
     "text": [
      "\n"
     ]
    },
    {
     "name": "stdout",
     "output_type": "stream",
     "text": [
      "\n",
      "      Epoch    GPU_mem   box_loss   cls_loss   dfl_loss  Instances       Size\n"
     ]
    },
    {
     "name": "stderr",
     "output_type": "stream",
     "text": [
      "     33/100      11.6G     0.9219     0.3759      1.299        132       1920: 100%|██████████| 704/704 [03:18<00:00,  3.55it/s]\n",
      "                 Class     Images  Instances      Box(P          R      mAP50  mAP50-95): 100%|██████████| 57/57 [00:07<00:00,  7.45it/s]"
     ]
    },
    {
     "name": "stdout",
     "output_type": "stream",
     "text": [
      "                   all        228       8684       0.87      0.864      0.928      0.656\n"
     ]
    },
    {
     "name": "stderr",
     "output_type": "stream",
     "text": [
      "\n"
     ]
    },
    {
     "name": "stdout",
     "output_type": "stream",
     "text": [
      "\n",
      "      Epoch    GPU_mem   box_loss   cls_loss   dfl_loss  Instances       Size\n"
     ]
    },
    {
     "name": "stderr",
     "output_type": "stream",
     "text": [
      "     34/100      11.7G     0.9202     0.3706      1.309         34       1920: 100%|██████████| 704/704 [03:18<00:00,  3.55it/s]\n",
      "                 Class     Images  Instances      Box(P          R      mAP50  mAP50-95): 100%|██████████| 57/57 [00:07<00:00,  7.41it/s]"
     ]
    },
    {
     "name": "stdout",
     "output_type": "stream",
     "text": [
      "                   all        228       8684      0.878      0.863      0.917      0.645\n"
     ]
    },
    {
     "name": "stderr",
     "output_type": "stream",
     "text": [
      "\n"
     ]
    },
    {
     "name": "stdout",
     "output_type": "stream",
     "text": [
      "\n",
      "      Epoch    GPU_mem   box_loss   cls_loss   dfl_loss  Instances       Size\n"
     ]
    },
    {
     "name": "stderr",
     "output_type": "stream",
     "text": [
      "     35/100      11.7G     0.9164     0.3767      1.296         25       1920: 100%|██████████| 704/704 [03:19<00:00,  3.53it/s]\n",
      "                 Class     Images  Instances      Box(P          R      mAP50  mAP50-95): 100%|██████████| 57/57 [00:07<00:00,  7.47it/s]"
     ]
    },
    {
     "name": "stdout",
     "output_type": "stream",
     "text": [
      "                   all        228       8684      0.833      0.877      0.907      0.633\n"
     ]
    },
    {
     "name": "stderr",
     "output_type": "stream",
     "text": [
      "\n"
     ]
    },
    {
     "name": "stdout",
     "output_type": "stream",
     "text": [
      "\n",
      "      Epoch    GPU_mem   box_loss   cls_loss   dfl_loss  Instances       Size\n"
     ]
    },
    {
     "name": "stderr",
     "output_type": "stream",
     "text": [
      "     36/100      11.5G     0.9172      0.373      1.297         81       1920: 100%|██████████| 704/704 [03:18<00:00,  3.54it/s]\n",
      "                 Class     Images  Instances      Box(P          R      mAP50  mAP50-95): 100%|██████████| 57/57 [00:07<00:00,  7.42it/s]"
     ]
    },
    {
     "name": "stdout",
     "output_type": "stream",
     "text": [
      "                   all        228       8684      0.891      0.853      0.915       0.64\n"
     ]
    },
    {
     "name": "stderr",
     "output_type": "stream",
     "text": [
      "\n"
     ]
    },
    {
     "name": "stdout",
     "output_type": "stream",
     "text": [
      "\n",
      "      Epoch    GPU_mem   box_loss   cls_loss   dfl_loss  Instances       Size\n"
     ]
    },
    {
     "name": "stderr",
     "output_type": "stream",
     "text": [
      "     37/100      11.7G     0.9126     0.3707      1.301         67       1920: 100%|██████████| 704/704 [03:18<00:00,  3.55it/s]\n",
      "                 Class     Images  Instances      Box(P          R      mAP50  mAP50-95): 100%|██████████| 57/57 [00:07<00:00,  7.42it/s]"
     ]
    },
    {
     "name": "stdout",
     "output_type": "stream",
     "text": [
      "                   all        228       8684      0.889      0.863      0.918      0.652\n"
     ]
    },
    {
     "name": "stderr",
     "output_type": "stream",
     "text": [
      "\n"
     ]
    },
    {
     "name": "stdout",
     "output_type": "stream",
     "text": [
      "\n",
      "      Epoch    GPU_mem   box_loss   cls_loss   dfl_loss  Instances       Size\n"
     ]
    },
    {
     "name": "stderr",
     "output_type": "stream",
     "text": [
      "     38/100      11.6G     0.9161     0.3715      1.316         42       1920: 100%|██████████| 704/704 [03:18<00:00,  3.54it/s]\n",
      "                 Class     Images  Instances      Box(P          R      mAP50  mAP50-95): 100%|██████████| 57/57 [00:07<00:00,  7.40it/s]"
     ]
    },
    {
     "name": "stdout",
     "output_type": "stream",
     "text": [
      "                   all        228       8684      0.866      0.899      0.935      0.658\n"
     ]
    },
    {
     "name": "stderr",
     "output_type": "stream",
     "text": [
      "\n"
     ]
    },
    {
     "name": "stdout",
     "output_type": "stream",
     "text": [
      "\n",
      "      Epoch    GPU_mem   box_loss   cls_loss   dfl_loss  Instances       Size\n"
     ]
    },
    {
     "name": "stderr",
     "output_type": "stream",
     "text": [
      "     39/100      12.1G      0.909     0.3718      1.278         76       1920: 100%|██████████| 704/704 [03:19<00:00,  3.53it/s]\n",
      "                 Class     Images  Instances      Box(P          R      mAP50  mAP50-95): 100%|██████████| 57/57 [00:07<00:00,  7.41it/s]"
     ]
    },
    {
     "name": "stdout",
     "output_type": "stream",
     "text": [
      "                   all        228       8684      0.867       0.85      0.906      0.638\n"
     ]
    },
    {
     "name": "stderr",
     "output_type": "stream",
     "text": [
      "\n"
     ]
    },
    {
     "name": "stdout",
     "output_type": "stream",
     "text": [
      "\n",
      "      Epoch    GPU_mem   box_loss   cls_loss   dfl_loss  Instances       Size\n"
     ]
    },
    {
     "name": "stderr",
     "output_type": "stream",
     "text": [
      "     40/100      11.6G     0.9108     0.3693      1.284         68       1920: 100%|██████████| 704/704 [03:19<00:00,  3.53it/s]\n",
      "                 Class     Images  Instances      Box(P          R      mAP50  mAP50-95): 100%|██████████| 57/57 [00:07<00:00,  7.40it/s]"
     ]
    },
    {
     "name": "stdout",
     "output_type": "stream",
     "text": [
      "                   all        228       8684      0.865      0.875      0.914      0.633\n"
     ]
    },
    {
     "name": "stderr",
     "output_type": "stream",
     "text": [
      "\n"
     ]
    },
    {
     "name": "stdout",
     "output_type": "stream",
     "text": [
      "\n",
      "      Epoch    GPU_mem   box_loss   cls_loss   dfl_loss  Instances       Size\n"
     ]
    },
    {
     "name": "stderr",
     "output_type": "stream",
     "text": [
      "     41/100      11.6G     0.9033     0.3679      1.291         74       1920: 100%|██████████| 704/704 [03:18<00:00,  3.55it/s]\n",
      "                 Class     Images  Instances      Box(P          R      mAP50  mAP50-95): 100%|██████████| 57/57 [00:07<00:00,  7.45it/s]"
     ]
    },
    {
     "name": "stdout",
     "output_type": "stream",
     "text": [
      "                   all        228       8684      0.854      0.854      0.903      0.641\n"
     ]
    },
    {
     "name": "stderr",
     "output_type": "stream",
     "text": [
      "\n"
     ]
    },
    {
     "name": "stdout",
     "output_type": "stream",
     "text": [
      "\n",
      "      Epoch    GPU_mem   box_loss   cls_loss   dfl_loss  Instances       Size\n"
     ]
    },
    {
     "name": "stderr",
     "output_type": "stream",
     "text": [
      "     42/100        12G     0.9023     0.3636      1.285         76       1920: 100%|██████████| 704/704 [03:18<00:00,  3.55it/s]\n",
      "                 Class     Images  Instances      Box(P          R      mAP50  mAP50-95): 100%|██████████| 57/57 [00:07<00:00,  7.39it/s]"
     ]
    },
    {
     "name": "stdout",
     "output_type": "stream",
     "text": [
      "                   all        228       8684      0.858      0.847      0.902      0.649\n"
     ]
    },
    {
     "name": "stderr",
     "output_type": "stream",
     "text": [
      "\n"
     ]
    },
    {
     "name": "stdout",
     "output_type": "stream",
     "text": [
      "\n",
      "      Epoch    GPU_mem   box_loss   cls_loss   dfl_loss  Instances       Size\n"
     ]
    },
    {
     "name": "stderr",
     "output_type": "stream",
     "text": [
      "     43/100      11.6G     0.9013     0.3704      1.293         74       1920: 100%|██████████| 704/704 [03:18<00:00,  3.55it/s]\n",
      "                 Class     Images  Instances      Box(P          R      mAP50  mAP50-95): 100%|██████████| 57/57 [00:07<00:00,  7.41it/s]"
     ]
    },
    {
     "name": "stdout",
     "output_type": "stream",
     "text": [
      "                   all        228       8684      0.874      0.799      0.884      0.627\n"
     ]
    },
    {
     "name": "stderr",
     "output_type": "stream",
     "text": [
      "\n"
     ]
    },
    {
     "name": "stdout",
     "output_type": "stream",
     "text": [
      "\n",
      "      Epoch    GPU_mem   box_loss   cls_loss   dfl_loss  Instances       Size\n"
     ]
    },
    {
     "name": "stderr",
     "output_type": "stream",
     "text": [
      "     44/100      11.7G     0.8959     0.3633      1.288         84       1920: 100%|██████████| 704/704 [03:18<00:00,  3.55it/s]\n",
      "                 Class     Images  Instances      Box(P          R      mAP50  mAP50-95): 100%|██████████| 57/57 [00:07<00:00,  7.46it/s]"
     ]
    },
    {
     "name": "stdout",
     "output_type": "stream",
     "text": [
      "                   all        228       8684      0.865      0.877      0.894      0.629\n"
     ]
    },
    {
     "name": "stderr",
     "output_type": "stream",
     "text": [
      "\n"
     ]
    },
    {
     "name": "stdout",
     "output_type": "stream",
     "text": [
      "\n",
      "      Epoch    GPU_mem   box_loss   cls_loss   dfl_loss  Instances       Size\n"
     ]
    },
    {
     "name": "stderr",
     "output_type": "stream",
     "text": [
      "     45/100      11.6G     0.8995     0.3642      1.283        125       1920: 100%|██████████| 704/704 [03:17<00:00,  3.56it/s]\n",
      "                 Class     Images  Instances      Box(P          R      mAP50  mAP50-95): 100%|██████████| 57/57 [00:07<00:00,  7.40it/s]"
     ]
    },
    {
     "name": "stdout",
     "output_type": "stream",
     "text": [
      "                   all        228       8684      0.859      0.897      0.905      0.644\n"
     ]
    },
    {
     "name": "stderr",
     "output_type": "stream",
     "text": [
      "\n"
     ]
    },
    {
     "name": "stdout",
     "output_type": "stream",
     "text": [
      "\n",
      "      Epoch    GPU_mem   box_loss   cls_loss   dfl_loss  Instances       Size\n"
     ]
    },
    {
     "name": "stderr",
     "output_type": "stream",
     "text": [
      "     46/100        12G     0.8985     0.3665      1.278         49       1920: 100%|██████████| 704/704 [03:17<00:00,  3.56it/s]\n",
      "                 Class     Images  Instances      Box(P          R      mAP50  mAP50-95): 100%|██████████| 57/57 [00:07<00:00,  7.45it/s]"
     ]
    },
    {
     "name": "stdout",
     "output_type": "stream",
     "text": [
      "                   all        228       8684      0.871      0.851      0.902      0.647\n"
     ]
    },
    {
     "name": "stderr",
     "output_type": "stream",
     "text": [
      "\n"
     ]
    },
    {
     "name": "stdout",
     "output_type": "stream",
     "text": [
      "\n",
      "      Epoch    GPU_mem   box_loss   cls_loss   dfl_loss  Instances       Size\n"
     ]
    },
    {
     "name": "stderr",
     "output_type": "stream",
     "text": [
      "     47/100      11.6G     0.8933     0.3662      1.282        114       1920: 100%|██████████| 704/704 [03:18<00:00,  3.55it/s]\n",
      "                 Class     Images  Instances      Box(P          R      mAP50  mAP50-95): 100%|██████████| 57/57 [00:07<00:00,  7.46it/s]"
     ]
    },
    {
     "name": "stdout",
     "output_type": "stream",
     "text": [
      "                   all        228       8684      0.858      0.867      0.917      0.653\n"
     ]
    },
    {
     "name": "stderr",
     "output_type": "stream",
     "text": [
      "\n"
     ]
    },
    {
     "name": "stdout",
     "output_type": "stream",
     "text": [
      "\n",
      "      Epoch    GPU_mem   box_loss   cls_loss   dfl_loss  Instances       Size\n"
     ]
    },
    {
     "name": "stderr",
     "output_type": "stream",
     "text": [
      "     48/100      12.1G     0.8958      0.362       1.29         88       1920: 100%|██████████| 704/704 [03:18<00:00,  3.55it/s]\n",
      "                 Class     Images  Instances      Box(P          R      mAP50  mAP50-95): 100%|██████████| 57/57 [00:07<00:00,  7.43it/s]"
     ]
    },
    {
     "name": "stdout",
     "output_type": "stream",
     "text": [
      "                   all        228       8684       0.88      0.832      0.902      0.635\n"
     ]
    },
    {
     "name": "stderr",
     "output_type": "stream",
     "text": [
      "\n"
     ]
    },
    {
     "name": "stdout",
     "output_type": "stream",
     "text": [
      "\n",
      "      Epoch    GPU_mem   box_loss   cls_loss   dfl_loss  Instances       Size\n"
     ]
    },
    {
     "name": "stderr",
     "output_type": "stream",
     "text": [
      "     49/100      11.6G     0.8881     0.3641      1.282         50       1920: 100%|██████████| 704/704 [03:18<00:00,  3.55it/s]\n",
      "                 Class     Images  Instances      Box(P          R      mAP50  mAP50-95): 100%|██████████| 57/57 [00:07<00:00,  7.45it/s]"
     ]
    },
    {
     "name": "stdout",
     "output_type": "stream",
     "text": [
      "                   all        228       8684      0.874      0.882      0.919      0.659\n"
     ]
    },
    {
     "name": "stderr",
     "output_type": "stream",
     "text": [
      "\n"
     ]
    },
    {
     "name": "stdout",
     "output_type": "stream",
     "text": [
      "\n",
      "      Epoch    GPU_mem   box_loss   cls_loss   dfl_loss  Instances       Size\n"
     ]
    },
    {
     "name": "stderr",
     "output_type": "stream",
     "text": [
      "     50/100      11.7G     0.8833     0.3541      1.261         55       1920: 100%|██████████| 704/704 [03:18<00:00,  3.55it/s]\n",
      "                 Class     Images  Instances      Box(P          R      mAP50  mAP50-95): 100%|██████████| 57/57 [00:07<00:00,  7.45it/s]"
     ]
    },
    {
     "name": "stdout",
     "output_type": "stream",
     "text": [
      "                   all        228       8684      0.869      0.818      0.884      0.614\n"
     ]
    },
    {
     "name": "stderr",
     "output_type": "stream",
     "text": [
      "\n"
     ]
    },
    {
     "name": "stdout",
     "output_type": "stream",
     "text": [
      "\n",
      "      Epoch    GPU_mem   box_loss   cls_loss   dfl_loss  Instances       Size\n"
     ]
    },
    {
     "name": "stderr",
     "output_type": "stream",
     "text": [
      "     51/100      11.7G     0.8887     0.3603      1.277         56       1920: 100%|██████████| 704/704 [03:18<00:00,  3.55it/s]\n",
      "                 Class     Images  Instances      Box(P          R      mAP50  mAP50-95): 100%|██████████| 57/57 [00:07<00:00,  7.44it/s]"
     ]
    },
    {
     "name": "stdout",
     "output_type": "stream",
     "text": [
      "                   all        228       8684      0.885      0.867       0.92       0.65\n"
     ]
    },
    {
     "name": "stderr",
     "output_type": "stream",
     "text": [
      "\n"
     ]
    },
    {
     "name": "stdout",
     "output_type": "stream",
     "text": [
      "\n",
      "      Epoch    GPU_mem   box_loss   cls_loss   dfl_loss  Instances       Size\n"
     ]
    },
    {
     "name": "stderr",
     "output_type": "stream",
     "text": [
      "     52/100      11.6G     0.8773     0.3575      1.269         80       1920: 100%|██████████| 704/704 [03:18<00:00,  3.55it/s]\n",
      "                 Class     Images  Instances      Box(P          R      mAP50  mAP50-95): 100%|██████████| 57/57 [00:07<00:00,  7.46it/s]"
     ]
    },
    {
     "name": "stdout",
     "output_type": "stream",
     "text": [
      "                   all        228       8684      0.876      0.873      0.925      0.666\n"
     ]
    },
    {
     "name": "stderr",
     "output_type": "stream",
     "text": [
      "\n"
     ]
    },
    {
     "name": "stdout",
     "output_type": "stream",
     "text": [
      "\n",
      "      Epoch    GPU_mem   box_loss   cls_loss   dfl_loss  Instances       Size\n"
     ]
    },
    {
     "name": "stderr",
     "output_type": "stream",
     "text": [
      "     53/100      11.6G     0.8782     0.3561      1.266        108       1920: 100%|██████████| 704/704 [03:18<00:00,  3.55it/s]\n",
      "                 Class     Images  Instances      Box(P          R      mAP50  mAP50-95): 100%|██████████| 57/57 [00:07<00:00,  7.45it/s]"
     ]
    },
    {
     "name": "stdout",
     "output_type": "stream",
     "text": [
      "                   all        228       8684      0.854      0.842      0.902      0.645\n"
     ]
    },
    {
     "name": "stderr",
     "output_type": "stream",
     "text": [
      "\n"
     ]
    },
    {
     "name": "stdout",
     "output_type": "stream",
     "text": [
      "\n",
      "      Epoch    GPU_mem   box_loss   cls_loss   dfl_loss  Instances       Size\n"
     ]
    },
    {
     "name": "stderr",
     "output_type": "stream",
     "text": [
      "     54/100      11.6G     0.8793     0.3574      1.258         39       1920: 100%|██████████| 704/704 [03:18<00:00,  3.55it/s]\n",
      "                 Class     Images  Instances      Box(P          R      mAP50  mAP50-95): 100%|██████████| 57/57 [00:07<00:00,  7.43it/s]"
     ]
    },
    {
     "name": "stdout",
     "output_type": "stream",
     "text": [
      "                   all        228       8684      0.877      0.861      0.913      0.647\n"
     ]
    },
    {
     "name": "stderr",
     "output_type": "stream",
     "text": [
      "\n"
     ]
    },
    {
     "name": "stdout",
     "output_type": "stream",
     "text": [
      "\n",
      "      Epoch    GPU_mem   box_loss   cls_loss   dfl_loss  Instances       Size\n"
     ]
    },
    {
     "name": "stderr",
     "output_type": "stream",
     "text": [
      "     55/100      11.6G     0.8767     0.3518      1.249         81       1920: 100%|██████████| 704/704 [03:18<00:00,  3.55it/s]\n",
      "                 Class     Images  Instances      Box(P          R      mAP50  mAP50-95): 100%|██████████| 57/57 [00:07<00:00,  7.46it/s]"
     ]
    },
    {
     "name": "stdout",
     "output_type": "stream",
     "text": [
      "                   all        228       8684      0.886      0.863      0.917      0.648\n"
     ]
    },
    {
     "name": "stderr",
     "output_type": "stream",
     "text": [
      "\n"
     ]
    },
    {
     "name": "stdout",
     "output_type": "stream",
     "text": [
      "\n",
      "      Epoch    GPU_mem   box_loss   cls_loss   dfl_loss  Instances       Size\n"
     ]
    },
    {
     "name": "stderr",
     "output_type": "stream",
     "text": [
      "     56/100      11.7G     0.8778     0.3554      1.263        121       1920: 100%|██████████| 704/704 [03:18<00:00,  3.55it/s]\n",
      "                 Class     Images  Instances      Box(P          R      mAP50  mAP50-95): 100%|██████████| 57/57 [00:07<00:00,  7.44it/s]"
     ]
    },
    {
     "name": "stdout",
     "output_type": "stream",
     "text": [
      "                   all        228       8684      0.859       0.86      0.915      0.654\n"
     ]
    },
    {
     "name": "stderr",
     "output_type": "stream",
     "text": [
      "\n"
     ]
    },
    {
     "name": "stdout",
     "output_type": "stream",
     "text": [
      "\n",
      "      Epoch    GPU_mem   box_loss   cls_loss   dfl_loss  Instances       Size\n"
     ]
    },
    {
     "name": "stderr",
     "output_type": "stream",
     "text": [
      "     57/100      11.6G       0.87     0.3507      1.261        113       1920: 100%|██████████| 704/704 [03:18<00:00,  3.55it/s]\n",
      "                 Class     Images  Instances      Box(P          R      mAP50  mAP50-95): 100%|██████████| 57/57 [00:07<00:00,  7.43it/s]"
     ]
    },
    {
     "name": "stdout",
     "output_type": "stream",
     "text": [
      "                   all        228       8684      0.863      0.871      0.914      0.646\n"
     ]
    },
    {
     "name": "stderr",
     "output_type": "stream",
     "text": [
      "\n"
     ]
    },
    {
     "name": "stdout",
     "output_type": "stream",
     "text": [
      "\n",
      "      Epoch    GPU_mem   box_loss   cls_loss   dfl_loss  Instances       Size\n"
     ]
    },
    {
     "name": "stderr",
     "output_type": "stream",
     "text": [
      "     58/100      11.4G     0.8787     0.3573      1.258         56       1920: 100%|██████████| 704/704 [03:18<00:00,  3.55it/s]\n",
      "                 Class     Images  Instances      Box(P          R      mAP50  mAP50-95): 100%|██████████| 57/57 [00:07<00:00,  7.40it/s]"
     ]
    },
    {
     "name": "stdout",
     "output_type": "stream",
     "text": [
      "                   all        228       8684       0.88       0.83       0.89      0.636\n"
     ]
    },
    {
     "name": "stderr",
     "output_type": "stream",
     "text": [
      "\n"
     ]
    },
    {
     "name": "stdout",
     "output_type": "stream",
     "text": [
      "\n",
      "      Epoch    GPU_mem   box_loss   cls_loss   dfl_loss  Instances       Size\n"
     ]
    },
    {
     "name": "stderr",
     "output_type": "stream",
     "text": [
      "     59/100      11.6G     0.8659     0.3528      1.249        126       1920: 100%|██████████| 704/704 [03:18<00:00,  3.56it/s]\n",
      "                 Class     Images  Instances      Box(P          R      mAP50  mAP50-95): 100%|██████████| 57/57 [00:07<00:00,  7.42it/s]"
     ]
    },
    {
     "name": "stdout",
     "output_type": "stream",
     "text": [
      "                   all        228       8684       0.89      0.859      0.914      0.656\n"
     ]
    },
    {
     "name": "stderr",
     "output_type": "stream",
     "text": [
      "\n"
     ]
    },
    {
     "name": "stdout",
     "output_type": "stream",
     "text": [
      "\n",
      "      Epoch    GPU_mem   box_loss   cls_loss   dfl_loss  Instances       Size\n"
     ]
    },
    {
     "name": "stderr",
     "output_type": "stream",
     "text": [
      "     60/100      11.6G     0.8738     0.3529      1.259         44       1920: 100%|██████████| 704/704 [03:18<00:00,  3.55it/s]\n",
      "                 Class     Images  Instances      Box(P          R      mAP50  mAP50-95): 100%|██████████| 57/57 [00:07<00:00,  7.42it/s]"
     ]
    },
    {
     "name": "stdout",
     "output_type": "stream",
     "text": [
      "                   all        228       8684      0.867      0.867       0.91      0.641\n"
     ]
    },
    {
     "name": "stderr",
     "output_type": "stream",
     "text": [
      "\n"
     ]
    },
    {
     "name": "stdout",
     "output_type": "stream",
     "text": [
      "\n",
      "      Epoch    GPU_mem   box_loss   cls_loss   dfl_loss  Instances       Size\n"
     ]
    },
    {
     "name": "stderr",
     "output_type": "stream",
     "text": [
      "     61/100      11.7G       0.87     0.3539      1.265         89       1920: 100%|██████████| 704/704 [03:18<00:00,  3.55it/s]\n",
      "                 Class     Images  Instances      Box(P          R      mAP50  mAP50-95): 100%|██████████| 57/57 [00:07<00:00,  7.41it/s]"
     ]
    },
    {
     "name": "stdout",
     "output_type": "stream",
     "text": [
      "                   all        228       8684      0.869      0.833      0.902      0.636\n"
     ]
    },
    {
     "name": "stderr",
     "output_type": "stream",
     "text": [
      "\n"
     ]
    },
    {
     "name": "stdout",
     "output_type": "stream",
     "text": [
      "\n",
      "      Epoch    GPU_mem   box_loss   cls_loss   dfl_loss  Instances       Size\n"
     ]
    },
    {
     "name": "stderr",
     "output_type": "stream",
     "text": [
      "     62/100      11.7G     0.8652     0.3538      1.259         72       1920: 100%|██████████| 704/704 [03:18<00:00,  3.55it/s]\n",
      "                 Class     Images  Instances      Box(P          R      mAP50  mAP50-95): 100%|██████████| 57/57 [00:07<00:00,  7.45it/s]"
     ]
    },
    {
     "name": "stdout",
     "output_type": "stream",
     "text": [
      "                   all        228       8684      0.874       0.85      0.903      0.645\n"
     ]
    },
    {
     "name": "stderr",
     "output_type": "stream",
     "text": [
      "\n"
     ]
    },
    {
     "name": "stdout",
     "output_type": "stream",
     "text": [
      "\n",
      "      Epoch    GPU_mem   box_loss   cls_loss   dfl_loss  Instances       Size\n"
     ]
    },
    {
     "name": "stderr",
     "output_type": "stream",
     "text": [
      "     63/100      11.6G     0.8627     0.3512      1.254         76       1920: 100%|██████████| 704/704 [03:18<00:00,  3.54it/s]\n",
      "                 Class     Images  Instances      Box(P          R      mAP50  mAP50-95): 100%|██████████| 57/57 [00:07<00:00,  7.47it/s]"
     ]
    },
    {
     "name": "stdout",
     "output_type": "stream",
     "text": [
      "                   all        228       8684      0.881      0.831      0.893      0.633\n"
     ]
    },
    {
     "name": "stderr",
     "output_type": "stream",
     "text": [
      "\n"
     ]
    },
    {
     "name": "stdout",
     "output_type": "stream",
     "text": [
      "\n",
      "      Epoch    GPU_mem   box_loss   cls_loss   dfl_loss  Instances       Size\n"
     ]
    },
    {
     "name": "stderr",
     "output_type": "stream",
     "text": [
      "     64/100      11.7G     0.8604     0.3484       1.25        157       1920: 100%|██████████| 704/704 [03:18<00:00,  3.55it/s]\n",
      "                 Class     Images  Instances      Box(P          R      mAP50  mAP50-95): 100%|██████████| 57/57 [00:07<00:00,  7.40it/s]"
     ]
    },
    {
     "name": "stdout",
     "output_type": "stream",
     "text": [
      "                   all        228       8684      0.903      0.839      0.903      0.642\n"
     ]
    },
    {
     "name": "stderr",
     "output_type": "stream",
     "text": [
      "\n"
     ]
    },
    {
     "name": "stdout",
     "output_type": "stream",
     "text": [
      "\n",
      "      Epoch    GPU_mem   box_loss   cls_loss   dfl_loss  Instances       Size\n"
     ]
    },
    {
     "name": "stderr",
     "output_type": "stream",
     "text": [
      "     65/100      11.7G     0.8602      0.347      1.246         99       1920: 100%|██████████| 704/704 [03:18<00:00,  3.55it/s]\n",
      "                 Class     Images  Instances      Box(P          R      mAP50  mAP50-95): 100%|██████████| 57/57 [00:07<00:00,  7.48it/s]"
     ]
    },
    {
     "name": "stdout",
     "output_type": "stream",
     "text": [
      "                   all        228       8684      0.891      0.852      0.907      0.652\n"
     ]
    },
    {
     "name": "stderr",
     "output_type": "stream",
     "text": [
      "\n"
     ]
    },
    {
     "name": "stdout",
     "output_type": "stream",
     "text": [
      "\n",
      "      Epoch    GPU_mem   box_loss   cls_loss   dfl_loss  Instances       Size\n"
     ]
    },
    {
     "name": "stderr",
     "output_type": "stream",
     "text": [
      "     66/100        12G     0.8562     0.3495      1.247        154       1920: 100%|██████████| 704/704 [03:18<00:00,  3.55it/s]\n",
      "                 Class     Images  Instances      Box(P          R      mAP50  mAP50-95): 100%|██████████| 57/57 [00:07<00:00,  7.47it/s]"
     ]
    },
    {
     "name": "stdout",
     "output_type": "stream",
     "text": [
      "                   all        228       8684      0.872      0.838        0.9      0.644\n"
     ]
    },
    {
     "name": "stderr",
     "output_type": "stream",
     "text": [
      "\n"
     ]
    },
    {
     "name": "stdout",
     "output_type": "stream",
     "text": [
      "\n",
      "      Epoch    GPU_mem   box_loss   cls_loss   dfl_loss  Instances       Size\n"
     ]
    },
    {
     "name": "stderr",
     "output_type": "stream",
     "text": [
      "     67/100      11.6G     0.8567     0.3452      1.249         45       1920: 100%|██████████| 704/704 [03:18<00:00,  3.55it/s]\n",
      "                 Class     Images  Instances      Box(P          R      mAP50  mAP50-95): 100%|██████████| 57/57 [00:07<00:00,  7.41it/s]"
     ]
    },
    {
     "name": "stdout",
     "output_type": "stream",
     "text": [
      "                   all        228       8684      0.885      0.818      0.887      0.632\n"
     ]
    },
    {
     "name": "stderr",
     "output_type": "stream",
     "text": [
      "\n"
     ]
    },
    {
     "name": "stdout",
     "output_type": "stream",
     "text": [
      "\n",
      "      Epoch    GPU_mem   box_loss   cls_loss   dfl_loss  Instances       Size\n"
     ]
    },
    {
     "name": "stderr",
     "output_type": "stream",
     "text": [
      "     68/100      11.5G     0.8561     0.3448       1.25        120       1920: 100%|██████████| 704/704 [03:18<00:00,  3.55it/s]\n",
      "                 Class     Images  Instances      Box(P          R      mAP50  mAP50-95): 100%|██████████| 57/57 [00:07<00:00,  7.43it/s]"
     ]
    },
    {
     "name": "stdout",
     "output_type": "stream",
     "text": [
      "                   all        228       8684      0.879       0.85        0.9      0.633\n"
     ]
    },
    {
     "name": "stderr",
     "output_type": "stream",
     "text": [
      "\n"
     ]
    },
    {
     "name": "stdout",
     "output_type": "stream",
     "text": [
      "\n",
      "      Epoch    GPU_mem   box_loss   cls_loss   dfl_loss  Instances       Size\n"
     ]
    },
    {
     "name": "stderr",
     "output_type": "stream",
     "text": [
      "     69/100      11.6G     0.8561     0.3465      1.242         85       1920: 100%|██████████| 704/704 [03:18<00:00,  3.55it/s]\n",
      "                 Class     Images  Instances      Box(P          R      mAP50  mAP50-95): 100%|██████████| 57/57 [00:07<00:00,  7.45it/s]"
     ]
    },
    {
     "name": "stdout",
     "output_type": "stream",
     "text": [
      "                   all        228       8684      0.885      0.825      0.893      0.636\n"
     ]
    },
    {
     "name": "stderr",
     "output_type": "stream",
     "text": [
      "\n"
     ]
    },
    {
     "name": "stdout",
     "output_type": "stream",
     "text": [
      "\n",
      "      Epoch    GPU_mem   box_loss   cls_loss   dfl_loss  Instances       Size\n"
     ]
    },
    {
     "name": "stderr",
     "output_type": "stream",
     "text": [
      "     70/100        12G     0.8558     0.3424      1.242         45       1920: 100%|██████████| 704/704 [03:18<00:00,  3.55it/s]\n",
      "                 Class     Images  Instances      Box(P          R      mAP50  mAP50-95): 100%|██████████| 57/57 [00:07<00:00,  7.51it/s]"
     ]
    },
    {
     "name": "stdout",
     "output_type": "stream",
     "text": [
      "                   all        228       8684      0.869      0.822      0.888      0.633\n"
     ]
    },
    {
     "name": "stderr",
     "output_type": "stream",
     "text": [
      "\n"
     ]
    },
    {
     "name": "stdout",
     "output_type": "stream",
     "text": [
      "\n",
      "      Epoch    GPU_mem   box_loss   cls_loss   dfl_loss  Instances       Size\n"
     ]
    },
    {
     "name": "stderr",
     "output_type": "stream",
     "text": [
      "     71/100      11.6G     0.8561     0.3452      1.251        160       1920: 100%|██████████| 704/704 [03:18<00:00,  3.55it/s]\n",
      "                 Class     Images  Instances      Box(P          R      mAP50  mAP50-95): 100%|██████████| 57/57 [00:07<00:00,  7.51it/s]"
     ]
    },
    {
     "name": "stdout",
     "output_type": "stream",
     "text": [
      "                   all        228       8684      0.858      0.839      0.908       0.65\n"
     ]
    },
    {
     "name": "stderr",
     "output_type": "stream",
     "text": [
      "\n"
     ]
    },
    {
     "name": "stdout",
     "output_type": "stream",
     "text": [
      "\n",
      "      Epoch    GPU_mem   box_loss   cls_loss   dfl_loss  Instances       Size\n"
     ]
    },
    {
     "name": "stderr",
     "output_type": "stream",
     "text": [
      "     72/100      11.6G     0.8498     0.3431      1.239         93       1920: 100%|██████████| 704/704 [03:18<00:00,  3.55it/s]\n",
      "                 Class     Images  Instances      Box(P          R      mAP50  mAP50-95): 100%|██████████| 57/57 [00:07<00:00,  7.47it/s]"
     ]
    },
    {
     "name": "stdout",
     "output_type": "stream",
     "text": [
      "                   all        228       8684      0.891      0.804      0.883      0.632\n"
     ]
    },
    {
     "name": "stderr",
     "output_type": "stream",
     "text": [
      "\n"
     ]
    },
    {
     "name": "stdout",
     "output_type": "stream",
     "text": [
      "\n",
      "      Epoch    GPU_mem   box_loss   cls_loss   dfl_loss  Instances       Size\n"
     ]
    },
    {
     "name": "stderr",
     "output_type": "stream",
     "text": [
      "     73/100      11.7G     0.8426     0.3437      1.232         69       1920: 100%|██████████| 704/704 [03:18<00:00,  3.55it/s]\n",
      "                 Class     Images  Instances      Box(P          R      mAP50  mAP50-95): 100%|██████████| 57/57 [00:07<00:00,  7.47it/s]"
     ]
    },
    {
     "name": "stdout",
     "output_type": "stream",
     "text": [
      "                   all        228       8684      0.868      0.847      0.896      0.638\n"
     ]
    },
    {
     "name": "stderr",
     "output_type": "stream",
     "text": [
      "\n"
     ]
    },
    {
     "name": "stdout",
     "output_type": "stream",
     "text": [
      "\n",
      "      Epoch    GPU_mem   box_loss   cls_loss   dfl_loss  Instances       Size\n"
     ]
    },
    {
     "name": "stderr",
     "output_type": "stream",
     "text": [
      "     74/100      11.6G     0.8454     0.3397      1.229         20       1920: 100%|██████████| 704/704 [03:18<00:00,  3.55it/s]\n",
      "                 Class     Images  Instances      Box(P          R      mAP50  mAP50-95): 100%|██████████| 57/57 [00:07<00:00,  7.43it/s]"
     ]
    },
    {
     "name": "stdout",
     "output_type": "stream",
     "text": [
      "                   all        228       8684      0.884      0.836      0.895      0.638\n"
     ]
    },
    {
     "name": "stderr",
     "output_type": "stream",
     "text": [
      "\n"
     ]
    },
    {
     "name": "stdout",
     "output_type": "stream",
     "text": [
      "\n",
      "      Epoch    GPU_mem   box_loss   cls_loss   dfl_loss  Instances       Size\n"
     ]
    },
    {
     "name": "stderr",
     "output_type": "stream",
     "text": [
      "     75/100      11.6G     0.8443     0.3374      1.223        122       1920: 100%|██████████| 704/704 [03:18<00:00,  3.54it/s]\n",
      "                 Class     Images  Instances      Box(P          R      mAP50  mAP50-95): 100%|██████████| 57/57 [00:07<00:00,  7.45it/s]"
     ]
    },
    {
     "name": "stdout",
     "output_type": "stream",
     "text": [
      "                   all        228       8684      0.848      0.823      0.883      0.628\n"
     ]
    },
    {
     "name": "stderr",
     "output_type": "stream",
     "text": [
      "\n"
     ]
    },
    {
     "name": "stdout",
     "output_type": "stream",
     "text": [
      "\n",
      "      Epoch    GPU_mem   box_loss   cls_loss   dfl_loss  Instances       Size\n"
     ]
    },
    {
     "name": "stderr",
     "output_type": "stream",
     "text": [
      "     76/100      11.6G     0.8439     0.3464      1.237         54       1920: 100%|██████████| 704/704 [03:18<00:00,  3.55it/s]\n",
      "                 Class     Images  Instances      Box(P          R      mAP50  mAP50-95): 100%|██████████| 57/57 [00:07<00:00,  7.42it/s]"
     ]
    },
    {
     "name": "stdout",
     "output_type": "stream",
     "text": [
      "                   all        228       8684      0.885      0.858      0.916      0.656\n"
     ]
    },
    {
     "name": "stderr",
     "output_type": "stream",
     "text": [
      "\n"
     ]
    },
    {
     "name": "stdout",
     "output_type": "stream",
     "text": [
      "\n",
      "      Epoch    GPU_mem   box_loss   cls_loss   dfl_loss  Instances       Size\n"
     ]
    },
    {
     "name": "stderr",
     "output_type": "stream",
     "text": [
      "     77/100      12.1G     0.8427     0.3433      1.231         36       1920: 100%|██████████| 704/704 [03:39<00:00,  3.21it/s]\n",
      "                 Class     Images  Instances      Box(P          R      mAP50  mAP50-95): 100%|██████████| 57/57 [00:07<00:00,  7.53it/s]"
     ]
    },
    {
     "name": "stdout",
     "output_type": "stream",
     "text": [
      "                   all        228       8684      0.887      0.825      0.894       0.64\n"
     ]
    },
    {
     "name": "stderr",
     "output_type": "stream",
     "text": [
      "\n"
     ]
    },
    {
     "name": "stdout",
     "output_type": "stream",
     "text": [
      "\n",
      "      Epoch    GPU_mem   box_loss   cls_loss   dfl_loss  Instances       Size\n"
     ]
    },
    {
     "name": "stderr",
     "output_type": "stream",
     "text": [
      "     78/100      11.6G     0.8411     0.3386      1.244        168       1920: 100%|██████████| 704/704 [03:18<00:00,  3.55it/s]\n",
      "                 Class     Images  Instances      Box(P          R      mAP50  mAP50-95): 100%|██████████| 57/57 [00:07<00:00,  7.48it/s]"
     ]
    },
    {
     "name": "stdout",
     "output_type": "stream",
     "text": [
      "                   all        228       8684      0.884      0.811      0.895      0.644\n"
     ]
    },
    {
     "name": "stderr",
     "output_type": "stream",
     "text": [
      "\n"
     ]
    },
    {
     "name": "stdout",
     "output_type": "stream",
     "text": [
      "\n",
      "      Epoch    GPU_mem   box_loss   cls_loss   dfl_loss  Instances       Size\n"
     ]
    },
    {
     "name": "stderr",
     "output_type": "stream",
     "text": [
      "     79/100      11.7G     0.8344     0.3389      1.232         58       1920: 100%|██████████| 704/704 [03:18<00:00,  3.55it/s]\n",
      "                 Class     Images  Instances      Box(P          R      mAP50  mAP50-95): 100%|██████████| 57/57 [00:07<00:00,  7.52it/s]"
     ]
    },
    {
     "name": "stdout",
     "output_type": "stream",
     "text": [
      "                   all        228       8684      0.846      0.823      0.878      0.625\n"
     ]
    },
    {
     "name": "stderr",
     "output_type": "stream",
     "text": [
      "\n"
     ]
    },
    {
     "name": "stdout",
     "output_type": "stream",
     "text": [
      "\n",
      "      Epoch    GPU_mem   box_loss   cls_loss   dfl_loss  Instances       Size\n"
     ]
    },
    {
     "name": "stderr",
     "output_type": "stream",
     "text": [
      "     80/100      11.6G     0.8377     0.3345      1.227         58       1920: 100%|██████████| 704/704 [03:18<00:00,  3.55it/s]\n",
      "                 Class     Images  Instances      Box(P          R      mAP50  mAP50-95): 100%|██████████| 57/57 [00:07<00:00,  7.47it/s]"
     ]
    },
    {
     "name": "stdout",
     "output_type": "stream",
     "text": [
      "                   all        228       8684      0.889      0.845      0.909      0.639\n"
     ]
    },
    {
     "name": "stderr",
     "output_type": "stream",
     "text": [
      "\n"
     ]
    },
    {
     "name": "stdout",
     "output_type": "stream",
     "text": [
      "\n",
      "      Epoch    GPU_mem   box_loss   cls_loss   dfl_loss  Instances       Size\n"
     ]
    },
    {
     "name": "stderr",
     "output_type": "stream",
     "text": [
      "     81/100      11.7G     0.8344      0.335      1.224         86       1920: 100%|██████████| 704/704 [03:18<00:00,  3.55it/s]\n",
      "                 Class     Images  Instances      Box(P          R      mAP50  mAP50-95): 100%|██████████| 57/57 [00:07<00:00,  7.47it/s]"
     ]
    },
    {
     "name": "stdout",
     "output_type": "stream",
     "text": [
      "                   all        228       8684      0.859      0.831      0.885      0.629\n"
     ]
    },
    {
     "name": "stderr",
     "output_type": "stream",
     "text": [
      "\n"
     ]
    },
    {
     "name": "stdout",
     "output_type": "stream",
     "text": [
      "\n",
      "      Epoch    GPU_mem   box_loss   cls_loss   dfl_loss  Instances       Size\n"
     ]
    },
    {
     "name": "stderr",
     "output_type": "stream",
     "text": [
      "     82/100      11.6G     0.8314      0.332      1.224         76       1920: 100%|██████████| 704/704 [03:18<00:00,  3.55it/s]\n",
      "                 Class     Images  Instances      Box(P          R      mAP50  mAP50-95): 100%|██████████| 57/57 [00:07<00:00,  7.49it/s]"
     ]
    },
    {
     "name": "stdout",
     "output_type": "stream",
     "text": [
      "                   all        228       8684      0.888      0.832      0.895      0.637\n"
     ]
    },
    {
     "name": "stderr",
     "output_type": "stream",
     "text": [
      "\n"
     ]
    },
    {
     "name": "stdout",
     "output_type": "stream",
     "text": [
      "\n",
      "      Epoch    GPU_mem   box_loss   cls_loss   dfl_loss  Instances       Size\n"
     ]
    },
    {
     "name": "stderr",
     "output_type": "stream",
     "text": [
      "     83/100      11.7G     0.8353     0.3339      1.228         68       1920: 100%|██████████| 704/704 [03:18<00:00,  3.56it/s]\n",
      "                 Class     Images  Instances      Box(P          R      mAP50  mAP50-95): 100%|██████████| 57/57 [00:07<00:00,  7.45it/s]"
     ]
    },
    {
     "name": "stdout",
     "output_type": "stream",
     "text": [
      "                   all        228       8684      0.882      0.859      0.922       0.66\n"
     ]
    },
    {
     "name": "stderr",
     "output_type": "stream",
     "text": [
      "\n"
     ]
    },
    {
     "name": "stdout",
     "output_type": "stream",
     "text": [
      "\n",
      "      Epoch    GPU_mem   box_loss   cls_loss   dfl_loss  Instances       Size\n"
     ]
    },
    {
     "name": "stderr",
     "output_type": "stream",
     "text": [
      "     84/100      12.5G     0.8267     0.3327      1.231        111       1920: 100%|██████████| 704/704 [03:18<00:00,  3.55it/s]\n",
      "                 Class     Images  Instances      Box(P          R      mAP50  mAP50-95): 100%|██████████| 57/57 [00:07<00:00,  7.50it/s]"
     ]
    },
    {
     "name": "stdout",
     "output_type": "stream",
     "text": [
      "                   all        228       8684      0.893       0.86      0.921      0.659\n"
     ]
    },
    {
     "name": "stderr",
     "output_type": "stream",
     "text": [
      "\n"
     ]
    },
    {
     "name": "stdout",
     "output_type": "stream",
     "text": [
      "\n",
      "      Epoch    GPU_mem   box_loss   cls_loss   dfl_loss  Instances       Size\n"
     ]
    },
    {
     "name": "stderr",
     "output_type": "stream",
     "text": [
      "     85/100      11.7G     0.8309      0.335       1.24         55       1920: 100%|██████████| 704/704 [03:18<00:00,  3.55it/s]\n",
      "                 Class     Images  Instances      Box(P          R      mAP50  mAP50-95): 100%|██████████| 57/57 [00:07<00:00,  7.50it/s]"
     ]
    },
    {
     "name": "stdout",
     "output_type": "stream",
     "text": [
      "                   all        228       8684      0.888       0.85      0.921       0.66\n"
     ]
    },
    {
     "name": "stderr",
     "output_type": "stream",
     "text": [
      "\n"
     ]
    },
    {
     "name": "stdout",
     "output_type": "stream",
     "text": [
      "\n",
      "      Epoch    GPU_mem   box_loss   cls_loss   dfl_loss  Instances       Size\n"
     ]
    },
    {
     "name": "stderr",
     "output_type": "stream",
     "text": [
      "     86/100      11.6G      0.827     0.3319       1.23         74       1920: 100%|██████████| 704/704 [03:18<00:00,  3.55it/s]\n",
      "                 Class     Images  Instances      Box(P          R      mAP50  mAP50-95): 100%|██████████| 57/57 [00:07<00:00,  7.51it/s]"
     ]
    },
    {
     "name": "stdout",
     "output_type": "stream",
     "text": [
      "                   all        228       8684      0.893      0.825      0.905      0.647\n"
     ]
    },
    {
     "name": "stderr",
     "output_type": "stream",
     "text": [
      "\n"
     ]
    },
    {
     "name": "stdout",
     "output_type": "stream",
     "text": [
      "\n",
      "      Epoch    GPU_mem   box_loss   cls_loss   dfl_loss  Instances       Size\n"
     ]
    },
    {
     "name": "stderr",
     "output_type": "stream",
     "text": [
      "     87/100      11.8G     0.8193      0.331      1.221         96       1920: 100%|██████████| 704/704 [03:17<00:00,  3.56it/s]\n",
      "                 Class     Images  Instances      Box(P          R      mAP50  mAP50-95): 100%|██████████| 57/57 [00:07<00:00,  7.50it/s]"
     ]
    },
    {
     "name": "stdout",
     "output_type": "stream",
     "text": [
      "                   all        228       8684      0.887      0.853      0.917      0.652\n"
     ]
    },
    {
     "name": "stderr",
     "output_type": "stream",
     "text": [
      "\n"
     ]
    },
    {
     "name": "stdout",
     "output_type": "stream",
     "text": [
      "\n",
      "      Epoch    GPU_mem   box_loss   cls_loss   dfl_loss  Instances       Size\n"
     ]
    },
    {
     "name": "stderr",
     "output_type": "stream",
     "text": [
      "     88/100      11.6G     0.8225     0.3312      1.225         32       1920: 100%|██████████| 704/704 [03:18<00:00,  3.55it/s]\n",
      "                 Class     Images  Instances      Box(P          R      mAP50  mAP50-95): 100%|██████████| 57/57 [00:07<00:00,  7.50it/s]"
     ]
    },
    {
     "name": "stdout",
     "output_type": "stream",
     "text": [
      "                   all        228       8684      0.893      0.811      0.897      0.644\n"
     ]
    },
    {
     "name": "stderr",
     "output_type": "stream",
     "text": [
      "\n"
     ]
    },
    {
     "name": "stdout",
     "output_type": "stream",
     "text": [
      "\n",
      "      Epoch    GPU_mem   box_loss   cls_loss   dfl_loss  Instances       Size\n"
     ]
    },
    {
     "name": "stderr",
     "output_type": "stream",
     "text": [
      "     89/100      11.7G     0.8192     0.3268      1.213        103       1920: 100%|██████████| 704/704 [03:18<00:00,  3.55it/s]\n",
      "                 Class     Images  Instances      Box(P          R      mAP50  mAP50-95): 100%|██████████| 57/57 [00:07<00:00,  7.50it/s]"
     ]
    },
    {
     "name": "stdout",
     "output_type": "stream",
     "text": [
      "                   all        228       8684      0.889      0.814       0.89      0.634\n"
     ]
    },
    {
     "name": "stderr",
     "output_type": "stream",
     "text": [
      "\n"
     ]
    },
    {
     "name": "stdout",
     "output_type": "stream",
     "text": [
      "\n",
      "      Epoch    GPU_mem   box_loss   cls_loss   dfl_loss  Instances       Size\n"
     ]
    },
    {
     "name": "stderr",
     "output_type": "stream",
     "text": [
      "     90/100      11.6G     0.8101     0.3227      1.209         53       1920: 100%|██████████| 704/704 [03:18<00:00,  3.55it/s]\n",
      "                 Class     Images  Instances      Box(P          R      mAP50  mAP50-95): 100%|██████████| 57/57 [00:07<00:00,  7.51it/s]"
     ]
    },
    {
     "name": "stdout",
     "output_type": "stream",
     "text": [
      "                   all        228       8684       0.89      0.839      0.904      0.648\n"
     ]
    },
    {
     "name": "stderr",
     "output_type": "stream",
     "text": [
      "\n"
     ]
    },
    {
     "name": "stdout",
     "output_type": "stream",
     "text": [
      "Closing dataloader mosaic\n",
      "\u001b[34m\u001b[1malbumentations: \u001b[0mBlur(p=0.01, blur_limit=(3, 7)), MedianBlur(p=0.01, blur_limit=(3, 7)), ToGray(p=0.01), CLAHE(p=0.01, clip_limit=(1, 4.0), tile_grid_size=(8, 8))\n",
      "\n",
      "      Epoch    GPU_mem   box_loss   cls_loss   dfl_loss  Instances       Size\n"
     ]
    },
    {
     "name": "stderr",
     "output_type": "stream",
     "text": [
      "     91/100      11.6G     0.8132       0.32       1.23         44       1920: 100%|██████████| 704/704 [03:17<00:00,  3.56it/s]\n",
      "                 Class     Images  Instances      Box(P          R      mAP50  mAP50-95): 100%|██████████| 57/57 [00:07<00:00,  7.50it/s]"
     ]
    },
    {
     "name": "stdout",
     "output_type": "stream",
     "text": [
      "                   all        228       8684      0.862      0.829      0.886      0.635\n"
     ]
    },
    {
     "name": "stderr",
     "output_type": "stream",
     "text": [
      "\n"
     ]
    },
    {
     "name": "stdout",
     "output_type": "stream",
     "text": [
      "\n",
      "      Epoch    GPU_mem   box_loss   cls_loss   dfl_loss  Instances       Size\n"
     ]
    },
    {
     "name": "stderr",
     "output_type": "stream",
     "text": [
      "     92/100      11.6G     0.8108     0.3179      1.225         25       1920: 100%|██████████| 704/704 [03:16<00:00,  3.58it/s]\n",
      "                 Class     Images  Instances      Box(P          R      mAP50  mAP50-95): 100%|██████████| 57/57 [00:07<00:00,  7.51it/s]"
     ]
    },
    {
     "name": "stdout",
     "output_type": "stream",
     "text": [
      "                   all        228       8684      0.875      0.807      0.875      0.629\n"
     ]
    },
    {
     "name": "stderr",
     "output_type": "stream",
     "text": [
      "\n"
     ]
    },
    {
     "name": "stdout",
     "output_type": "stream",
     "text": [
      "\n",
      "      Epoch    GPU_mem   box_loss   cls_loss   dfl_loss  Instances       Size\n"
     ]
    },
    {
     "name": "stderr",
     "output_type": "stream",
     "text": [
      "     93/100      11.7G     0.8038     0.3174      1.221         27       1920: 100%|██████████| 704/704 [03:16<00:00,  3.58it/s]\n",
      "                 Class     Images  Instances      Box(P          R      mAP50  mAP50-95): 100%|██████████| 57/57 [00:07<00:00,  7.53it/s]"
     ]
    },
    {
     "name": "stdout",
     "output_type": "stream",
     "text": [
      "                   all        228       8684      0.886      0.828      0.892      0.642\n"
     ]
    },
    {
     "name": "stderr",
     "output_type": "stream",
     "text": [
      "\n"
     ]
    },
    {
     "name": "stdout",
     "output_type": "stream",
     "text": [
      "\n",
      "      Epoch    GPU_mem   box_loss   cls_loss   dfl_loss  Instances       Size\n"
     ]
    },
    {
     "name": "stderr",
     "output_type": "stream",
     "text": [
      "     94/100      11.6G        0.8     0.3121      1.225         37       1920: 100%|██████████| 704/704 [03:16<00:00,  3.58it/s]\n",
      "                 Class     Images  Instances      Box(P          R      mAP50  mAP50-95): 100%|██████████| 57/57 [00:07<00:00,  7.49it/s]"
     ]
    },
    {
     "name": "stdout",
     "output_type": "stream",
     "text": [
      "                   all        228       8684      0.886      0.817      0.889      0.639\n"
     ]
    },
    {
     "name": "stderr",
     "output_type": "stream",
     "text": [
      "\n"
     ]
    },
    {
     "name": "stdout",
     "output_type": "stream",
     "text": [
      "\n",
      "      Epoch    GPU_mem   box_loss   cls_loss   dfl_loss  Instances       Size\n"
     ]
    },
    {
     "name": "stderr",
     "output_type": "stream",
     "text": [
      "     95/100      11.6G     0.7965      0.311      1.225         25       1920: 100%|██████████| 704/704 [03:16<00:00,  3.58it/s]\n",
      "                 Class     Images  Instances      Box(P          R      mAP50  mAP50-95): 100%|██████████| 57/57 [00:07<00:00,  7.50it/s]"
     ]
    },
    {
     "name": "stdout",
     "output_type": "stream",
     "text": [
      "                   all        228       8684      0.885      0.834      0.898      0.648\n"
     ]
    },
    {
     "name": "stderr",
     "output_type": "stream",
     "text": [
      "\n"
     ]
    },
    {
     "name": "stdout",
     "output_type": "stream",
     "text": [
      "\n",
      "      Epoch    GPU_mem   box_loss   cls_loss   dfl_loss  Instances       Size\n"
     ]
    },
    {
     "name": "stderr",
     "output_type": "stream",
     "text": [
      "     96/100      11.6G      0.796     0.3127      1.227         49       1920: 100%|██████████| 704/704 [03:16<00:00,  3.57it/s]\n",
      "                 Class     Images  Instances      Box(P          R      mAP50  mAP50-95): 100%|██████████| 57/57 [00:07<00:00,  7.57it/s]"
     ]
    },
    {
     "name": "stdout",
     "output_type": "stream",
     "text": [
      "                   all        228       8684      0.869      0.829       0.89       0.64\n"
     ]
    },
    {
     "name": "stderr",
     "output_type": "stream",
     "text": [
      "\n"
     ]
    },
    {
     "name": "stdout",
     "output_type": "stream",
     "text": [
      "\n",
      "      Epoch    GPU_mem   box_loss   cls_loss   dfl_loss  Instances       Size\n"
     ]
    },
    {
     "name": "stderr",
     "output_type": "stream",
     "text": [
      "     97/100      11.7G     0.7965     0.3115      1.224         64       1920: 100%|██████████| 704/704 [03:16<00:00,  3.58it/s]\n",
      "                 Class     Images  Instances      Box(P          R      mAP50  mAP50-95): 100%|██████████| 57/57 [00:07<00:00,  7.50it/s]"
     ]
    },
    {
     "name": "stdout",
     "output_type": "stream",
     "text": [
      "                   all        228       8684      0.873      0.828      0.895      0.645\n"
     ]
    },
    {
     "name": "stderr",
     "output_type": "stream",
     "text": [
      "\n"
     ]
    },
    {
     "name": "stdout",
     "output_type": "stream",
     "text": [
      "\n",
      "      Epoch    GPU_mem   box_loss   cls_loss   dfl_loss  Instances       Size\n"
     ]
    },
    {
     "name": "stderr",
     "output_type": "stream",
     "text": [
      "     98/100      11.6G     0.7976     0.3123      1.211         44       1920: 100%|██████████| 704/704 [03:16<00:00,  3.58it/s]\n",
      "                 Class     Images  Instances      Box(P          R      mAP50  mAP50-95): 100%|██████████| 57/57 [00:07<00:00,  7.51it/s]"
     ]
    },
    {
     "name": "stdout",
     "output_type": "stream",
     "text": [
      "                   all        228       8684      0.861      0.842      0.893      0.642\n"
     ]
    },
    {
     "name": "stderr",
     "output_type": "stream",
     "text": [
      "\n"
     ]
    },
    {
     "name": "stdout",
     "output_type": "stream",
     "text": [
      "\n",
      "      Epoch    GPU_mem   box_loss   cls_loss   dfl_loss  Instances       Size\n"
     ]
    },
    {
     "name": "stderr",
     "output_type": "stream",
     "text": [
      "     99/100      11.7G     0.7921     0.3071       1.21         66       1920: 100%|██████████| 704/704 [03:16<00:00,  3.58it/s]\n",
      "                 Class     Images  Instances      Box(P          R      mAP50  mAP50-95): 100%|██████████| 57/57 [00:07<00:00,  7.52it/s]"
     ]
    },
    {
     "name": "stdout",
     "output_type": "stream",
     "text": [
      "                   all        228       8684      0.867      0.828      0.888      0.637\n"
     ]
    },
    {
     "name": "stderr",
     "output_type": "stream",
     "text": [
      "\n"
     ]
    },
    {
     "name": "stdout",
     "output_type": "stream",
     "text": [
      "\n",
      "      Epoch    GPU_mem   box_loss   cls_loss   dfl_loss  Instances       Size\n"
     ]
    },
    {
     "name": "stderr",
     "output_type": "stream",
     "text": [
      "    100/100      11.6G     0.7895     0.3064      1.207         18       1920: 100%|██████████| 704/704 [03:16<00:00,  3.58it/s]\n",
      "                 Class     Images  Instances      Box(P          R      mAP50  mAP50-95): 100%|██████████| 57/57 [00:07<00:00,  7.50it/s]"
     ]
    },
    {
     "name": "stdout",
     "output_type": "stream",
     "text": [
      "                   all        228       8684      0.874      0.815      0.886      0.637\n"
     ]
    },
    {
     "name": "stderr",
     "output_type": "stream",
     "text": [
      "\n"
     ]
    },
    {
     "name": "stdout",
     "output_type": "stream",
     "text": [
      "\n",
      "100 epochs completed in 5.761 hours.\n",
      "Optimizer stripped from runs/detect/003_YoloV8Large_100Epochs_1920.ipynb/weights/last.pt, 87.9MB\n",
      "Optimizer stripped from runs/detect/003_YoloV8Large_100Epochs_1920.ipynb/weights/best.pt, 87.9MB\n",
      "\n",
      "Validating runs/detect/003_YoloV8Large_100Epochs_1920.ipynb/weights/best.pt...\n",
      "Ultralytics YOLOv8.2.9 🚀 Python-3.9.13 torch-1.12.0+cu113 CUDA:1 (NVIDIA GeForce RTX 3090, 24268MiB)\n",
      "Model summary (fused): 268 layers, 43607379 parameters, 0 gradients, 164.8 GFLOPs\n"
     ]
    },
    {
     "name": "stderr",
     "output_type": "stream",
     "text": [
      "                 Class     Images  Instances      Box(P          R      mAP50  mAP50-95): 100%|██████████| 57/57 [00:09<00:00,  5.97it/s]\n"
     ]
    },
    {
     "name": "stdout",
     "output_type": "stream",
     "text": [
      "                   all        228       8684      0.876      0.874      0.925      0.666\n",
      "Speed: 0.9ms preprocess, 29.3ms inference, 0.0ms loss, 1.3ms postprocess per image\n",
      "Results saved to \u001b[1mruns/detect/003_YoloV8Large_100Epochs_1920.ipynb\u001b[0m\n"
     ]
    }
   ],
   "source": [
    "# Train the model using the 'coco8.yaml' dataset for 3 epochs\n",
    "results = model.train(data='dataSet.yaml',\n",
    "                      epochs=100,\n",
    "                      imgsz=1920,\n",
    "                      plots = True,            \n",
    "                      name = name,\n",
    "                      batch=-1)"
   ]
  },
  {
   "cell_type": "code",
   "execution_count": 4,
   "metadata": {
    "colab": {
     "base_uri": "https://localhost:8080/"
    },
    "id": "SMv-eYYlch4b",
    "outputId": "019636a6-3c09-4d12-d0ac-ecdfc2b11a19"
   },
   "outputs": [
    {
     "name": "stdout",
     "output_type": "stream",
     "text": [
      "Ultralytics YOLOv8.2.9 🚀 Python-3.9.13 torch-1.12.0+cu113 CUDA:1 (NVIDIA GeForce RTX 3090, 24268MiB)\n",
      "Model summary (fused): 268 layers, 43607379 parameters, 0 gradients, 164.8 GFLOPs\n"
     ]
    },
    {
     "name": "stderr",
     "output_type": "stream",
     "text": [
      "\u001b[34m\u001b[1mval: \u001b[0mScanning /grupob/home/jodivaso/tfm_miguel/dataSet/labels/test.cache... 177 images, 0 backgrounds, 0 corrupt: 100%|██████████| 177/177 [00:00<?, ?it/s]\n",
      "                 Class     Images  Instances      Box(P          R      mAP50  mAP50-95): 100%|██████████| 89/89 [00:10<00:00,  8.53it/s]\n"
     ]
    },
    {
     "name": "stdout",
     "output_type": "stream",
     "text": [
      "                   all        177       2773      0.945      0.913       0.98      0.738\n",
      "Speed: 1.3ms preprocess, 48.2ms inference, 0.0ms loss, 1.7ms postprocess per image\n",
      "Results saved to \u001b[1mruns/detect/003_YoloV8Large_100Epochs_1920.ipynb2\u001b[0m\n"
     ]
    }
   ],
   "source": [
    "metrics = model.val(split = 'test', plots = True)"
   ]
  },
  {
   "cell_type": "code",
   "execution_count": 5,
   "metadata": {
    "colab": {
     "base_uri": "https://localhost:8080/"
    },
    "id": "7UHrNhTL3whW",
    "outputId": "05c35600-9e4f-473d-df4b-92247d0b8d73"
   },
   "outputs": [
    {
     "data": {
      "text/plain": [
       "{'metrics/precision(B)': 0.9451142254430147,\n",
       " 'metrics/recall(B)': 0.9128343641131269,\n",
       " 'metrics/mAP50(B)': 0.979578976328837,\n",
       " 'metrics/mAP50-95(B)': 0.7378899891465598,\n",
       " 'fitness': 0.7620588878647876}"
      ]
     },
     "execution_count": 5,
     "metadata": {},
     "output_type": "execute_result"
    }
   ],
   "source": [
    "metrics.results_dict"
   ]
  },
  {
   "cell_type": "code",
   "execution_count": 12,
   "metadata": {
    "colab": {
     "base_uri": "https://localhost:8080/"
    },
    "id": "GAYU2DrC3_T2",
    "outputId": "3da3c252-64c7-4073-f9ce-2c078588cf22"
   },
   "outputs": [
    {
     "name": "stdout",
     "output_type": "stream",
     "text": [
      "\u001b[31m\u001b[1mrequirements:\u001b[0m Ultralytics requirement ['lapx>=0.5.2'] not found, attempting AutoUpdate...\n",
      "Collecting lapx>=0.5.2\n",
      "  Downloading lapx-0.5.8-cp310-cp310-manylinux_2_5_x86_64.manylinux1_x86_64.manylinux_2_17_x86_64.manylinux2014_x86_64.whl (1.7 MB)\n",
      "     ━━━━━━━━━━━━━━━━━━━━━━━━━━━━━━━━━━━━━━━━ 1.7/1.7 MB 11.3 MB/s eta 0:00:00\n",
      "Requirement already satisfied: Cython>=0.29.32 in /usr/local/lib/python3.10/dist-packages (from lapx>=0.5.2) (3.0.10)\n",
      "Requirement already satisfied: numpy>=1.21.6 in /usr/local/lib/python3.10/dist-packages (from lapx>=0.5.2) (1.25.2)\n",
      "Installing collected packages: lapx\n",
      "Successfully installed lapx-0.5.8\n",
      "\n",
      "\u001b[31m\u001b[1mrequirements:\u001b[0m AutoUpdate success ✅ 5.4s, installed 1 package: ['lapx>=0.5.2']\n",
      "\u001b[31m\u001b[1mrequirements:\u001b[0m ⚠️ \u001b[1mRestart runtime or rerun command for updates to take effect\u001b[0m\n",
      "\n",
      "WARNING ⚠️ Environment does not support cv2.imshow() or PIL Image.show()\n",
      "\n",
      "\n",
      "\n",
      "WARNING ⚠️ inference results will accumulate in RAM unless `stream=True` is passed, causing potential out-of-memory\n",
      "errors for large sources or long-running streams and videos. See https://docs.ultralytics.com/modes/predict/ for help.\n",
      "\n",
      "Example:\n",
      "    results = model(source=..., stream=True)  # generator of Results objects\n",
      "    for r in results:\n",
      "        boxes = r.boxes  # Boxes object for bbox outputs\n",
      "        masks = r.masks  # Masks object for segment masks outputs\n",
      "        probs = r.probs  # Class probabilities for classification outputs\n",
      "\n",
      "video 1/1 (frame 1/60) /content/test.avi: 768x1216 3 Movils, 145.4ms\n",
      "video 1/1 (frame 2/60) /content/test.avi: 768x1216 3 Movils, 10.3ms\n",
      "video 1/1 (frame 3/60) /content/test.avi: 768x1216 4 Movils, 10.0ms\n",
      "video 1/1 (frame 4/60) /content/test.avi: 768x1216 4 Movils, 10.0ms\n",
      "video 1/1 (frame 5/60) /content/test.avi: 768x1216 4 Movils, 9.8ms\n",
      "video 1/1 (frame 6/60) /content/test.avi: 768x1216 4 Movils, 9.8ms\n",
      "video 1/1 (frame 7/60) /content/test.avi: 768x1216 4 Movils, 9.9ms\n",
      "video 1/1 (frame 8/60) /content/test.avi: 768x1216 4 Movils, 9.7ms\n",
      "video 1/1 (frame 9/60) /content/test.avi: 768x1216 4 Movils, 10.0ms\n",
      "video 1/1 (frame 10/60) /content/test.avi: 768x1216 4 Movils, 11.4ms\n",
      "video 1/1 (frame 11/60) /content/test.avi: 768x1216 4 Movils, 9.8ms\n",
      "video 1/1 (frame 12/60) /content/test.avi: 768x1216 4 Movils, 9.8ms\n",
      "video 1/1 (frame 13/60) /content/test.avi: 768x1216 4 Movils, 9.9ms\n",
      "video 1/1 (frame 14/60) /content/test.avi: 768x1216 4 Movils, 9.9ms\n",
      "video 1/1 (frame 15/60) /content/test.avi: 768x1216 4 Movils, 9.9ms\n",
      "video 1/1 (frame 16/60) /content/test.avi: 768x1216 4 Movils, 9.9ms\n",
      "video 1/1 (frame 17/60) /content/test.avi: 768x1216 4 Movils, 10.6ms\n",
      "video 1/1 (frame 18/60) /content/test.avi: 768x1216 4 Movils, 9.8ms\n",
      "video 1/1 (frame 19/60) /content/test.avi: 768x1216 4 Movils, 9.9ms\n",
      "video 1/1 (frame 20/60) /content/test.avi: 768x1216 4 Movils, 9.8ms\n",
      "video 1/1 (frame 21/60) /content/test.avi: 768x1216 4 Movils, 9.7ms\n",
      "video 1/1 (frame 22/60) /content/test.avi: 768x1216 4 Movils, 9.8ms\n",
      "video 1/1 (frame 23/60) /content/test.avi: 768x1216 4 Movils, 9.8ms\n",
      "video 1/1 (frame 24/60) /content/test.avi: 768x1216 4 Movils, 9.7ms\n",
      "video 1/1 (frame 25/60) /content/test.avi: 768x1216 4 Movils, 9.8ms\n",
      "video 1/1 (frame 26/60) /content/test.avi: 768x1216 4 Movils, 9.8ms\n",
      "video 1/1 (frame 27/60) /content/test.avi: 768x1216 4 Movils, 9.7ms\n",
      "video 1/1 (frame 28/60) /content/test.avi: 768x1216 4 Movils, 9.7ms\n",
      "video 1/1 (frame 29/60) /content/test.avi: 768x1216 4 Movils, 11.2ms\n",
      "video 1/1 (frame 30/60) /content/test.avi: 768x1216 4 Movils, 9.9ms\n",
      "video 1/1 (frame 31/60) /content/test.avi: 768x1216 4 Movils, 10.1ms\n",
      "video 1/1 (frame 32/60) /content/test.avi: 768x1216 4 Movils, 9.9ms\n",
      "video 1/1 (frame 33/60) /content/test.avi: 768x1216 4 Movils, 10.0ms\n",
      "video 1/1 (frame 34/60) /content/test.avi: 768x1216 4 Movils, 9.9ms\n",
      "video 1/1 (frame 35/60) /content/test.avi: 768x1216 4 Movils, 9.9ms\n",
      "video 1/1 (frame 36/60) /content/test.avi: 768x1216 4 Movils, 9.9ms\n",
      "video 1/1 (frame 37/60) /content/test.avi: 768x1216 4 Movils, 9.9ms\n",
      "video 1/1 (frame 38/60) /content/test.avi: 768x1216 4 Movils, 10.4ms\n",
      "video 1/1 (frame 39/60) /content/test.avi: 768x1216 4 Movils, 9.9ms\n",
      "video 1/1 (frame 40/60) /content/test.avi: 768x1216 4 Movils, 10.0ms\n",
      "video 1/1 (frame 41/60) /content/test.avi: 768x1216 4 Movils, 9.8ms\n",
      "video 1/1 (frame 42/60) /content/test.avi: 768x1216 4 Movils, 9.8ms\n",
      "video 1/1 (frame 43/60) /content/test.avi: 768x1216 4 Movils, 9.9ms\n",
      "video 1/1 (frame 44/60) /content/test.avi: 768x1216 4 Movils, 9.9ms\n",
      "video 1/1 (frame 45/60) /content/test.avi: 768x1216 4 Movils, 9.9ms\n",
      "video 1/1 (frame 46/60) /content/test.avi: 768x1216 4 Movils, 10.2ms\n",
      "video 1/1 (frame 47/60) /content/test.avi: 768x1216 4 Movils, 9.7ms\n",
      "video 1/1 (frame 48/60) /content/test.avi: 768x1216 4 Movils, 9.7ms\n",
      "video 1/1 (frame 49/60) /content/test.avi: 768x1216 4 Movils, 9.7ms\n",
      "video 1/1 (frame 50/60) /content/test.avi: 768x1216 4 Movils, 11.4ms\n",
      "video 1/1 (frame 51/60) /content/test.avi: 768x1216 4 Movils, 11.8ms\n",
      "video 1/1 (frame 52/60) /content/test.avi: 768x1216 4 Movils, 11.3ms\n",
      "video 1/1 (frame 53/60) /content/test.avi: 768x1216 4 Movils, 11.4ms\n",
      "video 1/1 (frame 54/60) /content/test.avi: 768x1216 4 Movils, 9.8ms\n",
      "video 1/1 (frame 55/60) /content/test.avi: 768x1216 4 Movils, 9.8ms\n",
      "video 1/1 (frame 56/60) /content/test.avi: 768x1216 4 Movils, 9.8ms\n",
      "video 1/1 (frame 57/60) /content/test.avi: 768x1216 4 Movils, 10.1ms\n",
      "video 1/1 (frame 58/60) /content/test.avi: 768x1216 4 Movils, 11.3ms\n",
      "video 1/1 (frame 59/60) /content/test.avi: 768x1216 4 Movils, 9.9ms\n",
      "Speed: 8.2ms preprocess, 12.4ms inference, 1.5ms postprocess per image at shape (1, 3, 768, 1216)\n"
     ]
    }
   ],
   "source": [
    "#model.predict(source = 'dataSet/images/test/image_0.jpg', save = True)\n",
    "results = model.track(source=\"test.avi\", show=True)"
   ]
  },
  {
   "cell_type": "code",
   "execution_count": 13,
   "metadata": {
    "colab": {
     "base_uri": "https://localhost:8080/"
    },
    "id": "w1_IjHAMyPqb",
    "outputId": "af52d5ec-8fe6-4f83-a983-2e451e972f07"
   },
   "outputs": [
    {
     "name": "stdout",
     "output_type": "stream",
     "text": [
      "\n",
      "\n",
      "WARNING ⚠️ inference results will accumulate in RAM unless `stream=True` is passed, causing potential out-of-memory\n",
      "errors for large sources or long-running streams and videos. See https://docs.ultralytics.com/modes/predict/ for help.\n",
      "\n",
      "Example:\n",
      "    results = model(source=..., stream=True)  # generator of Results objects\n",
      "    for r in results:\n",
      "        boxes = r.boxes  # Boxes object for bbox outputs\n",
      "        masks = r.masks  # Masks object for segment masks outputs\n",
      "        probs = r.probs  # Class probabilities for classification outputs\n",
      "\n",
      "video 1/1 (frame 1/60) /content/test.avi: 768x1216 3 Movils, 10.3ms\n",
      "video 1/1 (frame 2/60) /content/test.avi: 768x1216 3 Movils, 9.9ms\n",
      "video 1/1 (frame 3/60) /content/test.avi: 768x1216 4 Movils, 10.2ms\n",
      "video 1/1 (frame 4/60) /content/test.avi: 768x1216 4 Movils, 10.0ms\n",
      "video 1/1 (frame 5/60) /content/test.avi: 768x1216 4 Movils, 10.2ms\n",
      "video 1/1 (frame 6/60) /content/test.avi: 768x1216 4 Movils, 10.1ms\n",
      "video 1/1 (frame 7/60) /content/test.avi: 768x1216 4 Movils, 9.9ms\n",
      "video 1/1 (frame 8/60) /content/test.avi: 768x1216 4 Movils, 10.3ms\n",
      "video 1/1 (frame 9/60) /content/test.avi: 768x1216 4 Movils, 10.1ms\n",
      "video 1/1 (frame 10/60) /content/test.avi: 768x1216 4 Movils, 10.0ms\n",
      "video 1/1 (frame 11/60) /content/test.avi: 768x1216 4 Movils, 9.9ms\n",
      "video 1/1 (frame 12/60) /content/test.avi: 768x1216 4 Movils, 10.0ms\n",
      "video 1/1 (frame 13/60) /content/test.avi: 768x1216 4 Movils, 10.0ms\n",
      "video 1/1 (frame 14/60) /content/test.avi: 768x1216 4 Movils, 9.9ms\n",
      "video 1/1 (frame 15/60) /content/test.avi: 768x1216 4 Movils, 9.9ms\n",
      "video 1/1 (frame 16/60) /content/test.avi: 768x1216 4 Movils, 10.1ms\n",
      "video 1/1 (frame 17/60) /content/test.avi: 768x1216 4 Movils, 10.0ms\n",
      "video 1/1 (frame 18/60) /content/test.avi: 768x1216 4 Movils, 10.1ms\n",
      "video 1/1 (frame 19/60) /content/test.avi: 768x1216 4 Movils, 10.0ms\n",
      "video 1/1 (frame 20/60) /content/test.avi: 768x1216 4 Movils, 9.9ms\n",
      "video 1/1 (frame 21/60) /content/test.avi: 768x1216 4 Movils, 10.0ms\n",
      "video 1/1 (frame 22/60) /content/test.avi: 768x1216 4 Movils, 9.9ms\n",
      "video 1/1 (frame 23/60) /content/test.avi: 768x1216 4 Movils, 9.8ms\n",
      "video 1/1 (frame 24/60) /content/test.avi: 768x1216 4 Movils, 9.8ms\n",
      "video 1/1 (frame 25/60) /content/test.avi: 768x1216 4 Movils, 9.8ms\n",
      "video 1/1 (frame 26/60) /content/test.avi: 768x1216 4 Movils, 11.0ms\n",
      "video 1/1 (frame 27/60) /content/test.avi: 768x1216 4 Movils, 9.7ms\n",
      "video 1/1 (frame 28/60) /content/test.avi: 768x1216 4 Movils, 10.1ms\n",
      "video 1/1 (frame 29/60) /content/test.avi: 768x1216 4 Movils, 9.8ms\n",
      "video 1/1 (frame 30/60) /content/test.avi: 768x1216 4 Movils, 9.7ms\n",
      "video 1/1 (frame 31/60) /content/test.avi: 768x1216 4 Movils, 9.7ms\n",
      "video 1/1 (frame 32/60) /content/test.avi: 768x1216 4 Movils, 9.7ms\n",
      "video 1/1 (frame 33/60) /content/test.avi: 768x1216 4 Movils, 11.1ms\n",
      "video 1/1 (frame 34/60) /content/test.avi: 768x1216 4 Movils, 10.0ms\n",
      "video 1/1 (frame 35/60) /content/test.avi: 768x1216 4 Movils, 11.4ms\n",
      "video 1/1 (frame 36/60) /content/test.avi: 768x1216 4 Movils, 11.4ms\n",
      "video 1/1 (frame 37/60) /content/test.avi: 768x1216 4 Movils, 11.6ms\n",
      "video 1/1 (frame 38/60) /content/test.avi: 768x1216 4 Movils, 10.0ms\n",
      "video 1/1 (frame 39/60) /content/test.avi: 768x1216 4 Movils, 9.9ms\n",
      "video 1/1 (frame 40/60) /content/test.avi: 768x1216 4 Movils, 10.5ms\n",
      "video 1/1 (frame 41/60) /content/test.avi: 768x1216 4 Movils, 10.5ms\n",
      "video 1/1 (frame 42/60) /content/test.avi: 768x1216 4 Movils, 9.9ms\n",
      "video 1/1 (frame 43/60) /content/test.avi: 768x1216 4 Movils, 9.9ms\n",
      "video 1/1 (frame 44/60) /content/test.avi: 768x1216 4 Movils, 10.3ms\n",
      "video 1/1 (frame 45/60) /content/test.avi: 768x1216 4 Movils, 10.4ms\n",
      "video 1/1 (frame 46/60) /content/test.avi: 768x1216 4 Movils, 10.0ms\n",
      "video 1/1 (frame 47/60) /content/test.avi: 768x1216 4 Movils, 10.1ms\n",
      "video 1/1 (frame 48/60) /content/test.avi: 768x1216 4 Movils, 10.1ms\n",
      "video 1/1 (frame 49/60) /content/test.avi: 768x1216 4 Movils, 9.9ms\n",
      "video 1/1 (frame 50/60) /content/test.avi: 768x1216 4 Movils, 11.7ms\n",
      "video 1/1 (frame 51/60) /content/test.avi: 768x1216 4 Movils, 9.9ms\n",
      "video 1/1 (frame 52/60) /content/test.avi: 768x1216 4 Movils, 10.1ms\n",
      "video 1/1 (frame 53/60) /content/test.avi: 768x1216 4 Movils, 9.9ms\n",
      "video 1/1 (frame 54/60) /content/test.avi: 768x1216 4 Movils, 9.9ms\n",
      "video 1/1 (frame 55/60) /content/test.avi: 768x1216 4 Movils, 9.9ms\n",
      "video 1/1 (frame 56/60) /content/test.avi: 768x1216 4 Movils, 10.0ms\n",
      "video 1/1 (frame 57/60) /content/test.avi: 768x1216 4 Movils, 9.9ms\n",
      "video 1/1 (frame 58/60) /content/test.avi: 768x1216 4 Movils, 9.8ms\n",
      "video 1/1 (frame 59/60) /content/test.avi: 768x1216 4 Movils, 10.0ms\n",
      "Speed: 6.6ms preprocess, 10.1ms inference, 1.5ms postprocess per image at shape (1, 3, 768, 1216)\n",
      "Results saved to \u001b[1mruns/detect/train3\u001b[0m\n"
     ]
    }
   ],
   "source": [
    "%%capture\n",
    "results = model('test.avi', save=True)"
   ]
  },
  {
   "cell_type": "code",
   "execution_count": 14,
   "metadata": {
    "colab": {
     "base_uri": "https://localhost:8080/"
    },
    "id": "2uWs96_4LPKh",
    "outputId": "b24ac7c8-cf91-4f68-f836-146a65933119"
   },
   "outputs": [
    {
     "name": "stdout",
     "output_type": "stream",
     "text": [
      "\n",
      "\n",
      "WARNING ⚠️ inference results will accumulate in RAM unless `stream=True` is passed, causing potential out-of-memory\n",
      "errors for large sources or long-running streams and videos. See https://docs.ultralytics.com/modes/predict/ for help.\n",
      "\n",
      "Example:\n",
      "    results = model(source=..., stream=True)  # generator of Results objects\n",
      "    for r in results:\n",
      "        boxes = r.boxes  # Boxes object for bbox outputs\n",
      "        masks = r.masks  # Masks object for segment masks outputs\n",
      "        probs = r.probs  # Class probabilities for classification outputs\n",
      "\n",
      "video 1/1 (frame 1/60) /content/Suppl_1.avi: 768x1216 31 Movils, 10.4ms\n",
      "video 1/1 (frame 2/60) /content/Suppl_1.avi: 768x1216 31 Movils, 10.3ms\n",
      "video 1/1 (frame 3/60) /content/Suppl_1.avi: 768x1216 31 Movils, 10.2ms\n",
      "video 1/1 (frame 4/60) /content/Suppl_1.avi: 768x1216 31 Movils, 10.1ms\n",
      "video 1/1 (frame 5/60) /content/Suppl_1.avi: 768x1216 31 Movils, 10.1ms\n",
      "video 1/1 (frame 6/60) /content/Suppl_1.avi: 768x1216 31 Movils, 9.9ms\n",
      "video 1/1 (frame 7/60) /content/Suppl_1.avi: 768x1216 31 Movils, 10.9ms\n",
      "video 1/1 (frame 8/60) /content/Suppl_1.avi: 768x1216 31 Movils, 10.2ms\n",
      "video 1/1 (frame 9/60) /content/Suppl_1.avi: 768x1216 31 Movils, 10.0ms\n",
      "video 1/1 (frame 10/60) /content/Suppl_1.avi: 768x1216 31 Movils, 10.0ms\n",
      "video 1/1 (frame 11/60) /content/Suppl_1.avi: 768x1216 31 Movils, 9.9ms\n",
      "video 1/1 (frame 12/60) /content/Suppl_1.avi: 768x1216 31 Movils, 9.9ms\n",
      "video 1/1 (frame 13/60) /content/Suppl_1.avi: 768x1216 31 Movils, 9.8ms\n",
      "video 1/1 (frame 14/60) /content/Suppl_1.avi: 768x1216 31 Movils, 9.9ms\n",
      "video 1/1 (frame 15/60) /content/Suppl_1.avi: 768x1216 31 Movils, 9.9ms\n",
      "video 1/1 (frame 16/60) /content/Suppl_1.avi: 768x1216 31 Movils, 9.9ms\n",
      "video 1/1 (frame 17/60) /content/Suppl_1.avi: 768x1216 31 Movils, 9.9ms\n",
      "video 1/1 (frame 18/60) /content/Suppl_1.avi: 768x1216 31 Movils, 9.8ms\n",
      "video 1/1 (frame 19/60) /content/Suppl_1.avi: 768x1216 31 Movils, 10.3ms\n",
      "video 1/1 (frame 20/60) /content/Suppl_1.avi: 768x1216 31 Movils, 9.9ms\n",
      "video 1/1 (frame 21/60) /content/Suppl_1.avi: 768x1216 31 Movils, 9.8ms\n",
      "video 1/1 (frame 22/60) /content/Suppl_1.avi: 768x1216 31 Movils, 10.1ms\n",
      "video 1/1 (frame 23/60) /content/Suppl_1.avi: 768x1216 31 Movils, 9.7ms\n",
      "video 1/1 (frame 24/60) /content/Suppl_1.avi: 768x1216 31 Movils, 11.5ms\n",
      "video 1/1 (frame 25/60) /content/Suppl_1.avi: 768x1216 31 Movils, 11.6ms\n",
      "video 1/1 (frame 26/60) /content/Suppl_1.avi: 768x1216 31 Movils, 10.0ms\n",
      "video 1/1 (frame 27/60) /content/Suppl_1.avi: 768x1216 31 Movils, 9.9ms\n",
      "video 1/1 (frame 28/60) /content/Suppl_1.avi: 768x1216 31 Movils, 9.9ms\n",
      "video 1/1 (frame 29/60) /content/Suppl_1.avi: 768x1216 31 Movils, 10.0ms\n",
      "video 1/1 (frame 30/60) /content/Suppl_1.avi: 768x1216 31 Movils, 9.9ms\n",
      "video 1/1 (frame 31/60) /content/Suppl_1.avi: 768x1216 31 Movils, 9.8ms\n",
      "video 1/1 (frame 32/60) /content/Suppl_1.avi: 768x1216 32 Movils, 9.8ms\n",
      "video 1/1 (frame 33/60) /content/Suppl_1.avi: 768x1216 32 Movils, 10.0ms\n",
      "video 1/1 (frame 34/60) /content/Suppl_1.avi: 768x1216 32 Movils, 10.1ms\n",
      "video 1/1 (frame 35/60) /content/Suppl_1.avi: 768x1216 32 Movils, 10.0ms\n",
      "video 1/1 (frame 36/60) /content/Suppl_1.avi: 768x1216 32 Movils, 10.0ms\n",
      "video 1/1 (frame 37/60) /content/Suppl_1.avi: 768x1216 32 Movils, 10.6ms\n",
      "video 1/1 (frame 38/60) /content/Suppl_1.avi: 768x1216 32 Movils, 9.9ms\n",
      "video 1/1 (frame 39/60) /content/Suppl_1.avi: 768x1216 32 Movils, 10.9ms\n",
      "video 1/1 (frame 40/60) /content/Suppl_1.avi: 768x1216 32 Movils, 10.2ms\n",
      "video 1/1 (frame 41/60) /content/Suppl_1.avi: 768x1216 32 Movils, 9.8ms\n",
      "video 1/1 (frame 42/60) /content/Suppl_1.avi: 768x1216 32 Movils, 10.0ms\n",
      "video 1/1 (frame 43/60) /content/Suppl_1.avi: 768x1216 32 Movils, 9.8ms\n",
      "video 1/1 (frame 44/60) /content/Suppl_1.avi: 768x1216 32 Movils, 11.2ms\n",
      "video 1/1 (frame 45/60) /content/Suppl_1.avi: 768x1216 32 Movils, 11.2ms\n",
      "video 1/1 (frame 46/60) /content/Suppl_1.avi: 768x1216 32 Movils, 11.5ms\n",
      "video 1/1 (frame 47/60) /content/Suppl_1.avi: 768x1216 32 Movils, 11.5ms\n",
      "video 1/1 (frame 48/60) /content/Suppl_1.avi: 768x1216 32 Movils, 9.9ms\n",
      "video 1/1 (frame 49/60) /content/Suppl_1.avi: 768x1216 32 Movils, 10.0ms\n",
      "video 1/1 (frame 50/60) /content/Suppl_1.avi: 768x1216 32 Movils, 10.3ms\n",
      "video 1/1 (frame 51/60) /content/Suppl_1.avi: 768x1216 32 Movils, 10.1ms\n",
      "video 1/1 (frame 52/60) /content/Suppl_1.avi: 768x1216 32 Movils, 10.1ms\n",
      "video 1/1 (frame 53/60) /content/Suppl_1.avi: 768x1216 33 Movils, 10.0ms\n",
      "video 1/1 (frame 54/60) /content/Suppl_1.avi: 768x1216 33 Movils, 9.9ms\n",
      "video 1/1 (frame 55/60) /content/Suppl_1.avi: 768x1216 33 Movils, 10.1ms\n",
      "video 1/1 (frame 56/60) /content/Suppl_1.avi: 768x1216 33 Movils, 10.2ms\n",
      "video 1/1 (frame 57/60) /content/Suppl_1.avi: 768x1216 33 Movils, 10.0ms\n",
      "video 1/1 (frame 58/60) /content/Suppl_1.avi: 768x1216 33 Movils, 10.0ms\n",
      "video 1/1 (frame 59/60) /content/Suppl_1.avi: 768x1216 33 Movils, 10.1ms\n",
      "Speed: 6.6ms preprocess, 10.2ms inference, 1.6ms postprocess per image at shape (1, 3, 768, 1216)\n",
      "Results saved to \u001b[1mruns/detect/train4\u001b[0m\n"
     ]
    }
   ],
   "source": [
    "%%capture\n",
    "results = model('Suppl_1.avi', save=True)"
   ]
  },
  {
   "cell_type": "code",
   "execution_count": 15,
   "metadata": {
    "colab": {
     "base_uri": "https://localhost:8080/",
     "height": 264
    },
    "id": "2P6qyvvS9CAl",
    "outputId": "167c2a9d-d14a-4fc6-80da-08770ba2e811"
   },
   "outputs": [
    {
     "name": "stdout",
     "output_type": "stream",
     "text": [
      "Ultralytics YOLOv8.2.5 🚀 Python-3.10.12 torch-2.2.1+cu121 CPU (Intel Xeon 2.20GHz)\n",
      "\n",
      "\u001b[34m\u001b[1mPyTorch:\u001b[0m starting from 'runs/detect/train/weights/best.pt' with input shape (1, 3, 1216, 1216) BCHW and output shape(s) (1, 5, 30324) (21.5 MB)\n",
      "\n",
      "\u001b[34m\u001b[1mTorchScript:\u001b[0m starting export with torch 2.2.1+cu121...\n",
      "\u001b[34m\u001b[1mTorchScript:\u001b[0m export success ✅ 3.1s, saved as 'runs/detect/train/weights/best.torchscript' (43.1 MB)\n",
      "\n",
      "Export complete (4.9s)\n",
      "Results saved to \u001b[1m/content/runs/detect/train/weights\u001b[0m\n",
      "Predict:         yolo predict task=detect model=runs/detect/train/weights/best.torchscript imgsz=1216  \n",
      "Validate:        yolo val task=detect model=runs/detect/train/weights/best.torchscript imgsz=1216 data=dataSet.yaml  \n",
      "Visualize:       https://netron.app\n"
     ]
    },
    {
     "data": {
      "application/vnd.google.colaboratory.intrinsic+json": {
       "type": "string"
      },
      "text/plain": [
       "'runs/detect/train/weights/best.torchscript'"
      ]
     },
     "execution_count": 15,
     "metadata": {},
     "output_type": "execute_result"
    }
   ],
   "source": [
    "# Export the model\n",
    "model.export()"
   ]
  },
  {
   "cell_type": "code",
   "execution_count": 16,
   "metadata": {
    "id": "eWc1MUpDJPBS"
   },
   "outputs": [],
   "source": [
    "import shutil\n",
    "archivo = shutil.make_archive('ModelInformation', 'zip','/content/runs')"
   ]
  }
 ],
 "metadata": {
  "accelerator": "GPU",
  "colab": {
   "authorship_tag": "ABX9TyMYPVkntz51C/lsU4zhak7F",
   "gpuType": "L4",
   "include_colab_link": true,
   "machine_shape": "hm",
   "provenance": []
  },
  "kernelspec": {
   "display_name": "Python [conda env:.conda-AutoGluonGPU]",
   "language": "python",
   "name": "conda-env-.conda-AutoGluonGPU-py"
  },
  "language_info": {
   "codemirror_mode": {
    "name": "ipython",
    "version": 3
   },
   "file_extension": ".py",
   "mimetype": "text/x-python",
   "name": "python",
   "nbconvert_exporter": "python",
   "pygments_lexer": "ipython3",
   "version": "3.9.13"
  }
 },
 "nbformat": 4,
 "nbformat_minor": 4
}
