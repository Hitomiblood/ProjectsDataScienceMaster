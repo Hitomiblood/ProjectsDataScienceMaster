{
 "cells": [
  {
   "cell_type": "markdown",
   "metadata": {
    "colab_type": "text",
    "id": "view-in-github"
   },
   "source": [
    "<a href=\"https://colab.research.google.com/github/Hitomiblood/ProjectsDataScienceMaster/blob/main/Proyecto_TFM/TestingModelos/YoloV8Small_100Epochs.ipynb\" target=\"_parent\"><img src=\"https://colab.research.google.com/assets/colab-badge.svg\" alt=\"Open In Colab\"/></a>"
   ]
  },
  {
   "cell_type": "markdown",
   "metadata": {
    "id": "-xvSbyMnbedE"
   },
   "source": [
    "# Modelo de detección de espermatozoides usando YoloV8 Small"
   ]
  },
  {
   "cell_type": "markdown",
   "metadata": {
    "id": "k_vcIT-ktXpv"
   },
   "source": [
    "Se realiza la instalación de las librerías necesarias para el procedimiento:"
   ]
  },
  {
   "cell_type": "markdown",
   "metadata": {
    "id": "SSM8V8NocT2b"
   },
   "source": [
    "Cargamos un modelo preentrenado. En este caso usaremos el modelo Small de Yolo para ver el comportamiento en el proceso de entrenamiento y posteriormente aumentar el tamaño del modelo a entrenar."
   ]
  },
  {
   "cell_type": "code",
   "execution_count": 1,
   "metadata": {
    "colab": {
     "base_uri": "https://localhost:8080/"
    },
    "id": "YWqxKLAZcGxV",
    "outputId": "1cf206e0-df84-4e95-d326-3b8ef6a2c78e"
   },
   "outputs": [
    {
     "name": "stdout",
     "output_type": "stream",
     "text": [
      "Downloading https://github.com/ultralytics/assets/releases/download/v8.2.0/yolov8x.pt to 'yolov8x.pt'...\n"
     ]
    },
    {
     "data": {
      "application/vnd.jupyter.widget-view+json": {
       "model_id": "88966380e3af45fa8dc134bdf5029bd4",
       "version_major": 2,
       "version_minor": 0
      },
      "text/plain": [
       "  0%|          | 0.00/131M [00:00<?, ?B/s]"
      ]
     },
     "metadata": {},
     "output_type": "display_data"
    }
   ],
   "source": [
    "from ultralytics import YOLO\n",
    "import cv2 as cv2\n",
    "from PIL import Image\n",
    "\n",
    "# Load a pretrained YOLO model (recommended for training)\n",
    "model = YOLO('yolov8x.pt')\n",
    "name = \"002_YoloV8ExtraLarge_100Epochs_1920\""
   ]
  },
  {
   "cell_type": "code",
   "execution_count": 2,
   "metadata": {
    "id": "FjaiEBRV1k4v"
   },
   "outputs": [],
   "source": [
    "import os\n",
    "\n",
    "# Función para corregir las anotaciones\n",
    "def fix_annotations(annotation_folder):\n",
    "    for root, dirs, files in os.walk(annotation_folder):\n",
    "        for file in files:\n",
    "            if file.endswith(\".txt\"):\n",
    "                file_path = os.path.join(root, file)\n",
    "                fix_annotation_file(file_path)\n",
    "\n",
    "# Función para corregir un archivo de anotación específico\n",
    "def fix_annotation_file(file_path):\n",
    "    with open(file_path, \"r+\") as file:\n",
    "        lines = file.readlines()\n",
    "        file.seek(0)\n",
    "        for line in lines:\n",
    "            parts = line.strip().split()\n",
    "            if len(parts) > 5:\n",
    "                parts = parts[:5]  # Mantener solo las primeras 5 columnas\n",
    "            fixed_line = \" \".join(parts) + \"\\n\"\n",
    "            file.write(fixed_line)\n",
    "        file.truncate()\n",
    "\n",
    "# Directorio donde se encuentran los archivos de anotaciones\n",
    "annotation_folder = \"dataSet/labels/val\"\n",
    "\n",
    "# Corregir las anotaciones\n",
    "fix_annotations(annotation_folder)\n",
    "\n",
    "# Directorio donde se encuentran los archivos de anotaciones\n",
    "annotation_folder = \"dataSet/labels/test\"\n",
    "\n",
    "# Corregir las anotaciones\n",
    "fix_annotations(annotation_folder)\n",
    "# Directorio donde se encuentran los archivos de anotaciones\n",
    "annotation_folder = \"dataSet/labels/train\"\n",
    "\n",
    "# Corregir las anotaciones\n",
    "fix_annotations(annotation_folder)\n"
   ]
  },
  {
   "cell_type": "code",
   "execution_count": 3,
   "metadata": {
    "colab": {
     "base_uri": "https://localhost:8080/"
    },
    "id": "eOfRR4UBcWf-",
    "outputId": "0ffc156f-d0de-4ced-f59a-6d2bf450e201"
   },
   "outputs": [
    {
     "name": "stdout",
     "output_type": "stream",
     "text": [
      "Ultralytics YOLOv8.2.9 🚀 Python-3.9.13 torch-1.12.0+cu113 CUDA:0 (NVIDIA GeForce RTX 3090, 24268MiB)\n",
      "WARNING ⚠️ Upgrade to torch>=2.0.0 for deterministic training.\n",
      "\u001b[34m\u001b[1mengine/trainer: \u001b[0mtask=detect, mode=train, model=yolov8x.pt, data=dataSet.yaml, epochs=100, time=None, patience=100, batch=-1, imgsz=1920, save=True, save_period=-1, cache=False, device=None, workers=8, project=None, name=002_YoloV8ExtraLarge_100Epochs_1920, exist_ok=False, pretrained=True, optimizer=auto, verbose=True, seed=0, deterministic=True, single_cls=False, rect=False, cos_lr=False, close_mosaic=10, resume=False, amp=True, fraction=1.0, profile=False, freeze=None, multi_scale=False, overlap_mask=True, mask_ratio=4, dropout=0.0, val=True, split=val, save_json=False, save_hybrid=False, conf=None, iou=0.7, max_det=300, half=False, dnn=False, plots=True, source=None, vid_stride=1, stream_buffer=False, visualize=False, augment=False, agnostic_nms=False, classes=None, retina_masks=False, embed=None, show=False, save_frames=False, save_txt=False, save_conf=False, save_crop=False, show_labels=True, show_conf=True, show_boxes=True, line_width=None, format=torchscript, keras=False, optimize=False, int8=False, dynamic=False, simplify=False, opset=None, workspace=4, nms=False, lr0=0.01, lrf=0.01, momentum=0.937, weight_decay=0.0005, warmup_epochs=3.0, warmup_momentum=0.8, warmup_bias_lr=0.1, box=7.5, cls=0.5, dfl=1.5, pose=12.0, kobj=1.0, label_smoothing=0.0, nbs=64, hsv_h=0.015, hsv_s=0.7, hsv_v=0.4, degrees=0.0, translate=0.1, scale=0.5, shear=0.0, perspective=0.0, flipud=0.0, fliplr=0.5, bgr=0.0, mosaic=1.0, mixup=0.0, copy_paste=0.0, auto_augment=randaugment, erasing=0.4, crop_fraction=1.0, cfg=None, tracker=botsort.yaml, save_dir=runs/detect/002_YoloV8ExtraLarge_100Epochs_1920\n",
      "Overriding model.yaml nc=80 with nc=1\n",
      "\n",
      "                   from  n    params  module                                       arguments                     \n",
      "  0                  -1  1      2320  ultralytics.nn.modules.conv.Conv             [3, 80, 3, 2]                 \n",
      "  1                  -1  1    115520  ultralytics.nn.modules.conv.Conv             [80, 160, 3, 2]               \n",
      "  2                  -1  3    436800  ultralytics.nn.modules.block.C2f             [160, 160, 3, True]           \n",
      "  3                  -1  1    461440  ultralytics.nn.modules.conv.Conv             [160, 320, 3, 2]              \n",
      "  4                  -1  6   3281920  ultralytics.nn.modules.block.C2f             [320, 320, 6, True]           \n",
      "  5                  -1  1   1844480  ultralytics.nn.modules.conv.Conv             [320, 640, 3, 2]              \n",
      "  6                  -1  6  13117440  ultralytics.nn.modules.block.C2f             [640, 640, 6, True]           \n",
      "  7                  -1  1   3687680  ultralytics.nn.modules.conv.Conv             [640, 640, 3, 2]              \n",
      "  8                  -1  3   6969600  ultralytics.nn.modules.block.C2f             [640, 640, 3, True]           \n",
      "  9                  -1  1   1025920  ultralytics.nn.modules.block.SPPF            [640, 640, 5]                 \n",
      " 10                  -1  1         0  torch.nn.modules.upsampling.Upsample         [None, 2, 'nearest']          \n",
      " 11             [-1, 6]  1         0  ultralytics.nn.modules.conv.Concat           [1]                           \n",
      " 12                  -1  3   7379200  ultralytics.nn.modules.block.C2f             [1280, 640, 3]                \n",
      " 13                  -1  1         0  torch.nn.modules.upsampling.Upsample         [None, 2, 'nearest']          \n",
      " 14             [-1, 4]  1         0  ultralytics.nn.modules.conv.Concat           [1]                           \n",
      " 15                  -1  3   1948800  ultralytics.nn.modules.block.C2f             [960, 320, 3]                 \n",
      " 16                  -1  1    922240  ultralytics.nn.modules.conv.Conv             [320, 320, 3, 2]              \n",
      " 17            [-1, 12]  1         0  ultralytics.nn.modules.conv.Concat           [1]                           \n",
      " 18                  -1  3   7174400  ultralytics.nn.modules.block.C2f             [960, 640, 3]                 \n",
      " 19                  -1  1   3687680  ultralytics.nn.modules.conv.Conv             [640, 640, 3, 2]              \n",
      " 20             [-1, 9]  1         0  ultralytics.nn.modules.conv.Concat           [1]                           \n",
      " 21                  -1  3   7379200  ultralytics.nn.modules.block.C2f             [1280, 640, 3]                \n",
      " 22        [15, 18, 21]  1   8718931  ultralytics.nn.modules.head.Detect           [1, [320, 640, 640]]          \n",
      "Model summary: 365 layers, 68153571 parameters, 68153555 gradients, 258.1 GFLOPs\n",
      "\n",
      "Transferred 589/595 items from pretrained weights\n",
      "\u001b[34m\u001b[1mTensorBoard: \u001b[0mStart with 'tensorboard --logdir runs/detect/002_YoloV8ExtraLarge_100Epochs_1920', view at http://localhost:6006/\n",
      "Freezing layer 'model.22.dfl.conv.weight'\n",
      "\u001b[34m\u001b[1mAMP: \u001b[0mrunning Automatic Mixed Precision (AMP) checks with YOLOv8n...\n",
      "\u001b[34m\u001b[1mAMP: \u001b[0mchecks passed ✅\n",
      "\u001b[34m\u001b[1mAutoBatch: \u001b[0mComputing optimal batch size for imgsz=1920\n",
      "\u001b[34m\u001b[1mAutoBatch: \u001b[0mCUDA:0 (NVIDIA GeForce RTX 3090) 23.70G total, 0.55G reserved, 0.53G allocated, 22.62G free\n",
      "      Params      GFLOPs  GPU_mem (GB)  forward (ms) backward (ms)                   input                  output\n",
      "    68153571        2323         6.646         86.67          80.3      (1, 3, 1920, 1920)                    list\n",
      "    68153571        4646        12.713         132.7         148.4      (2, 3, 1920, 1920)                    list\n",
      "CUDA out of memory. Tried to allocate 142.00 MiB (GPU 0; 23.70 GiB total capacity; 21.68 GiB already allocated; 40.56 MiB free; 21.95 GiB reserved in total by PyTorch) If reserved memory is >> allocated memory try setting max_split_size_mb to avoid fragmentation.  See documentation for Memory Management and PYTORCH_CUDA_ALLOC_CONF\n",
      "CUDA out of memory. Tried to allocate 142.00 MiB (GPU 0; 23.70 GiB total capacity; 21.51 GiB already allocated; 42.56 MiB free; 21.95 GiB reserved in total by PyTorch) If reserved memory is >> allocated memory try setting max_split_size_mb to avoid fragmentation.  See documentation for Memory Management and PYTORCH_CUDA_ALLOC_CONF\n",
      "CUDA out of memory. Tried to allocate 564.00 MiB (GPU 0; 23.70 GiB total capacity; 21.20 GiB already allocated; 384.56 MiB free; 21.61 GiB reserved in total by PyTorch) If reserved memory is >> allocated memory try setting max_split_size_mb to avoid fragmentation.  See documentation for Memory Management and PYTORCH_CUDA_ALLOC_CONF\n",
      "\u001b[34m\u001b[1mAutoBatch: \u001b[0mUsing batch-size 2 for CUDA:0 13.79G/23.70G (58%) ✅\n"
     ]
    },
    {
     "name": "stderr",
     "output_type": "stream",
     "text": [
      "\u001b[34m\u001b[1mtrain: \u001b[0mScanning /grupob/home/jodivaso/tfm_miguel/dataSet/labels/train.cache... 1408 images, 0 backgrounds, 0 corrupt: 100%|██████████| 1408/1408 [00:00<?, ?it/s]\n"
     ]
    },
    {
     "name": "stdout",
     "output_type": "stream",
     "text": [
      "\u001b[34m\u001b[1malbumentations: \u001b[0mBlur(p=0.01, blur_limit=(3, 7)), MedianBlur(p=0.01, blur_limit=(3, 7)), ToGray(p=0.01), CLAHE(p=0.01, clip_limit=(1, 4.0), tile_grid_size=(8, 8))\n"
     ]
    },
    {
     "name": "stderr",
     "output_type": "stream",
     "text": [
      "\u001b[34m\u001b[1mval: \u001b[0mScanning /grupob/home/jodivaso/tfm_miguel/dataSet/labels/val.cache... 228 images, 0 backgrounds, 0 corrupt: 100%|██████████| 228/228 [00:00<?, ?it/s]\n"
     ]
    },
    {
     "name": "stdout",
     "output_type": "stream",
     "text": [
      "Plotting labels to runs/detect/002_YoloV8ExtraLarge_100Epochs_1920/labels.jpg... \n",
      "\u001b[34m\u001b[1moptimizer:\u001b[0m 'optimizer=auto' found, ignoring 'lr0=0.01' and 'momentum=0.937' and determining best 'optimizer', 'lr0' and 'momentum' automatically... \n",
      "\u001b[34m\u001b[1moptimizer:\u001b[0m AdamW(lr=0.002, momentum=0.9) with parameter groups 97 weight(decay=0.0), 104 weight(decay=0.0005), 103 bias(decay=0.0)\n",
      "\u001b[34m\u001b[1mTensorBoard: \u001b[0mmodel graph visualization added ✅\n",
      "Image sizes 1920 train, 1920 val\n",
      "Using 8 dataloader workers\n",
      "Logging results to \u001b[1mruns/detect/002_YoloV8ExtraLarge_100Epochs_1920\u001b[0m\n",
      "Starting training for 100 epochs...\n",
      "\n",
      "      Epoch    GPU_mem   box_loss   cls_loss   dfl_loss  Instances       Size\n"
     ]
    },
    {
     "name": "stderr",
     "output_type": "stream",
     "text": [
      "      1/100      15.2G      1.159     0.8972      1.433        157       1920: 100%|██████████| 704/704 [05:47<00:00,  2.03it/s]\n",
      "                 Class     Images  Instances      Box(P          R      mAP50  mAP50-95): 100%|██████████| 57/57 [00:10<00:00,  5.40it/s]\n"
     ]
    },
    {
     "name": "stdout",
     "output_type": "stream",
     "text": [
      "                   all        228       8684      0.829      0.871      0.899      0.571\n",
      "\n",
      "      Epoch    GPU_mem   box_loss   cls_loss   dfl_loss  Instances       Size\n"
     ]
    },
    {
     "name": "stderr",
     "output_type": "stream",
     "text": [
      "      2/100      14.4G      1.148     0.7665      1.486         89       1920: 100%|██████████| 704/704 [05:40<00:00,  2.07it/s]\n",
      "                 Class     Images  Instances      Box(P          R      mAP50  mAP50-95): 100%|██████████| 57/57 [00:10<00:00,  5.42it/s]\n"
     ]
    },
    {
     "name": "stdout",
     "output_type": "stream",
     "text": [
      "                   all        228       8684      0.841      0.895      0.932      0.616\n",
      "\n",
      "      Epoch    GPU_mem   box_loss   cls_loss   dfl_loss  Instances       Size\n"
     ]
    },
    {
     "name": "stderr",
     "output_type": "stream",
     "text": [
      "      3/100      14.3G      1.124     0.7037      1.484         97       1920: 100%|██████████| 704/704 [05:39<00:00,  2.07it/s]\n",
      "                 Class     Images  Instances      Box(P          R      mAP50  mAP50-95): 100%|██████████| 57/57 [00:10<00:00,  5.43it/s]"
     ]
    },
    {
     "name": "stdout",
     "output_type": "stream",
     "text": [
      "                   all        228       8684      0.863      0.903      0.951      0.634\n"
     ]
    },
    {
     "name": "stderr",
     "output_type": "stream",
     "text": [
      "\n"
     ]
    },
    {
     "name": "stdout",
     "output_type": "stream",
     "text": [
      "\n",
      "      Epoch    GPU_mem   box_loss   cls_loss   dfl_loss  Instances       Size\n"
     ]
    },
    {
     "name": "stderr",
     "output_type": "stream",
     "text": [
      "      4/100      14.4G      1.098     0.6621      1.461        147       1920: 100%|██████████| 704/704 [05:39<00:00,  2.08it/s]\n",
      "                 Class     Images  Instances      Box(P          R      mAP50  mAP50-95): 100%|██████████| 57/57 [00:10<00:00,  5.42it/s]\n"
     ]
    },
    {
     "name": "stdout",
     "output_type": "stream",
     "text": [
      "                   all        228       8684      0.845      0.872      0.933      0.607\n",
      "\n",
      "      Epoch    GPU_mem   box_loss   cls_loss   dfl_loss  Instances       Size\n"
     ]
    },
    {
     "name": "stderr",
     "output_type": "stream",
     "text": [
      "      5/100      14.5G      1.078     0.6178      1.452        131       1920: 100%|██████████| 704/704 [05:38<00:00,  2.08it/s]\n",
      "                 Class     Images  Instances      Box(P          R      mAP50  mAP50-95): 100%|██████████| 57/57 [00:10<00:00,  5.46it/s]\n"
     ]
    },
    {
     "name": "stdout",
     "output_type": "stream",
     "text": [
      "                   all        228       8684      0.891      0.854      0.948      0.633\n",
      "\n",
      "      Epoch    GPU_mem   box_loss   cls_loss   dfl_loss  Instances       Size\n"
     ]
    },
    {
     "name": "stderr",
     "output_type": "stream",
     "text": [
      "      6/100      14.4G       1.05     0.5642       1.43         63       1920: 100%|██████████| 704/704 [05:38<00:00,  2.08it/s]\n",
      "                 Class     Images  Instances      Box(P          R      mAP50  mAP50-95): 100%|██████████| 57/57 [00:10<00:00,  5.47it/s]"
     ]
    },
    {
     "name": "stdout",
     "output_type": "stream",
     "text": [
      "                   all        228       8684      0.831      0.822        0.9       0.56\n"
     ]
    },
    {
     "name": "stderr",
     "output_type": "stream",
     "text": [
      "\n"
     ]
    },
    {
     "name": "stdout",
     "output_type": "stream",
     "text": [
      "\n",
      "      Epoch    GPU_mem   box_loss   cls_loss   dfl_loss  Instances       Size\n"
     ]
    },
    {
     "name": "stderr",
     "output_type": "stream",
     "text": [
      "      7/100      14.6G      1.035     0.5446      1.419         67       1920: 100%|██████████| 704/704 [05:38<00:00,  2.08it/s]\n",
      "                 Class     Images  Instances      Box(P          R      mAP50  mAP50-95): 100%|██████████| 57/57 [00:10<00:00,  5.39it/s]\n"
     ]
    },
    {
     "name": "stdout",
     "output_type": "stream",
     "text": [
      "                   all        228       8684      0.874       0.91      0.953      0.663\n",
      "\n",
      "      Epoch    GPU_mem   box_loss   cls_loss   dfl_loss  Instances       Size\n"
     ]
    },
    {
     "name": "stderr",
     "output_type": "stream",
     "text": [
      "      8/100      14.4G      1.027      0.512      1.414         60       1920: 100%|██████████| 704/704 [05:38<00:00,  2.08it/s]\n",
      "                 Class     Images  Instances      Box(P          R      mAP50  mAP50-95): 100%|██████████| 57/57 [00:10<00:00,  5.45it/s]"
     ]
    },
    {
     "name": "stdout",
     "output_type": "stream",
     "text": [
      "                   all        228       8684      0.897      0.903      0.959      0.675\n"
     ]
    },
    {
     "name": "stderr",
     "output_type": "stream",
     "text": [
      "\n"
     ]
    },
    {
     "name": "stdout",
     "output_type": "stream",
     "text": [
      "\n",
      "      Epoch    GPU_mem   box_loss   cls_loss   dfl_loss  Instances       Size\n"
     ]
    },
    {
     "name": "stderr",
     "output_type": "stream",
     "text": [
      "      9/100      14.5G      1.019        0.5      1.404         84       1920: 100%|██████████| 704/704 [05:39<00:00,  2.08it/s]\n",
      "                 Class     Images  Instances      Box(P          R      mAP50  mAP50-95): 100%|██████████| 57/57 [00:10<00:00,  5.39it/s]"
     ]
    },
    {
     "name": "stdout",
     "output_type": "stream",
     "text": [
      "                   all        228       8684      0.845      0.871      0.921      0.624\n"
     ]
    },
    {
     "name": "stderr",
     "output_type": "stream",
     "text": [
      "\n"
     ]
    },
    {
     "name": "stdout",
     "output_type": "stream",
     "text": [
      "\n",
      "      Epoch    GPU_mem   box_loss   cls_loss   dfl_loss  Instances       Size\n"
     ]
    },
    {
     "name": "stderr",
     "output_type": "stream",
     "text": [
      "     10/100      14.2G      0.998     0.4856      1.389        103       1920: 100%|██████████| 704/704 [05:38<00:00,  2.08it/s]\n",
      "                 Class     Images  Instances      Box(P          R      mAP50  mAP50-95): 100%|██████████| 57/57 [00:10<00:00,  5.46it/s]\n"
     ]
    },
    {
     "name": "stdout",
     "output_type": "stream",
     "text": [
      "                   all        228       8684      0.872      0.886      0.941      0.643\n",
      "\n",
      "      Epoch    GPU_mem   box_loss   cls_loss   dfl_loss  Instances       Size\n"
     ]
    },
    {
     "name": "stderr",
     "output_type": "stream",
     "text": [
      "     11/100      14.5G      1.001     0.4717      1.391        191       1920: 100%|██████████| 704/704 [05:38<00:00,  2.08it/s]\n",
      "                 Class     Images  Instances      Box(P          R      mAP50  mAP50-95): 100%|██████████| 57/57 [00:10<00:00,  5.41it/s]\n"
     ]
    },
    {
     "name": "stdout",
     "output_type": "stream",
     "text": [
      "                   all        228       8684      0.838      0.906      0.937      0.645\n",
      "\n",
      "      Epoch    GPU_mem   box_loss   cls_loss   dfl_loss  Instances       Size\n"
     ]
    },
    {
     "name": "stderr",
     "output_type": "stream",
     "text": [
      "     12/100      14.6G          1     0.4675      1.403        156       1920: 100%|██████████| 704/704 [05:38<00:00,  2.08it/s]\n",
      "                 Class     Images  Instances      Box(P          R      mAP50  mAP50-95): 100%|██████████| 57/57 [00:10<00:00,  5.45it/s]"
     ]
    },
    {
     "name": "stdout",
     "output_type": "stream",
     "text": [
      "                   all        228       8684      0.851      0.894      0.941      0.661\n"
     ]
    },
    {
     "name": "stderr",
     "output_type": "stream",
     "text": [
      "\n"
     ]
    },
    {
     "name": "stdout",
     "output_type": "stream",
     "text": [
      "\n",
      "      Epoch    GPU_mem   box_loss   cls_loss   dfl_loss  Instances       Size\n"
     ]
    },
    {
     "name": "stderr",
     "output_type": "stream",
     "text": [
      "     13/100      14.5G     0.9874     0.4513      1.384        183       1920: 100%|██████████| 704/704 [05:38<00:00,  2.08it/s]\n",
      "                 Class     Images  Instances      Box(P          R      mAP50  mAP50-95): 100%|██████████| 57/57 [00:10<00:00,  5.42it/s]"
     ]
    },
    {
     "name": "stdout",
     "output_type": "stream",
     "text": [
      "                   all        228       8684      0.877      0.894      0.946      0.661\n"
     ]
    },
    {
     "name": "stderr",
     "output_type": "stream",
     "text": [
      "\n"
     ]
    },
    {
     "name": "stdout",
     "output_type": "stream",
     "text": [
      "\n",
      "      Epoch    GPU_mem   box_loss   cls_loss   dfl_loss  Instances       Size\n"
     ]
    },
    {
     "name": "stderr",
     "output_type": "stream",
     "text": [
      "     14/100      14.4G     0.9929      0.449      1.394        153       1920: 100%|██████████| 704/704 [05:38<00:00,  2.08it/s]\n",
      "                 Class     Images  Instances      Box(P          R      mAP50  mAP50-95): 100%|██████████| 57/57 [00:10<00:00,  5.45it/s]"
     ]
    },
    {
     "name": "stdout",
     "output_type": "stream",
     "text": [
      "                   all        228       8684      0.862      0.862      0.916      0.616\n"
     ]
    },
    {
     "name": "stderr",
     "output_type": "stream",
     "text": [
      "\n"
     ]
    },
    {
     "name": "stdout",
     "output_type": "stream",
     "text": [
      "\n",
      "      Epoch    GPU_mem   box_loss   cls_loss   dfl_loss  Instances       Size\n"
     ]
    },
    {
     "name": "stderr",
     "output_type": "stream",
     "text": [
      "     15/100      14.1G     0.9764     0.4357       1.38        104       1920: 100%|██████████| 704/704 [05:38<00:00,  2.08it/s]\n",
      "                 Class     Images  Instances      Box(P          R      mAP50  mAP50-95): 100%|██████████| 57/57 [00:10<00:00,  5.45it/s]\n"
     ]
    },
    {
     "name": "stdout",
     "output_type": "stream",
     "text": [
      "                   all        228       8684      0.873      0.827      0.897       0.62\n",
      "\n",
      "      Epoch    GPU_mem   box_loss   cls_loss   dfl_loss  Instances       Size\n"
     ]
    },
    {
     "name": "stderr",
     "output_type": "stream",
     "text": [
      "     16/100      14.4G     0.9645     0.4392      1.372         90       1920: 100%|██████████| 704/704 [05:38<00:00,  2.08it/s]\n",
      "                 Class     Images  Instances      Box(P          R      mAP50  mAP50-95): 100%|██████████| 57/57 [00:10<00:00,  5.37it/s]"
     ]
    },
    {
     "name": "stdout",
     "output_type": "stream",
     "text": [
      "                   all        228       8684      0.881      0.897      0.949      0.677\n"
     ]
    },
    {
     "name": "stderr",
     "output_type": "stream",
     "text": [
      "\n"
     ]
    },
    {
     "name": "stdout",
     "output_type": "stream",
     "text": [
      "\n",
      "      Epoch    GPU_mem   box_loss   cls_loss   dfl_loss  Instances       Size\n"
     ]
    },
    {
     "name": "stderr",
     "output_type": "stream",
     "text": [
      "     17/100      14.4G     0.9655     0.4238       1.37         33       1920: 100%|██████████| 704/704 [05:38<00:00,  2.08it/s]\n",
      "                 Class     Images  Instances      Box(P          R      mAP50  mAP50-95): 100%|██████████| 57/57 [00:10<00:00,  5.44it/s]"
     ]
    },
    {
     "name": "stdout",
     "output_type": "stream",
     "text": [
      "                   all        228       8684      0.885      0.836       0.93       0.64\n"
     ]
    },
    {
     "name": "stderr",
     "output_type": "stream",
     "text": [
      "\n"
     ]
    },
    {
     "name": "stdout",
     "output_type": "stream",
     "text": [
      "\n",
      "      Epoch    GPU_mem   box_loss   cls_loss   dfl_loss  Instances       Size\n"
     ]
    },
    {
     "name": "stderr",
     "output_type": "stream",
     "text": [
      "     18/100      14.4G     0.9728     0.4261      1.378        113       1920: 100%|██████████| 704/704 [05:38<00:00,  2.08it/s]\n",
      "                 Class     Images  Instances      Box(P          R      mAP50  mAP50-95): 100%|██████████| 57/57 [00:10<00:00,  5.41it/s]\n"
     ]
    },
    {
     "name": "stdout",
     "output_type": "stream",
     "text": [
      "                   all        228       8684      0.824      0.799      0.869      0.602\n",
      "\n",
      "      Epoch    GPU_mem   box_loss   cls_loss   dfl_loss  Instances       Size\n"
     ]
    },
    {
     "name": "stderr",
     "output_type": "stream",
     "text": [
      "     19/100      14.5G     0.9571     0.4127      1.376         67       1920: 100%|██████████| 704/704 [05:38<00:00,  2.08it/s]\n",
      "                 Class     Images  Instances      Box(P          R      mAP50  mAP50-95): 100%|██████████| 57/57 [00:10<00:00,  5.48it/s]\n"
     ]
    },
    {
     "name": "stdout",
     "output_type": "stream",
     "text": [
      "                   all        228       8684      0.874      0.856      0.921      0.637\n",
      "\n",
      "      Epoch    GPU_mem   box_loss   cls_loss   dfl_loss  Instances       Size\n"
     ]
    },
    {
     "name": "stderr",
     "output_type": "stream",
     "text": [
      "     20/100      14.4G     0.9546     0.4216       1.37         86       1920: 100%|██████████| 704/704 [05:38<00:00,  2.08it/s]\n",
      "                 Class     Images  Instances      Box(P          R      mAP50  mAP50-95): 100%|██████████| 57/57 [00:10<00:00,  5.46it/s]"
     ]
    },
    {
     "name": "stdout",
     "output_type": "stream",
     "text": [
      "                   all        228       8684      0.883      0.882      0.933      0.654\n"
     ]
    },
    {
     "name": "stderr",
     "output_type": "stream",
     "text": [
      "\n"
     ]
    },
    {
     "name": "stdout",
     "output_type": "stream",
     "text": [
      "\n",
      "      Epoch    GPU_mem   box_loss   cls_loss   dfl_loss  Instances       Size\n"
     ]
    },
    {
     "name": "stderr",
     "output_type": "stream",
     "text": [
      "     21/100      14.4G     0.9541     0.3999      1.356         84       1920: 100%|██████████| 704/704 [05:38<00:00,  2.08it/s]\n",
      "                 Class     Images  Instances      Box(P          R      mAP50  mAP50-95): 100%|██████████| 57/57 [00:10<00:00,  5.37it/s]\n"
     ]
    },
    {
     "name": "stdout",
     "output_type": "stream",
     "text": [
      "                   all        228       8684      0.868      0.877       0.92      0.637\n",
      "\n",
      "      Epoch    GPU_mem   box_loss   cls_loss   dfl_loss  Instances       Size\n"
     ]
    },
    {
     "name": "stderr",
     "output_type": "stream",
     "text": [
      "     22/100      14.4G     0.9495     0.3976      1.361         56       1920: 100%|██████████| 704/704 [05:38<00:00,  2.08it/s]\n",
      "                 Class     Images  Instances      Box(P          R      mAP50  mAP50-95): 100%|██████████| 57/57 [00:10<00:00,  5.44it/s]"
     ]
    },
    {
     "name": "stdout",
     "output_type": "stream",
     "text": [
      "                   all        228       8684      0.853      0.843      0.901       0.62\n"
     ]
    },
    {
     "name": "stderr",
     "output_type": "stream",
     "text": [
      "\n"
     ]
    },
    {
     "name": "stdout",
     "output_type": "stream",
     "text": [
      "\n",
      "      Epoch    GPU_mem   box_loss   cls_loss   dfl_loss  Instances       Size\n"
     ]
    },
    {
     "name": "stderr",
     "output_type": "stream",
     "text": [
      "     23/100      14.4G      0.945     0.3934      1.359         87       1920: 100%|██████████| 704/704 [05:38<00:00,  2.08it/s]\n",
      "                 Class     Images  Instances      Box(P          R      mAP50  mAP50-95): 100%|██████████| 57/57 [00:10<00:00,  5.41it/s]"
     ]
    },
    {
     "name": "stdout",
     "output_type": "stream",
     "text": [
      "                   all        228       8684      0.887      0.827      0.903      0.633\n"
     ]
    },
    {
     "name": "stderr",
     "output_type": "stream",
     "text": [
      "\n"
     ]
    },
    {
     "name": "stdout",
     "output_type": "stream",
     "text": [
      "\n",
      "      Epoch    GPU_mem   box_loss   cls_loss   dfl_loss  Instances       Size\n"
     ]
    },
    {
     "name": "stderr",
     "output_type": "stream",
     "text": [
      "     24/100      14.5G     0.9484     0.3943      1.356        114       1920: 100%|██████████| 704/704 [05:38<00:00,  2.08it/s]\n",
      "                 Class     Images  Instances      Box(P          R      mAP50  mAP50-95): 100%|██████████| 57/57 [00:10<00:00,  5.45it/s]\n"
     ]
    },
    {
     "name": "stdout",
     "output_type": "stream",
     "text": [
      "                   all        228       8684      0.875      0.849      0.924      0.639\n",
      "\n",
      "      Epoch    GPU_mem   box_loss   cls_loss   dfl_loss  Instances       Size\n"
     ]
    },
    {
     "name": "stderr",
     "output_type": "stream",
     "text": [
      "     25/100      14.4G     0.9366     0.3869      1.339         47       1920: 100%|██████████| 704/704 [05:38<00:00,  2.08it/s]\n",
      "                 Class     Images  Instances      Box(P          R      mAP50  mAP50-95): 100%|██████████| 57/57 [00:10<00:00,  5.46it/s]\n"
     ]
    },
    {
     "name": "stdout",
     "output_type": "stream",
     "text": [
      "                   all        228       8684      0.872      0.905      0.937      0.649\n",
      "\n",
      "      Epoch    GPU_mem   box_loss   cls_loss   dfl_loss  Instances       Size\n"
     ]
    },
    {
     "name": "stderr",
     "output_type": "stream",
     "text": [
      "     26/100      14.1G     0.9395     0.3908      1.348         85       1920: 100%|██████████| 704/704 [05:38<00:00,  2.08it/s]\n",
      "                 Class     Images  Instances      Box(P          R      mAP50  mAP50-95): 100%|██████████| 57/57 [00:10<00:00,  5.44it/s]"
     ]
    },
    {
     "name": "stdout",
     "output_type": "stream",
     "text": [
      "                   all        228       8684      0.864      0.864      0.917      0.646\n"
     ]
    },
    {
     "name": "stderr",
     "output_type": "stream",
     "text": [
      "\n"
     ]
    },
    {
     "name": "stdout",
     "output_type": "stream",
     "text": [
      "\n",
      "      Epoch    GPU_mem   box_loss   cls_loss   dfl_loss  Instances       Size\n"
     ]
    },
    {
     "name": "stderr",
     "output_type": "stream",
     "text": [
      "     27/100      14.5G     0.9337     0.3856      1.348         77       1920: 100%|██████████| 704/704 [05:38<00:00,  2.08it/s]\n",
      "                 Class     Images  Instances      Box(P          R      mAP50  mAP50-95): 100%|██████████| 57/57 [00:10<00:00,  5.41it/s]"
     ]
    },
    {
     "name": "stdout",
     "output_type": "stream",
     "text": [
      "                   all        228       8684      0.854      0.889       0.93      0.648\n"
     ]
    },
    {
     "name": "stderr",
     "output_type": "stream",
     "text": [
      "\n"
     ]
    },
    {
     "name": "stdout",
     "output_type": "stream",
     "text": [
      "\n",
      "      Epoch    GPU_mem   box_loss   cls_loss   dfl_loss  Instances       Size\n"
     ]
    },
    {
     "name": "stderr",
     "output_type": "stream",
     "text": [
      "     28/100      14.4G     0.9386     0.3878       1.34        172       1920: 100%|██████████| 704/704 [05:38<00:00,  2.08it/s]\n",
      "                 Class     Images  Instances      Box(P          R      mAP50  mAP50-95): 100%|██████████| 57/57 [00:10<00:00,  5.46it/s]\n"
     ]
    },
    {
     "name": "stdout",
     "output_type": "stream",
     "text": [
      "                   all        228       8684      0.891      0.872      0.933      0.651\n",
      "\n",
      "      Epoch    GPU_mem   box_loss   cls_loss   dfl_loss  Instances       Size\n"
     ]
    },
    {
     "name": "stderr",
     "output_type": "stream",
     "text": [
      "     29/100      14.7G     0.9272     0.3806      1.346        101       1920: 100%|██████████| 704/704 [05:38<00:00,  2.08it/s]\n",
      "                 Class     Images  Instances      Box(P          R      mAP50  mAP50-95): 100%|██████████| 57/57 [00:10<00:00,  5.43it/s]"
     ]
    },
    {
     "name": "stdout",
     "output_type": "stream",
     "text": [
      "                   all        228       8684      0.872      0.906      0.924      0.658\n"
     ]
    },
    {
     "name": "stderr",
     "output_type": "stream",
     "text": [
      "\n"
     ]
    },
    {
     "name": "stdout",
     "output_type": "stream",
     "text": [
      "\n",
      "      Epoch    GPU_mem   box_loss   cls_loss   dfl_loss  Instances       Size\n"
     ]
    },
    {
     "name": "stderr",
     "output_type": "stream",
     "text": [
      "     30/100      14.3G     0.9256     0.3793       1.34         50       1920: 100%|██████████| 704/704 [05:38<00:00,  2.08it/s]\n",
      "                 Class     Images  Instances      Box(P          R      mAP50  mAP50-95): 100%|██████████| 57/57 [00:10<00:00,  5.48it/s]"
     ]
    },
    {
     "name": "stdout",
     "output_type": "stream",
     "text": [
      "                   all        228       8684       0.85      0.911      0.925      0.659\n"
     ]
    },
    {
     "name": "stderr",
     "output_type": "stream",
     "text": [
      "\n"
     ]
    },
    {
     "name": "stdout",
     "output_type": "stream",
     "text": [
      "\n",
      "      Epoch    GPU_mem   box_loss   cls_loss   dfl_loss  Instances       Size\n"
     ]
    },
    {
     "name": "stderr",
     "output_type": "stream",
     "text": [
      "     31/100      14.6G     0.9287     0.3814       1.34         36       1920: 100%|██████████| 704/704 [05:38<00:00,  2.08it/s]\n",
      "                 Class     Images  Instances      Box(P          R      mAP50  mAP50-95): 100%|██████████| 57/57 [00:10<00:00,  5.45it/s]"
     ]
    },
    {
     "name": "stdout",
     "output_type": "stream",
     "text": [
      "                   all        228       8684      0.885      0.871      0.926      0.644\n"
     ]
    },
    {
     "name": "stderr",
     "output_type": "stream",
     "text": [
      "\n"
     ]
    },
    {
     "name": "stdout",
     "output_type": "stream",
     "text": [
      "\n",
      "      Epoch    GPU_mem   box_loss   cls_loss   dfl_loss  Instances       Size\n"
     ]
    },
    {
     "name": "stderr",
     "output_type": "stream",
     "text": [
      "     32/100      14.6G     0.9283     0.3775      1.341         56       1920: 100%|██████████| 704/704 [05:38<00:00,  2.08it/s]\n",
      "                 Class     Images  Instances      Box(P          R      mAP50  mAP50-95): 100%|██████████| 57/57 [00:10<00:00,  5.44it/s]\n"
     ]
    },
    {
     "name": "stdout",
     "output_type": "stream",
     "text": [
      "                   all        228       8684      0.855      0.859      0.906      0.638\n",
      "\n",
      "      Epoch    GPU_mem   box_loss   cls_loss   dfl_loss  Instances       Size\n"
     ]
    },
    {
     "name": "stderr",
     "output_type": "stream",
     "text": [
      "     33/100      14.4G     0.9225     0.3702      1.343        132       1920: 100%|██████████| 704/704 [05:38<00:00,  2.08it/s]\n",
      "                 Class     Images  Instances      Box(P          R      mAP50  mAP50-95): 100%|██████████| 57/57 [00:10<00:00,  5.45it/s]"
     ]
    },
    {
     "name": "stdout",
     "output_type": "stream",
     "text": [
      "                   all        228       8684      0.888      0.848      0.918      0.649\n"
     ]
    },
    {
     "name": "stderr",
     "output_type": "stream",
     "text": [
      "\n"
     ]
    },
    {
     "name": "stdout",
     "output_type": "stream",
     "text": [
      "\n",
      "      Epoch    GPU_mem   box_loss   cls_loss   dfl_loss  Instances       Size\n"
     ]
    },
    {
     "name": "stderr",
     "output_type": "stream",
     "text": [
      "     34/100      14.4G     0.9184     0.3696      1.348         34       1920: 100%|██████████| 704/704 [05:38<00:00,  2.08it/s]\n",
      "                 Class     Images  Instances      Box(P          R      mAP50  mAP50-95): 100%|██████████| 57/57 [00:10<00:00,  5.46it/s]\n"
     ]
    },
    {
     "name": "stdout",
     "output_type": "stream",
     "text": [
      "                   all        228       8684      0.864      0.836      0.894      0.632\n",
      "\n",
      "      Epoch    GPU_mem   box_loss   cls_loss   dfl_loss  Instances       Size\n"
     ]
    },
    {
     "name": "stderr",
     "output_type": "stream",
     "text": [
      "     35/100      14.7G     0.9163     0.3739      1.343         25       1920: 100%|██████████| 704/704 [05:38<00:00,  2.08it/s]\n",
      "                 Class     Images  Instances      Box(P          R      mAP50  mAP50-95): 100%|██████████| 57/57 [00:10<00:00,  5.42it/s]"
     ]
    },
    {
     "name": "stdout",
     "output_type": "stream",
     "text": [
      "                   all        228       8684      0.876       0.89      0.921      0.646\n"
     ]
    },
    {
     "name": "stderr",
     "output_type": "stream",
     "text": [
      "\n"
     ]
    },
    {
     "name": "stdout",
     "output_type": "stream",
     "text": [
      "\n",
      "      Epoch    GPU_mem   box_loss   cls_loss   dfl_loss  Instances       Size\n"
     ]
    },
    {
     "name": "stderr",
     "output_type": "stream",
     "text": [
      "     36/100      14.4G     0.9143     0.3694      1.325         81       1920: 100%|██████████| 704/704 [05:38<00:00,  2.08it/s]\n",
      "                 Class     Images  Instances      Box(P          R      mAP50  mAP50-95): 100%|██████████| 57/57 [00:10<00:00,  5.47it/s]"
     ]
    },
    {
     "name": "stdout",
     "output_type": "stream",
     "text": [
      "                   all        228       8684      0.919      0.836      0.901      0.627\n"
     ]
    },
    {
     "name": "stderr",
     "output_type": "stream",
     "text": [
      "\n"
     ]
    },
    {
     "name": "stdout",
     "output_type": "stream",
     "text": [
      "\n",
      "      Epoch    GPU_mem   box_loss   cls_loss   dfl_loss  Instances       Size\n"
     ]
    },
    {
     "name": "stderr",
     "output_type": "stream",
     "text": [
      "     37/100      14.1G     0.9123      0.364      1.331         67       1920: 100%|██████████| 704/704 [05:38<00:00,  2.08it/s]\n",
      "                 Class     Images  Instances      Box(P          R      mAP50  mAP50-95): 100%|██████████| 57/57 [00:10<00:00,  5.47it/s]"
     ]
    },
    {
     "name": "stdout",
     "output_type": "stream",
     "text": [
      "                   all        228       8684      0.876      0.871      0.916      0.654\n"
     ]
    },
    {
     "name": "stderr",
     "output_type": "stream",
     "text": [
      "\n"
     ]
    },
    {
     "name": "stdout",
     "output_type": "stream",
     "text": [
      "\n",
      "      Epoch    GPU_mem   box_loss   cls_loss   dfl_loss  Instances       Size\n"
     ]
    },
    {
     "name": "stderr",
     "output_type": "stream",
     "text": [
      "     38/100      14.4G     0.9151     0.3671      1.342         42       1920: 100%|██████████| 704/704 [05:38<00:00,  2.08it/s]\n",
      "                 Class     Images  Instances      Box(P          R      mAP50  mAP50-95): 100%|██████████| 57/57 [00:10<00:00,  5.46it/s]"
     ]
    },
    {
     "name": "stdout",
     "output_type": "stream",
     "text": [
      "                   all        228       8684       0.88      0.838        0.9      0.626\n"
     ]
    },
    {
     "name": "stderr",
     "output_type": "stream",
     "text": [
      "\n"
     ]
    },
    {
     "name": "stdout",
     "output_type": "stream",
     "text": [
      "\n",
      "      Epoch    GPU_mem   box_loss   cls_loss   dfl_loss  Instances       Size\n"
     ]
    },
    {
     "name": "stderr",
     "output_type": "stream",
     "text": [
      "     39/100      14.5G     0.9071     0.3644      1.317         76       1920: 100%|██████████| 704/704 [05:38<00:00,  2.08it/s]\n",
      "                 Class     Images  Instances      Box(P          R      mAP50  mAP50-95): 100%|██████████| 57/57 [00:10<00:00,  5.40it/s]"
     ]
    },
    {
     "name": "stdout",
     "output_type": "stream",
     "text": [
      "                   all        228       8684      0.885      0.875      0.926       0.66\n"
     ]
    },
    {
     "name": "stderr",
     "output_type": "stream",
     "text": [
      "\n"
     ]
    },
    {
     "name": "stdout",
     "output_type": "stream",
     "text": [
      "\n",
      "      Epoch    GPU_mem   box_loss   cls_loss   dfl_loss  Instances       Size\n"
     ]
    },
    {
     "name": "stderr",
     "output_type": "stream",
     "text": [
      "     40/100      14.4G     0.9091     0.3674      1.321         68       1920: 100%|██████████| 704/704 [05:38<00:00,  2.08it/s]\n",
      "                 Class     Images  Instances      Box(P          R      mAP50  mAP50-95): 100%|██████████| 57/57 [00:10<00:00,  5.48it/s]\n"
     ]
    },
    {
     "name": "stdout",
     "output_type": "stream",
     "text": [
      "                   all        228       8684      0.874      0.883      0.923      0.649\n",
      "\n",
      "      Epoch    GPU_mem   box_loss   cls_loss   dfl_loss  Instances       Size\n"
     ]
    },
    {
     "name": "stderr",
     "output_type": "stream",
     "text": [
      "     41/100      14.5G     0.9005     0.3639      1.329         74       1920: 100%|██████████| 704/704 [05:38<00:00,  2.08it/s]\n",
      "                 Class     Images  Instances      Box(P          R      mAP50  mAP50-95): 100%|██████████| 57/57 [00:10<00:00,  5.44it/s]"
     ]
    },
    {
     "name": "stdout",
     "output_type": "stream",
     "text": [
      "                   all        228       8684      0.862      0.879      0.906      0.643\n"
     ]
    },
    {
     "name": "stderr",
     "output_type": "stream",
     "text": [
      "\n"
     ]
    },
    {
     "name": "stdout",
     "output_type": "stream",
     "text": [
      "\n",
      "      Epoch    GPU_mem   box_loss   cls_loss   dfl_loss  Instances       Size\n"
     ]
    },
    {
     "name": "stderr",
     "output_type": "stream",
     "text": [
      "     42/100      14.6G     0.9019     0.3618      1.326         76       1920: 100%|██████████| 704/704 [05:38<00:00,  2.08it/s]\n",
      "                 Class     Images  Instances      Box(P          R      mAP50  mAP50-95): 100%|██████████| 57/57 [00:10<00:00,  5.46it/s]"
     ]
    },
    {
     "name": "stdout",
     "output_type": "stream",
     "text": [
      "                   all        228       8684      0.875       0.82       0.89      0.624\n"
     ]
    },
    {
     "name": "stderr",
     "output_type": "stream",
     "text": [
      "\n"
     ]
    },
    {
     "name": "stdout",
     "output_type": "stream",
     "text": [
      "\n",
      "      Epoch    GPU_mem   box_loss   cls_loss   dfl_loss  Instances       Size\n"
     ]
    },
    {
     "name": "stderr",
     "output_type": "stream",
     "text": [
      "     43/100      14.3G     0.9015     0.3631      1.328         74       1920: 100%|██████████| 704/704 [05:38<00:00,  2.08it/s]\n",
      "                 Class     Images  Instances      Box(P          R      mAP50  mAP50-95): 100%|██████████| 57/57 [00:10<00:00,  5.48it/s]"
     ]
    },
    {
     "name": "stdout",
     "output_type": "stream",
     "text": [
      "                   all        228       8684      0.873      0.858      0.909      0.642\n"
     ]
    },
    {
     "name": "stderr",
     "output_type": "stream",
     "text": [
      "\n"
     ]
    },
    {
     "name": "stdout",
     "output_type": "stream",
     "text": [
      "\n",
      "      Epoch    GPU_mem   box_loss   cls_loss   dfl_loss  Instances       Size\n"
     ]
    },
    {
     "name": "stderr",
     "output_type": "stream",
     "text": [
      "     44/100      14.4G     0.8936     0.3582      1.313         84       1920: 100%|██████████| 704/704 [05:38<00:00,  2.08it/s]\n",
      "                 Class     Images  Instances      Box(P          R      mAP50  mAP50-95): 100%|██████████| 57/57 [00:10<00:00,  5.48it/s]"
     ]
    },
    {
     "name": "stdout",
     "output_type": "stream",
     "text": [
      "                   all        228       8684      0.884      0.885      0.928      0.657\n"
     ]
    },
    {
     "name": "stderr",
     "output_type": "stream",
     "text": [
      "\n"
     ]
    },
    {
     "name": "stdout",
     "output_type": "stream",
     "text": [
      "\n",
      "      Epoch    GPU_mem   box_loss   cls_loss   dfl_loss  Instances       Size\n"
     ]
    },
    {
     "name": "stderr",
     "output_type": "stream",
     "text": [
      "     45/100      14.5G     0.9002     0.3613      1.319        125       1920: 100%|██████████| 704/704 [05:38<00:00,  2.08it/s]\n",
      "                 Class     Images  Instances      Box(P          R      mAP50  mAP50-95): 100%|██████████| 57/57 [00:10<00:00,  5.45it/s]"
     ]
    },
    {
     "name": "stdout",
     "output_type": "stream",
     "text": [
      "                   all        228       8684       0.89      0.851      0.906      0.645\n"
     ]
    },
    {
     "name": "stderr",
     "output_type": "stream",
     "text": [
      "\n"
     ]
    },
    {
     "name": "stdout",
     "output_type": "stream",
     "text": [
      "\n",
      "      Epoch    GPU_mem   box_loss   cls_loss   dfl_loss  Instances       Size\n"
     ]
    },
    {
     "name": "stderr",
     "output_type": "stream",
     "text": [
      "     46/100      14.5G     0.8937     0.3592      1.312         49       1920: 100%|██████████| 704/704 [05:38<00:00,  2.08it/s]\n",
      "                 Class     Images  Instances      Box(P          R      mAP50  mAP50-95): 100%|██████████| 57/57 [00:10<00:00,  5.42it/s]"
     ]
    },
    {
     "name": "stdout",
     "output_type": "stream",
     "text": [
      "                   all        228       8684      0.885      0.873      0.921      0.647\n"
     ]
    },
    {
     "name": "stderr",
     "output_type": "stream",
     "text": [
      "\n"
     ]
    },
    {
     "name": "stdout",
     "output_type": "stream",
     "text": [
      "\n",
      "      Epoch    GPU_mem   box_loss   cls_loss   dfl_loss  Instances       Size\n"
     ]
    },
    {
     "name": "stderr",
     "output_type": "stream",
     "text": [
      "     47/100      14.3G     0.8931     0.3622      1.322        114       1920: 100%|██████████| 704/704 [05:38<00:00,  2.08it/s]\n",
      "                 Class     Images  Instances      Box(P          R      mAP50  mAP50-95): 100%|██████████| 57/57 [00:10<00:00,  5.41it/s]\n"
     ]
    },
    {
     "name": "stdout",
     "output_type": "stream",
     "text": [
      "                   all        228       8684      0.842      0.886      0.906      0.629\n",
      "\n",
      "      Epoch    GPU_mem   box_loss   cls_loss   dfl_loss  Instances       Size\n"
     ]
    },
    {
     "name": "stderr",
     "output_type": "stream",
     "text": [
      "     48/100      14.5G      0.891     0.3541      1.311         88       1920: 100%|██████████| 704/704 [05:38<00:00,  2.08it/s]\n",
      "                 Class     Images  Instances      Box(P          R      mAP50  mAP50-95): 100%|██████████| 57/57 [00:10<00:00,  5.46it/s]"
     ]
    },
    {
     "name": "stdout",
     "output_type": "stream",
     "text": [
      "                   all        228       8684       0.87       0.85      0.918      0.646\n"
     ]
    },
    {
     "name": "stderr",
     "output_type": "stream",
     "text": [
      "\n"
     ]
    },
    {
     "name": "stdout",
     "output_type": "stream",
     "text": [
      "\n",
      "      Epoch    GPU_mem   box_loss   cls_loss   dfl_loss  Instances       Size\n"
     ]
    },
    {
     "name": "stderr",
     "output_type": "stream",
     "text": [
      "     49/100      14.6G     0.8865     0.3578       1.32         50       1920: 100%|██████████| 704/704 [05:38<00:00,  2.08it/s]\n",
      "                 Class     Images  Instances      Box(P          R      mAP50  mAP50-95): 100%|██████████| 57/57 [00:10<00:00,  5.44it/s]\n"
     ]
    },
    {
     "name": "stdout",
     "output_type": "stream",
     "text": [
      "                   all        228       8684      0.864      0.882      0.916       0.65\n",
      "\n",
      "      Epoch    GPU_mem   box_loss   cls_loss   dfl_loss  Instances       Size\n"
     ]
    },
    {
     "name": "stderr",
     "output_type": "stream",
     "text": [
      "     50/100      14.4G     0.8768     0.3509      1.301         55       1920: 100%|██████████| 704/704 [05:38<00:00,  2.08it/s]\n",
      "                 Class     Images  Instances      Box(P          R      mAP50  mAP50-95): 100%|██████████| 57/57 [00:10<00:00,  5.47it/s]"
     ]
    },
    {
     "name": "stdout",
     "output_type": "stream",
     "text": [
      "                   all        228       8684      0.878      0.879       0.92      0.647\n"
     ]
    },
    {
     "name": "stderr",
     "output_type": "stream",
     "text": [
      "\n"
     ]
    },
    {
     "name": "stdout",
     "output_type": "stream",
     "text": [
      "\n",
      "      Epoch    GPU_mem   box_loss   cls_loss   dfl_loss  Instances       Size\n"
     ]
    },
    {
     "name": "stderr",
     "output_type": "stream",
     "text": [
      "     51/100      14.2G     0.8894     0.3533      1.314         56       1920: 100%|██████████| 704/704 [05:38<00:00,  2.08it/s]\n",
      "                 Class     Images  Instances      Box(P          R      mAP50  mAP50-95): 100%|██████████| 57/57 [00:10<00:00,  5.49it/s]"
     ]
    },
    {
     "name": "stdout",
     "output_type": "stream",
     "text": [
      "                   all        228       8684       0.89      0.845      0.915      0.654\n"
     ]
    },
    {
     "name": "stderr",
     "output_type": "stream",
     "text": [
      "\n"
     ]
    },
    {
     "name": "stdout",
     "output_type": "stream",
     "text": [
      "\n",
      "      Epoch    GPU_mem   box_loss   cls_loss   dfl_loss  Instances       Size\n"
     ]
    },
    {
     "name": "stderr",
     "output_type": "stream",
     "text": [
      "     52/100      14.5G     0.8806     0.3501      1.305         80       1920: 100%|██████████| 704/704 [05:38<00:00,  2.08it/s]\n",
      "                 Class     Images  Instances      Box(P          R      mAP50  mAP50-95): 100%|██████████| 57/57 [00:10<00:00,  5.47it/s]"
     ]
    },
    {
     "name": "stdout",
     "output_type": "stream",
     "text": [
      "                   all        228       8684      0.902      0.856      0.922      0.663\n"
     ]
    },
    {
     "name": "stderr",
     "output_type": "stream",
     "text": [
      "\n"
     ]
    },
    {
     "name": "stdout",
     "output_type": "stream",
     "text": [
      "\n",
      "      Epoch    GPU_mem   box_loss   cls_loss   dfl_loss  Instances       Size\n"
     ]
    },
    {
     "name": "stderr",
     "output_type": "stream",
     "text": [
      "     53/100      14.5G     0.8778     0.3465      1.303        108       1920: 100%|██████████| 704/704 [05:38<00:00,  2.08it/s]\n",
      "                 Class     Images  Instances      Box(P          R      mAP50  mAP50-95): 100%|██████████| 57/57 [00:10<00:00,  5.45it/s]"
     ]
    },
    {
     "name": "stdout",
     "output_type": "stream",
     "text": [
      "                   all        228       8684      0.861      0.842      0.917      0.655\n"
     ]
    },
    {
     "name": "stderr",
     "output_type": "stream",
     "text": [
      "\n"
     ]
    },
    {
     "name": "stdout",
     "output_type": "stream",
     "text": [
      "\n",
      "      Epoch    GPU_mem   box_loss   cls_loss   dfl_loss  Instances       Size\n"
     ]
    },
    {
     "name": "stderr",
     "output_type": "stream",
     "text": [
      "     54/100      14.5G     0.8776     0.3507        1.3         39       1920: 100%|██████████| 704/704 [05:38<00:00,  2.08it/s]\n",
      "                 Class     Images  Instances      Box(P          R      mAP50  mAP50-95): 100%|██████████| 57/57 [00:10<00:00,  5.46it/s]\n"
     ]
    },
    {
     "name": "stdout",
     "output_type": "stream",
     "text": [
      "                   all        228       8684      0.877       0.85      0.916      0.647\n",
      "\n",
      "      Epoch    GPU_mem   box_loss   cls_loss   dfl_loss  Instances       Size\n"
     ]
    },
    {
     "name": "stderr",
     "output_type": "stream",
     "text": [
      "     55/100        14G     0.8745     0.3487      1.287         81       1920: 100%|██████████| 704/704 [05:38<00:00,  2.08it/s]\n",
      "                 Class     Images  Instances      Box(P          R      mAP50  mAP50-95): 100%|██████████| 57/57 [00:10<00:00,  5.43it/s]"
     ]
    },
    {
     "name": "stdout",
     "output_type": "stream",
     "text": [
      "                   all        228       8684      0.894       0.83      0.913      0.642\n"
     ]
    },
    {
     "name": "stderr",
     "output_type": "stream",
     "text": [
      "\n"
     ]
    },
    {
     "name": "stdout",
     "output_type": "stream",
     "text": [
      "\n",
      "      Epoch    GPU_mem   box_loss   cls_loss   dfl_loss  Instances       Size\n"
     ]
    },
    {
     "name": "stderr",
     "output_type": "stream",
     "text": [
      "     56/100      14.5G     0.8762     0.3494      1.298        121       1920: 100%|██████████| 704/704 [05:38<00:00,  2.08it/s]\n",
      "                 Class     Images  Instances      Box(P          R      mAP50  mAP50-95): 100%|██████████| 57/57 [00:10<00:00,  5.44it/s]"
     ]
    },
    {
     "name": "stdout",
     "output_type": "stream",
     "text": [
      "                   all        228       8684      0.882      0.856      0.923      0.653\n"
     ]
    },
    {
     "name": "stderr",
     "output_type": "stream",
     "text": [
      "\n"
     ]
    },
    {
     "name": "stdout",
     "output_type": "stream",
     "text": [
      "\n",
      "      Epoch    GPU_mem   box_loss   cls_loss   dfl_loss  Instances       Size\n"
     ]
    },
    {
     "name": "stderr",
     "output_type": "stream",
     "text": [
      "     57/100      14.3G     0.8724     0.3504      1.298        113       1920: 100%|██████████| 704/704 [05:38<00:00,  2.08it/s]\n",
      "                 Class     Images  Instances      Box(P          R      mAP50  mAP50-95): 100%|██████████| 57/57 [00:10<00:00,  5.46it/s]"
     ]
    },
    {
     "name": "stdout",
     "output_type": "stream",
     "text": [
      "                   all        228       8684      0.872      0.845       0.91      0.636\n"
     ]
    },
    {
     "name": "stderr",
     "output_type": "stream",
     "text": [
      "\n"
     ]
    },
    {
     "name": "stdout",
     "output_type": "stream",
     "text": [
      "\n",
      "      Epoch    GPU_mem   box_loss   cls_loss   dfl_loss  Instances       Size\n"
     ]
    },
    {
     "name": "stderr",
     "output_type": "stream",
     "text": [
      "     58/100      14.3G     0.8776     0.3532        1.3         56       1920: 100%|██████████| 704/704 [05:38<00:00,  2.08it/s]\n",
      "                 Class     Images  Instances      Box(P          R      mAP50  mAP50-95): 100%|██████████| 57/57 [00:10<00:00,  5.47it/s]\n"
     ]
    },
    {
     "name": "stdout",
     "output_type": "stream",
     "text": [
      "                   all        228       8684      0.884      0.835      0.913      0.648\n",
      "\n",
      "      Epoch    GPU_mem   box_loss   cls_loss   dfl_loss  Instances       Size\n"
     ]
    },
    {
     "name": "stderr",
     "output_type": "stream",
     "text": [
      "     59/100      14.4G     0.8667     0.3474      1.292        126       1920: 100%|██████████| 704/704 [05:38<00:00,  2.08it/s]\n",
      "                 Class     Images  Instances      Box(P          R      mAP50  mAP50-95): 100%|██████████| 57/57 [00:10<00:00,  5.48it/s]"
     ]
    },
    {
     "name": "stdout",
     "output_type": "stream",
     "text": [
      "                   all        228       8684      0.881      0.837      0.916       0.65\n"
     ]
    },
    {
     "name": "stderr",
     "output_type": "stream",
     "text": [
      "\n"
     ]
    },
    {
     "name": "stdout",
     "output_type": "stream",
     "text": [
      "\n",
      "      Epoch    GPU_mem   box_loss   cls_loss   dfl_loss  Instances       Size\n"
     ]
    },
    {
     "name": "stderr",
     "output_type": "stream",
     "text": [
      "     60/100      14.3G     0.8723     0.3491       1.29         44       1920: 100%|██████████| 704/704 [05:38<00:00,  2.08it/s]\n",
      "                 Class     Images  Instances      Box(P          R      mAP50  mAP50-95): 100%|██████████| 57/57 [00:10<00:00,  5.46it/s]"
     ]
    },
    {
     "name": "stdout",
     "output_type": "stream",
     "text": [
      "                   all        228       8684      0.884      0.845       0.92      0.639\n"
     ]
    },
    {
     "name": "stderr",
     "output_type": "stream",
     "text": [
      "\n"
     ]
    },
    {
     "name": "stdout",
     "output_type": "stream",
     "text": [
      "\n",
      "      Epoch    GPU_mem   box_loss   cls_loss   dfl_loss  Instances       Size\n"
     ]
    },
    {
     "name": "stderr",
     "output_type": "stream",
     "text": [
      "     61/100      14.3G     0.8664     0.3489      1.291         89       1920: 100%|██████████| 704/704 [05:38<00:00,  2.08it/s]\n",
      "                 Class     Images  Instances      Box(P          R      mAP50  mAP50-95): 100%|██████████| 57/57 [00:10<00:00,  5.46it/s]\n"
     ]
    },
    {
     "name": "stdout",
     "output_type": "stream",
     "text": [
      "                   all        228       8684      0.895      0.848      0.912      0.629\n",
      "\n",
      "      Epoch    GPU_mem   box_loss   cls_loss   dfl_loss  Instances       Size\n"
     ]
    },
    {
     "name": "stderr",
     "output_type": "stream",
     "text": [
      "     62/100      14.5G     0.8641     0.3461      1.285         72       1920: 100%|██████████| 704/704 [05:38<00:00,  2.08it/s]\n",
      "                 Class     Images  Instances      Box(P          R      mAP50  mAP50-95): 100%|██████████| 57/57 [00:10<00:00,  5.45it/s]"
     ]
    },
    {
     "name": "stdout",
     "output_type": "stream",
     "text": [
      "                   all        228       8684      0.878      0.844      0.902      0.628\n"
     ]
    },
    {
     "name": "stderr",
     "output_type": "stream",
     "text": [
      "\n"
     ]
    },
    {
     "name": "stdout",
     "output_type": "stream",
     "text": [
      "\n",
      "      Epoch    GPU_mem   box_loss   cls_loss   dfl_loss  Instances       Size\n"
     ]
    },
    {
     "name": "stderr",
     "output_type": "stream",
     "text": [
      "     63/100      14.4G     0.8589     0.3433      1.288         76       1920: 100%|██████████| 704/704 [05:38<00:00,  2.08it/s]\n",
      "                 Class     Images  Instances      Box(P          R      mAP50  mAP50-95): 100%|██████████| 57/57 [00:10<00:00,  5.43it/s]"
     ]
    },
    {
     "name": "stdout",
     "output_type": "stream",
     "text": [
      "                   all        228       8684      0.861      0.851      0.902      0.637\n"
     ]
    },
    {
     "name": "stderr",
     "output_type": "stream",
     "text": [
      "\n"
     ]
    },
    {
     "name": "stdout",
     "output_type": "stream",
     "text": [
      "\n",
      "      Epoch    GPU_mem   box_loss   cls_loss   dfl_loss  Instances       Size\n"
     ]
    },
    {
     "name": "stderr",
     "output_type": "stream",
     "text": [
      "     64/100      14.4G     0.8569     0.3461      1.286        157       1920: 100%|██████████| 704/704 [05:38<00:00,  2.08it/s]\n",
      "                 Class     Images  Instances      Box(P          R      mAP50  mAP50-95): 100%|██████████| 57/57 [00:10<00:00,  5.44it/s]\n"
     ]
    },
    {
     "name": "stdout",
     "output_type": "stream",
     "text": [
      "                   all        228       8684        0.9      0.834      0.895      0.618\n",
      "\n",
      "      Epoch    GPU_mem   box_loss   cls_loss   dfl_loss  Instances       Size\n"
     ]
    },
    {
     "name": "stderr",
     "output_type": "stream",
     "text": [
      "     65/100      14.4G     0.8597     0.3422      1.286         99       1920: 100%|██████████| 704/704 [05:38<00:00,  2.08it/s]\n",
      "                 Class     Images  Instances      Box(P          R      mAP50  mAP50-95): 100%|██████████| 57/57 [00:10<00:00,  5.45it/s]"
     ]
    },
    {
     "name": "stdout",
     "output_type": "stream",
     "text": [
      "                   all        228       8684      0.893      0.838      0.906      0.637\n"
     ]
    },
    {
     "name": "stderr",
     "output_type": "stream",
     "text": [
      "\n"
     ]
    },
    {
     "name": "stdout",
     "output_type": "stream",
     "text": [
      "\n",
      "      Epoch    GPU_mem   box_loss   cls_loss   dfl_loss  Instances       Size\n"
     ]
    },
    {
     "name": "stderr",
     "output_type": "stream",
     "text": [
      "     66/100      14.5G     0.8554     0.3408      1.284        154       1920: 100%|██████████| 704/704 [05:38<00:00,  2.08it/s]\n",
      "                 Class     Images  Instances      Box(P          R      mAP50  mAP50-95): 100%|██████████| 57/57 [00:10<00:00,  5.45it/s]"
     ]
    },
    {
     "name": "stdout",
     "output_type": "stream",
     "text": [
      "                   all        228       8684      0.896       0.84      0.914      0.651\n"
     ]
    },
    {
     "name": "stderr",
     "output_type": "stream",
     "text": [
      "\n"
     ]
    },
    {
     "name": "stdout",
     "output_type": "stream",
     "text": [
      "\n",
      "      Epoch    GPU_mem   box_loss   cls_loss   dfl_loss  Instances       Size\n"
     ]
    },
    {
     "name": "stderr",
     "output_type": "stream",
     "text": [
      "     67/100      14.5G     0.8523     0.3413      1.278         45       1920: 100%|██████████| 704/704 [05:38<00:00,  2.08it/s]\n",
      "                 Class     Images  Instances      Box(P          R      mAP50  mAP50-95): 100%|██████████| 57/57 [00:10<00:00,  5.48it/s]"
     ]
    },
    {
     "name": "stdout",
     "output_type": "stream",
     "text": [
      "                   all        228       8684      0.877      0.808      0.886      0.623\n"
     ]
    },
    {
     "name": "stderr",
     "output_type": "stream",
     "text": [
      "\n"
     ]
    },
    {
     "name": "stdout",
     "output_type": "stream",
     "text": [
      "\n",
      "      Epoch    GPU_mem   box_loss   cls_loss   dfl_loss  Instances       Size\n"
     ]
    },
    {
     "name": "stderr",
     "output_type": "stream",
     "text": [
      "     68/100      14.4G     0.8535     0.3434      1.285        120       1920: 100%|██████████| 704/704 [05:38<00:00,  2.08it/s]\n",
      "                 Class     Images  Instances      Box(P          R      mAP50  mAP50-95): 100%|██████████| 57/57 [00:10<00:00,  5.47it/s]\n"
     ]
    },
    {
     "name": "stdout",
     "output_type": "stream",
     "text": [
      "                   all        228       8684      0.902      0.863      0.925      0.649\n",
      "\n",
      "      Epoch    GPU_mem   box_loss   cls_loss   dfl_loss  Instances       Size\n"
     ]
    },
    {
     "name": "stderr",
     "output_type": "stream",
     "text": [
      "     69/100      14.5G     0.8519     0.3426       1.27         85       1920: 100%|██████████| 704/704 [05:38<00:00,  2.08it/s]\n",
      "                 Class     Images  Instances      Box(P          R      mAP50  mAP50-95): 100%|██████████| 57/57 [00:10<00:00,  5.45it/s]\n"
     ]
    },
    {
     "name": "stdout",
     "output_type": "stream",
     "text": [
      "                   all        228       8684       0.89      0.839      0.898      0.628\n",
      "\n",
      "      Epoch    GPU_mem   box_loss   cls_loss   dfl_loss  Instances       Size\n"
     ]
    },
    {
     "name": "stderr",
     "output_type": "stream",
     "text": [
      "     70/100      14.6G     0.8512     0.3407      1.277         45       1920: 100%|██████████| 704/704 [05:38<00:00,  2.08it/s]\n",
      "                 Class     Images  Instances      Box(P          R      mAP50  mAP50-95): 100%|██████████| 57/57 [00:10<00:00,  5.47it/s]"
     ]
    },
    {
     "name": "stdout",
     "output_type": "stream",
     "text": [
      "                   all        228       8684      0.896       0.83      0.909      0.643\n"
     ]
    },
    {
     "name": "stderr",
     "output_type": "stream",
     "text": [
      "\n"
     ]
    },
    {
     "name": "stdout",
     "output_type": "stream",
     "text": [
      "\n",
      "      Epoch    GPU_mem   box_loss   cls_loss   dfl_loss  Instances       Size\n"
     ]
    },
    {
     "name": "stderr",
     "output_type": "stream",
     "text": [
      "     71/100      14.4G     0.8522     0.3407      1.276        160       1920: 100%|██████████| 704/704 [05:38<00:00,  2.08it/s]\n",
      "                 Class     Images  Instances      Box(P          R      mAP50  mAP50-95): 100%|██████████| 57/57 [00:10<00:00,  5.47it/s]"
     ]
    },
    {
     "name": "stdout",
     "output_type": "stream",
     "text": [
      "                   all        228       8684      0.898      0.854      0.928       0.66\n"
     ]
    },
    {
     "name": "stderr",
     "output_type": "stream",
     "text": [
      "\n"
     ]
    },
    {
     "name": "stdout",
     "output_type": "stream",
     "text": [
      "\n",
      "      Epoch    GPU_mem   box_loss   cls_loss   dfl_loss  Instances       Size\n"
     ]
    },
    {
     "name": "stderr",
     "output_type": "stream",
     "text": [
      "     72/100      14.4G     0.8457     0.3369       1.27         93       1920: 100%|██████████| 704/704 [05:38<00:00,  2.08it/s]\n",
      "                 Class     Images  Instances      Box(P          R      mAP50  mAP50-95): 100%|██████████| 57/57 [00:10<00:00,  5.45it/s]\n"
     ]
    },
    {
     "name": "stdout",
     "output_type": "stream",
     "text": [
      "                   all        228       8684      0.894      0.856      0.916       0.65\n",
      "\n",
      "      Epoch    GPU_mem   box_loss   cls_loss   dfl_loss  Instances       Size\n"
     ]
    },
    {
     "name": "stderr",
     "output_type": "stream",
     "text": [
      "     73/100      14.4G     0.8404     0.3387      1.266         69       1920: 100%|██████████| 704/704 [05:38<00:00,  2.08it/s]\n",
      "                 Class     Images  Instances      Box(P          R      mAP50  mAP50-95): 100%|██████████| 57/57 [00:10<00:00,  5.44it/s]\n"
     ]
    },
    {
     "name": "stdout",
     "output_type": "stream",
     "text": [
      "                   all        228       8684      0.893      0.846      0.904      0.633\n",
      "\n",
      "      Epoch    GPU_mem   box_loss   cls_loss   dfl_loss  Instances       Size\n"
     ]
    },
    {
     "name": "stderr",
     "output_type": "stream",
     "text": [
      "     74/100      14.1G     0.8405     0.3341      1.264         20       1920: 100%|██████████| 704/704 [05:38<00:00,  2.08it/s]\n",
      "                 Class     Images  Instances      Box(P          R      mAP50  mAP50-95): 100%|██████████| 57/57 [00:10<00:00,  5.46it/s]"
     ]
    },
    {
     "name": "stdout",
     "output_type": "stream",
     "text": [
      "                   all        228       8684      0.904      0.841      0.908      0.633\n"
     ]
    },
    {
     "name": "stderr",
     "output_type": "stream",
     "text": [
      "\n"
     ]
    },
    {
     "name": "stdout",
     "output_type": "stream",
     "text": [
      "\n",
      "      Epoch    GPU_mem   box_loss   cls_loss   dfl_loss  Instances       Size\n"
     ]
    },
    {
     "name": "stderr",
     "output_type": "stream",
     "text": [
      "     75/100      14.3G     0.8381     0.3368      1.263        122       1920: 100%|██████████| 704/704 [05:38<00:00,  2.08it/s]\n",
      "                 Class     Images  Instances      Box(P          R      mAP50  mAP50-95): 100%|██████████| 57/57 [00:10<00:00,  5.46it/s]\n"
     ]
    },
    {
     "name": "stdout",
     "output_type": "stream",
     "text": [
      "                   all        228       8684      0.893      0.842      0.911      0.649\n",
      "\n",
      "      Epoch    GPU_mem   box_loss   cls_loss   dfl_loss  Instances       Size\n"
     ]
    },
    {
     "name": "stderr",
     "output_type": "stream",
     "text": [
      "     76/100      14.5G     0.8404     0.3394      1.279         54       1920: 100%|██████████| 704/704 [05:38<00:00,  2.08it/s]\n",
      "                 Class     Images  Instances      Box(P          R      mAP50  mAP50-95): 100%|██████████| 57/57 [00:10<00:00,  5.45it/s]"
     ]
    },
    {
     "name": "stdout",
     "output_type": "stream",
     "text": [
      "                   all        228       8684      0.885      0.833      0.913      0.653\n"
     ]
    },
    {
     "name": "stderr",
     "output_type": "stream",
     "text": [
      "\n"
     ]
    },
    {
     "name": "stdout",
     "output_type": "stream",
     "text": [
      "\n",
      "      Epoch    GPU_mem   box_loss   cls_loss   dfl_loss  Instances       Size\n"
     ]
    },
    {
     "name": "stderr",
     "output_type": "stream",
     "text": [
      "     77/100      14.5G     0.8396     0.3354      1.262         36       1920: 100%|██████████| 704/704 [05:38<00:00,  2.08it/s]\n",
      "                 Class     Images  Instances      Box(P          R      mAP50  mAP50-95): 100%|██████████| 57/57 [00:10<00:00,  5.46it/s]"
     ]
    },
    {
     "name": "stdout",
     "output_type": "stream",
     "text": [
      "                   all        228       8684      0.878      0.863      0.924      0.655\n"
     ]
    },
    {
     "name": "stderr",
     "output_type": "stream",
     "text": [
      "\n"
     ]
    },
    {
     "name": "stdout",
     "output_type": "stream",
     "text": [
      "\n",
      "      Epoch    GPU_mem   box_loss   cls_loss   dfl_loss  Instances       Size\n"
     ]
    },
    {
     "name": "stderr",
     "output_type": "stream",
     "text": [
      "     78/100      14.4G     0.8346     0.3325      1.269        168       1920: 100%|██████████| 704/704 [05:38<00:00,  2.08it/s]\n",
      "                 Class     Images  Instances      Box(P          R      mAP50  mAP50-95): 100%|██████████| 57/57 [00:10<00:00,  5.48it/s]"
     ]
    },
    {
     "name": "stdout",
     "output_type": "stream",
     "text": [
      "                   all        228       8684      0.859      0.862      0.914      0.645\n"
     ]
    },
    {
     "name": "stderr",
     "output_type": "stream",
     "text": [
      "\n"
     ]
    },
    {
     "name": "stdout",
     "output_type": "stream",
     "text": [
      "\n",
      "      Epoch    GPU_mem   box_loss   cls_loss   dfl_loss  Instances       Size\n"
     ]
    },
    {
     "name": "stderr",
     "output_type": "stream",
     "text": [
      "     79/100      14.4G     0.8332     0.3358      1.268         58       1920: 100%|██████████| 704/704 [05:38<00:00,  2.08it/s]\n",
      "                 Class     Images  Instances      Box(P          R      mAP50  mAP50-95): 100%|██████████| 57/57 [00:10<00:00,  5.48it/s]"
     ]
    },
    {
     "name": "stdout",
     "output_type": "stream",
     "text": [
      "                   all        228       8684      0.881      0.817      0.896       0.63\n"
     ]
    },
    {
     "name": "stderr",
     "output_type": "stream",
     "text": [
      "\n"
     ]
    },
    {
     "name": "stdout",
     "output_type": "stream",
     "text": [
      "\n",
      "      Epoch    GPU_mem   box_loss   cls_loss   dfl_loss  Instances       Size\n"
     ]
    },
    {
     "name": "stderr",
     "output_type": "stream",
     "text": [
      "     80/100      14.4G     0.8333      0.334      1.253         58       1920: 100%|██████████| 704/704 [05:38<00:00,  2.08it/s]\n",
      "                 Class     Images  Instances      Box(P          R      mAP50  mAP50-95): 100%|██████████| 57/57 [00:10<00:00,  5.49it/s]\n"
     ]
    },
    {
     "name": "stdout",
     "output_type": "stream",
     "text": [
      "                   all        228       8684      0.899      0.837       0.91      0.643\n",
      "\n",
      "      Epoch    GPU_mem   box_loss   cls_loss   dfl_loss  Instances       Size\n"
     ]
    },
    {
     "name": "stderr",
     "output_type": "stream",
     "text": [
      "     81/100      14.6G     0.8306     0.3328      1.251         86       1920: 100%|██████████| 704/704 [05:38<00:00,  2.08it/s]\n",
      "                 Class     Images  Instances      Box(P          R      mAP50  mAP50-95): 100%|██████████| 57/57 [00:10<00:00,  5.48it/s]"
     ]
    },
    {
     "name": "stdout",
     "output_type": "stream",
     "text": [
      "                   all        228       8684       0.87      0.843      0.901      0.634\n"
     ]
    },
    {
     "name": "stderr",
     "output_type": "stream",
     "text": [
      "\n"
     ]
    },
    {
     "name": "stdout",
     "output_type": "stream",
     "text": [
      "\n",
      "      Epoch    GPU_mem   box_loss   cls_loss   dfl_loss  Instances       Size\n"
     ]
    },
    {
     "name": "stderr",
     "output_type": "stream",
     "text": [
      "     82/100      14.3G     0.8258     0.3309      1.256         76       1920: 100%|██████████| 704/704 [05:38<00:00,  2.08it/s]\n",
      "                 Class     Images  Instances      Box(P          R      mAP50  mAP50-95): 100%|██████████| 57/57 [00:10<00:00,  5.47it/s]"
     ]
    },
    {
     "name": "stdout",
     "output_type": "stream",
     "text": [
      "                   all        228       8684       0.89      0.833      0.907      0.639\n"
     ]
    },
    {
     "name": "stderr",
     "output_type": "stream",
     "text": [
      "\n"
     ]
    },
    {
     "name": "stdout",
     "output_type": "stream",
     "text": [
      "\n",
      "      Epoch    GPU_mem   box_loss   cls_loss   dfl_loss  Instances       Size\n"
     ]
    },
    {
     "name": "stderr",
     "output_type": "stream",
     "text": [
      "     83/100      14.4G     0.8297     0.3324      1.261         68       1920: 100%|██████████| 704/704 [05:38<00:00,  2.08it/s]\n",
      "                 Class     Images  Instances      Box(P          R      mAP50  mAP50-95): 100%|██████████| 57/57 [00:10<00:00,  5.48it/s]"
     ]
    },
    {
     "name": "stdout",
     "output_type": "stream",
     "text": [
      "                   all        228       8684      0.871      0.834      0.903      0.634\n"
     ]
    },
    {
     "name": "stderr",
     "output_type": "stream",
     "text": [
      "\n"
     ]
    },
    {
     "name": "stdout",
     "output_type": "stream",
     "text": [
      "\n",
      "      Epoch    GPU_mem   box_loss   cls_loss   dfl_loss  Instances       Size\n"
     ]
    },
    {
     "name": "stderr",
     "output_type": "stream",
     "text": [
      "     84/100      14.4G     0.8223      0.329      1.259        111       1920: 100%|██████████| 704/704 [05:38<00:00,  2.08it/s]\n",
      "                 Class     Images  Instances      Box(P          R      mAP50  mAP50-95): 100%|██████████| 57/57 [00:10<00:00,  5.45it/s]"
     ]
    },
    {
     "name": "stdout",
     "output_type": "stream",
     "text": [
      "                   all        228       8684      0.881      0.851      0.918      0.654\n"
     ]
    },
    {
     "name": "stderr",
     "output_type": "stream",
     "text": [
      "\n"
     ]
    },
    {
     "name": "stdout",
     "output_type": "stream",
     "text": [
      "\n",
      "      Epoch    GPU_mem   box_loss   cls_loss   dfl_loss  Instances       Size\n"
     ]
    },
    {
     "name": "stderr",
     "output_type": "stream",
     "text": [
      "     85/100      14.3G     0.8245     0.3323      1.263         55       1920: 100%|██████████| 704/704 [05:38<00:00,  2.08it/s]\n",
      "                 Class     Images  Instances      Box(P          R      mAP50  mAP50-95): 100%|██████████| 57/57 [00:10<00:00,  5.47it/s]"
     ]
    },
    {
     "name": "stdout",
     "output_type": "stream",
     "text": [
      "                   all        228       8684      0.892      0.833      0.916      0.655\n"
     ]
    },
    {
     "name": "stderr",
     "output_type": "stream",
     "text": [
      "\n"
     ]
    },
    {
     "name": "stdout",
     "output_type": "stream",
     "text": [
      "\n",
      "      Epoch    GPU_mem   box_loss   cls_loss   dfl_loss  Instances       Size\n"
     ]
    },
    {
     "name": "stderr",
     "output_type": "stream",
     "text": [
      "     86/100      14.4G     0.8248     0.3252      1.258         74       1920: 100%|██████████| 704/704 [05:38<00:00,  2.08it/s]\n",
      "                 Class     Images  Instances      Box(P          R      mAP50  mAP50-95): 100%|██████████| 57/57 [00:10<00:00,  5.44it/s]\n"
     ]
    },
    {
     "name": "stdout",
     "output_type": "stream",
     "text": [
      "                   all        228       8684      0.893      0.824        0.9      0.636\n",
      "\n",
      "      Epoch    GPU_mem   box_loss   cls_loss   dfl_loss  Instances       Size\n"
     ]
    },
    {
     "name": "stderr",
     "output_type": "stream",
     "text": [
      "     87/100      14.3G     0.8136     0.3259      1.249         96       1920: 100%|██████████| 704/704 [05:38<00:00,  2.08it/s]\n",
      "                 Class     Images  Instances      Box(P          R      mAP50  mAP50-95): 100%|██████████| 57/57 [00:10<00:00,  5.46it/s]"
     ]
    },
    {
     "name": "stdout",
     "output_type": "stream",
     "text": [
      "                   all        228       8684      0.897      0.837      0.916      0.648\n"
     ]
    },
    {
     "name": "stderr",
     "output_type": "stream",
     "text": [
      "\n"
     ]
    },
    {
     "name": "stdout",
     "output_type": "stream",
     "text": [
      "\n",
      "      Epoch    GPU_mem   box_loss   cls_loss   dfl_loss  Instances       Size\n"
     ]
    },
    {
     "name": "stderr",
     "output_type": "stream",
     "text": [
      "     88/100      14.4G     0.8178     0.3261      1.252         32       1920: 100%|██████████| 704/704 [05:38<00:00,  2.08it/s]\n",
      "                 Class     Images  Instances      Box(P          R      mAP50  mAP50-95): 100%|██████████| 57/57 [00:10<00:00,  5.48it/s]"
     ]
    },
    {
     "name": "stdout",
     "output_type": "stream",
     "text": [
      "                   all        228       8684      0.894      0.813      0.897      0.629\n"
     ]
    },
    {
     "name": "stderr",
     "output_type": "stream",
     "text": [
      "\n"
     ]
    },
    {
     "name": "stdout",
     "output_type": "stream",
     "text": [
      "\n",
      "      Epoch    GPU_mem   box_loss   cls_loss   dfl_loss  Instances       Size\n"
     ]
    },
    {
     "name": "stderr",
     "output_type": "stream",
     "text": [
      "     89/100      14.4G     0.8134     0.3222      1.241        103       1920: 100%|██████████| 704/704 [05:38<00:00,  2.08it/s]\n",
      "                 Class     Images  Instances      Box(P          R      mAP50  mAP50-95): 100%|██████████| 57/57 [00:10<00:00,  5.47it/s]"
     ]
    },
    {
     "name": "stdout",
     "output_type": "stream",
     "text": [
      "                   all        228       8684      0.884      0.841       0.91      0.641\n"
     ]
    },
    {
     "name": "stderr",
     "output_type": "stream",
     "text": [
      "\n"
     ]
    },
    {
     "name": "stdout",
     "output_type": "stream",
     "text": [
      "\n",
      "      Epoch    GPU_mem   box_loss   cls_loss   dfl_loss  Instances       Size\n"
     ]
    },
    {
     "name": "stderr",
     "output_type": "stream",
     "text": [
      "     90/100      14.4G     0.8045     0.3194      1.237         53       1920: 100%|██████████| 704/704 [05:38<00:00,  2.08it/s]\n",
      "                 Class     Images  Instances      Box(P          R      mAP50  mAP50-95): 100%|██████████| 57/57 [00:10<00:00,  5.46it/s]"
     ]
    },
    {
     "name": "stdout",
     "output_type": "stream",
     "text": [
      "                   all        228       8684      0.866      0.864      0.914      0.646\n"
     ]
    },
    {
     "name": "stderr",
     "output_type": "stream",
     "text": [
      "\n"
     ]
    },
    {
     "name": "stdout",
     "output_type": "stream",
     "text": [
      "Closing dataloader mosaic\n",
      "\u001b[34m\u001b[1malbumentations: \u001b[0mBlur(p=0.01, blur_limit=(3, 7)), MedianBlur(p=0.01, blur_limit=(3, 7)), ToGray(p=0.01), CLAHE(p=0.01, clip_limit=(1, 4.0), tile_grid_size=(8, 8))\n",
      "\n",
      "      Epoch    GPU_mem   box_loss   cls_loss   dfl_loss  Instances       Size\n"
     ]
    },
    {
     "name": "stderr",
     "output_type": "stream",
     "text": [
      "     91/100      14.1G     0.8032     0.3196      1.264         44       1920: 100%|██████████| 704/704 [05:38<00:00,  2.08it/s]\n",
      "                 Class     Images  Instances      Box(P          R      mAP50  mAP50-95): 100%|██████████| 57/57 [00:10<00:00,  5.42it/s]\n"
     ]
    },
    {
     "name": "stdout",
     "output_type": "stream",
     "text": [
      "                   all        228       8684      0.875      0.867      0.921      0.654\n",
      "\n",
      "      Epoch    GPU_mem   box_loss   cls_loss   dfl_loss  Instances       Size\n"
     ]
    },
    {
     "name": "stderr",
     "output_type": "stream",
     "text": [
      "     92/100      14.1G     0.8057     0.3139      1.267         25       1920: 100%|██████████| 704/704 [05:37<00:00,  2.08it/s]\n",
      "                 Class     Images  Instances      Box(P          R      mAP50  mAP50-95): 100%|██████████| 57/57 [00:10<00:00,  5.47it/s]"
     ]
    },
    {
     "name": "stdout",
     "output_type": "stream",
     "text": [
      "                   all        228       8684      0.879       0.83      0.906       0.64\n"
     ]
    },
    {
     "name": "stderr",
     "output_type": "stream",
     "text": [
      "\n"
     ]
    },
    {
     "name": "stdout",
     "output_type": "stream",
     "text": [
      "\n",
      "      Epoch    GPU_mem   box_loss   cls_loss   dfl_loss  Instances       Size\n"
     ]
    },
    {
     "name": "stderr",
     "output_type": "stream",
     "text": [
      "     93/100        14G      0.802     0.3103      1.262         27       1920: 100%|██████████| 704/704 [05:37<00:00,  2.08it/s]\n",
      "                 Class     Images  Instances      Box(P          R      mAP50  mAP50-95): 100%|██████████| 57/57 [00:10<00:00,  5.43it/s]"
     ]
    },
    {
     "name": "stdout",
     "output_type": "stream",
     "text": [
      "                   all        228       8684       0.88      0.836      0.912      0.646\n"
     ]
    },
    {
     "name": "stderr",
     "output_type": "stream",
     "text": [
      "\n"
     ]
    },
    {
     "name": "stdout",
     "output_type": "stream",
     "text": [
      "\n",
      "      Epoch    GPU_mem   box_loss   cls_loss   dfl_loss  Instances       Size\n"
     ]
    },
    {
     "name": "stderr",
     "output_type": "stream",
     "text": [
      "     94/100        14G     0.7957     0.3062      1.268         37       1920: 100%|██████████| 704/704 [05:37<00:00,  2.09it/s]\n",
      "                 Class     Images  Instances      Box(P          R      mAP50  mAP50-95): 100%|██████████| 57/57 [00:10<00:00,  5.47it/s]"
     ]
    },
    {
     "name": "stdout",
     "output_type": "stream",
     "text": [
      "                   all        228       8684      0.893      0.837      0.914      0.649\n"
     ]
    },
    {
     "name": "stderr",
     "output_type": "stream",
     "text": [
      "\n"
     ]
    },
    {
     "name": "stdout",
     "output_type": "stream",
     "text": [
      "\n",
      "      Epoch    GPU_mem   box_loss   cls_loss   dfl_loss  Instances       Size\n"
     ]
    },
    {
     "name": "stderr",
     "output_type": "stream",
     "text": [
      "     95/100        14G     0.7916     0.3067      1.266         25       1920: 100%|██████████| 704/704 [05:37<00:00,  2.09it/s]\n",
      "                 Class     Images  Instances      Box(P          R      mAP50  mAP50-95): 100%|██████████| 57/57 [00:10<00:00,  5.45it/s]\n"
     ]
    },
    {
     "name": "stdout",
     "output_type": "stream",
     "text": [
      "                   all        228       8684      0.889      0.848      0.919      0.654\n",
      "\n",
      "      Epoch    GPU_mem   box_loss   cls_loss   dfl_loss  Instances       Size\n"
     ]
    },
    {
     "name": "stderr",
     "output_type": "stream",
     "text": [
      "     96/100      14.1G     0.7916     0.3089      1.268         49       1920: 100%|██████████| 704/704 [05:37<00:00,  2.09it/s]\n",
      "                 Class     Images  Instances      Box(P          R      mAP50  mAP50-95): 100%|██████████| 57/57 [00:10<00:00,  5.45it/s]"
     ]
    },
    {
     "name": "stdout",
     "output_type": "stream",
     "text": [
      "                   all        228       8684      0.896      0.826       0.91      0.643\n"
     ]
    },
    {
     "name": "stderr",
     "output_type": "stream",
     "text": [
      "\n"
     ]
    },
    {
     "name": "stdout",
     "output_type": "stream",
     "text": [
      "\n",
      "      Epoch    GPU_mem   box_loss   cls_loss   dfl_loss  Instances       Size\n"
     ]
    },
    {
     "name": "stderr",
     "output_type": "stream",
     "text": [
      "     97/100        14G      0.791     0.3082      1.265         64       1920: 100%|██████████| 704/704 [05:37<00:00,  2.09it/s]\n",
      "                 Class     Images  Instances      Box(P          R      mAP50  mAP50-95): 100%|██████████| 57/57 [00:10<00:00,  5.48it/s]"
     ]
    },
    {
     "name": "stdout",
     "output_type": "stream",
     "text": [
      "                   all        228       8684      0.893      0.835      0.914      0.649\n"
     ]
    },
    {
     "name": "stderr",
     "output_type": "stream",
     "text": [
      "\n"
     ]
    },
    {
     "name": "stdout",
     "output_type": "stream",
     "text": [
      "\n",
      "      Epoch    GPU_mem   box_loss   cls_loss   dfl_loss  Instances       Size\n"
     ]
    },
    {
     "name": "stderr",
     "output_type": "stream",
     "text": [
      "     98/100        14G     0.7904     0.3069      1.251         44       1920: 100%|██████████| 704/704 [05:37<00:00,  2.09it/s]\n",
      "                 Class     Images  Instances      Box(P          R      mAP50  mAP50-95): 100%|██████████| 57/57 [00:10<00:00,  5.44it/s]"
     ]
    },
    {
     "name": "stdout",
     "output_type": "stream",
     "text": [
      "                   all        228       8684      0.886       0.84      0.911      0.646\n"
     ]
    },
    {
     "name": "stderr",
     "output_type": "stream",
     "text": [
      "\n"
     ]
    },
    {
     "name": "stdout",
     "output_type": "stream",
     "text": [
      "\n",
      "      Epoch    GPU_mem   box_loss   cls_loss   dfl_loss  Instances       Size\n"
     ]
    },
    {
     "name": "stderr",
     "output_type": "stream",
     "text": [
      "     99/100        14G     0.7865     0.3047      1.253         66       1920: 100%|██████████| 704/704 [05:37<00:00,  2.09it/s]\n",
      "                 Class     Images  Instances      Box(P          R      mAP50  mAP50-95): 100%|██████████| 57/57 [00:10<00:00,  5.43it/s]"
     ]
    },
    {
     "name": "stdout",
     "output_type": "stream",
     "text": [
      "                   all        228       8684      0.885      0.837       0.91      0.646\n"
     ]
    },
    {
     "name": "stderr",
     "output_type": "stream",
     "text": [
      "\n"
     ]
    },
    {
     "name": "stdout",
     "output_type": "stream",
     "text": [
      "\n",
      "      Epoch    GPU_mem   box_loss   cls_loss   dfl_loss  Instances       Size\n"
     ]
    },
    {
     "name": "stderr",
     "output_type": "stream",
     "text": [
      "    100/100        14G     0.7829     0.3054      1.249         18       1920: 100%|██████████| 704/704 [05:37<00:00,  2.09it/s]\n",
      "                 Class     Images  Instances      Box(P          R      mAP50  mAP50-95): 100%|██████████| 57/57 [00:10<00:00,  5.42it/s]"
     ]
    },
    {
     "name": "stdout",
     "output_type": "stream",
     "text": [
      "                   all        228       8684      0.886      0.835      0.908      0.646\n"
     ]
    },
    {
     "name": "stderr",
     "output_type": "stream",
     "text": [
      "\n"
     ]
    },
    {
     "name": "stdout",
     "output_type": "stream",
     "text": [
      "\n",
      "100 epochs completed in 9.739 hours.\n",
      "Optimizer stripped from runs/detect/002_YoloV8ExtraLarge_100Epochs_1920/weights/last.pt, 137.0MB\n",
      "Optimizer stripped from runs/detect/002_YoloV8ExtraLarge_100Epochs_1920/weights/best.pt, 137.0MB\n",
      "\n",
      "Validating runs/detect/002_YoloV8ExtraLarge_100Epochs_1920/weights/best.pt...\n",
      "Ultralytics YOLOv8.2.9 🚀 Python-3.9.13 torch-1.12.0+cu113 CUDA:0 (NVIDIA GeForce RTX 3090, 24268MiB)\n",
      "Model summary (fused): 268 layers, 68124531 parameters, 0 gradients, 257.4 GFLOPs\n"
     ]
    },
    {
     "name": "stderr",
     "output_type": "stream",
     "text": [
      "                 Class     Images  Instances      Box(P          R      mAP50  mAP50-95): 100%|██████████| 57/57 [00:12<00:00,  4.41it/s]\n"
     ]
    },
    {
     "name": "stdout",
     "output_type": "stream",
     "text": [
      "                   all        228       8684      0.881      0.897      0.949      0.677\n",
      "Speed: 0.9ms preprocess, 44.4ms inference, 0.0ms loss, 0.5ms postprocess per image\n",
      "Results saved to \u001b[1mruns/detect/002_YoloV8ExtraLarge_100Epochs_1920\u001b[0m\n"
     ]
    }
   ],
   "source": [
    "# Train the model using the 'coco8.yaml' dataset for 3 epochs\n",
    "results = model.train(data='dataSet.yaml',\n",
    "                      epochs=100,\n",
    "                      imgsz=1920,\n",
    "                      plots = True,\n",
    "                      batch=-1,\n",
    "                      name = name)"
   ]
  },
  {
   "cell_type": "code",
   "execution_count": 4,
   "metadata": {
    "colab": {
     "base_uri": "https://localhost:8080/"
    },
    "id": "SMv-eYYlch4b",
    "outputId": "019636a6-3c09-4d12-d0ac-ecdfc2b11a19"
   },
   "outputs": [
    {
     "name": "stdout",
     "output_type": "stream",
     "text": [
      "Ultralytics YOLOv8.2.9 🚀 Python-3.9.13 torch-1.12.0+cu113 CUDA:0 (NVIDIA GeForce RTX 3090, 24268MiB)\n",
      "Model summary (fused): 268 layers, 68124531 parameters, 0 gradients, 257.4 GFLOPs\n"
     ]
    },
    {
     "name": "stderr",
     "output_type": "stream",
     "text": [
      "\u001b[34m\u001b[1mval: \u001b[0mScanning /grupob/home/jodivaso/tfm_miguel/dataSet/labels/test.cache... 177 images, 0 backgrounds, 0 corrupt: 100%|██████████| 177/177 [00:00<?, ?it/s]\n",
      "                 Class     Images  Instances      Box(P          R      mAP50  mAP50-95): 100%|██████████| 89/89 [00:16<00:00,  5.49it/s]\n"
     ]
    },
    {
     "name": "stdout",
     "output_type": "stream",
     "text": [
      "                   all        177       2773      0.905      0.952      0.971       0.72\n",
      "Speed: 1.1ms preprocess, 79.7ms inference, 0.0ms loss, 1.1ms postprocess per image\n",
      "Results saved to \u001b[1mruns/detect/002_YoloV8ExtraLarge_100Epochs_19202\u001b[0m\n"
     ]
    }
   ],
   "source": [
    "metrics = model.val(split = 'test', plots = True)"
   ]
  },
  {
   "cell_type": "code",
   "execution_count": 5,
   "metadata": {
    "colab": {
     "base_uri": "https://localhost:8080/"
    },
    "id": "7UHrNhTL3whW",
    "outputId": "05c35600-9e4f-473d-df4b-92247d0b8d73"
   },
   "outputs": [
    {
     "data": {
      "text/plain": [
       "{'metrics/precision(B)': 0.9053640836074415,\n",
       " 'metrics/recall(B)': 0.9521963145791934,\n",
       " 'metrics/mAP50(B)': 0.9708295779473944,\n",
       " 'metrics/mAP50-95(B)': 0.7203062289174984,\n",
       " 'fitness': 0.745358563820488}"
      ]
     },
     "execution_count": 5,
     "metadata": {},
     "output_type": "execute_result"
    }
   ],
   "source": [
    "metrics.results_dict"
   ]
  },
  {
   "cell_type": "code",
   "execution_count": 12,
   "metadata": {
    "colab": {
     "base_uri": "https://localhost:8080/"
    },
    "id": "GAYU2DrC3_T2",
    "outputId": "3da3c252-64c7-4073-f9ce-2c078588cf22"
   },
   "outputs": [
    {
     "name": "stdout",
     "output_type": "stream",
     "text": [
      "\u001b[31m\u001b[1mrequirements:\u001b[0m Ultralytics requirement ['lapx>=0.5.2'] not found, attempting AutoUpdate...\n",
      "Collecting lapx>=0.5.2\n",
      "  Downloading lapx-0.5.8-cp310-cp310-manylinux_2_5_x86_64.manylinux1_x86_64.manylinux_2_17_x86_64.manylinux2014_x86_64.whl (1.7 MB)\n",
      "     ━━━━━━━━━━━━━━━━━━━━━━━━━━━━━━━━━━━━━━━━ 1.7/1.7 MB 11.3 MB/s eta 0:00:00\n",
      "Requirement already satisfied: Cython>=0.29.32 in /usr/local/lib/python3.10/dist-packages (from lapx>=0.5.2) (3.0.10)\n",
      "Requirement already satisfied: numpy>=1.21.6 in /usr/local/lib/python3.10/dist-packages (from lapx>=0.5.2) (1.25.2)\n",
      "Installing collected packages: lapx\n",
      "Successfully installed lapx-0.5.8\n",
      "\n",
      "\u001b[31m\u001b[1mrequirements:\u001b[0m AutoUpdate success ✅ 5.4s, installed 1 package: ['lapx>=0.5.2']\n",
      "\u001b[31m\u001b[1mrequirements:\u001b[0m ⚠️ \u001b[1mRestart runtime or rerun command for updates to take effect\u001b[0m\n",
      "\n",
      "WARNING ⚠️ Environment does not support cv2.imshow() or PIL Image.show()\n",
      "\n",
      "\n",
      "\n",
      "WARNING ⚠️ inference results will accumulate in RAM unless `stream=True` is passed, causing potential out-of-memory\n",
      "errors for large sources or long-running streams and videos. See https://docs.ultralytics.com/modes/predict/ for help.\n",
      "\n",
      "Example:\n",
      "    results = model(source=..., stream=True)  # generator of Results objects\n",
      "    for r in results:\n",
      "        boxes = r.boxes  # Boxes object for bbox outputs\n",
      "        masks = r.masks  # Masks object for segment masks outputs\n",
      "        probs = r.probs  # Class probabilities for classification outputs\n",
      "\n",
      "video 1/1 (frame 1/60) /content/test.avi: 768x1216 3 Movils, 145.4ms\n",
      "video 1/1 (frame 2/60) /content/test.avi: 768x1216 3 Movils, 10.3ms\n",
      "video 1/1 (frame 3/60) /content/test.avi: 768x1216 4 Movils, 10.0ms\n",
      "video 1/1 (frame 4/60) /content/test.avi: 768x1216 4 Movils, 10.0ms\n",
      "video 1/1 (frame 5/60) /content/test.avi: 768x1216 4 Movils, 9.8ms\n",
      "video 1/1 (frame 6/60) /content/test.avi: 768x1216 4 Movils, 9.8ms\n",
      "video 1/1 (frame 7/60) /content/test.avi: 768x1216 4 Movils, 9.9ms\n",
      "video 1/1 (frame 8/60) /content/test.avi: 768x1216 4 Movils, 9.7ms\n",
      "video 1/1 (frame 9/60) /content/test.avi: 768x1216 4 Movils, 10.0ms\n",
      "video 1/1 (frame 10/60) /content/test.avi: 768x1216 4 Movils, 11.4ms\n",
      "video 1/1 (frame 11/60) /content/test.avi: 768x1216 4 Movils, 9.8ms\n",
      "video 1/1 (frame 12/60) /content/test.avi: 768x1216 4 Movils, 9.8ms\n",
      "video 1/1 (frame 13/60) /content/test.avi: 768x1216 4 Movils, 9.9ms\n",
      "video 1/1 (frame 14/60) /content/test.avi: 768x1216 4 Movils, 9.9ms\n",
      "video 1/1 (frame 15/60) /content/test.avi: 768x1216 4 Movils, 9.9ms\n",
      "video 1/1 (frame 16/60) /content/test.avi: 768x1216 4 Movils, 9.9ms\n",
      "video 1/1 (frame 17/60) /content/test.avi: 768x1216 4 Movils, 10.6ms\n",
      "video 1/1 (frame 18/60) /content/test.avi: 768x1216 4 Movils, 9.8ms\n",
      "video 1/1 (frame 19/60) /content/test.avi: 768x1216 4 Movils, 9.9ms\n",
      "video 1/1 (frame 20/60) /content/test.avi: 768x1216 4 Movils, 9.8ms\n",
      "video 1/1 (frame 21/60) /content/test.avi: 768x1216 4 Movils, 9.7ms\n",
      "video 1/1 (frame 22/60) /content/test.avi: 768x1216 4 Movils, 9.8ms\n",
      "video 1/1 (frame 23/60) /content/test.avi: 768x1216 4 Movils, 9.8ms\n",
      "video 1/1 (frame 24/60) /content/test.avi: 768x1216 4 Movils, 9.7ms\n",
      "video 1/1 (frame 25/60) /content/test.avi: 768x1216 4 Movils, 9.8ms\n",
      "video 1/1 (frame 26/60) /content/test.avi: 768x1216 4 Movils, 9.8ms\n",
      "video 1/1 (frame 27/60) /content/test.avi: 768x1216 4 Movils, 9.7ms\n",
      "video 1/1 (frame 28/60) /content/test.avi: 768x1216 4 Movils, 9.7ms\n",
      "video 1/1 (frame 29/60) /content/test.avi: 768x1216 4 Movils, 11.2ms\n",
      "video 1/1 (frame 30/60) /content/test.avi: 768x1216 4 Movils, 9.9ms\n",
      "video 1/1 (frame 31/60) /content/test.avi: 768x1216 4 Movils, 10.1ms\n",
      "video 1/1 (frame 32/60) /content/test.avi: 768x1216 4 Movils, 9.9ms\n",
      "video 1/1 (frame 33/60) /content/test.avi: 768x1216 4 Movils, 10.0ms\n",
      "video 1/1 (frame 34/60) /content/test.avi: 768x1216 4 Movils, 9.9ms\n",
      "video 1/1 (frame 35/60) /content/test.avi: 768x1216 4 Movils, 9.9ms\n",
      "video 1/1 (frame 36/60) /content/test.avi: 768x1216 4 Movils, 9.9ms\n",
      "video 1/1 (frame 37/60) /content/test.avi: 768x1216 4 Movils, 9.9ms\n",
      "video 1/1 (frame 38/60) /content/test.avi: 768x1216 4 Movils, 10.4ms\n",
      "video 1/1 (frame 39/60) /content/test.avi: 768x1216 4 Movils, 9.9ms\n",
      "video 1/1 (frame 40/60) /content/test.avi: 768x1216 4 Movils, 10.0ms\n",
      "video 1/1 (frame 41/60) /content/test.avi: 768x1216 4 Movils, 9.8ms\n",
      "video 1/1 (frame 42/60) /content/test.avi: 768x1216 4 Movils, 9.8ms\n",
      "video 1/1 (frame 43/60) /content/test.avi: 768x1216 4 Movils, 9.9ms\n",
      "video 1/1 (frame 44/60) /content/test.avi: 768x1216 4 Movils, 9.9ms\n",
      "video 1/1 (frame 45/60) /content/test.avi: 768x1216 4 Movils, 9.9ms\n",
      "video 1/1 (frame 46/60) /content/test.avi: 768x1216 4 Movils, 10.2ms\n",
      "video 1/1 (frame 47/60) /content/test.avi: 768x1216 4 Movils, 9.7ms\n",
      "video 1/1 (frame 48/60) /content/test.avi: 768x1216 4 Movils, 9.7ms\n",
      "video 1/1 (frame 49/60) /content/test.avi: 768x1216 4 Movils, 9.7ms\n",
      "video 1/1 (frame 50/60) /content/test.avi: 768x1216 4 Movils, 11.4ms\n",
      "video 1/1 (frame 51/60) /content/test.avi: 768x1216 4 Movils, 11.8ms\n",
      "video 1/1 (frame 52/60) /content/test.avi: 768x1216 4 Movils, 11.3ms\n",
      "video 1/1 (frame 53/60) /content/test.avi: 768x1216 4 Movils, 11.4ms\n",
      "video 1/1 (frame 54/60) /content/test.avi: 768x1216 4 Movils, 9.8ms\n",
      "video 1/1 (frame 55/60) /content/test.avi: 768x1216 4 Movils, 9.8ms\n",
      "video 1/1 (frame 56/60) /content/test.avi: 768x1216 4 Movils, 9.8ms\n",
      "video 1/1 (frame 57/60) /content/test.avi: 768x1216 4 Movils, 10.1ms\n",
      "video 1/1 (frame 58/60) /content/test.avi: 768x1216 4 Movils, 11.3ms\n",
      "video 1/1 (frame 59/60) /content/test.avi: 768x1216 4 Movils, 9.9ms\n",
      "Speed: 8.2ms preprocess, 12.4ms inference, 1.5ms postprocess per image at shape (1, 3, 768, 1216)\n"
     ]
    }
   ],
   "source": [
    "#model.predict(source = 'dataSet/images/test/image_0.jpg', save = True)\n",
    "results = model.track(source=\"test.avi\", show=True)"
   ]
  },
  {
   "cell_type": "code",
   "execution_count": 13,
   "metadata": {
    "colab": {
     "base_uri": "https://localhost:8080/"
    },
    "id": "w1_IjHAMyPqb",
    "outputId": "af52d5ec-8fe6-4f83-a983-2e451e972f07"
   },
   "outputs": [
    {
     "name": "stdout",
     "output_type": "stream",
     "text": [
      "\n",
      "\n",
      "WARNING ⚠️ inference results will accumulate in RAM unless `stream=True` is passed, causing potential out-of-memory\n",
      "errors for large sources or long-running streams and videos. See https://docs.ultralytics.com/modes/predict/ for help.\n",
      "\n",
      "Example:\n",
      "    results = model(source=..., stream=True)  # generator of Results objects\n",
      "    for r in results:\n",
      "        boxes = r.boxes  # Boxes object for bbox outputs\n",
      "        masks = r.masks  # Masks object for segment masks outputs\n",
      "        probs = r.probs  # Class probabilities for classification outputs\n",
      "\n",
      "video 1/1 (frame 1/60) /content/test.avi: 768x1216 3 Movils, 10.3ms\n",
      "video 1/1 (frame 2/60) /content/test.avi: 768x1216 3 Movils, 9.9ms\n",
      "video 1/1 (frame 3/60) /content/test.avi: 768x1216 4 Movils, 10.2ms\n",
      "video 1/1 (frame 4/60) /content/test.avi: 768x1216 4 Movils, 10.0ms\n",
      "video 1/1 (frame 5/60) /content/test.avi: 768x1216 4 Movils, 10.2ms\n",
      "video 1/1 (frame 6/60) /content/test.avi: 768x1216 4 Movils, 10.1ms\n",
      "video 1/1 (frame 7/60) /content/test.avi: 768x1216 4 Movils, 9.9ms\n",
      "video 1/1 (frame 8/60) /content/test.avi: 768x1216 4 Movils, 10.3ms\n",
      "video 1/1 (frame 9/60) /content/test.avi: 768x1216 4 Movils, 10.1ms\n",
      "video 1/1 (frame 10/60) /content/test.avi: 768x1216 4 Movils, 10.0ms\n",
      "video 1/1 (frame 11/60) /content/test.avi: 768x1216 4 Movils, 9.9ms\n",
      "video 1/1 (frame 12/60) /content/test.avi: 768x1216 4 Movils, 10.0ms\n",
      "video 1/1 (frame 13/60) /content/test.avi: 768x1216 4 Movils, 10.0ms\n",
      "video 1/1 (frame 14/60) /content/test.avi: 768x1216 4 Movils, 9.9ms\n",
      "video 1/1 (frame 15/60) /content/test.avi: 768x1216 4 Movils, 9.9ms\n",
      "video 1/1 (frame 16/60) /content/test.avi: 768x1216 4 Movils, 10.1ms\n",
      "video 1/1 (frame 17/60) /content/test.avi: 768x1216 4 Movils, 10.0ms\n",
      "video 1/1 (frame 18/60) /content/test.avi: 768x1216 4 Movils, 10.1ms\n",
      "video 1/1 (frame 19/60) /content/test.avi: 768x1216 4 Movils, 10.0ms\n",
      "video 1/1 (frame 20/60) /content/test.avi: 768x1216 4 Movils, 9.9ms\n",
      "video 1/1 (frame 21/60) /content/test.avi: 768x1216 4 Movils, 10.0ms\n",
      "video 1/1 (frame 22/60) /content/test.avi: 768x1216 4 Movils, 9.9ms\n",
      "video 1/1 (frame 23/60) /content/test.avi: 768x1216 4 Movils, 9.8ms\n",
      "video 1/1 (frame 24/60) /content/test.avi: 768x1216 4 Movils, 9.8ms\n",
      "video 1/1 (frame 25/60) /content/test.avi: 768x1216 4 Movils, 9.8ms\n",
      "video 1/1 (frame 26/60) /content/test.avi: 768x1216 4 Movils, 11.0ms\n",
      "video 1/1 (frame 27/60) /content/test.avi: 768x1216 4 Movils, 9.7ms\n",
      "video 1/1 (frame 28/60) /content/test.avi: 768x1216 4 Movils, 10.1ms\n",
      "video 1/1 (frame 29/60) /content/test.avi: 768x1216 4 Movils, 9.8ms\n",
      "video 1/1 (frame 30/60) /content/test.avi: 768x1216 4 Movils, 9.7ms\n",
      "video 1/1 (frame 31/60) /content/test.avi: 768x1216 4 Movils, 9.7ms\n",
      "video 1/1 (frame 32/60) /content/test.avi: 768x1216 4 Movils, 9.7ms\n",
      "video 1/1 (frame 33/60) /content/test.avi: 768x1216 4 Movils, 11.1ms\n",
      "video 1/1 (frame 34/60) /content/test.avi: 768x1216 4 Movils, 10.0ms\n",
      "video 1/1 (frame 35/60) /content/test.avi: 768x1216 4 Movils, 11.4ms\n",
      "video 1/1 (frame 36/60) /content/test.avi: 768x1216 4 Movils, 11.4ms\n",
      "video 1/1 (frame 37/60) /content/test.avi: 768x1216 4 Movils, 11.6ms\n",
      "video 1/1 (frame 38/60) /content/test.avi: 768x1216 4 Movils, 10.0ms\n",
      "video 1/1 (frame 39/60) /content/test.avi: 768x1216 4 Movils, 9.9ms\n",
      "video 1/1 (frame 40/60) /content/test.avi: 768x1216 4 Movils, 10.5ms\n",
      "video 1/1 (frame 41/60) /content/test.avi: 768x1216 4 Movils, 10.5ms\n",
      "video 1/1 (frame 42/60) /content/test.avi: 768x1216 4 Movils, 9.9ms\n",
      "video 1/1 (frame 43/60) /content/test.avi: 768x1216 4 Movils, 9.9ms\n",
      "video 1/1 (frame 44/60) /content/test.avi: 768x1216 4 Movils, 10.3ms\n",
      "video 1/1 (frame 45/60) /content/test.avi: 768x1216 4 Movils, 10.4ms\n",
      "video 1/1 (frame 46/60) /content/test.avi: 768x1216 4 Movils, 10.0ms\n",
      "video 1/1 (frame 47/60) /content/test.avi: 768x1216 4 Movils, 10.1ms\n",
      "video 1/1 (frame 48/60) /content/test.avi: 768x1216 4 Movils, 10.1ms\n",
      "video 1/1 (frame 49/60) /content/test.avi: 768x1216 4 Movils, 9.9ms\n",
      "video 1/1 (frame 50/60) /content/test.avi: 768x1216 4 Movils, 11.7ms\n",
      "video 1/1 (frame 51/60) /content/test.avi: 768x1216 4 Movils, 9.9ms\n",
      "video 1/1 (frame 52/60) /content/test.avi: 768x1216 4 Movils, 10.1ms\n",
      "video 1/1 (frame 53/60) /content/test.avi: 768x1216 4 Movils, 9.9ms\n",
      "video 1/1 (frame 54/60) /content/test.avi: 768x1216 4 Movils, 9.9ms\n",
      "video 1/1 (frame 55/60) /content/test.avi: 768x1216 4 Movils, 9.9ms\n",
      "video 1/1 (frame 56/60) /content/test.avi: 768x1216 4 Movils, 10.0ms\n",
      "video 1/1 (frame 57/60) /content/test.avi: 768x1216 4 Movils, 9.9ms\n",
      "video 1/1 (frame 58/60) /content/test.avi: 768x1216 4 Movils, 9.8ms\n",
      "video 1/1 (frame 59/60) /content/test.avi: 768x1216 4 Movils, 10.0ms\n",
      "Speed: 6.6ms preprocess, 10.1ms inference, 1.5ms postprocess per image at shape (1, 3, 768, 1216)\n",
      "Results saved to \u001b[1mruns/detect/train3\u001b[0m\n"
     ]
    }
   ],
   "source": [
    "%%capture\n",
    "results = model('test.avi', save=True)"
   ]
  },
  {
   "cell_type": "code",
   "execution_count": 14,
   "metadata": {
    "colab": {
     "base_uri": "https://localhost:8080/"
    },
    "id": "2uWs96_4LPKh",
    "outputId": "b24ac7c8-cf91-4f68-f836-146a65933119"
   },
   "outputs": [
    {
     "name": "stdout",
     "output_type": "stream",
     "text": [
      "\n",
      "\n",
      "WARNING ⚠️ inference results will accumulate in RAM unless `stream=True` is passed, causing potential out-of-memory\n",
      "errors for large sources or long-running streams and videos. See https://docs.ultralytics.com/modes/predict/ for help.\n",
      "\n",
      "Example:\n",
      "    results = model(source=..., stream=True)  # generator of Results objects\n",
      "    for r in results:\n",
      "        boxes = r.boxes  # Boxes object for bbox outputs\n",
      "        masks = r.masks  # Masks object for segment masks outputs\n",
      "        probs = r.probs  # Class probabilities for classification outputs\n",
      "\n",
      "video 1/1 (frame 1/60) /content/Suppl_1.avi: 768x1216 31 Movils, 10.4ms\n",
      "video 1/1 (frame 2/60) /content/Suppl_1.avi: 768x1216 31 Movils, 10.3ms\n",
      "video 1/1 (frame 3/60) /content/Suppl_1.avi: 768x1216 31 Movils, 10.2ms\n",
      "video 1/1 (frame 4/60) /content/Suppl_1.avi: 768x1216 31 Movils, 10.1ms\n",
      "video 1/1 (frame 5/60) /content/Suppl_1.avi: 768x1216 31 Movils, 10.1ms\n",
      "video 1/1 (frame 6/60) /content/Suppl_1.avi: 768x1216 31 Movils, 9.9ms\n",
      "video 1/1 (frame 7/60) /content/Suppl_1.avi: 768x1216 31 Movils, 10.9ms\n",
      "video 1/1 (frame 8/60) /content/Suppl_1.avi: 768x1216 31 Movils, 10.2ms\n",
      "video 1/1 (frame 9/60) /content/Suppl_1.avi: 768x1216 31 Movils, 10.0ms\n",
      "video 1/1 (frame 10/60) /content/Suppl_1.avi: 768x1216 31 Movils, 10.0ms\n",
      "video 1/1 (frame 11/60) /content/Suppl_1.avi: 768x1216 31 Movils, 9.9ms\n",
      "video 1/1 (frame 12/60) /content/Suppl_1.avi: 768x1216 31 Movils, 9.9ms\n",
      "video 1/1 (frame 13/60) /content/Suppl_1.avi: 768x1216 31 Movils, 9.8ms\n",
      "video 1/1 (frame 14/60) /content/Suppl_1.avi: 768x1216 31 Movils, 9.9ms\n",
      "video 1/1 (frame 15/60) /content/Suppl_1.avi: 768x1216 31 Movils, 9.9ms\n",
      "video 1/1 (frame 16/60) /content/Suppl_1.avi: 768x1216 31 Movils, 9.9ms\n",
      "video 1/1 (frame 17/60) /content/Suppl_1.avi: 768x1216 31 Movils, 9.9ms\n",
      "video 1/1 (frame 18/60) /content/Suppl_1.avi: 768x1216 31 Movils, 9.8ms\n",
      "video 1/1 (frame 19/60) /content/Suppl_1.avi: 768x1216 31 Movils, 10.3ms\n",
      "video 1/1 (frame 20/60) /content/Suppl_1.avi: 768x1216 31 Movils, 9.9ms\n",
      "video 1/1 (frame 21/60) /content/Suppl_1.avi: 768x1216 31 Movils, 9.8ms\n",
      "video 1/1 (frame 22/60) /content/Suppl_1.avi: 768x1216 31 Movils, 10.1ms\n",
      "video 1/1 (frame 23/60) /content/Suppl_1.avi: 768x1216 31 Movils, 9.7ms\n",
      "video 1/1 (frame 24/60) /content/Suppl_1.avi: 768x1216 31 Movils, 11.5ms\n",
      "video 1/1 (frame 25/60) /content/Suppl_1.avi: 768x1216 31 Movils, 11.6ms\n",
      "video 1/1 (frame 26/60) /content/Suppl_1.avi: 768x1216 31 Movils, 10.0ms\n",
      "video 1/1 (frame 27/60) /content/Suppl_1.avi: 768x1216 31 Movils, 9.9ms\n",
      "video 1/1 (frame 28/60) /content/Suppl_1.avi: 768x1216 31 Movils, 9.9ms\n",
      "video 1/1 (frame 29/60) /content/Suppl_1.avi: 768x1216 31 Movils, 10.0ms\n",
      "video 1/1 (frame 30/60) /content/Suppl_1.avi: 768x1216 31 Movils, 9.9ms\n",
      "video 1/1 (frame 31/60) /content/Suppl_1.avi: 768x1216 31 Movils, 9.8ms\n",
      "video 1/1 (frame 32/60) /content/Suppl_1.avi: 768x1216 32 Movils, 9.8ms\n",
      "video 1/1 (frame 33/60) /content/Suppl_1.avi: 768x1216 32 Movils, 10.0ms\n",
      "video 1/1 (frame 34/60) /content/Suppl_1.avi: 768x1216 32 Movils, 10.1ms\n",
      "video 1/1 (frame 35/60) /content/Suppl_1.avi: 768x1216 32 Movils, 10.0ms\n",
      "video 1/1 (frame 36/60) /content/Suppl_1.avi: 768x1216 32 Movils, 10.0ms\n",
      "video 1/1 (frame 37/60) /content/Suppl_1.avi: 768x1216 32 Movils, 10.6ms\n",
      "video 1/1 (frame 38/60) /content/Suppl_1.avi: 768x1216 32 Movils, 9.9ms\n",
      "video 1/1 (frame 39/60) /content/Suppl_1.avi: 768x1216 32 Movils, 10.9ms\n",
      "video 1/1 (frame 40/60) /content/Suppl_1.avi: 768x1216 32 Movils, 10.2ms\n",
      "video 1/1 (frame 41/60) /content/Suppl_1.avi: 768x1216 32 Movils, 9.8ms\n",
      "video 1/1 (frame 42/60) /content/Suppl_1.avi: 768x1216 32 Movils, 10.0ms\n",
      "video 1/1 (frame 43/60) /content/Suppl_1.avi: 768x1216 32 Movils, 9.8ms\n",
      "video 1/1 (frame 44/60) /content/Suppl_1.avi: 768x1216 32 Movils, 11.2ms\n",
      "video 1/1 (frame 45/60) /content/Suppl_1.avi: 768x1216 32 Movils, 11.2ms\n",
      "video 1/1 (frame 46/60) /content/Suppl_1.avi: 768x1216 32 Movils, 11.5ms\n",
      "video 1/1 (frame 47/60) /content/Suppl_1.avi: 768x1216 32 Movils, 11.5ms\n",
      "video 1/1 (frame 48/60) /content/Suppl_1.avi: 768x1216 32 Movils, 9.9ms\n",
      "video 1/1 (frame 49/60) /content/Suppl_1.avi: 768x1216 32 Movils, 10.0ms\n",
      "video 1/1 (frame 50/60) /content/Suppl_1.avi: 768x1216 32 Movils, 10.3ms\n",
      "video 1/1 (frame 51/60) /content/Suppl_1.avi: 768x1216 32 Movils, 10.1ms\n",
      "video 1/1 (frame 52/60) /content/Suppl_1.avi: 768x1216 32 Movils, 10.1ms\n",
      "video 1/1 (frame 53/60) /content/Suppl_1.avi: 768x1216 33 Movils, 10.0ms\n",
      "video 1/1 (frame 54/60) /content/Suppl_1.avi: 768x1216 33 Movils, 9.9ms\n",
      "video 1/1 (frame 55/60) /content/Suppl_1.avi: 768x1216 33 Movils, 10.1ms\n",
      "video 1/1 (frame 56/60) /content/Suppl_1.avi: 768x1216 33 Movils, 10.2ms\n",
      "video 1/1 (frame 57/60) /content/Suppl_1.avi: 768x1216 33 Movils, 10.0ms\n",
      "video 1/1 (frame 58/60) /content/Suppl_1.avi: 768x1216 33 Movils, 10.0ms\n",
      "video 1/1 (frame 59/60) /content/Suppl_1.avi: 768x1216 33 Movils, 10.1ms\n",
      "Speed: 6.6ms preprocess, 10.2ms inference, 1.6ms postprocess per image at shape (1, 3, 768, 1216)\n",
      "Results saved to \u001b[1mruns/detect/train4\u001b[0m\n"
     ]
    }
   ],
   "source": [
    "%%capture\n",
    "results = model('Suppl_1.avi', save=True)"
   ]
  },
  {
   "cell_type": "code",
   "execution_count": 15,
   "metadata": {
    "colab": {
     "base_uri": "https://localhost:8080/",
     "height": 264
    },
    "id": "2P6qyvvS9CAl",
    "outputId": "167c2a9d-d14a-4fc6-80da-08770ba2e811"
   },
   "outputs": [
    {
     "name": "stdout",
     "output_type": "stream",
     "text": [
      "Ultralytics YOLOv8.2.5 🚀 Python-3.10.12 torch-2.2.1+cu121 CPU (Intel Xeon 2.20GHz)\n",
      "\n",
      "\u001b[34m\u001b[1mPyTorch:\u001b[0m starting from 'runs/detect/train/weights/best.pt' with input shape (1, 3, 1216, 1216) BCHW and output shape(s) (1, 5, 30324) (21.5 MB)\n",
      "\n",
      "\u001b[34m\u001b[1mTorchScript:\u001b[0m starting export with torch 2.2.1+cu121...\n",
      "\u001b[34m\u001b[1mTorchScript:\u001b[0m export success ✅ 3.1s, saved as 'runs/detect/train/weights/best.torchscript' (43.1 MB)\n",
      "\n",
      "Export complete (4.9s)\n",
      "Results saved to \u001b[1m/content/runs/detect/train/weights\u001b[0m\n",
      "Predict:         yolo predict task=detect model=runs/detect/train/weights/best.torchscript imgsz=1216  \n",
      "Validate:        yolo val task=detect model=runs/detect/train/weights/best.torchscript imgsz=1216 data=dataSet.yaml  \n",
      "Visualize:       https://netron.app\n"
     ]
    },
    {
     "data": {
      "application/vnd.google.colaboratory.intrinsic+json": {
       "type": "string"
      },
      "text/plain": [
       "'runs/detect/train/weights/best.torchscript'"
      ]
     },
     "execution_count": 15,
     "metadata": {},
     "output_type": "execute_result"
    }
   ],
   "source": [
    "# Export the model\n",
    "model.export()"
   ]
  },
  {
   "cell_type": "code",
   "execution_count": 16,
   "metadata": {
    "id": "eWc1MUpDJPBS"
   },
   "outputs": [],
   "source": [
    "import shutil\n",
    "archivo = shutil.make_archive('ModelInformation', 'zip','/content/runs')"
   ]
  }
 ],
 "metadata": {
  "accelerator": "GPU",
  "colab": {
   "authorship_tag": "ABX9TyMYPVkntz51C/lsU4zhak7F",
   "gpuType": "L4",
   "include_colab_link": true,
   "machine_shape": "hm",
   "provenance": []
  },
  "kernelspec": {
   "display_name": "Python [conda env:.conda-AutoGluonGPU]",
   "language": "python",
   "name": "conda-env-.conda-AutoGluonGPU-py"
  },
  "language_info": {
   "codemirror_mode": {
    "name": "ipython",
    "version": 3
   },
   "file_extension": ".py",
   "mimetype": "text/x-python",
   "name": "python",
   "nbconvert_exporter": "python",
   "pygments_lexer": "ipython3",
   "version": "3.9.13"
  }
 },
 "nbformat": 4,
 "nbformat_minor": 4
}
