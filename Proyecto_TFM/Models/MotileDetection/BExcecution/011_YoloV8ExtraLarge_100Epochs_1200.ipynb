{
 "cells": [
  {
   "cell_type": "markdown",
   "metadata": {
    "colab_type": "text",
    "id": "view-in-github"
   },
   "source": [
    "<a href=\"https://colab.research.google.com/github/Hitomiblood/ProjectsDataScienceMaster/blob/main/Proyecto_TFM/TestingModelos/YoloV8Small_100Epochs.ipynb\" target=\"_parent\"><img src=\"https://colab.research.google.com/assets/colab-badge.svg\" alt=\"Open In Colab\"/></a>"
   ]
  },
  {
   "cell_type": "markdown",
   "metadata": {
    "id": "-xvSbyMnbedE"
   },
   "source": [
    "# Modelo de detección de espermatozoides usando YoloV8 Small"
   ]
  },
  {
   "cell_type": "markdown",
   "metadata": {
    "id": "k_vcIT-ktXpv"
   },
   "source": [
    "Se realiza la instalación de las librerías necesarias para el procedimiento:"
   ]
  },
  {
   "cell_type": "markdown",
   "metadata": {
    "id": "SSM8V8NocT2b"
   },
   "source": [
    "Cargamos un modelo preentrenado. En este caso usaremos el modelo Small de Yolo para ver el comportamiento en el proceso de entrenamiento y posteriormente aumentar el tamaño del modelo a entrenar."
   ]
  },
  {
   "cell_type": "code",
   "execution_count": 1,
   "metadata": {
    "colab": {
     "base_uri": "https://localhost:8080/"
    },
    "id": "YWqxKLAZcGxV",
    "outputId": "1cf206e0-df84-4e95-d326-3b8ef6a2c78e"
   },
   "outputs": [],
   "source": [
    "from ultralytics import YOLO\n",
    "import cv2 as cv2\n",
    "from PIL import Image\n",
    "\n",
    "# Load a pretrained YOLO model (recommended for training)\n",
    "model = YOLO('yolov8x.pt')\n",
    "name = \"011_YoloV8ExtraLarge_100Epochs_1200.ipynb\""
   ]
  },
  {
   "cell_type": "code",
   "execution_count": 2,
   "metadata": {
    "id": "FjaiEBRV1k4v"
   },
   "outputs": [],
   "source": [
    "import os\n",
    "\n",
    "# Función para corregir las anotaciones\n",
    "def fix_annotations(annotation_folder):\n",
    "    for root, dirs, files in os.walk(annotation_folder):\n",
    "        for file in files:\n",
    "            if file.endswith(\".txt\"):\n",
    "                file_path = os.path.join(root, file)\n",
    "                fix_annotation_file(file_path)\n",
    "\n",
    "# Función para corregir un archivo de anotación específico\n",
    "def fix_annotation_file(file_path):\n",
    "    with open(file_path, \"r+\") as file:\n",
    "        lines = file.readlines()\n",
    "        file.seek(0)\n",
    "        for line in lines:\n",
    "            parts = line.strip().split()\n",
    "            if len(parts) > 5:\n",
    "                parts = parts[:5]  # Mantener solo las primeras 5 columnas\n",
    "            fixed_line = \" \".join(parts) + \"\\n\"\n",
    "            file.write(fixed_line)\n",
    "        file.truncate()\n",
    "\n",
    "# Directorio donde se encuentran los archivos de anotaciones\n",
    "annotation_folder = \"dataSet/labels/val\"\n",
    "\n",
    "# Corregir las anotaciones\n",
    "fix_annotations(annotation_folder)\n",
    "\n",
    "# Directorio donde se encuentran los archivos de anotaciones\n",
    "annotation_folder = \"dataSet/labels/test\"\n",
    "\n",
    "# Corregir las anotaciones\n",
    "fix_annotations(annotation_folder)\n",
    "# Directorio donde se encuentran los archivos de anotaciones\n",
    "annotation_folder = \"dataSet/labels/train\"\n",
    "\n",
    "# Corregir las anotaciones\n",
    "fix_annotations(annotation_folder)\n"
   ]
  },
  {
   "cell_type": "code",
   "execution_count": 3,
   "metadata": {
    "colab": {
     "base_uri": "https://localhost:8080/"
    },
    "id": "eOfRR4UBcWf-",
    "outputId": "0ffc156f-d0de-4ced-f59a-6d2bf450e201"
   },
   "outputs": [
    {
     "name": "stdout",
     "output_type": "stream",
     "text": [
      "New https://pypi.org/project/ultralytics/8.2.11 available 😃 Update with 'pip install -U ultralytics'\n",
      "WARNING ⚠️ Upgrade to torch>=2.0.0 for deterministic training.\n",
      "\u001b[34m\u001b[1mengine/trainer: \u001b[0mtask=detect, mode=train, model=yolov8x.pt, data=dataSet.yaml, epochs=100, time=None, patience=100, batch=-1, imgsz=1200, save=True, save_period=-1, cache=False, device=cuda:0, workers=8, project=None, name=011_YoloV8ExtraLarge_100Epochs_1200.ipynb, exist_ok=False, pretrained=True, optimizer=auto, verbose=True, seed=0, deterministic=True, single_cls=False, rect=False, cos_lr=False, close_mosaic=10, resume=False, amp=True, fraction=1.0, profile=False, freeze=None, multi_scale=False, overlap_mask=True, mask_ratio=4, dropout=0.0, val=True, split=val, save_json=False, save_hybrid=False, conf=None, iou=0.7, max_det=300, half=False, dnn=False, plots=True, source=None, vid_stride=1, stream_buffer=False, visualize=False, augment=False, agnostic_nms=False, classes=None, retina_masks=False, embed=None, show=False, save_frames=False, save_txt=False, save_conf=False, save_crop=False, show_labels=True, show_conf=True, show_boxes=True, line_width=None, format=torchscript, keras=False, optimize=False, int8=False, dynamic=False, simplify=False, opset=None, workspace=4, nms=False, lr0=0.01, lrf=0.01, momentum=0.937, weight_decay=0.0005, warmup_epochs=3.0, warmup_momentum=0.8, warmup_bias_lr=0.1, box=7.5, cls=0.5, dfl=1.5, pose=12.0, kobj=1.0, label_smoothing=0.0, nbs=64, hsv_h=0.015, hsv_s=0.7, hsv_v=0.4, degrees=0.0, translate=0.1, scale=0.5, shear=0.0, perspective=0.0, flipud=0.0, fliplr=0.5, bgr=0.0, mosaic=1.0, mixup=0.0, copy_paste=0.0, auto_augment=randaugment, erasing=0.4, crop_fraction=1.0, cfg=None, tracker=botsort.yaml, save_dir=runs/detect/011_YoloV8ExtraLarge_100Epochs_1200.ipynb\n",
      "Overriding model.yaml nc=80 with nc=1\n",
      "\n",
      "                   from  n    params  module                                       arguments                     \n",
      "  0                  -1  1      2320  ultralytics.nn.modules.conv.Conv             [3, 80, 3, 2]                 \n",
      "  1                  -1  1    115520  ultralytics.nn.modules.conv.Conv             [80, 160, 3, 2]               \n",
      "  2                  -1  3    436800  ultralytics.nn.modules.block.C2f             [160, 160, 3, True]           \n",
      "  3                  -1  1    461440  ultralytics.nn.modules.conv.Conv             [160, 320, 3, 2]              \n",
      "  4                  -1  6   3281920  ultralytics.nn.modules.block.C2f             [320, 320, 6, True]           \n",
      "  5                  -1  1   1844480  ultralytics.nn.modules.conv.Conv             [320, 640, 3, 2]              \n",
      "  6                  -1  6  13117440  ultralytics.nn.modules.block.C2f             [640, 640, 6, True]           \n",
      "  7                  -1  1   3687680  ultralytics.nn.modules.conv.Conv             [640, 640, 3, 2]              \n",
      "  8                  -1  3   6969600  ultralytics.nn.modules.block.C2f             [640, 640, 3, True]           \n",
      "  9                  -1  1   1025920  ultralytics.nn.modules.block.SPPF            [640, 640, 5]                 \n",
      " 10                  -1  1         0  torch.nn.modules.upsampling.Upsample         [None, 2, 'nearest']          \n",
      " 11             [-1, 6]  1         0  ultralytics.nn.modules.conv.Concat           [1]                           \n",
      " 12                  -1  3   7379200  ultralytics.nn.modules.block.C2f             [1280, 640, 3]                \n",
      " 13                  -1  1         0  torch.nn.modules.upsampling.Upsample         [None, 2, 'nearest']          \n",
      " 14             [-1, 4]  1         0  ultralytics.nn.modules.conv.Concat           [1]                           \n",
      " 15                  -1  3   1948800  ultralytics.nn.modules.block.C2f             [960, 320, 3]                 \n",
      " 16                  -1  1    922240  ultralytics.nn.modules.conv.Conv             [320, 320, 3, 2]              \n",
      " 17            [-1, 12]  1         0  ultralytics.nn.modules.conv.Concat           [1]                           \n",
      " 18                  -1  3   7174400  ultralytics.nn.modules.block.C2f             [960, 640, 3]                 \n",
      " 19                  -1  1   3687680  ultralytics.nn.modules.conv.Conv             [640, 640, 3, 2]              \n",
      " 20             [-1, 9]  1         0  ultralytics.nn.modules.conv.Concat           [1]                           \n",
      " 21                  -1  3   7379200  ultralytics.nn.modules.block.C2f             [1280, 640, 3]                \n",
      " 22        [15, 18, 21]  1   8718931  ultralytics.nn.modules.head.Detect           [1, [320, 640, 640]]          \n",
      "Model summary: 365 layers, 68153571 parameters, 68153555 gradients, 258.1 GFLOPs\n",
      "\n",
      "Transferred 589/595 items from pretrained weights\n",
      "\u001b[34m\u001b[1mTensorBoard: \u001b[0mStart with 'tensorboard --logdir runs/detect/011_YoloV8ExtraLarge_100Epochs_1200.ipynb', view at http://localhost:6006/\n",
      "Freezing layer 'model.22.dfl.conv.weight'\n",
      "\u001b[34m\u001b[1mAMP: \u001b[0mrunning Automatic Mixed Precision (AMP) checks with YOLOv8n...\n",
      "\u001b[34m\u001b[1mAMP: \u001b[0mchecks passed ✅\n",
      "WARNING ⚠️ imgsz=[1200] must be multiple of max stride 32, updating to [1216]\n",
      "\u001b[34m\u001b[1mAutoBatch: \u001b[0mComputing optimal batch size for imgsz=1216\n",
      "\u001b[34m\u001b[1mAutoBatch: \u001b[0mCUDA:0 (NVIDIA GeForce RTX 3090) 23.70G total, 0.55G reserved, 0.53G allocated, 22.62G free\n",
      "      Params      GFLOPs  GPU_mem (GB)  forward (ms) backward (ms)                   input                  output\n",
      "    68153571       931.8         3.192         51.99         43.61      (1, 3, 1216, 1216)                    list\n",
      "    68153571        1864         5.549         63.18         64.04      (2, 3, 1216, 1216)                    list\n",
      "    68153571        3727        10.475         105.9         117.9      (4, 3, 1216, 1216)                    list\n",
      "    68153571        7455        19.831         217.5           234      (8, 3, 1216, 1216)                    list\n",
      "CUDA out of memory. Tried to allocate 58.00 MiB (GPU 0; 23.70 GiB total capacity; 21.70 GiB already allocated; 24.56 MiB free; 21.96 GiB reserved in total by PyTorch) If reserved memory is >> allocated memory try setting max_split_size_mb to avoid fragmentation.  See documentation for Memory Management and PYTORCH_CUDA_ALLOC_CONF\n",
      "\u001b[34m\u001b[1mAutoBatch: \u001b[0mUsing batch-size 5 for CUDA:0 13.81G/23.70G (58%) ✅\n"
     ]
    },
    {
     "name": "stderr",
     "output_type": "stream",
     "text": [
      "\u001b[34m\u001b[1mtrain: \u001b[0mScanning /grupob/home/jodivaso/tfm_miguel/dataSet/labels/train.cache... 1408 images, 0 backgrounds, 0 corrupt: 100%|██████████| 1408/1408 [00:00<?, ?it/s]\n"
     ]
    },
    {
     "name": "stdout",
     "output_type": "stream",
     "text": [
      "\u001b[34m\u001b[1malbumentations: \u001b[0mBlur(p=0.01, blur_limit=(3, 7)), MedianBlur(p=0.01, blur_limit=(3, 7)), ToGray(p=0.01), CLAHE(p=0.01, clip_limit=(1, 4.0), tile_grid_size=(8, 8))\n"
     ]
    },
    {
     "name": "stderr",
     "output_type": "stream",
     "text": [
      "\u001b[34m\u001b[1mval: \u001b[0mScanning /grupob/home/jodivaso/tfm_miguel/dataSet/labels/val.cache... 228 images, 0 backgrounds, 0 corrupt: 100%|██████████| 228/228 [00:00<?, ?it/s]\n"
     ]
    },
    {
     "name": "stdout",
     "output_type": "stream",
     "text": [
      "Plotting labels to runs/detect/011_YoloV8ExtraLarge_100Epochs_1200.ipynb/labels.jpg... \n",
      "\u001b[34m\u001b[1moptimizer:\u001b[0m 'optimizer=auto' found, ignoring 'lr0=0.01' and 'momentum=0.937' and determining best 'optimizer', 'lr0' and 'momentum' automatically... \n",
      "\u001b[34m\u001b[1moptimizer:\u001b[0m AdamW(lr=0.002, momentum=0.9) with parameter groups 97 weight(decay=0.0), 104 weight(decay=0.0005078125), 103 bias(decay=0.0)\n",
      "\u001b[34m\u001b[1mTensorBoard: \u001b[0mmodel graph visualization added ✅\n",
      "Image sizes 1216 train, 1216 val\n",
      "Using 8 dataloader workers\n",
      "Logging results to \u001b[1mruns/detect/011_YoloV8ExtraLarge_100Epochs_1200.ipynb\u001b[0m\n",
      "Starting training for 100 epochs...\n",
      "\n",
      "      Epoch    GPU_mem   box_loss   cls_loss   dfl_loss  Instances       Size\n"
     ]
    },
    {
     "name": "stderr",
     "output_type": "stream",
     "text": [
      "      1/100        15G      1.186     0.8567       1.21         86       1216: 100%|██████████| 282/282 [02:25<00:00,  1.94it/s]\n",
      "                 Class     Images  Instances      Box(P          R      mAP50  mAP50-95): 100%|██████████| 23/23 [00:05<00:00,  4.59it/s]\n"
     ]
    },
    {
     "name": "stdout",
     "output_type": "stream",
     "text": [
      "                   all        228       8684      0.843      0.915      0.938      0.617\n",
      "\n",
      "      Epoch    GPU_mem   box_loss   cls_loss   dfl_loss  Instances       Size\n"
     ]
    },
    {
     "name": "stderr",
     "output_type": "stream",
     "text": [
      "      2/100      14.6G       1.16     0.6816        1.2         51       1216: 100%|██████████| 282/282 [02:19<00:00,  2.03it/s]\n",
      "                 Class     Images  Instances      Box(P          R      mAP50  mAP50-95): 100%|██████████| 23/23 [00:05<00:00,  4.58it/s]\n"
     ]
    },
    {
     "name": "stdout",
     "output_type": "stream",
     "text": [
      "                   all        228       8684      0.835      0.879      0.931      0.613\n",
      "\n",
      "      Epoch    GPU_mem   box_loss   cls_loss   dfl_loss  Instances       Size\n"
     ]
    },
    {
     "name": "stderr",
     "output_type": "stream",
     "text": [
      "      3/100      14.6G      1.135     0.6094      1.189        114       1216: 100%|██████████| 282/282 [02:18<00:00,  2.04it/s]\n",
      "                 Class     Images  Instances      Box(P          R      mAP50  mAP50-95): 100%|██████████| 23/23 [00:04<00:00,  4.64it/s]"
     ]
    },
    {
     "name": "stdout",
     "output_type": "stream",
     "text": [
      "                   all        228       8684       0.86      0.868      0.932      0.608\n"
     ]
    },
    {
     "name": "stderr",
     "output_type": "stream",
     "text": [
      "\n"
     ]
    },
    {
     "name": "stdout",
     "output_type": "stream",
     "text": [
      "\n",
      "      Epoch    GPU_mem   box_loss   cls_loss   dfl_loss  Instances       Size\n"
     ]
    },
    {
     "name": "stderr",
     "output_type": "stream",
     "text": [
      "      4/100      14.3G      1.104     0.5866      1.175        156       1216: 100%|██████████| 282/282 [02:17<00:00,  2.04it/s]\n",
      "                 Class     Images  Instances      Box(P          R      mAP50  mAP50-95): 100%|██████████| 23/23 [00:04<00:00,  4.67it/s]"
     ]
    },
    {
     "name": "stdout",
     "output_type": "stream",
     "text": [
      "                   all        228       8684      0.889      0.907      0.951      0.641\n"
     ]
    },
    {
     "name": "stderr",
     "output_type": "stream",
     "text": [
      "\n"
     ]
    },
    {
     "name": "stdout",
     "output_type": "stream",
     "text": [
      "\n",
      "      Epoch    GPU_mem   box_loss   cls_loss   dfl_loss  Instances       Size\n"
     ]
    },
    {
     "name": "stderr",
     "output_type": "stream",
     "text": [
      "      5/100      14.3G      1.106     0.5563      1.165         93       1216: 100%|██████████| 282/282 [02:18<00:00,  2.04it/s]\n",
      "                 Class     Images  Instances      Box(P          R      mAP50  mAP50-95): 100%|██████████| 23/23 [00:04<00:00,  4.63it/s]"
     ]
    },
    {
     "name": "stdout",
     "output_type": "stream",
     "text": [
      "                   all        228       8684      0.839      0.875      0.916      0.579\n"
     ]
    },
    {
     "name": "stderr",
     "output_type": "stream",
     "text": [
      "\n"
     ]
    },
    {
     "name": "stdout",
     "output_type": "stream",
     "text": [
      "\n",
      "      Epoch    GPU_mem   box_loss   cls_loss   dfl_loss  Instances       Size\n"
     ]
    },
    {
     "name": "stderr",
     "output_type": "stream",
     "text": [
      "      6/100      14.6G      1.053     0.4919      1.132        155       1216: 100%|██████████| 282/282 [02:18<00:00,  2.04it/s]\n",
      "                 Class     Images  Instances      Box(P          R      mAP50  mAP50-95): 100%|██████████| 23/23 [00:04<00:00,  4.62it/s]"
     ]
    },
    {
     "name": "stdout",
     "output_type": "stream",
     "text": [
      "                   all        228       8684      0.843      0.857      0.893      0.583\n"
     ]
    },
    {
     "name": "stderr",
     "output_type": "stream",
     "text": [
      "\n"
     ]
    },
    {
     "name": "stdout",
     "output_type": "stream",
     "text": [
      "\n",
      "      Epoch    GPU_mem   box_loss   cls_loss   dfl_loss  Instances       Size\n"
     ]
    },
    {
     "name": "stderr",
     "output_type": "stream",
     "text": [
      "      7/100      14.3G      1.032     0.4747      1.136        129       1216: 100%|██████████| 282/282 [02:18<00:00,  2.04it/s]\n",
      "                 Class     Images  Instances      Box(P          R      mAP50  mAP50-95): 100%|██████████| 23/23 [00:04<00:00,  4.69it/s]"
     ]
    },
    {
     "name": "stdout",
     "output_type": "stream",
     "text": [
      "                   all        228       8684       0.83      0.841      0.885      0.584\n"
     ]
    },
    {
     "name": "stderr",
     "output_type": "stream",
     "text": [
      "\n"
     ]
    },
    {
     "name": "stdout",
     "output_type": "stream",
     "text": [
      "\n",
      "      Epoch    GPU_mem   box_loss   cls_loss   dfl_loss  Instances       Size\n"
     ]
    },
    {
     "name": "stderr",
     "output_type": "stream",
     "text": [
      "      8/100      14.4G      1.032      0.496      1.126        243       1216: 100%|██████████| 282/282 [02:18<00:00,  2.04it/s]\n",
      "                 Class     Images  Instances      Box(P          R      mAP50  mAP50-95): 100%|██████████| 23/23 [00:04<00:00,  4.65it/s]"
     ]
    },
    {
     "name": "stdout",
     "output_type": "stream",
     "text": [
      "                   all        228       8684      0.829      0.891      0.923      0.634\n"
     ]
    },
    {
     "name": "stderr",
     "output_type": "stream",
     "text": [
      "\n"
     ]
    },
    {
     "name": "stdout",
     "output_type": "stream",
     "text": [
      "\n",
      "      Epoch    GPU_mem   box_loss   cls_loss   dfl_loss  Instances       Size\n"
     ]
    },
    {
     "name": "stderr",
     "output_type": "stream",
     "text": [
      "      9/100      14.3G      1.018     0.4512      1.119        123       1216: 100%|██████████| 282/282 [02:18<00:00,  2.04it/s]\n",
      "                 Class     Images  Instances      Box(P          R      mAP50  mAP50-95): 100%|██████████| 23/23 [00:04<00:00,  4.68it/s]"
     ]
    },
    {
     "name": "stdout",
     "output_type": "stream",
     "text": [
      "                   all        228       8684       0.86      0.887      0.922      0.637\n"
     ]
    },
    {
     "name": "stderr",
     "output_type": "stream",
     "text": [
      "\n"
     ]
    },
    {
     "name": "stdout",
     "output_type": "stream",
     "text": [
      "\n",
      "      Epoch    GPU_mem   box_loss   cls_loss   dfl_loss  Instances       Size\n"
     ]
    },
    {
     "name": "stderr",
     "output_type": "stream",
     "text": [
      "     10/100      14.7G      1.024     0.4457      1.117        152       1216: 100%|██████████| 282/282 [02:18<00:00,  2.04it/s]\n",
      "                 Class     Images  Instances      Box(P          R      mAP50  mAP50-95): 100%|██████████| 23/23 [00:04<00:00,  4.65it/s]"
     ]
    },
    {
     "name": "stdout",
     "output_type": "stream",
     "text": [
      "                   all        228       8684      0.862      0.858      0.922      0.641\n"
     ]
    },
    {
     "name": "stderr",
     "output_type": "stream",
     "text": [
      "\n"
     ]
    },
    {
     "name": "stdout",
     "output_type": "stream",
     "text": [
      "\n",
      "      Epoch    GPU_mem   box_loss   cls_loss   dfl_loss  Instances       Size\n"
     ]
    },
    {
     "name": "stderr",
     "output_type": "stream",
     "text": [
      "     11/100      14.3G      1.002      0.427      1.105        227       1216: 100%|██████████| 282/282 [02:17<00:00,  2.04it/s]\n",
      "                 Class     Images  Instances      Box(P          R      mAP50  mAP50-95): 100%|██████████| 23/23 [00:04<00:00,  4.67it/s]"
     ]
    },
    {
     "name": "stdout",
     "output_type": "stream",
     "text": [
      "                   all        228       8684      0.838      0.869      0.907      0.612\n"
     ]
    },
    {
     "name": "stderr",
     "output_type": "stream",
     "text": [
      "\n"
     ]
    },
    {
     "name": "stdout",
     "output_type": "stream",
     "text": [
      "\n",
      "      Epoch    GPU_mem   box_loss   cls_loss   dfl_loss  Instances       Size\n"
     ]
    },
    {
     "name": "stderr",
     "output_type": "stream",
     "text": [
      "     12/100      14.3G     0.9944     0.4165      1.113         52       1216: 100%|██████████| 282/282 [02:17<00:00,  2.04it/s]\n",
      "                 Class     Images  Instances      Box(P          R      mAP50  mAP50-95): 100%|██████████| 23/23 [00:04<00:00,  4.64it/s]"
     ]
    },
    {
     "name": "stdout",
     "output_type": "stream",
     "text": [
      "                   all        228       8684      0.858      0.907      0.924       0.62\n"
     ]
    },
    {
     "name": "stderr",
     "output_type": "stream",
     "text": [
      "\n"
     ]
    },
    {
     "name": "stdout",
     "output_type": "stream",
     "text": [
      "\n",
      "      Epoch    GPU_mem   box_loss   cls_loss   dfl_loss  Instances       Size\n"
     ]
    },
    {
     "name": "stderr",
     "output_type": "stream",
     "text": [
      "     13/100      14.3G      1.004     0.4263      1.112        163       1216: 100%|██████████| 282/282 [02:17<00:00,  2.04it/s]\n",
      "                 Class     Images  Instances      Box(P          R      mAP50  mAP50-95): 100%|██████████| 23/23 [00:04<00:00,  4.64it/s]"
     ]
    },
    {
     "name": "stdout",
     "output_type": "stream",
     "text": [
      "                   all        228       8684      0.865      0.889      0.946      0.644\n"
     ]
    },
    {
     "name": "stderr",
     "output_type": "stream",
     "text": [
      "\n"
     ]
    },
    {
     "name": "stdout",
     "output_type": "stream",
     "text": [
      "\n",
      "      Epoch    GPU_mem   box_loss   cls_loss   dfl_loss  Instances       Size\n"
     ]
    },
    {
     "name": "stderr",
     "output_type": "stream",
     "text": [
      "     14/100      14.5G     0.9819     0.4076      1.099        110       1216: 100%|██████████| 282/282 [02:17<00:00,  2.05it/s]\n",
      "                 Class     Images  Instances      Box(P          R      mAP50  mAP50-95): 100%|██████████| 23/23 [00:04<00:00,  4.63it/s]"
     ]
    },
    {
     "name": "stdout",
     "output_type": "stream",
     "text": [
      "                   all        228       8684      0.867      0.836       0.92      0.614\n"
     ]
    },
    {
     "name": "stderr",
     "output_type": "stream",
     "text": [
      "\n"
     ]
    },
    {
     "name": "stdout",
     "output_type": "stream",
     "text": [
      "\n",
      "      Epoch    GPU_mem   box_loss   cls_loss   dfl_loss  Instances       Size\n"
     ]
    },
    {
     "name": "stderr",
     "output_type": "stream",
     "text": [
      "     15/100      14.6G     0.9773     0.4078      1.097        101       1216: 100%|██████████| 282/282 [02:17<00:00,  2.05it/s]\n",
      "                 Class     Images  Instances      Box(P          R      mAP50  mAP50-95): 100%|██████████| 23/23 [00:04<00:00,  4.65it/s]"
     ]
    },
    {
     "name": "stdout",
     "output_type": "stream",
     "text": [
      "                   all        228       8684      0.828      0.863      0.895      0.611\n"
     ]
    },
    {
     "name": "stderr",
     "output_type": "stream",
     "text": [
      "\n"
     ]
    },
    {
     "name": "stdout",
     "output_type": "stream",
     "text": [
      "\n",
      "      Epoch    GPU_mem   box_loss   cls_loss   dfl_loss  Instances       Size\n"
     ]
    },
    {
     "name": "stderr",
     "output_type": "stream",
     "text": [
      "     16/100      14.2G     0.9747     0.3992      1.094        101       1216: 100%|██████████| 282/282 [02:17<00:00,  2.04it/s]\n",
      "                 Class     Images  Instances      Box(P          R      mAP50  mAP50-95): 100%|██████████| 23/23 [00:04<00:00,  4.66it/s]"
     ]
    },
    {
     "name": "stdout",
     "output_type": "stream",
     "text": [
      "                   all        228       8684      0.877      0.881      0.926      0.642\n"
     ]
    },
    {
     "name": "stderr",
     "output_type": "stream",
     "text": [
      "\n"
     ]
    },
    {
     "name": "stdout",
     "output_type": "stream",
     "text": [
      "\n",
      "      Epoch    GPU_mem   box_loss   cls_loss   dfl_loss  Instances       Size\n"
     ]
    },
    {
     "name": "stderr",
     "output_type": "stream",
     "text": [
      "     17/100      14.4G     0.9677     0.3923      1.082         70       1216: 100%|██████████| 282/282 [02:17<00:00,  2.05it/s]\n",
      "                 Class     Images  Instances      Box(P          R      mAP50  mAP50-95): 100%|██████████| 23/23 [00:04<00:00,  4.67it/s]"
     ]
    },
    {
     "name": "stdout",
     "output_type": "stream",
     "text": [
      "                   all        228       8684      0.868       0.84      0.907       0.63\n"
     ]
    },
    {
     "name": "stderr",
     "output_type": "stream",
     "text": [
      "\n"
     ]
    },
    {
     "name": "stdout",
     "output_type": "stream",
     "text": [
      "\n",
      "      Epoch    GPU_mem   box_loss   cls_loss   dfl_loss  Instances       Size\n"
     ]
    },
    {
     "name": "stderr",
     "output_type": "stream",
     "text": [
      "     18/100      14.3G     0.9703     0.3957      1.087        183       1216: 100%|██████████| 282/282 [02:17<00:00,  2.05it/s]\n",
      "                 Class     Images  Instances      Box(P          R      mAP50  mAP50-95): 100%|██████████| 23/23 [00:04<00:00,  4.65it/s]"
     ]
    },
    {
     "name": "stdout",
     "output_type": "stream",
     "text": [
      "                   all        228       8684      0.841      0.789      0.852      0.589\n"
     ]
    },
    {
     "name": "stderr",
     "output_type": "stream",
     "text": [
      "\n"
     ]
    },
    {
     "name": "stdout",
     "output_type": "stream",
     "text": [
      "\n",
      "      Epoch    GPU_mem   box_loss   cls_loss   dfl_loss  Instances       Size\n"
     ]
    },
    {
     "name": "stderr",
     "output_type": "stream",
     "text": [
      "     19/100      14.6G     0.9691     0.3942      1.087         97       1216: 100%|██████████| 282/282 [02:17<00:00,  2.05it/s]\n",
      "                 Class     Images  Instances      Box(P          R      mAP50  mAP50-95): 100%|██████████| 23/23 [00:04<00:00,  4.65it/s]"
     ]
    },
    {
     "name": "stdout",
     "output_type": "stream",
     "text": [
      "                   all        228       8684      0.842      0.868      0.907      0.627\n"
     ]
    },
    {
     "name": "stderr",
     "output_type": "stream",
     "text": [
      "\n"
     ]
    },
    {
     "name": "stdout",
     "output_type": "stream",
     "text": [
      "\n",
      "      Epoch    GPU_mem   box_loss   cls_loss   dfl_loss  Instances       Size\n"
     ]
    },
    {
     "name": "stderr",
     "output_type": "stream",
     "text": [
      "     20/100      14.7G     0.9598     0.3845      1.092        165       1216: 100%|██████████| 282/282 [02:17<00:00,  2.05it/s]\n",
      "                 Class     Images  Instances      Box(P          R      mAP50  mAP50-95): 100%|██████████| 23/23 [00:04<00:00,  4.65it/s]"
     ]
    },
    {
     "name": "stdout",
     "output_type": "stream",
     "text": [
      "                   all        228       8684      0.845      0.837       0.89      0.595\n"
     ]
    },
    {
     "name": "stderr",
     "output_type": "stream",
     "text": [
      "\n"
     ]
    },
    {
     "name": "stdout",
     "output_type": "stream",
     "text": [
      "\n",
      "      Epoch    GPU_mem   box_loss   cls_loss   dfl_loss  Instances       Size\n"
     ]
    },
    {
     "name": "stderr",
     "output_type": "stream",
     "text": [
      "     21/100      14.7G     0.9568     0.3837      1.082         80       1216: 100%|██████████| 282/282 [02:17<00:00,  2.05it/s]\n",
      "                 Class     Images  Instances      Box(P          R      mAP50  mAP50-95): 100%|██████████| 23/23 [00:04<00:00,  4.66it/s]"
     ]
    },
    {
     "name": "stdout",
     "output_type": "stream",
     "text": [
      "                   all        228       8684      0.846       0.86      0.901      0.605\n"
     ]
    },
    {
     "name": "stderr",
     "output_type": "stream",
     "text": [
      "\n"
     ]
    },
    {
     "name": "stdout",
     "output_type": "stream",
     "text": [
      "\n",
      "      Epoch    GPU_mem   box_loss   cls_loss   dfl_loss  Instances       Size\n"
     ]
    },
    {
     "name": "stderr",
     "output_type": "stream",
     "text": [
      "     22/100      14.3G     0.9572     0.3821      1.082         91       1216: 100%|██████████| 282/282 [02:17<00:00,  2.04it/s]\n",
      "                 Class     Images  Instances      Box(P          R      mAP50  mAP50-95): 100%|██████████| 23/23 [00:04<00:00,  4.66it/s]"
     ]
    },
    {
     "name": "stdout",
     "output_type": "stream",
     "text": [
      "                   all        228       8684      0.838      0.795      0.855      0.567\n"
     ]
    },
    {
     "name": "stderr",
     "output_type": "stream",
     "text": [
      "\n"
     ]
    },
    {
     "name": "stdout",
     "output_type": "stream",
     "text": [
      "\n",
      "      Epoch    GPU_mem   box_loss   cls_loss   dfl_loss  Instances       Size\n"
     ]
    },
    {
     "name": "stderr",
     "output_type": "stream",
     "text": [
      "     23/100      14.4G     0.9574     0.3824      1.084        103       1216: 100%|██████████| 282/282 [02:17<00:00,  2.05it/s]\n",
      "                 Class     Images  Instances      Box(P          R      mAP50  mAP50-95): 100%|██████████| 23/23 [00:04<00:00,  4.65it/s]"
     ]
    },
    {
     "name": "stdout",
     "output_type": "stream",
     "text": [
      "                   all        228       8684      0.889      0.886      0.936      0.655\n"
     ]
    },
    {
     "name": "stderr",
     "output_type": "stream",
     "text": [
      "\n"
     ]
    },
    {
     "name": "stdout",
     "output_type": "stream",
     "text": [
      "\n",
      "      Epoch    GPU_mem   box_loss   cls_loss   dfl_loss  Instances       Size\n"
     ]
    },
    {
     "name": "stderr",
     "output_type": "stream",
     "text": [
      "     24/100      14.4G     0.9456     0.3741      1.076        245       1216: 100%|██████████| 282/282 [02:17<00:00,  2.05it/s]\n",
      "                 Class     Images  Instances      Box(P          R      mAP50  mAP50-95): 100%|██████████| 23/23 [00:04<00:00,  4.66it/s]"
     ]
    },
    {
     "name": "stdout",
     "output_type": "stream",
     "text": [
      "                   all        228       8684      0.891      0.861      0.911      0.634\n"
     ]
    },
    {
     "name": "stderr",
     "output_type": "stream",
     "text": [
      "\n"
     ]
    },
    {
     "name": "stdout",
     "output_type": "stream",
     "text": [
      "\n",
      "      Epoch    GPU_mem   box_loss   cls_loss   dfl_loss  Instances       Size\n"
     ]
    },
    {
     "name": "stderr",
     "output_type": "stream",
     "text": [
      "     25/100      14.4G     0.9443     0.3712      1.066        162       1216: 100%|██████████| 282/282 [02:17<00:00,  2.04it/s]\n",
      "                 Class     Images  Instances      Box(P          R      mAP50  mAP50-95): 100%|██████████| 23/23 [00:04<00:00,  4.67it/s]"
     ]
    },
    {
     "name": "stdout",
     "output_type": "stream",
     "text": [
      "                   all        228       8684      0.873      0.877      0.912      0.645\n"
     ]
    },
    {
     "name": "stderr",
     "output_type": "stream",
     "text": [
      "\n"
     ]
    },
    {
     "name": "stdout",
     "output_type": "stream",
     "text": [
      "\n",
      "      Epoch    GPU_mem   box_loss   cls_loss   dfl_loss  Instances       Size\n"
     ]
    },
    {
     "name": "stderr",
     "output_type": "stream",
     "text": [
      "     26/100      14.7G     0.9495     0.3768      1.076        161       1216: 100%|██████████| 282/282 [02:17<00:00,  2.04it/s]\n",
      "                 Class     Images  Instances      Box(P          R      mAP50  mAP50-95): 100%|██████████| 23/23 [00:04<00:00,  4.66it/s]"
     ]
    },
    {
     "name": "stdout",
     "output_type": "stream",
     "text": [
      "                   all        228       8684      0.841      0.851      0.892       0.61\n"
     ]
    },
    {
     "name": "stderr",
     "output_type": "stream",
     "text": [
      "\n"
     ]
    },
    {
     "name": "stdout",
     "output_type": "stream",
     "text": [
      "\n",
      "      Epoch    GPU_mem   box_loss   cls_loss   dfl_loss  Instances       Size\n"
     ]
    },
    {
     "name": "stderr",
     "output_type": "stream",
     "text": [
      "     27/100      14.3G     0.9305     0.3668      1.064        104       1216: 100%|██████████| 282/282 [02:17<00:00,  2.04it/s]\n",
      "                 Class     Images  Instances      Box(P          R      mAP50  mAP50-95): 100%|██████████| 23/23 [00:04<00:00,  4.64it/s]"
     ]
    },
    {
     "name": "stdout",
     "output_type": "stream",
     "text": [
      "                   all        228       8684      0.891      0.865       0.91       0.63\n"
     ]
    },
    {
     "name": "stderr",
     "output_type": "stream",
     "text": [
      "\n"
     ]
    },
    {
     "name": "stdout",
     "output_type": "stream",
     "text": [
      "\n",
      "      Epoch    GPU_mem   box_loss   cls_loss   dfl_loss  Instances       Size\n"
     ]
    },
    {
     "name": "stderr",
     "output_type": "stream",
     "text": [
      "     28/100      14.5G     0.9423     0.3738      1.073         91       1216: 100%|██████████| 282/282 [02:17<00:00,  2.04it/s]\n",
      "                 Class     Images  Instances      Box(P          R      mAP50  mAP50-95): 100%|██████████| 23/23 [00:04<00:00,  4.65it/s]"
     ]
    },
    {
     "name": "stdout",
     "output_type": "stream",
     "text": [
      "                   all        228       8684      0.877      0.865      0.918      0.626\n"
     ]
    },
    {
     "name": "stderr",
     "output_type": "stream",
     "text": [
      "\n"
     ]
    },
    {
     "name": "stdout",
     "output_type": "stream",
     "text": [
      "\n",
      "      Epoch    GPU_mem   box_loss   cls_loss   dfl_loss  Instances       Size\n"
     ]
    },
    {
     "name": "stderr",
     "output_type": "stream",
     "text": [
      "     29/100      14.6G     0.9338     0.3659      1.065        132       1216: 100%|██████████| 282/282 [02:17<00:00,  2.04it/s]\n",
      "                 Class     Images  Instances      Box(P          R      mAP50  mAP50-95): 100%|██████████| 23/23 [00:04<00:00,  4.66it/s]"
     ]
    },
    {
     "name": "stdout",
     "output_type": "stream",
     "text": [
      "                   all        228       8684      0.854      0.808      0.883      0.595\n"
     ]
    },
    {
     "name": "stderr",
     "output_type": "stream",
     "text": [
      "\n"
     ]
    },
    {
     "name": "stdout",
     "output_type": "stream",
     "text": [
      "\n",
      "      Epoch    GPU_mem   box_loss   cls_loss   dfl_loss  Instances       Size\n"
     ]
    },
    {
     "name": "stderr",
     "output_type": "stream",
     "text": [
      "     30/100      14.3G       0.93     0.3639      1.074        151       1216: 100%|██████████| 282/282 [02:17<00:00,  2.05it/s]\n",
      "                 Class     Images  Instances      Box(P          R      mAP50  mAP50-95): 100%|██████████| 23/23 [00:04<00:00,  4.66it/s]"
     ]
    },
    {
     "name": "stdout",
     "output_type": "stream",
     "text": [
      "                   all        228       8684      0.859      0.866      0.911      0.631\n"
     ]
    },
    {
     "name": "stderr",
     "output_type": "stream",
     "text": [
      "\n"
     ]
    },
    {
     "name": "stdout",
     "output_type": "stream",
     "text": [
      "\n",
      "      Epoch    GPU_mem   box_loss   cls_loss   dfl_loss  Instances       Size\n"
     ]
    },
    {
     "name": "stderr",
     "output_type": "stream",
     "text": [
      "     31/100      14.3G     0.9265     0.3641      1.068         98       1216: 100%|██████████| 282/282 [02:17<00:00,  2.05it/s]\n",
      "                 Class     Images  Instances      Box(P          R      mAP50  mAP50-95): 100%|██████████| 23/23 [00:04<00:00,  4.65it/s]"
     ]
    },
    {
     "name": "stdout",
     "output_type": "stream",
     "text": [
      "                   all        228       8684      0.875      0.853      0.905      0.619\n"
     ]
    },
    {
     "name": "stderr",
     "output_type": "stream",
     "text": [
      "\n"
     ]
    },
    {
     "name": "stdout",
     "output_type": "stream",
     "text": [
      "\n",
      "      Epoch    GPU_mem   box_loss   cls_loss   dfl_loss  Instances       Size\n"
     ]
    },
    {
     "name": "stderr",
     "output_type": "stream",
     "text": [
      "     32/100      14.4G     0.9305     0.3618       1.07         55       1216: 100%|██████████| 282/282 [02:17<00:00,  2.05it/s]\n",
      "                 Class     Images  Instances      Box(P          R      mAP50  mAP50-95): 100%|██████████| 23/23 [00:04<00:00,  4.65it/s]"
     ]
    },
    {
     "name": "stdout",
     "output_type": "stream",
     "text": [
      "                   all        228       8684      0.866      0.845      0.893      0.616\n"
     ]
    },
    {
     "name": "stderr",
     "output_type": "stream",
     "text": [
      "\n"
     ]
    },
    {
     "name": "stdout",
     "output_type": "stream",
     "text": [
      "\n",
      "      Epoch    GPU_mem   box_loss   cls_loss   dfl_loss  Instances       Size\n"
     ]
    },
    {
     "name": "stderr",
     "output_type": "stream",
     "text": [
      "     33/100      14.2G     0.9249     0.3602      1.065        103       1216: 100%|██████████| 282/282 [02:17<00:00,  2.05it/s]\n",
      "                 Class     Images  Instances      Box(P          R      mAP50  mAP50-95): 100%|██████████| 23/23 [00:04<00:00,  4.65it/s]"
     ]
    },
    {
     "name": "stdout",
     "output_type": "stream",
     "text": [
      "                   all        228       8684      0.872      0.867      0.923      0.636\n"
     ]
    },
    {
     "name": "stderr",
     "output_type": "stream",
     "text": [
      "\n"
     ]
    },
    {
     "name": "stdout",
     "output_type": "stream",
     "text": [
      "\n",
      "      Epoch    GPU_mem   box_loss   cls_loss   dfl_loss  Instances       Size\n"
     ]
    },
    {
     "name": "stderr",
     "output_type": "stream",
     "text": [
      "     34/100      14.6G     0.9191     0.3547      1.062         64       1216: 100%|██████████| 282/282 [02:17<00:00,  2.05it/s]\n",
      "                 Class     Images  Instances      Box(P          R      mAP50  mAP50-95): 100%|██████████| 23/23 [00:04<00:00,  4.65it/s]"
     ]
    },
    {
     "name": "stdout",
     "output_type": "stream",
     "text": [
      "                   all        228       8684      0.869      0.844      0.904      0.626\n"
     ]
    },
    {
     "name": "stderr",
     "output_type": "stream",
     "text": [
      "\n"
     ]
    },
    {
     "name": "stdout",
     "output_type": "stream",
     "text": [
      "\n",
      "      Epoch    GPU_mem   box_loss   cls_loss   dfl_loss  Instances       Size\n"
     ]
    },
    {
     "name": "stderr",
     "output_type": "stream",
     "text": [
      "     35/100      14.8G     0.9231     0.3589      1.058        142       1216: 100%|██████████| 282/282 [02:17<00:00,  2.05it/s]\n",
      "                 Class     Images  Instances      Box(P          R      mAP50  mAP50-95): 100%|██████████| 23/23 [00:04<00:00,  4.69it/s]"
     ]
    },
    {
     "name": "stdout",
     "output_type": "stream",
     "text": [
      "                   all        228       8684      0.852      0.841      0.891      0.618\n"
     ]
    },
    {
     "name": "stderr",
     "output_type": "stream",
     "text": [
      "\n"
     ]
    },
    {
     "name": "stdout",
     "output_type": "stream",
     "text": [
      "\n",
      "      Epoch    GPU_mem   box_loss   cls_loss   dfl_loss  Instances       Size\n"
     ]
    },
    {
     "name": "stderr",
     "output_type": "stream",
     "text": [
      "     36/100      14.2G     0.9212     0.3573      1.056        101       1216: 100%|██████████| 282/282 [02:17<00:00,  2.04it/s]\n",
      "                 Class     Images  Instances      Box(P          R      mAP50  mAP50-95): 100%|██████████| 23/23 [00:04<00:00,  4.67it/s]"
     ]
    },
    {
     "name": "stdout",
     "output_type": "stream",
     "text": [
      "                   all        228       8684      0.871      0.863      0.912      0.622\n"
     ]
    },
    {
     "name": "stderr",
     "output_type": "stream",
     "text": [
      "\n"
     ]
    },
    {
     "name": "stdout",
     "output_type": "stream",
     "text": [
      "\n",
      "      Epoch    GPU_mem   box_loss   cls_loss   dfl_loss  Instances       Size\n"
     ]
    },
    {
     "name": "stderr",
     "output_type": "stream",
     "text": [
      "     37/100      14.2G     0.9134     0.3517      1.062         88       1216: 100%|██████████| 282/282 [02:17<00:00,  2.05it/s]\n",
      "                 Class     Images  Instances      Box(P          R      mAP50  mAP50-95): 100%|██████████| 23/23 [00:04<00:00,  4.65it/s]"
     ]
    },
    {
     "name": "stdout",
     "output_type": "stream",
     "text": [
      "                   all        228       8684      0.863      0.887      0.936      0.653\n"
     ]
    },
    {
     "name": "stderr",
     "output_type": "stream",
     "text": [
      "\n"
     ]
    },
    {
     "name": "stdout",
     "output_type": "stream",
     "text": [
      "\n",
      "      Epoch    GPU_mem   box_loss   cls_loss   dfl_loss  Instances       Size\n"
     ]
    },
    {
     "name": "stderr",
     "output_type": "stream",
     "text": [
      "     38/100      14.3G     0.9144     0.3539      1.068         50       1216: 100%|██████████| 282/282 [02:17<00:00,  2.05it/s]\n",
      "                 Class     Images  Instances      Box(P          R      mAP50  mAP50-95): 100%|██████████| 23/23 [00:04<00:00,  4.62it/s]"
     ]
    },
    {
     "name": "stdout",
     "output_type": "stream",
     "text": [
      "                   all        228       8684      0.831      0.889      0.916      0.639\n"
     ]
    },
    {
     "name": "stderr",
     "output_type": "stream",
     "text": [
      "\n"
     ]
    },
    {
     "name": "stdout",
     "output_type": "stream",
     "text": [
      "\n",
      "      Epoch    GPU_mem   box_loss   cls_loss   dfl_loss  Instances       Size\n"
     ]
    },
    {
     "name": "stderr",
     "output_type": "stream",
     "text": [
      "     39/100      14.4G     0.9075     0.3486      1.053        131       1216: 100%|██████████| 282/282 [02:17<00:00,  2.04it/s]\n",
      "                 Class     Images  Instances      Box(P          R      mAP50  mAP50-95): 100%|██████████| 23/23 [00:04<00:00,  4.65it/s]"
     ]
    },
    {
     "name": "stdout",
     "output_type": "stream",
     "text": [
      "                   all        228       8684      0.864      0.887      0.933      0.653\n"
     ]
    },
    {
     "name": "stderr",
     "output_type": "stream",
     "text": [
      "\n"
     ]
    },
    {
     "name": "stdout",
     "output_type": "stream",
     "text": [
      "\n",
      "      Epoch    GPU_mem   box_loss   cls_loss   dfl_loss  Instances       Size\n"
     ]
    },
    {
     "name": "stderr",
     "output_type": "stream",
     "text": [
      "     40/100      14.6G     0.9084     0.3519      1.055        104       1216: 100%|██████████| 282/282 [02:17<00:00,  2.05it/s]\n",
      "                 Class     Images  Instances      Box(P          R      mAP50  mAP50-95): 100%|██████████| 23/23 [00:04<00:00,  4.67it/s]"
     ]
    },
    {
     "name": "stdout",
     "output_type": "stream",
     "text": [
      "                   all        228       8684      0.865      0.861       0.92      0.646\n"
     ]
    },
    {
     "name": "stderr",
     "output_type": "stream",
     "text": [
      "\n"
     ]
    },
    {
     "name": "stdout",
     "output_type": "stream",
     "text": [
      "\n",
      "      Epoch    GPU_mem   box_loss   cls_loss   dfl_loss  Instances       Size\n"
     ]
    },
    {
     "name": "stderr",
     "output_type": "stream",
     "text": [
      "     41/100      14.4G     0.9079     0.3512      1.067        124       1216: 100%|██████████| 282/282 [02:17<00:00,  2.05it/s]\n",
      "                 Class     Images  Instances      Box(P          R      mAP50  mAP50-95): 100%|██████████| 23/23 [00:04<00:00,  4.67it/s]"
     ]
    },
    {
     "name": "stdout",
     "output_type": "stream",
     "text": [
      "                   all        228       8684      0.867      0.864      0.904       0.63\n"
     ]
    },
    {
     "name": "stderr",
     "output_type": "stream",
     "text": [
      "\n"
     ]
    },
    {
     "name": "stdout",
     "output_type": "stream",
     "text": [
      "\n",
      "      Epoch    GPU_mem   box_loss   cls_loss   dfl_loss  Instances       Size\n"
     ]
    },
    {
     "name": "stderr",
     "output_type": "stream",
     "text": [
      "     42/100      14.2G      0.906     0.3511      1.053        211       1216: 100%|██████████| 282/282 [02:17<00:00,  2.04it/s]\n",
      "                 Class     Images  Instances      Box(P          R      mAP50  mAP50-95): 100%|██████████| 23/23 [00:04<00:00,  4.67it/s]"
     ]
    },
    {
     "name": "stdout",
     "output_type": "stream",
     "text": [
      "                   all        228       8684      0.866      0.853      0.919      0.646\n"
     ]
    },
    {
     "name": "stderr",
     "output_type": "stream",
     "text": [
      "\n"
     ]
    },
    {
     "name": "stdout",
     "output_type": "stream",
     "text": [
      "\n",
      "      Epoch    GPU_mem   box_loss   cls_loss   dfl_loss  Instances       Size\n"
     ]
    },
    {
     "name": "stderr",
     "output_type": "stream",
     "text": [
      "     43/100      14.3G     0.9013     0.3483       1.05         92       1216: 100%|██████████| 282/282 [02:17<00:00,  2.05it/s]\n",
      "                 Class     Images  Instances      Box(P          R      mAP50  mAP50-95): 100%|██████████| 23/23 [00:04<00:00,  4.67it/s]"
     ]
    },
    {
     "name": "stdout",
     "output_type": "stream",
     "text": [
      "                   all        228       8684      0.858      0.873      0.906       0.62\n"
     ]
    },
    {
     "name": "stderr",
     "output_type": "stream",
     "text": [
      "\n"
     ]
    },
    {
     "name": "stdout",
     "output_type": "stream",
     "text": [
      "\n",
      "      Epoch    GPU_mem   box_loss   cls_loss   dfl_loss  Instances       Size\n"
     ]
    },
    {
     "name": "stderr",
     "output_type": "stream",
     "text": [
      "     44/100      14.6G      0.906     0.3518      1.053         68       1216: 100%|██████████| 282/282 [02:17<00:00,  2.05it/s]\n",
      "                 Class     Images  Instances      Box(P          R      mAP50  mAP50-95): 100%|██████████| 23/23 [00:04<00:00,  4.66it/s]"
     ]
    },
    {
     "name": "stdout",
     "output_type": "stream",
     "text": [
      "                   all        228       8684      0.882      0.875      0.914       0.63\n"
     ]
    },
    {
     "name": "stderr",
     "output_type": "stream",
     "text": [
      "\n"
     ]
    },
    {
     "name": "stdout",
     "output_type": "stream",
     "text": [
      "\n",
      "      Epoch    GPU_mem   box_loss   cls_loss   dfl_loss  Instances       Size\n"
     ]
    },
    {
     "name": "stderr",
     "output_type": "stream",
     "text": [
      "     45/100      14.4G     0.8986      0.346      1.053         62       1216: 100%|██████████| 282/282 [02:17<00:00,  2.04it/s]\n",
      "                 Class     Images  Instances      Box(P          R      mAP50  mAP50-95): 100%|██████████| 23/23 [00:04<00:00,  4.66it/s]"
     ]
    },
    {
     "name": "stdout",
     "output_type": "stream",
     "text": [
      "                   all        228       8684      0.891      0.853      0.917      0.645\n"
     ]
    },
    {
     "name": "stderr",
     "output_type": "stream",
     "text": [
      "\n"
     ]
    },
    {
     "name": "stdout",
     "output_type": "stream",
     "text": [
      "\n",
      "      Epoch    GPU_mem   box_loss   cls_loss   dfl_loss  Instances       Size\n"
     ]
    },
    {
     "name": "stderr",
     "output_type": "stream",
     "text": [
      "     46/100      14.3G     0.8979     0.3463      1.049         70       1216: 100%|██████████| 282/282 [02:18<00:00,  2.04it/s]\n",
      "                 Class     Images  Instances      Box(P          R      mAP50  mAP50-95): 100%|██████████| 23/23 [00:04<00:00,  4.65it/s]"
     ]
    },
    {
     "name": "stdout",
     "output_type": "stream",
     "text": [
      "                   all        228       8684      0.869      0.857      0.901      0.636\n"
     ]
    },
    {
     "name": "stderr",
     "output_type": "stream",
     "text": [
      "\n"
     ]
    },
    {
     "name": "stdout",
     "output_type": "stream",
     "text": [
      "\n",
      "      Epoch    GPU_mem   box_loss   cls_loss   dfl_loss  Instances       Size\n"
     ]
    },
    {
     "name": "stderr",
     "output_type": "stream",
     "text": [
      "     47/100      14.5G     0.8961      0.345      1.052        115       1216: 100%|██████████| 282/282 [02:17<00:00,  2.04it/s]\n",
      "                 Class     Images  Instances      Box(P          R      mAP50  mAP50-95): 100%|██████████| 23/23 [00:04<00:00,  4.69it/s]"
     ]
    },
    {
     "name": "stdout",
     "output_type": "stream",
     "text": [
      "                   all        228       8684      0.874      0.854      0.914      0.649\n"
     ]
    },
    {
     "name": "stderr",
     "output_type": "stream",
     "text": [
      "\n"
     ]
    },
    {
     "name": "stdout",
     "output_type": "stream",
     "text": [
      "\n",
      "      Epoch    GPU_mem   box_loss   cls_loss   dfl_loss  Instances       Size\n"
     ]
    },
    {
     "name": "stderr",
     "output_type": "stream",
     "text": [
      "     48/100      14.6G     0.8855      0.341      1.045         96       1216: 100%|██████████| 282/282 [02:17<00:00,  2.04it/s]\n",
      "                 Class     Images  Instances      Box(P          R      mAP50  mAP50-95): 100%|██████████| 23/23 [00:04<00:00,  4.66it/s]"
     ]
    },
    {
     "name": "stdout",
     "output_type": "stream",
     "text": [
      "                   all        228       8684      0.849      0.831      0.888      0.619\n"
     ]
    },
    {
     "name": "stderr",
     "output_type": "stream",
     "text": [
      "\n"
     ]
    },
    {
     "name": "stdout",
     "output_type": "stream",
     "text": [
      "\n",
      "      Epoch    GPU_mem   box_loss   cls_loss   dfl_loss  Instances       Size\n"
     ]
    },
    {
     "name": "stderr",
     "output_type": "stream",
     "text": [
      "     49/100      14.2G     0.8911     0.3414      1.051        169       1216: 100%|██████████| 282/282 [02:17<00:00,  2.05it/s]\n",
      "                 Class     Images  Instances      Box(P          R      mAP50  mAP50-95): 100%|██████████| 23/23 [00:04<00:00,  4.65it/s]"
     ]
    },
    {
     "name": "stdout",
     "output_type": "stream",
     "text": [
      "                   all        228       8684      0.872      0.843      0.896      0.616\n"
     ]
    },
    {
     "name": "stderr",
     "output_type": "stream",
     "text": [
      "\n"
     ]
    },
    {
     "name": "stdout",
     "output_type": "stream",
     "text": [
      "\n",
      "      Epoch    GPU_mem   box_loss   cls_loss   dfl_loss  Instances       Size\n"
     ]
    },
    {
     "name": "stderr",
     "output_type": "stream",
     "text": [
      "     50/100      14.6G      0.891     0.3433      1.044        167       1216: 100%|██████████| 282/282 [02:17<00:00,  2.05it/s]\n",
      "                 Class     Images  Instances      Box(P          R      mAP50  mAP50-95): 100%|██████████| 23/23 [00:04<00:00,  4.66it/s]"
     ]
    },
    {
     "name": "stdout",
     "output_type": "stream",
     "text": [
      "                   all        228       8684      0.852      0.842      0.897      0.619\n"
     ]
    },
    {
     "name": "stderr",
     "output_type": "stream",
     "text": [
      "\n"
     ]
    },
    {
     "name": "stdout",
     "output_type": "stream",
     "text": [
      "\n",
      "      Epoch    GPU_mem   box_loss   cls_loss   dfl_loss  Instances       Size\n"
     ]
    },
    {
     "name": "stderr",
     "output_type": "stream",
     "text": [
      "     51/100      14.6G     0.8906     0.3428       1.05        188       1216: 100%|██████████| 282/282 [02:17<00:00,  2.05it/s]\n",
      "                 Class     Images  Instances      Box(P          R      mAP50  mAP50-95): 100%|██████████| 23/23 [00:04<00:00,  4.67it/s]"
     ]
    },
    {
     "name": "stdout",
     "output_type": "stream",
     "text": [
      "                   all        228       8684      0.878      0.853      0.909      0.637\n"
     ]
    },
    {
     "name": "stderr",
     "output_type": "stream",
     "text": [
      "\n"
     ]
    },
    {
     "name": "stdout",
     "output_type": "stream",
     "text": [
      "\n",
      "      Epoch    GPU_mem   box_loss   cls_loss   dfl_loss  Instances       Size\n"
     ]
    },
    {
     "name": "stderr",
     "output_type": "stream",
     "text": [
      "     52/100      14.6G     0.8867     0.3415      1.045        159       1216: 100%|██████████| 282/282 [02:18<00:00,  2.04it/s]\n",
      "                 Class     Images  Instances      Box(P          R      mAP50  mAP50-95): 100%|██████████| 23/23 [00:04<00:00,  4.66it/s]"
     ]
    },
    {
     "name": "stdout",
     "output_type": "stream",
     "text": [
      "                   all        228       8684      0.847      0.841      0.888      0.609\n"
     ]
    },
    {
     "name": "stderr",
     "output_type": "stream",
     "text": [
      "\n"
     ]
    },
    {
     "name": "stdout",
     "output_type": "stream",
     "text": [
      "\n",
      "      Epoch    GPU_mem   box_loss   cls_loss   dfl_loss  Instances       Size\n"
     ]
    },
    {
     "name": "stderr",
     "output_type": "stream",
     "text": [
      "     53/100      14.5G     0.8827     0.3403      1.043         64       1216: 100%|██████████| 282/282 [02:18<00:00,  2.04it/s]\n",
      "                 Class     Images  Instances      Box(P          R      mAP50  mAP50-95): 100%|██████████| 23/23 [00:04<00:00,  4.65it/s]"
     ]
    },
    {
     "name": "stdout",
     "output_type": "stream",
     "text": [
      "                   all        228       8684      0.854      0.873      0.898      0.635\n"
     ]
    },
    {
     "name": "stderr",
     "output_type": "stream",
     "text": [
      "\n"
     ]
    },
    {
     "name": "stdout",
     "output_type": "stream",
     "text": [
      "\n",
      "      Epoch    GPU_mem   box_loss   cls_loss   dfl_loss  Instances       Size\n"
     ]
    },
    {
     "name": "stderr",
     "output_type": "stream",
     "text": [
      "     54/100      14.4G     0.8837     0.3387      1.041         89       1216: 100%|██████████| 282/282 [02:17<00:00,  2.04it/s]\n",
      "                 Class     Images  Instances      Box(P          R      mAP50  mAP50-95): 100%|██████████| 23/23 [00:04<00:00,  4.68it/s]"
     ]
    },
    {
     "name": "stdout",
     "output_type": "stream",
     "text": [
      "                   all        228       8684      0.866      0.857       0.91      0.637\n"
     ]
    },
    {
     "name": "stderr",
     "output_type": "stream",
     "text": [
      "\n"
     ]
    },
    {
     "name": "stdout",
     "output_type": "stream",
     "text": [
      "\n",
      "      Epoch    GPU_mem   box_loss   cls_loss   dfl_loss  Instances       Size\n"
     ]
    },
    {
     "name": "stderr",
     "output_type": "stream",
     "text": [
      "     55/100      14.6G     0.8807     0.3446       1.04        137       1216: 100%|██████████| 282/282 [02:17<00:00,  2.05it/s]\n",
      "                 Class     Images  Instances      Box(P          R      mAP50  mAP50-95): 100%|██████████| 23/23 [00:04<00:00,  4.63it/s]"
     ]
    },
    {
     "name": "stdout",
     "output_type": "stream",
     "text": [
      "                   all        228       8684      0.857      0.857      0.907      0.634\n"
     ]
    },
    {
     "name": "stderr",
     "output_type": "stream",
     "text": [
      "\n"
     ]
    },
    {
     "name": "stdout",
     "output_type": "stream",
     "text": [
      "\n",
      "      Epoch    GPU_mem   box_loss   cls_loss   dfl_loss  Instances       Size\n"
     ]
    },
    {
     "name": "stderr",
     "output_type": "stream",
     "text": [
      "     56/100      14.4G     0.8767      0.339      1.039        109       1216: 100%|██████████| 282/282 [02:17<00:00,  2.05it/s]\n",
      "                 Class     Images  Instances      Box(P          R      mAP50  mAP50-95): 100%|██████████| 23/23 [00:04<00:00,  4.67it/s]"
     ]
    },
    {
     "name": "stdout",
     "output_type": "stream",
     "text": [
      "                   all        228       8684      0.879      0.847      0.891      0.614\n"
     ]
    },
    {
     "name": "stderr",
     "output_type": "stream",
     "text": [
      "\n"
     ]
    },
    {
     "name": "stdout",
     "output_type": "stream",
     "text": [
      "\n",
      "      Epoch    GPU_mem   box_loss   cls_loss   dfl_loss  Instances       Size\n"
     ]
    },
    {
     "name": "stderr",
     "output_type": "stream",
     "text": [
      "     57/100      14.7G     0.8659     0.3306      1.032         84       1216: 100%|██████████| 282/282 [02:17<00:00,  2.05it/s]\n",
      "                 Class     Images  Instances      Box(P          R      mAP50  mAP50-95): 100%|██████████| 23/23 [00:04<00:00,  4.66it/s]"
     ]
    },
    {
     "name": "stdout",
     "output_type": "stream",
     "text": [
      "                   all        228       8684      0.873      0.857      0.903      0.645\n"
     ]
    },
    {
     "name": "stderr",
     "output_type": "stream",
     "text": [
      "\n"
     ]
    },
    {
     "name": "stdout",
     "output_type": "stream",
     "text": [
      "\n",
      "      Epoch    GPU_mem   box_loss   cls_loss   dfl_loss  Instances       Size\n"
     ]
    },
    {
     "name": "stderr",
     "output_type": "stream",
     "text": [
      "     58/100      14.3G     0.8766     0.3387      1.038        102       1216: 100%|██████████| 282/282 [02:18<00:00,  2.04it/s]\n",
      "                 Class     Images  Instances      Box(P          R      mAP50  mAP50-95): 100%|██████████| 23/23 [00:04<00:00,  4.65it/s]"
     ]
    },
    {
     "name": "stdout",
     "output_type": "stream",
     "text": [
      "                   all        228       8684      0.856      0.887      0.896      0.635\n"
     ]
    },
    {
     "name": "stderr",
     "output_type": "stream",
     "text": [
      "\n"
     ]
    },
    {
     "name": "stdout",
     "output_type": "stream",
     "text": [
      "\n",
      "      Epoch    GPU_mem   box_loss   cls_loss   dfl_loss  Instances       Size\n"
     ]
    },
    {
     "name": "stderr",
     "output_type": "stream",
     "text": [
      "     59/100      14.3G     0.8707     0.3361      1.047         72       1216: 100%|██████████| 282/282 [02:17<00:00,  2.04it/s]\n",
      "                 Class     Images  Instances      Box(P          R      mAP50  mAP50-95): 100%|██████████| 23/23 [00:04<00:00,  4.67it/s]"
     ]
    },
    {
     "name": "stdout",
     "output_type": "stream",
     "text": [
      "                   all        228       8684      0.848      0.856      0.897      0.632\n"
     ]
    },
    {
     "name": "stderr",
     "output_type": "stream",
     "text": [
      "\n"
     ]
    },
    {
     "name": "stdout",
     "output_type": "stream",
     "text": [
      "\n",
      "      Epoch    GPU_mem   box_loss   cls_loss   dfl_loss  Instances       Size\n"
     ]
    },
    {
     "name": "stderr",
     "output_type": "stream",
     "text": [
      "     60/100      14.3G     0.8699     0.3355      1.038        119       1216: 100%|██████████| 282/282 [02:17<00:00,  2.05it/s]\n",
      "                 Class     Images  Instances      Box(P          R      mAP50  mAP50-95): 100%|██████████| 23/23 [00:04<00:00,  4.69it/s]"
     ]
    },
    {
     "name": "stdout",
     "output_type": "stream",
     "text": [
      "                   all        228       8684      0.885      0.825        0.9      0.624\n"
     ]
    },
    {
     "name": "stderr",
     "output_type": "stream",
     "text": [
      "\n"
     ]
    },
    {
     "name": "stdout",
     "output_type": "stream",
     "text": [
      "\n",
      "      Epoch    GPU_mem   box_loss   cls_loss   dfl_loss  Instances       Size\n"
     ]
    },
    {
     "name": "stderr",
     "output_type": "stream",
     "text": [
      "     61/100      14.4G     0.8639     0.3321      1.041         65       1216: 100%|██████████| 282/282 [02:17<00:00,  2.04it/s]\n",
      "                 Class     Images  Instances      Box(P          R      mAP50  mAP50-95): 100%|██████████| 23/23 [00:04<00:00,  4.66it/s]"
     ]
    },
    {
     "name": "stdout",
     "output_type": "stream",
     "text": [
      "                   all        228       8684      0.892      0.825      0.888      0.625\n"
     ]
    },
    {
     "name": "stderr",
     "output_type": "stream",
     "text": [
      "\n"
     ]
    },
    {
     "name": "stdout",
     "output_type": "stream",
     "text": [
      "\n",
      "      Epoch    GPU_mem   box_loss   cls_loss   dfl_loss  Instances       Size\n"
     ]
    },
    {
     "name": "stderr",
     "output_type": "stream",
     "text": [
      "     62/100      14.6G     0.8728     0.3364      1.043        107       1216: 100%|██████████| 282/282 [02:17<00:00,  2.05it/s]\n",
      "                 Class     Images  Instances      Box(P          R      mAP50  mAP50-95): 100%|██████████| 23/23 [00:04<00:00,  4.65it/s]"
     ]
    },
    {
     "name": "stdout",
     "output_type": "stream",
     "text": [
      "                   all        228       8684      0.889      0.853      0.897      0.631\n"
     ]
    },
    {
     "name": "stderr",
     "output_type": "stream",
     "text": [
      "\n"
     ]
    },
    {
     "name": "stdout",
     "output_type": "stream",
     "text": [
      "\n",
      "      Epoch    GPU_mem   box_loss   cls_loss   dfl_loss  Instances       Size\n"
     ]
    },
    {
     "name": "stderr",
     "output_type": "stream",
     "text": [
      "     63/100      14.7G      0.865     0.3345      1.032        118       1216: 100%|██████████| 282/282 [02:17<00:00,  2.04it/s]\n",
      "                 Class     Images  Instances      Box(P          R      mAP50  mAP50-95): 100%|██████████| 23/23 [00:04<00:00,  4.65it/s]"
     ]
    },
    {
     "name": "stdout",
     "output_type": "stream",
     "text": [
      "                   all        228       8684      0.872      0.825      0.882      0.619\n"
     ]
    },
    {
     "name": "stderr",
     "output_type": "stream",
     "text": [
      "\n"
     ]
    },
    {
     "name": "stdout",
     "output_type": "stream",
     "text": [
      "\n",
      "      Epoch    GPU_mem   box_loss   cls_loss   dfl_loss  Instances       Size\n"
     ]
    },
    {
     "name": "stderr",
     "output_type": "stream",
     "text": [
      "     64/100      14.6G     0.8595     0.3328      1.032        240       1216: 100%|██████████| 282/282 [02:17<00:00,  2.05it/s]\n",
      "                 Class     Images  Instances      Box(P          R      mAP50  mAP50-95): 100%|██████████| 23/23 [00:04<00:00,  4.69it/s]"
     ]
    },
    {
     "name": "stdout",
     "output_type": "stream",
     "text": [
      "                   all        228       8684      0.872      0.832       0.89      0.625\n"
     ]
    },
    {
     "name": "stderr",
     "output_type": "stream",
     "text": [
      "\n"
     ]
    },
    {
     "name": "stdout",
     "output_type": "stream",
     "text": [
      "\n",
      "      Epoch    GPU_mem   box_loss   cls_loss   dfl_loss  Instances       Size\n"
     ]
    },
    {
     "name": "stderr",
     "output_type": "stream",
     "text": [
      "     65/100      14.3G      0.864     0.3343      1.036         77       1216: 100%|██████████| 282/282 [02:18<00:00,  2.04it/s]\n",
      "                 Class     Images  Instances      Box(P          R      mAP50  mAP50-95): 100%|██████████| 23/23 [00:04<00:00,  4.66it/s]"
     ]
    },
    {
     "name": "stdout",
     "output_type": "stream",
     "text": [
      "                   all        228       8684      0.874      0.853      0.906      0.644\n"
     ]
    },
    {
     "name": "stderr",
     "output_type": "stream",
     "text": [
      "\n"
     ]
    },
    {
     "name": "stdout",
     "output_type": "stream",
     "text": [
      "\n",
      "      Epoch    GPU_mem   box_loss   cls_loss   dfl_loss  Instances       Size\n"
     ]
    },
    {
     "name": "stderr",
     "output_type": "stream",
     "text": [
      "     66/100      14.5G     0.8621     0.3305      1.031        169       1216: 100%|██████████| 282/282 [02:17<00:00,  2.04it/s]\n",
      "                 Class     Images  Instances      Box(P          R      mAP50  mAP50-95): 100%|██████████| 23/23 [00:04<00:00,  4.67it/s]"
     ]
    },
    {
     "name": "stdout",
     "output_type": "stream",
     "text": [
      "                   all        228       8684      0.879      0.859      0.912      0.645\n"
     ]
    },
    {
     "name": "stderr",
     "output_type": "stream",
     "text": [
      "\n"
     ]
    },
    {
     "name": "stdout",
     "output_type": "stream",
     "text": [
      "\n",
      "      Epoch    GPU_mem   box_loss   cls_loss   dfl_loss  Instances       Size\n"
     ]
    },
    {
     "name": "stderr",
     "output_type": "stream",
     "text": [
      "     67/100      14.3G     0.8578     0.3326       1.03        176       1216: 100%|██████████| 282/282 [02:17<00:00,  2.04it/s]\n",
      "                 Class     Images  Instances      Box(P          R      mAP50  mAP50-95): 100%|██████████| 23/23 [00:04<00:00,  4.67it/s]"
     ]
    },
    {
     "name": "stdout",
     "output_type": "stream",
     "text": [
      "                   all        228       8684      0.861      0.841        0.9       0.63\n"
     ]
    },
    {
     "name": "stderr",
     "output_type": "stream",
     "text": [
      "\n"
     ]
    },
    {
     "name": "stdout",
     "output_type": "stream",
     "text": [
      "\n",
      "      Epoch    GPU_mem   box_loss   cls_loss   dfl_loss  Instances       Size\n"
     ]
    },
    {
     "name": "stderr",
     "output_type": "stream",
     "text": [
      "     68/100      14.6G     0.8518     0.3283      1.033        109       1216: 100%|██████████| 282/282 [02:17<00:00,  2.04it/s]\n",
      "                 Class     Images  Instances      Box(P          R      mAP50  mAP50-95): 100%|██████████| 23/23 [00:04<00:00,  4.65it/s]"
     ]
    },
    {
     "name": "stdout",
     "output_type": "stream",
     "text": [
      "                   all        228       8684      0.891      0.852      0.906      0.637\n"
     ]
    },
    {
     "name": "stderr",
     "output_type": "stream",
     "text": [
      "\n"
     ]
    },
    {
     "name": "stdout",
     "output_type": "stream",
     "text": [
      "\n",
      "      Epoch    GPU_mem   box_loss   cls_loss   dfl_loss  Instances       Size\n"
     ]
    },
    {
     "name": "stderr",
     "output_type": "stream",
     "text": [
      "     69/100      14.7G     0.8566     0.3288      1.034         74       1216: 100%|██████████| 282/282 [02:17<00:00,  2.05it/s]\n",
      "                 Class     Images  Instances      Box(P          R      mAP50  mAP50-95): 100%|██████████| 23/23 [00:04<00:00,  4.67it/s]"
     ]
    },
    {
     "name": "stdout",
     "output_type": "stream",
     "text": [
      "                   all        228       8684      0.874      0.852        0.9      0.632\n"
     ]
    },
    {
     "name": "stderr",
     "output_type": "stream",
     "text": [
      "\n"
     ]
    },
    {
     "name": "stdout",
     "output_type": "stream",
     "text": [
      "\n",
      "      Epoch    GPU_mem   box_loss   cls_loss   dfl_loss  Instances       Size\n"
     ]
    },
    {
     "name": "stderr",
     "output_type": "stream",
     "text": [
      "     70/100      14.3G     0.8568     0.3309      1.024         94       1216: 100%|██████████| 282/282 [02:17<00:00,  2.04it/s]\n",
      "                 Class     Images  Instances      Box(P          R      mAP50  mAP50-95): 100%|██████████| 23/23 [00:04<00:00,  4.64it/s]"
     ]
    },
    {
     "name": "stdout",
     "output_type": "stream",
     "text": [
      "                   all        228       8684      0.871      0.863      0.903      0.637\n"
     ]
    },
    {
     "name": "stderr",
     "output_type": "stream",
     "text": [
      "\n"
     ]
    },
    {
     "name": "stdout",
     "output_type": "stream",
     "text": [
      "\n",
      "      Epoch    GPU_mem   box_loss   cls_loss   dfl_loss  Instances       Size\n"
     ]
    },
    {
     "name": "stderr",
     "output_type": "stream",
     "text": [
      "     71/100      14.3G     0.8492     0.3264      1.029        185       1216: 100%|██████████| 282/282 [02:17<00:00,  2.04it/s]\n",
      "                 Class     Images  Instances      Box(P          R      mAP50  mAP50-95): 100%|██████████| 23/23 [00:04<00:00,  4.66it/s]"
     ]
    },
    {
     "name": "stdout",
     "output_type": "stream",
     "text": [
      "                   all        228       8684      0.855      0.879      0.909      0.638\n"
     ]
    },
    {
     "name": "stderr",
     "output_type": "stream",
     "text": [
      "\n"
     ]
    },
    {
     "name": "stdout",
     "output_type": "stream",
     "text": [
      "\n",
      "      Epoch    GPU_mem   box_loss   cls_loss   dfl_loss  Instances       Size\n"
     ]
    },
    {
     "name": "stderr",
     "output_type": "stream",
     "text": [
      "     72/100      14.7G     0.8477     0.3253       1.02        179       1216: 100%|██████████| 282/282 [02:17<00:00,  2.04it/s]\n",
      "                 Class     Images  Instances      Box(P          R      mAP50  mAP50-95): 100%|██████████| 23/23 [00:04<00:00,  4.64it/s]"
     ]
    },
    {
     "name": "stdout",
     "output_type": "stream",
     "text": [
      "                   all        228       8684      0.881      0.849      0.899      0.631\n"
     ]
    },
    {
     "name": "stderr",
     "output_type": "stream",
     "text": [
      "\n"
     ]
    },
    {
     "name": "stdout",
     "output_type": "stream",
     "text": [
      "\n",
      "      Epoch    GPU_mem   box_loss   cls_loss   dfl_loss  Instances       Size\n"
     ]
    },
    {
     "name": "stderr",
     "output_type": "stream",
     "text": [
      "     73/100      14.6G     0.8521      0.327       1.03        155       1216: 100%|██████████| 282/282 [02:17<00:00,  2.05it/s]\n",
      "                 Class     Images  Instances      Box(P          R      mAP50  mAP50-95): 100%|██████████| 23/23 [00:04<00:00,  4.66it/s]"
     ]
    },
    {
     "name": "stdout",
     "output_type": "stream",
     "text": [
      "                   all        228       8684      0.882      0.834        0.9      0.632\n"
     ]
    },
    {
     "name": "stderr",
     "output_type": "stream",
     "text": [
      "\n"
     ]
    },
    {
     "name": "stdout",
     "output_type": "stream",
     "text": [
      "\n",
      "      Epoch    GPU_mem   box_loss   cls_loss   dfl_loss  Instances       Size\n"
     ]
    },
    {
     "name": "stderr",
     "output_type": "stream",
     "text": [
      "     74/100      14.4G     0.8505     0.3233      1.032        144       1216: 100%|██████████| 282/282 [02:17<00:00,  2.05it/s]\n",
      "                 Class     Images  Instances      Box(P          R      mAP50  mAP50-95): 100%|██████████| 23/23 [00:04<00:00,  4.67it/s]"
     ]
    },
    {
     "name": "stdout",
     "output_type": "stream",
     "text": [
      "                   all        228       8684      0.886      0.822      0.899      0.634\n"
     ]
    },
    {
     "name": "stderr",
     "output_type": "stream",
     "text": [
      "\n"
     ]
    },
    {
     "name": "stdout",
     "output_type": "stream",
     "text": [
      "\n",
      "      Epoch    GPU_mem   box_loss   cls_loss   dfl_loss  Instances       Size\n"
     ]
    },
    {
     "name": "stderr",
     "output_type": "stream",
     "text": [
      "     75/100      14.6G     0.8507      0.327      1.023        136       1216: 100%|██████████| 282/282 [02:17<00:00,  2.05it/s]\n",
      "                 Class     Images  Instances      Box(P          R      mAP50  mAP50-95): 100%|██████████| 23/23 [00:04<00:00,  4.70it/s]"
     ]
    },
    {
     "name": "stdout",
     "output_type": "stream",
     "text": [
      "                   all        228       8684      0.875       0.85      0.899      0.629\n"
     ]
    },
    {
     "name": "stderr",
     "output_type": "stream",
     "text": [
      "\n"
     ]
    },
    {
     "name": "stdout",
     "output_type": "stream",
     "text": [
      "\n",
      "      Epoch    GPU_mem   box_loss   cls_loss   dfl_loss  Instances       Size\n"
     ]
    },
    {
     "name": "stderr",
     "output_type": "stream",
     "text": [
      "     76/100      14.4G      0.843     0.3255      1.026        102       1216: 100%|██████████| 282/282 [02:17<00:00,  2.05it/s]\n",
      "                 Class     Images  Instances      Box(P          R      mAP50  mAP50-95): 100%|██████████| 23/23 [00:04<00:00,  4.69it/s]"
     ]
    },
    {
     "name": "stdout",
     "output_type": "stream",
     "text": [
      "                   all        228       8684      0.879      0.842      0.905      0.634\n"
     ]
    },
    {
     "name": "stderr",
     "output_type": "stream",
     "text": [
      "\n"
     ]
    },
    {
     "name": "stdout",
     "output_type": "stream",
     "text": [
      "\n",
      "      Epoch    GPU_mem   box_loss   cls_loss   dfl_loss  Instances       Size\n"
     ]
    },
    {
     "name": "stderr",
     "output_type": "stream",
     "text": [
      "     77/100      14.4G     0.8435     0.3261      1.032         70       1216: 100%|██████████| 282/282 [02:17<00:00,  2.05it/s]\n",
      "                 Class     Images  Instances      Box(P          R      mAP50  mAP50-95): 100%|██████████| 23/23 [00:04<00:00,  4.65it/s]"
     ]
    },
    {
     "name": "stdout",
     "output_type": "stream",
     "text": [
      "                   all        228       8684      0.878      0.872      0.908      0.638\n"
     ]
    },
    {
     "name": "stderr",
     "output_type": "stream",
     "text": [
      "\n"
     ]
    },
    {
     "name": "stdout",
     "output_type": "stream",
     "text": [
      "\n",
      "      Epoch    GPU_mem   box_loss   cls_loss   dfl_loss  Instances       Size\n"
     ]
    },
    {
     "name": "stderr",
     "output_type": "stream",
     "text": [
      "     78/100      14.2G     0.8392     0.3215      1.016        219       1216: 100%|██████████| 282/282 [02:17<00:00,  2.04it/s]\n",
      "                 Class     Images  Instances      Box(P          R      mAP50  mAP50-95): 100%|██████████| 23/23 [00:04<00:00,  4.66it/s]"
     ]
    },
    {
     "name": "stdout",
     "output_type": "stream",
     "text": [
      "                   all        228       8684      0.877      0.859      0.904      0.638\n"
     ]
    },
    {
     "name": "stderr",
     "output_type": "stream",
     "text": [
      "\n"
     ]
    },
    {
     "name": "stdout",
     "output_type": "stream",
     "text": [
      "\n",
      "      Epoch    GPU_mem   box_loss   cls_loss   dfl_loss  Instances       Size\n"
     ]
    },
    {
     "name": "stderr",
     "output_type": "stream",
     "text": [
      "     79/100      14.2G     0.8367     0.3201      1.026         74       1216: 100%|██████████| 282/282 [02:17<00:00,  2.05it/s]\n",
      "                 Class     Images  Instances      Box(P          R      mAP50  mAP50-95): 100%|██████████| 23/23 [00:04<00:00,  4.65it/s]"
     ]
    },
    {
     "name": "stdout",
     "output_type": "stream",
     "text": [
      "                   all        228       8684       0.88      0.865       0.91      0.636\n"
     ]
    },
    {
     "name": "stderr",
     "output_type": "stream",
     "text": [
      "\n"
     ]
    },
    {
     "name": "stdout",
     "output_type": "stream",
     "text": [
      "\n",
      "      Epoch    GPU_mem   box_loss   cls_loss   dfl_loss  Instances       Size\n"
     ]
    },
    {
     "name": "stderr",
     "output_type": "stream",
     "text": [
      "     80/100      14.6G     0.8355     0.3214      1.018        173       1216: 100%|██████████| 282/282 [02:17<00:00,  2.05it/s]\n",
      "                 Class     Images  Instances      Box(P          R      mAP50  mAP50-95): 100%|██████████| 23/23 [00:04<00:00,  4.67it/s]"
     ]
    },
    {
     "name": "stdout",
     "output_type": "stream",
     "text": [
      "                   all        228       8684       0.89       0.85      0.914      0.652\n"
     ]
    },
    {
     "name": "stderr",
     "output_type": "stream",
     "text": [
      "\n"
     ]
    },
    {
     "name": "stdout",
     "output_type": "stream",
     "text": [
      "\n",
      "      Epoch    GPU_mem   box_loss   cls_loss   dfl_loss  Instances       Size\n"
     ]
    },
    {
     "name": "stderr",
     "output_type": "stream",
     "text": [
      "     81/100      14.5G     0.8321     0.3189      1.014         78       1216: 100%|██████████| 282/282 [02:17<00:00,  2.04it/s]\n",
      "                 Class     Images  Instances      Box(P          R      mAP50  mAP50-95): 100%|██████████| 23/23 [00:04<00:00,  4.64it/s]"
     ]
    },
    {
     "name": "stdout",
     "output_type": "stream",
     "text": [
      "                   all        228       8684      0.864       0.87      0.897      0.634\n"
     ]
    },
    {
     "name": "stderr",
     "output_type": "stream",
     "text": [
      "\n"
     ]
    },
    {
     "name": "stdout",
     "output_type": "stream",
     "text": [
      "\n",
      "      Epoch    GPU_mem   box_loss   cls_loss   dfl_loss  Instances       Size\n"
     ]
    },
    {
     "name": "stderr",
     "output_type": "stream",
     "text": [
      "     82/100      14.6G     0.8399     0.3213      1.018        149       1216: 100%|██████████| 282/282 [02:17<00:00,  2.05it/s]\n",
      "                 Class     Images  Instances      Box(P          R      mAP50  mAP50-95): 100%|██████████| 23/23 [00:04<00:00,  4.64it/s]"
     ]
    },
    {
     "name": "stdout",
     "output_type": "stream",
     "text": [
      "                   all        228       8684      0.882      0.859      0.907       0.64\n"
     ]
    },
    {
     "name": "stderr",
     "output_type": "stream",
     "text": [
      "\n"
     ]
    },
    {
     "name": "stdout",
     "output_type": "stream",
     "text": [
      "\n",
      "      Epoch    GPU_mem   box_loss   cls_loss   dfl_loss  Instances       Size\n"
     ]
    },
    {
     "name": "stderr",
     "output_type": "stream",
     "text": [
      "     83/100      14.3G     0.8273     0.3205      1.025        153       1216: 100%|██████████| 282/282 [02:17<00:00,  2.05it/s]\n",
      "                 Class     Images  Instances      Box(P          R      mAP50  mAP50-95): 100%|██████████| 23/23 [00:04<00:00,  4.64it/s]"
     ]
    },
    {
     "name": "stdout",
     "output_type": "stream",
     "text": [
      "                   all        228       8684      0.862      0.854      0.894      0.623\n"
     ]
    },
    {
     "name": "stderr",
     "output_type": "stream",
     "text": [
      "\n"
     ]
    },
    {
     "name": "stdout",
     "output_type": "stream",
     "text": [
      "\n",
      "      Epoch    GPU_mem   box_loss   cls_loss   dfl_loss  Instances       Size\n"
     ]
    },
    {
     "name": "stderr",
     "output_type": "stream",
     "text": [
      "     84/100      14.6G     0.8294      0.322      1.017         79       1216: 100%|██████████| 282/282 [02:17<00:00,  2.05it/s]\n",
      "                 Class     Images  Instances      Box(P          R      mAP50  mAP50-95): 100%|██████████| 23/23 [00:04<00:00,  4.66it/s]"
     ]
    },
    {
     "name": "stdout",
     "output_type": "stream",
     "text": [
      "                   all        228       8684      0.882      0.842        0.9      0.632\n"
     ]
    },
    {
     "name": "stderr",
     "output_type": "stream",
     "text": [
      "\n"
     ]
    },
    {
     "name": "stdout",
     "output_type": "stream",
     "text": [
      "\n",
      "      Epoch    GPU_mem   box_loss   cls_loss   dfl_loss  Instances       Size\n"
     ]
    },
    {
     "name": "stderr",
     "output_type": "stream",
     "text": [
      "     85/100      14.3G     0.8268      0.318      1.015         71       1216: 100%|██████████| 282/282 [02:17<00:00,  2.05it/s]\n",
      "                 Class     Images  Instances      Box(P          R      mAP50  mAP50-95): 100%|██████████| 23/23 [00:04<00:00,  4.67it/s]"
     ]
    },
    {
     "name": "stdout",
     "output_type": "stream",
     "text": [
      "                   all        228       8684      0.874      0.846        0.9      0.637\n"
     ]
    },
    {
     "name": "stderr",
     "output_type": "stream",
     "text": [
      "\n"
     ]
    },
    {
     "name": "stdout",
     "output_type": "stream",
     "text": [
      "\n",
      "      Epoch    GPU_mem   box_loss   cls_loss   dfl_loss  Instances       Size\n"
     ]
    },
    {
     "name": "stderr",
     "output_type": "stream",
     "text": [
      "     86/100      14.3G     0.8262     0.3201      1.013         76       1216: 100%|██████████| 282/282 [02:17<00:00,  2.05it/s]\n",
      "                 Class     Images  Instances      Box(P          R      mAP50  mAP50-95): 100%|██████████| 23/23 [00:04<00:00,  4.65it/s]"
     ]
    },
    {
     "name": "stdout",
     "output_type": "stream",
     "text": [
      "                   all        228       8684      0.876       0.83      0.884      0.623\n"
     ]
    },
    {
     "name": "stderr",
     "output_type": "stream",
     "text": [
      "\n"
     ]
    },
    {
     "name": "stdout",
     "output_type": "stream",
     "text": [
      "\n",
      "      Epoch    GPU_mem   box_loss   cls_loss   dfl_loss  Instances       Size\n"
     ]
    },
    {
     "name": "stderr",
     "output_type": "stream",
     "text": [
      "     87/100      14.6G     0.8282     0.3192      1.017        122       1216: 100%|██████████| 282/282 [02:17<00:00,  2.04it/s]\n",
      "                 Class     Images  Instances      Box(P          R      mAP50  mAP50-95): 100%|██████████| 23/23 [00:04<00:00,  4.67it/s]"
     ]
    },
    {
     "name": "stdout",
     "output_type": "stream",
     "text": [
      "                   all        228       8684      0.885      0.845      0.898      0.633\n"
     ]
    },
    {
     "name": "stderr",
     "output_type": "stream",
     "text": [
      "\n"
     ]
    },
    {
     "name": "stdout",
     "output_type": "stream",
     "text": [
      "\n",
      "      Epoch    GPU_mem   box_loss   cls_loss   dfl_loss  Instances       Size\n"
     ]
    },
    {
     "name": "stderr",
     "output_type": "stream",
     "text": [
      "     88/100      14.3G     0.8164     0.3138      1.015        145       1216: 100%|██████████| 282/282 [02:17<00:00,  2.04it/s]\n",
      "                 Class     Images  Instances      Box(P          R      mAP50  mAP50-95): 100%|██████████| 23/23 [00:04<00:00,  4.67it/s]"
     ]
    },
    {
     "name": "stdout",
     "output_type": "stream",
     "text": [
      "                   all        228       8684      0.889      0.842      0.899      0.632\n"
     ]
    },
    {
     "name": "stderr",
     "output_type": "stream",
     "text": [
      "\n"
     ]
    },
    {
     "name": "stdout",
     "output_type": "stream",
     "text": [
      "\n",
      "      Epoch    GPU_mem   box_loss   cls_loss   dfl_loss  Instances       Size\n"
     ]
    },
    {
     "name": "stderr",
     "output_type": "stream",
     "text": [
      "     89/100      14.3G     0.8148     0.3142      1.012         58       1216: 100%|██████████| 282/282 [02:18<00:00,  2.04it/s]\n",
      "                 Class     Images  Instances      Box(P          R      mAP50  mAP50-95): 100%|██████████| 23/23 [00:04<00:00,  4.65it/s]"
     ]
    },
    {
     "name": "stdout",
     "output_type": "stream",
     "text": [
      "                   all        228       8684       0.88      0.839      0.893      0.626\n"
     ]
    },
    {
     "name": "stderr",
     "output_type": "stream",
     "text": [
      "\n"
     ]
    },
    {
     "name": "stdout",
     "output_type": "stream",
     "text": [
      "\n",
      "      Epoch    GPU_mem   box_loss   cls_loss   dfl_loss  Instances       Size\n"
     ]
    },
    {
     "name": "stderr",
     "output_type": "stream",
     "text": [
      "     90/100      14.2G     0.8199     0.3126      1.011         74       1216: 100%|██████████| 282/282 [02:18<00:00,  2.04it/s]\n",
      "                 Class     Images  Instances      Box(P          R      mAP50  mAP50-95): 100%|██████████| 23/23 [00:04<00:00,  4.67it/s]"
     ]
    },
    {
     "name": "stdout",
     "output_type": "stream",
     "text": [
      "                   all        228       8684      0.888       0.83      0.887      0.625\n"
     ]
    },
    {
     "name": "stderr",
     "output_type": "stream",
     "text": [
      "\n"
     ]
    },
    {
     "name": "stdout",
     "output_type": "stream",
     "text": [
      "Closing dataloader mosaic\n",
      "\u001b[34m\u001b[1malbumentations: \u001b[0mBlur(p=0.01, blur_limit=(3, 7)), MedianBlur(p=0.01, blur_limit=(3, 7)), ToGray(p=0.01), CLAHE(p=0.01, clip_limit=(1, 4.0), tile_grid_size=(8, 8))\n",
      "\n",
      "      Epoch    GPU_mem   box_loss   cls_loss   dfl_loss  Instances       Size\n"
     ]
    },
    {
     "name": "stderr",
     "output_type": "stream",
     "text": [
      "     91/100      14.3G     0.8066     0.3022      1.043         74       1216: 100%|██████████| 282/282 [02:18<00:00,  2.03it/s]\n",
      "                 Class     Images  Instances      Box(P          R      mAP50  mAP50-95): 100%|██████████| 23/23 [00:04<00:00,  4.65it/s]"
     ]
    },
    {
     "name": "stdout",
     "output_type": "stream",
     "text": [
      "                   all        228       8684      0.889      0.822      0.892      0.627\n"
     ]
    },
    {
     "name": "stderr",
     "output_type": "stream",
     "text": [
      "\n"
     ]
    },
    {
     "name": "stdout",
     "output_type": "stream",
     "text": [
      "\n",
      "      Epoch    GPU_mem   box_loss   cls_loss   dfl_loss  Instances       Size\n"
     ]
    },
    {
     "name": "stderr",
     "output_type": "stream",
     "text": [
      "     92/100      14.3G     0.8075        0.3      1.037         48       1216: 100%|██████████| 282/282 [02:17<00:00,  2.06it/s]\n",
      "                 Class     Images  Instances      Box(P          R      mAP50  mAP50-95): 100%|██████████| 23/23 [00:04<00:00,  4.68it/s]"
     ]
    },
    {
     "name": "stdout",
     "output_type": "stream",
     "text": [
      "                   all        228       8684      0.887       0.82      0.895      0.629\n"
     ]
    },
    {
     "name": "stderr",
     "output_type": "stream",
     "text": [
      "\n"
     ]
    },
    {
     "name": "stdout",
     "output_type": "stream",
     "text": [
      "\n",
      "      Epoch    GPU_mem   box_loss   cls_loss   dfl_loss  Instances       Size\n"
     ]
    },
    {
     "name": "stderr",
     "output_type": "stream",
     "text": [
      "     93/100      14.2G     0.8046     0.2993      1.041         70       1216: 100%|██████████| 282/282 [02:17<00:00,  2.05it/s]\n",
      "                 Class     Images  Instances      Box(P          R      mAP50  mAP50-95): 100%|██████████| 23/23 [00:04<00:00,  4.67it/s]"
     ]
    },
    {
     "name": "stdout",
     "output_type": "stream",
     "text": [
      "                   all        228       8684      0.881      0.835      0.895      0.632\n"
     ]
    },
    {
     "name": "stderr",
     "output_type": "stream",
     "text": [
      "\n"
     ]
    },
    {
     "name": "stdout",
     "output_type": "stream",
     "text": [
      "\n",
      "      Epoch    GPU_mem   box_loss   cls_loss   dfl_loss  Instances       Size\n"
     ]
    },
    {
     "name": "stderr",
     "output_type": "stream",
     "text": [
      "     94/100      14.3G      0.801     0.2984      1.036         60       1216: 100%|██████████| 282/282 [02:17<00:00,  2.05it/s]\n",
      "                 Class     Images  Instances      Box(P          R      mAP50  mAP50-95): 100%|██████████| 23/23 [00:04<00:00,  4.69it/s]"
     ]
    },
    {
     "name": "stdout",
     "output_type": "stream",
     "text": [
      "                   all        228       8684      0.889      0.824      0.892      0.632\n"
     ]
    },
    {
     "name": "stderr",
     "output_type": "stream",
     "text": [
      "\n"
     ]
    },
    {
     "name": "stdout",
     "output_type": "stream",
     "text": [
      "\n",
      "      Epoch    GPU_mem   box_loss   cls_loss   dfl_loss  Instances       Size\n"
     ]
    },
    {
     "name": "stderr",
     "output_type": "stream",
     "text": [
      "     95/100      14.1G     0.7985     0.2965      1.037         81       1216: 100%|██████████| 282/282 [02:17<00:00,  2.05it/s]\n",
      "                 Class     Images  Instances      Box(P          R      mAP50  mAP50-95): 100%|██████████| 23/23 [00:04<00:00,  4.67it/s]"
     ]
    },
    {
     "name": "stdout",
     "output_type": "stream",
     "text": [
      "                   all        228       8684       0.86      0.828      0.887      0.629\n"
     ]
    },
    {
     "name": "stderr",
     "output_type": "stream",
     "text": [
      "\n"
     ]
    },
    {
     "name": "stdout",
     "output_type": "stream",
     "text": [
      "\n",
      "      Epoch    GPU_mem   box_loss   cls_loss   dfl_loss  Instances       Size\n"
     ]
    },
    {
     "name": "stderr",
     "output_type": "stream",
     "text": [
      "     96/100      14.2G     0.7985     0.2953      1.037        102       1216: 100%|██████████| 282/282 [02:17<00:00,  2.05it/s]\n",
      "                 Class     Images  Instances      Box(P          R      mAP50  mAP50-95): 100%|██████████| 23/23 [00:04<00:00,  4.66it/s]"
     ]
    },
    {
     "name": "stdout",
     "output_type": "stream",
     "text": [
      "                   all        228       8684      0.871      0.818      0.886      0.629\n"
     ]
    },
    {
     "name": "stderr",
     "output_type": "stream",
     "text": [
      "\n"
     ]
    },
    {
     "name": "stdout",
     "output_type": "stream",
     "text": [
      "\n",
      "      Epoch    GPU_mem   box_loss   cls_loss   dfl_loss  Instances       Size\n"
     ]
    },
    {
     "name": "stderr",
     "output_type": "stream",
     "text": [
      "     97/100      14.2G     0.7917     0.2948      1.036         71       1216: 100%|██████████| 282/282 [02:17<00:00,  2.05it/s]\n",
      "                 Class     Images  Instances      Box(P          R      mAP50  mAP50-95): 100%|██████████| 23/23 [00:04<00:00,  4.64it/s]"
     ]
    },
    {
     "name": "stdout",
     "output_type": "stream",
     "text": [
      "                   all        228       8684      0.888      0.811      0.887      0.628\n"
     ]
    },
    {
     "name": "stderr",
     "output_type": "stream",
     "text": [
      "\n"
     ]
    },
    {
     "name": "stdout",
     "output_type": "stream",
     "text": [
      "\n",
      "      Epoch    GPU_mem   box_loss   cls_loss   dfl_loss  Instances       Size\n"
     ]
    },
    {
     "name": "stderr",
     "output_type": "stream",
     "text": [
      "     98/100      14.1G     0.7921      0.295      1.036         85       1216: 100%|██████████| 282/282 [02:17<00:00,  2.05it/s]\n",
      "                 Class     Images  Instances      Box(P          R      mAP50  mAP50-95): 100%|██████████| 23/23 [00:04<00:00,  4.65it/s]"
     ]
    },
    {
     "name": "stdout",
     "output_type": "stream",
     "text": [
      "                   all        228       8684      0.883      0.815      0.888      0.628\n"
     ]
    },
    {
     "name": "stderr",
     "output_type": "stream",
     "text": [
      "\n"
     ]
    },
    {
     "name": "stdout",
     "output_type": "stream",
     "text": [
      "\n",
      "      Epoch    GPU_mem   box_loss   cls_loss   dfl_loss  Instances       Size\n"
     ]
    },
    {
     "name": "stderr",
     "output_type": "stream",
     "text": [
      "     99/100      14.2G     0.7898     0.2937      1.028         67       1216: 100%|██████████| 282/282 [02:17<00:00,  2.05it/s]\n",
      "                 Class     Images  Instances      Box(P          R      mAP50  mAP50-95): 100%|██████████| 23/23 [00:04<00:00,  4.66it/s]"
     ]
    },
    {
     "name": "stdout",
     "output_type": "stream",
     "text": [
      "                   all        228       8684      0.886      0.815      0.886      0.628\n"
     ]
    },
    {
     "name": "stderr",
     "output_type": "stream",
     "text": [
      "\n"
     ]
    },
    {
     "name": "stdout",
     "output_type": "stream",
     "text": [
      "\n",
      "      Epoch    GPU_mem   box_loss   cls_loss   dfl_loss  Instances       Size\n"
     ]
    },
    {
     "name": "stderr",
     "output_type": "stream",
     "text": [
      "    100/100      14.3G     0.7891     0.2935      1.027         37       1216: 100%|██████████| 282/282 [02:17<00:00,  2.05it/s]\n",
      "                 Class     Images  Instances      Box(P          R      mAP50  mAP50-95): 100%|██████████| 23/23 [00:04<00:00,  4.66it/s]"
     ]
    },
    {
     "name": "stdout",
     "output_type": "stream",
     "text": [
      "                   all        228       8684      0.892      0.813      0.886      0.629\n"
     ]
    },
    {
     "name": "stderr",
     "output_type": "stream",
     "text": [
      "\n"
     ]
    },
    {
     "name": "stdout",
     "output_type": "stream",
     "text": [
      "\n",
      "100 epochs completed in 4.008 hours.\n",
      "Optimizer stripped from runs/detect/011_YoloV8ExtraLarge_100Epochs_1200.ipynb/weights/last.pt, 136.8MB\n",
      "Optimizer stripped from runs/detect/011_YoloV8ExtraLarge_100Epochs_1200.ipynb/weights/best.pt, 136.8MB\n",
      "\n",
      "Validating runs/detect/011_YoloV8ExtraLarge_100Epochs_1200.ipynb/weights/best.pt...\n",
      "Ultralytics YOLOv8.2.9 🚀 Python-3.9.13 torch-1.12.0+cu113 CUDA:0 (NVIDIA GeForce RTX 3090, 24268MiB)\n",
      "Model summary (fused): 268 layers, 68124531 parameters, 0 gradients, 257.4 GFLOPs\n"
     ]
    },
    {
     "name": "stderr",
     "output_type": "stream",
     "text": [
      "                 Class     Images  Instances      Box(P          R      mAP50  mAP50-95): 100%|██████████| 23/23 [00:10<00:00,  2.21it/s]\n"
     ]
    },
    {
     "name": "stdout",
     "output_type": "stream",
     "text": [
      "                   all        228       8684      0.889      0.887      0.936      0.655\n",
      "Speed: 0.8ms preprocess, 24.0ms inference, 0.0ms loss, 0.6ms postprocess per image\n",
      "Results saved to \u001b[1mruns/detect/011_YoloV8ExtraLarge_100Epochs_1200.ipynb\u001b[0m\n"
     ]
    }
   ],
   "source": [
    "# Train the model using the 'coco8.yaml' dataset for 3 epochs\n",
    "import torch\n",
    "\n",
    "device = torch.device(\"cuda:0\")\n",
    "\n",
    "results = model.train(data='dataSet.yaml',\n",
    "                      epochs=100,                      \n",
    "                      plots = True,            \n",
    "                      name = name,\n",
    "                      batch = -1,\n",
    "                      imgsz=1200,\n",
    "                      device = device)"
   ]
  },
  {
   "cell_type": "code",
   "execution_count": 4,
   "metadata": {
    "colab": {
     "base_uri": "https://localhost:8080/"
    },
    "id": "SMv-eYYlch4b",
    "outputId": "019636a6-3c09-4d12-d0ac-ecdfc2b11a19"
   },
   "outputs": [
    {
     "name": "stdout",
     "output_type": "stream",
     "text": [
      "Ultralytics YOLOv8.2.9 🚀 Python-3.9.13 torch-1.12.0+cu113 CUDA:0 (NVIDIA GeForce RTX 3090, 24268MiB)\n",
      "Model summary (fused): 268 layers, 68124531 parameters, 0 gradients, 257.4 GFLOPs\n"
     ]
    },
    {
     "name": "stderr",
     "output_type": "stream",
     "text": [
      "\u001b[34m\u001b[1mval: \u001b[0mScanning /grupob/home/jodivaso/tfm_miguel/dataSet/labels/test.cache... 177 images, 0 backgrounds, 0 corrupt: 100%|██████████| 177/177 [00:00<?, ?it/s]\n",
      "                 Class     Images  Instances      Box(P          R      mAP50  mAP50-95): 100%|██████████| 36/36 [00:07<00:00,  4.57it/s]\n"
     ]
    },
    {
     "name": "stdout",
     "output_type": "stream",
     "text": [
      "                   all        177       2773      0.926      0.922      0.961      0.714\n",
      "Speed: 0.7ms preprocess, 33.0ms inference, 0.0ms loss, 0.9ms postprocess per image\n",
      "Results saved to \u001b[1mruns/detect/011_YoloV8ExtraLarge_100Epochs_1200.ipynb2\u001b[0m\n"
     ]
    }
   ],
   "source": [
    "metrics = model.val(split = 'test', plots = True)"
   ]
  },
  {
   "cell_type": "code",
   "execution_count": 5,
   "metadata": {
    "colab": {
     "base_uri": "https://localhost:8080/"
    },
    "id": "7UHrNhTL3whW",
    "outputId": "05c35600-9e4f-473d-df4b-92247d0b8d73"
   },
   "outputs": [
    {
     "data": {
      "text/plain": [
       "{'metrics/precision(B)': 0.9257572894125976,\n",
       " 'metrics/recall(B)': 0.9217454020915975,\n",
       " 'metrics/mAP50(B)': 0.961096001689814,\n",
       " 'metrics/mAP50-95(B)': 0.7142636216073851,\n",
       " 'fitness': 0.738946859615628}"
      ]
     },
     "execution_count": 5,
     "metadata": {},
     "output_type": "execute_result"
    }
   ],
   "source": [
    "metrics.results_dict"
   ]
  },
  {
   "cell_type": "code",
   "execution_count": 12,
   "metadata": {
    "colab": {
     "base_uri": "https://localhost:8080/"
    },
    "id": "GAYU2DrC3_T2",
    "outputId": "3da3c252-64c7-4073-f9ce-2c078588cf22"
   },
   "outputs": [
    {
     "name": "stdout",
     "output_type": "stream",
     "text": [
      "\u001b[31m\u001b[1mrequirements:\u001b[0m Ultralytics requirement ['lapx>=0.5.2'] not found, attempting AutoUpdate...\n",
      "Collecting lapx>=0.5.2\n",
      "  Downloading lapx-0.5.8-cp310-cp310-manylinux_2_5_x86_64.manylinux1_x86_64.manylinux_2_17_x86_64.manylinux2014_x86_64.whl (1.7 MB)\n",
      "     ━━━━━━━━━━━━━━━━━━━━━━━━━━━━━━━━━━━━━━━━ 1.7/1.7 MB 11.3 MB/s eta 0:00:00\n",
      "Requirement already satisfied: Cython>=0.29.32 in /usr/local/lib/python3.10/dist-packages (from lapx>=0.5.2) (3.0.10)\n",
      "Requirement already satisfied: numpy>=1.21.6 in /usr/local/lib/python3.10/dist-packages (from lapx>=0.5.2) (1.25.2)\n",
      "Installing collected packages: lapx\n",
      "Successfully installed lapx-0.5.8\n",
      "\n",
      "\u001b[31m\u001b[1mrequirements:\u001b[0m AutoUpdate success ✅ 5.4s, installed 1 package: ['lapx>=0.5.2']\n",
      "\u001b[31m\u001b[1mrequirements:\u001b[0m ⚠️ \u001b[1mRestart runtime or rerun command for updates to take effect\u001b[0m\n",
      "\n",
      "WARNING ⚠️ Environment does not support cv2.imshow() or PIL Image.show()\n",
      "\n",
      "\n",
      "\n",
      "WARNING ⚠️ inference results will accumulate in RAM unless `stream=True` is passed, causing potential out-of-memory\n",
      "errors for large sources or long-running streams and videos. See https://docs.ultralytics.com/modes/predict/ for help.\n",
      "\n",
      "Example:\n",
      "    results = model(source=..., stream=True)  # generator of Results objects\n",
      "    for r in results:\n",
      "        boxes = r.boxes  # Boxes object for bbox outputs\n",
      "        masks = r.masks  # Masks object for segment masks outputs\n",
      "        probs = r.probs  # Class probabilities for classification outputs\n",
      "\n",
      "video 1/1 (frame 1/60) /content/test.avi: 768x1216 3 Movils, 145.4ms\n",
      "video 1/1 (frame 2/60) /content/test.avi: 768x1216 3 Movils, 10.3ms\n",
      "video 1/1 (frame 3/60) /content/test.avi: 768x1216 4 Movils, 10.0ms\n",
      "video 1/1 (frame 4/60) /content/test.avi: 768x1216 4 Movils, 10.0ms\n",
      "video 1/1 (frame 5/60) /content/test.avi: 768x1216 4 Movils, 9.8ms\n",
      "video 1/1 (frame 6/60) /content/test.avi: 768x1216 4 Movils, 9.8ms\n",
      "video 1/1 (frame 7/60) /content/test.avi: 768x1216 4 Movils, 9.9ms\n",
      "video 1/1 (frame 8/60) /content/test.avi: 768x1216 4 Movils, 9.7ms\n",
      "video 1/1 (frame 9/60) /content/test.avi: 768x1216 4 Movils, 10.0ms\n",
      "video 1/1 (frame 10/60) /content/test.avi: 768x1216 4 Movils, 11.4ms\n",
      "video 1/1 (frame 11/60) /content/test.avi: 768x1216 4 Movils, 9.8ms\n",
      "video 1/1 (frame 12/60) /content/test.avi: 768x1216 4 Movils, 9.8ms\n",
      "video 1/1 (frame 13/60) /content/test.avi: 768x1216 4 Movils, 9.9ms\n",
      "video 1/1 (frame 14/60) /content/test.avi: 768x1216 4 Movils, 9.9ms\n",
      "video 1/1 (frame 15/60) /content/test.avi: 768x1216 4 Movils, 9.9ms\n",
      "video 1/1 (frame 16/60) /content/test.avi: 768x1216 4 Movils, 9.9ms\n",
      "video 1/1 (frame 17/60) /content/test.avi: 768x1216 4 Movils, 10.6ms\n",
      "video 1/1 (frame 18/60) /content/test.avi: 768x1216 4 Movils, 9.8ms\n",
      "video 1/1 (frame 19/60) /content/test.avi: 768x1216 4 Movils, 9.9ms\n",
      "video 1/1 (frame 20/60) /content/test.avi: 768x1216 4 Movils, 9.8ms\n",
      "video 1/1 (frame 21/60) /content/test.avi: 768x1216 4 Movils, 9.7ms\n",
      "video 1/1 (frame 22/60) /content/test.avi: 768x1216 4 Movils, 9.8ms\n",
      "video 1/1 (frame 23/60) /content/test.avi: 768x1216 4 Movils, 9.8ms\n",
      "video 1/1 (frame 24/60) /content/test.avi: 768x1216 4 Movils, 9.7ms\n",
      "video 1/1 (frame 25/60) /content/test.avi: 768x1216 4 Movils, 9.8ms\n",
      "video 1/1 (frame 26/60) /content/test.avi: 768x1216 4 Movils, 9.8ms\n",
      "video 1/1 (frame 27/60) /content/test.avi: 768x1216 4 Movils, 9.7ms\n",
      "video 1/1 (frame 28/60) /content/test.avi: 768x1216 4 Movils, 9.7ms\n",
      "video 1/1 (frame 29/60) /content/test.avi: 768x1216 4 Movils, 11.2ms\n",
      "video 1/1 (frame 30/60) /content/test.avi: 768x1216 4 Movils, 9.9ms\n",
      "video 1/1 (frame 31/60) /content/test.avi: 768x1216 4 Movils, 10.1ms\n",
      "video 1/1 (frame 32/60) /content/test.avi: 768x1216 4 Movils, 9.9ms\n",
      "video 1/1 (frame 33/60) /content/test.avi: 768x1216 4 Movils, 10.0ms\n",
      "video 1/1 (frame 34/60) /content/test.avi: 768x1216 4 Movils, 9.9ms\n",
      "video 1/1 (frame 35/60) /content/test.avi: 768x1216 4 Movils, 9.9ms\n",
      "video 1/1 (frame 36/60) /content/test.avi: 768x1216 4 Movils, 9.9ms\n",
      "video 1/1 (frame 37/60) /content/test.avi: 768x1216 4 Movils, 9.9ms\n",
      "video 1/1 (frame 38/60) /content/test.avi: 768x1216 4 Movils, 10.4ms\n",
      "video 1/1 (frame 39/60) /content/test.avi: 768x1216 4 Movils, 9.9ms\n",
      "video 1/1 (frame 40/60) /content/test.avi: 768x1216 4 Movils, 10.0ms\n",
      "video 1/1 (frame 41/60) /content/test.avi: 768x1216 4 Movils, 9.8ms\n",
      "video 1/1 (frame 42/60) /content/test.avi: 768x1216 4 Movils, 9.8ms\n",
      "video 1/1 (frame 43/60) /content/test.avi: 768x1216 4 Movils, 9.9ms\n",
      "video 1/1 (frame 44/60) /content/test.avi: 768x1216 4 Movils, 9.9ms\n",
      "video 1/1 (frame 45/60) /content/test.avi: 768x1216 4 Movils, 9.9ms\n",
      "video 1/1 (frame 46/60) /content/test.avi: 768x1216 4 Movils, 10.2ms\n",
      "video 1/1 (frame 47/60) /content/test.avi: 768x1216 4 Movils, 9.7ms\n",
      "video 1/1 (frame 48/60) /content/test.avi: 768x1216 4 Movils, 9.7ms\n",
      "video 1/1 (frame 49/60) /content/test.avi: 768x1216 4 Movils, 9.7ms\n",
      "video 1/1 (frame 50/60) /content/test.avi: 768x1216 4 Movils, 11.4ms\n",
      "video 1/1 (frame 51/60) /content/test.avi: 768x1216 4 Movils, 11.8ms\n",
      "video 1/1 (frame 52/60) /content/test.avi: 768x1216 4 Movils, 11.3ms\n",
      "video 1/1 (frame 53/60) /content/test.avi: 768x1216 4 Movils, 11.4ms\n",
      "video 1/1 (frame 54/60) /content/test.avi: 768x1216 4 Movils, 9.8ms\n",
      "video 1/1 (frame 55/60) /content/test.avi: 768x1216 4 Movils, 9.8ms\n",
      "video 1/1 (frame 56/60) /content/test.avi: 768x1216 4 Movils, 9.8ms\n",
      "video 1/1 (frame 57/60) /content/test.avi: 768x1216 4 Movils, 10.1ms\n",
      "video 1/1 (frame 58/60) /content/test.avi: 768x1216 4 Movils, 11.3ms\n",
      "video 1/1 (frame 59/60) /content/test.avi: 768x1216 4 Movils, 9.9ms\n",
      "Speed: 8.2ms preprocess, 12.4ms inference, 1.5ms postprocess per image at shape (1, 3, 768, 1216)\n"
     ]
    }
   ],
   "source": [
    "#model.predict(source = 'dataSet/images/test/image_0.jpg', save = True)\n",
    "results = model.track(source=\"test.avi\", show=True)"
   ]
  },
  {
   "cell_type": "code",
   "execution_count": 13,
   "metadata": {
    "colab": {
     "base_uri": "https://localhost:8080/"
    },
    "id": "w1_IjHAMyPqb",
    "outputId": "af52d5ec-8fe6-4f83-a983-2e451e972f07"
   },
   "outputs": [
    {
     "name": "stdout",
     "output_type": "stream",
     "text": [
      "\n",
      "\n",
      "WARNING ⚠️ inference results will accumulate in RAM unless `stream=True` is passed, causing potential out-of-memory\n",
      "errors for large sources or long-running streams and videos. See https://docs.ultralytics.com/modes/predict/ for help.\n",
      "\n",
      "Example:\n",
      "    results = model(source=..., stream=True)  # generator of Results objects\n",
      "    for r in results:\n",
      "        boxes = r.boxes  # Boxes object for bbox outputs\n",
      "        masks = r.masks  # Masks object for segment masks outputs\n",
      "        probs = r.probs  # Class probabilities for classification outputs\n",
      "\n",
      "video 1/1 (frame 1/60) /content/test.avi: 768x1216 3 Movils, 10.3ms\n",
      "video 1/1 (frame 2/60) /content/test.avi: 768x1216 3 Movils, 9.9ms\n",
      "video 1/1 (frame 3/60) /content/test.avi: 768x1216 4 Movils, 10.2ms\n",
      "video 1/1 (frame 4/60) /content/test.avi: 768x1216 4 Movils, 10.0ms\n",
      "video 1/1 (frame 5/60) /content/test.avi: 768x1216 4 Movils, 10.2ms\n",
      "video 1/1 (frame 6/60) /content/test.avi: 768x1216 4 Movils, 10.1ms\n",
      "video 1/1 (frame 7/60) /content/test.avi: 768x1216 4 Movils, 9.9ms\n",
      "video 1/1 (frame 8/60) /content/test.avi: 768x1216 4 Movils, 10.3ms\n",
      "video 1/1 (frame 9/60) /content/test.avi: 768x1216 4 Movils, 10.1ms\n",
      "video 1/1 (frame 10/60) /content/test.avi: 768x1216 4 Movils, 10.0ms\n",
      "video 1/1 (frame 11/60) /content/test.avi: 768x1216 4 Movils, 9.9ms\n",
      "video 1/1 (frame 12/60) /content/test.avi: 768x1216 4 Movils, 10.0ms\n",
      "video 1/1 (frame 13/60) /content/test.avi: 768x1216 4 Movils, 10.0ms\n",
      "video 1/1 (frame 14/60) /content/test.avi: 768x1216 4 Movils, 9.9ms\n",
      "video 1/1 (frame 15/60) /content/test.avi: 768x1216 4 Movils, 9.9ms\n",
      "video 1/1 (frame 16/60) /content/test.avi: 768x1216 4 Movils, 10.1ms\n",
      "video 1/1 (frame 17/60) /content/test.avi: 768x1216 4 Movils, 10.0ms\n",
      "video 1/1 (frame 18/60) /content/test.avi: 768x1216 4 Movils, 10.1ms\n",
      "video 1/1 (frame 19/60) /content/test.avi: 768x1216 4 Movils, 10.0ms\n",
      "video 1/1 (frame 20/60) /content/test.avi: 768x1216 4 Movils, 9.9ms\n",
      "video 1/1 (frame 21/60) /content/test.avi: 768x1216 4 Movils, 10.0ms\n",
      "video 1/1 (frame 22/60) /content/test.avi: 768x1216 4 Movils, 9.9ms\n",
      "video 1/1 (frame 23/60) /content/test.avi: 768x1216 4 Movils, 9.8ms\n",
      "video 1/1 (frame 24/60) /content/test.avi: 768x1216 4 Movils, 9.8ms\n",
      "video 1/1 (frame 25/60) /content/test.avi: 768x1216 4 Movils, 9.8ms\n",
      "video 1/1 (frame 26/60) /content/test.avi: 768x1216 4 Movils, 11.0ms\n",
      "video 1/1 (frame 27/60) /content/test.avi: 768x1216 4 Movils, 9.7ms\n",
      "video 1/1 (frame 28/60) /content/test.avi: 768x1216 4 Movils, 10.1ms\n",
      "video 1/1 (frame 29/60) /content/test.avi: 768x1216 4 Movils, 9.8ms\n",
      "video 1/1 (frame 30/60) /content/test.avi: 768x1216 4 Movils, 9.7ms\n",
      "video 1/1 (frame 31/60) /content/test.avi: 768x1216 4 Movils, 9.7ms\n",
      "video 1/1 (frame 32/60) /content/test.avi: 768x1216 4 Movils, 9.7ms\n",
      "video 1/1 (frame 33/60) /content/test.avi: 768x1216 4 Movils, 11.1ms\n",
      "video 1/1 (frame 34/60) /content/test.avi: 768x1216 4 Movils, 10.0ms\n",
      "video 1/1 (frame 35/60) /content/test.avi: 768x1216 4 Movils, 11.4ms\n",
      "video 1/1 (frame 36/60) /content/test.avi: 768x1216 4 Movils, 11.4ms\n",
      "video 1/1 (frame 37/60) /content/test.avi: 768x1216 4 Movils, 11.6ms\n",
      "video 1/1 (frame 38/60) /content/test.avi: 768x1216 4 Movils, 10.0ms\n",
      "video 1/1 (frame 39/60) /content/test.avi: 768x1216 4 Movils, 9.9ms\n",
      "video 1/1 (frame 40/60) /content/test.avi: 768x1216 4 Movils, 10.5ms\n",
      "video 1/1 (frame 41/60) /content/test.avi: 768x1216 4 Movils, 10.5ms\n",
      "video 1/1 (frame 42/60) /content/test.avi: 768x1216 4 Movils, 9.9ms\n",
      "video 1/1 (frame 43/60) /content/test.avi: 768x1216 4 Movils, 9.9ms\n",
      "video 1/1 (frame 44/60) /content/test.avi: 768x1216 4 Movils, 10.3ms\n",
      "video 1/1 (frame 45/60) /content/test.avi: 768x1216 4 Movils, 10.4ms\n",
      "video 1/1 (frame 46/60) /content/test.avi: 768x1216 4 Movils, 10.0ms\n",
      "video 1/1 (frame 47/60) /content/test.avi: 768x1216 4 Movils, 10.1ms\n",
      "video 1/1 (frame 48/60) /content/test.avi: 768x1216 4 Movils, 10.1ms\n",
      "video 1/1 (frame 49/60) /content/test.avi: 768x1216 4 Movils, 9.9ms\n",
      "video 1/1 (frame 50/60) /content/test.avi: 768x1216 4 Movils, 11.7ms\n",
      "video 1/1 (frame 51/60) /content/test.avi: 768x1216 4 Movils, 9.9ms\n",
      "video 1/1 (frame 52/60) /content/test.avi: 768x1216 4 Movils, 10.1ms\n",
      "video 1/1 (frame 53/60) /content/test.avi: 768x1216 4 Movils, 9.9ms\n",
      "video 1/1 (frame 54/60) /content/test.avi: 768x1216 4 Movils, 9.9ms\n",
      "video 1/1 (frame 55/60) /content/test.avi: 768x1216 4 Movils, 9.9ms\n",
      "video 1/1 (frame 56/60) /content/test.avi: 768x1216 4 Movils, 10.0ms\n",
      "video 1/1 (frame 57/60) /content/test.avi: 768x1216 4 Movils, 9.9ms\n",
      "video 1/1 (frame 58/60) /content/test.avi: 768x1216 4 Movils, 9.8ms\n",
      "video 1/1 (frame 59/60) /content/test.avi: 768x1216 4 Movils, 10.0ms\n",
      "Speed: 6.6ms preprocess, 10.1ms inference, 1.5ms postprocess per image at shape (1, 3, 768, 1216)\n",
      "Results saved to \u001b[1mruns/detect/train3\u001b[0m\n"
     ]
    }
   ],
   "source": [
    "%%capture\n",
    "results = model('test.avi', save=True)"
   ]
  },
  {
   "cell_type": "code",
   "execution_count": 14,
   "metadata": {
    "colab": {
     "base_uri": "https://localhost:8080/"
    },
    "id": "2uWs96_4LPKh",
    "outputId": "b24ac7c8-cf91-4f68-f836-146a65933119"
   },
   "outputs": [
    {
     "name": "stdout",
     "output_type": "stream",
     "text": [
      "\n",
      "\n",
      "WARNING ⚠️ inference results will accumulate in RAM unless `stream=True` is passed, causing potential out-of-memory\n",
      "errors for large sources or long-running streams and videos. See https://docs.ultralytics.com/modes/predict/ for help.\n",
      "\n",
      "Example:\n",
      "    results = model(source=..., stream=True)  # generator of Results objects\n",
      "    for r in results:\n",
      "        boxes = r.boxes  # Boxes object for bbox outputs\n",
      "        masks = r.masks  # Masks object for segment masks outputs\n",
      "        probs = r.probs  # Class probabilities for classification outputs\n",
      "\n",
      "video 1/1 (frame 1/60) /content/Suppl_1.avi: 768x1216 31 Movils, 10.4ms\n",
      "video 1/1 (frame 2/60) /content/Suppl_1.avi: 768x1216 31 Movils, 10.3ms\n",
      "video 1/1 (frame 3/60) /content/Suppl_1.avi: 768x1216 31 Movils, 10.2ms\n",
      "video 1/1 (frame 4/60) /content/Suppl_1.avi: 768x1216 31 Movils, 10.1ms\n",
      "video 1/1 (frame 5/60) /content/Suppl_1.avi: 768x1216 31 Movils, 10.1ms\n",
      "video 1/1 (frame 6/60) /content/Suppl_1.avi: 768x1216 31 Movils, 9.9ms\n",
      "video 1/1 (frame 7/60) /content/Suppl_1.avi: 768x1216 31 Movils, 10.9ms\n",
      "video 1/1 (frame 8/60) /content/Suppl_1.avi: 768x1216 31 Movils, 10.2ms\n",
      "video 1/1 (frame 9/60) /content/Suppl_1.avi: 768x1216 31 Movils, 10.0ms\n",
      "video 1/1 (frame 10/60) /content/Suppl_1.avi: 768x1216 31 Movils, 10.0ms\n",
      "video 1/1 (frame 11/60) /content/Suppl_1.avi: 768x1216 31 Movils, 9.9ms\n",
      "video 1/1 (frame 12/60) /content/Suppl_1.avi: 768x1216 31 Movils, 9.9ms\n",
      "video 1/1 (frame 13/60) /content/Suppl_1.avi: 768x1216 31 Movils, 9.8ms\n",
      "video 1/1 (frame 14/60) /content/Suppl_1.avi: 768x1216 31 Movils, 9.9ms\n",
      "video 1/1 (frame 15/60) /content/Suppl_1.avi: 768x1216 31 Movils, 9.9ms\n",
      "video 1/1 (frame 16/60) /content/Suppl_1.avi: 768x1216 31 Movils, 9.9ms\n",
      "video 1/1 (frame 17/60) /content/Suppl_1.avi: 768x1216 31 Movils, 9.9ms\n",
      "video 1/1 (frame 18/60) /content/Suppl_1.avi: 768x1216 31 Movils, 9.8ms\n",
      "video 1/1 (frame 19/60) /content/Suppl_1.avi: 768x1216 31 Movils, 10.3ms\n",
      "video 1/1 (frame 20/60) /content/Suppl_1.avi: 768x1216 31 Movils, 9.9ms\n",
      "video 1/1 (frame 21/60) /content/Suppl_1.avi: 768x1216 31 Movils, 9.8ms\n",
      "video 1/1 (frame 22/60) /content/Suppl_1.avi: 768x1216 31 Movils, 10.1ms\n",
      "video 1/1 (frame 23/60) /content/Suppl_1.avi: 768x1216 31 Movils, 9.7ms\n",
      "video 1/1 (frame 24/60) /content/Suppl_1.avi: 768x1216 31 Movils, 11.5ms\n",
      "video 1/1 (frame 25/60) /content/Suppl_1.avi: 768x1216 31 Movils, 11.6ms\n",
      "video 1/1 (frame 26/60) /content/Suppl_1.avi: 768x1216 31 Movils, 10.0ms\n",
      "video 1/1 (frame 27/60) /content/Suppl_1.avi: 768x1216 31 Movils, 9.9ms\n",
      "video 1/1 (frame 28/60) /content/Suppl_1.avi: 768x1216 31 Movils, 9.9ms\n",
      "video 1/1 (frame 29/60) /content/Suppl_1.avi: 768x1216 31 Movils, 10.0ms\n",
      "video 1/1 (frame 30/60) /content/Suppl_1.avi: 768x1216 31 Movils, 9.9ms\n",
      "video 1/1 (frame 31/60) /content/Suppl_1.avi: 768x1216 31 Movils, 9.8ms\n",
      "video 1/1 (frame 32/60) /content/Suppl_1.avi: 768x1216 32 Movils, 9.8ms\n",
      "video 1/1 (frame 33/60) /content/Suppl_1.avi: 768x1216 32 Movils, 10.0ms\n",
      "video 1/1 (frame 34/60) /content/Suppl_1.avi: 768x1216 32 Movils, 10.1ms\n",
      "video 1/1 (frame 35/60) /content/Suppl_1.avi: 768x1216 32 Movils, 10.0ms\n",
      "video 1/1 (frame 36/60) /content/Suppl_1.avi: 768x1216 32 Movils, 10.0ms\n",
      "video 1/1 (frame 37/60) /content/Suppl_1.avi: 768x1216 32 Movils, 10.6ms\n",
      "video 1/1 (frame 38/60) /content/Suppl_1.avi: 768x1216 32 Movils, 9.9ms\n",
      "video 1/1 (frame 39/60) /content/Suppl_1.avi: 768x1216 32 Movils, 10.9ms\n",
      "video 1/1 (frame 40/60) /content/Suppl_1.avi: 768x1216 32 Movils, 10.2ms\n",
      "video 1/1 (frame 41/60) /content/Suppl_1.avi: 768x1216 32 Movils, 9.8ms\n",
      "video 1/1 (frame 42/60) /content/Suppl_1.avi: 768x1216 32 Movils, 10.0ms\n",
      "video 1/1 (frame 43/60) /content/Suppl_1.avi: 768x1216 32 Movils, 9.8ms\n",
      "video 1/1 (frame 44/60) /content/Suppl_1.avi: 768x1216 32 Movils, 11.2ms\n",
      "video 1/1 (frame 45/60) /content/Suppl_1.avi: 768x1216 32 Movils, 11.2ms\n",
      "video 1/1 (frame 46/60) /content/Suppl_1.avi: 768x1216 32 Movils, 11.5ms\n",
      "video 1/1 (frame 47/60) /content/Suppl_1.avi: 768x1216 32 Movils, 11.5ms\n",
      "video 1/1 (frame 48/60) /content/Suppl_1.avi: 768x1216 32 Movils, 9.9ms\n",
      "video 1/1 (frame 49/60) /content/Suppl_1.avi: 768x1216 32 Movils, 10.0ms\n",
      "video 1/1 (frame 50/60) /content/Suppl_1.avi: 768x1216 32 Movils, 10.3ms\n",
      "video 1/1 (frame 51/60) /content/Suppl_1.avi: 768x1216 32 Movils, 10.1ms\n",
      "video 1/1 (frame 52/60) /content/Suppl_1.avi: 768x1216 32 Movils, 10.1ms\n",
      "video 1/1 (frame 53/60) /content/Suppl_1.avi: 768x1216 33 Movils, 10.0ms\n",
      "video 1/1 (frame 54/60) /content/Suppl_1.avi: 768x1216 33 Movils, 9.9ms\n",
      "video 1/1 (frame 55/60) /content/Suppl_1.avi: 768x1216 33 Movils, 10.1ms\n",
      "video 1/1 (frame 56/60) /content/Suppl_1.avi: 768x1216 33 Movils, 10.2ms\n",
      "video 1/1 (frame 57/60) /content/Suppl_1.avi: 768x1216 33 Movils, 10.0ms\n",
      "video 1/1 (frame 58/60) /content/Suppl_1.avi: 768x1216 33 Movils, 10.0ms\n",
      "video 1/1 (frame 59/60) /content/Suppl_1.avi: 768x1216 33 Movils, 10.1ms\n",
      "Speed: 6.6ms preprocess, 10.2ms inference, 1.6ms postprocess per image at shape (1, 3, 768, 1216)\n",
      "Results saved to \u001b[1mruns/detect/train4\u001b[0m\n"
     ]
    }
   ],
   "source": [
    "%%capture\n",
    "results = model('Suppl_1.avi', save=True)"
   ]
  },
  {
   "cell_type": "code",
   "execution_count": 15,
   "metadata": {
    "colab": {
     "base_uri": "https://localhost:8080/",
     "height": 264
    },
    "id": "2P6qyvvS9CAl",
    "outputId": "167c2a9d-d14a-4fc6-80da-08770ba2e811"
   },
   "outputs": [
    {
     "name": "stdout",
     "output_type": "stream",
     "text": [
      "Ultralytics YOLOv8.2.5 🚀 Python-3.10.12 torch-2.2.1+cu121 CPU (Intel Xeon 2.20GHz)\n",
      "\n",
      "\u001b[34m\u001b[1mPyTorch:\u001b[0m starting from 'runs/detect/train/weights/best.pt' with input shape (1, 3, 1216, 1216) BCHW and output shape(s) (1, 5, 30324) (21.5 MB)\n",
      "\n",
      "\u001b[34m\u001b[1mTorchScript:\u001b[0m starting export with torch 2.2.1+cu121...\n",
      "\u001b[34m\u001b[1mTorchScript:\u001b[0m export success ✅ 3.1s, saved as 'runs/detect/train/weights/best.torchscript' (43.1 MB)\n",
      "\n",
      "Export complete (4.9s)\n",
      "Results saved to \u001b[1m/content/runs/detect/train/weights\u001b[0m\n",
      "Predict:         yolo predict task=detect model=runs/detect/train/weights/best.torchscript imgsz=1216  \n",
      "Validate:        yolo val task=detect model=runs/detect/train/weights/best.torchscript imgsz=1216 data=dataSet.yaml  \n",
      "Visualize:       https://netron.app\n"
     ]
    },
    {
     "data": {
      "application/vnd.google.colaboratory.intrinsic+json": {
       "type": "string"
      },
      "text/plain": [
       "'runs/detect/train/weights/best.torchscript'"
      ]
     },
     "execution_count": 15,
     "metadata": {},
     "output_type": "execute_result"
    }
   ],
   "source": [
    "# Export the model\n",
    "model.export()"
   ]
  },
  {
   "cell_type": "code",
   "execution_count": 16,
   "metadata": {
    "id": "eWc1MUpDJPBS"
   },
   "outputs": [],
   "source": [
    "import shutil\n",
    "archivo = shutil.make_archive('ModelInformation', 'zip','/content/runs')"
   ]
  }
 ],
 "metadata": {
  "accelerator": "GPU",
  "colab": {
   "authorship_tag": "ABX9TyMYPVkntz51C/lsU4zhak7F",
   "gpuType": "L4",
   "include_colab_link": true,
   "machine_shape": "hm",
   "provenance": []
  },
  "kernelspec": {
   "display_name": "Python [conda env:.conda-AutoGluonGPU]",
   "language": "python",
   "name": "conda-env-.conda-AutoGluonGPU-py"
  },
  "language_info": {
   "codemirror_mode": {
    "name": "ipython",
    "version": 3
   },
   "file_extension": ".py",
   "mimetype": "text/x-python",
   "name": "python",
   "nbconvert_exporter": "python",
   "pygments_lexer": "ipython3",
   "version": "3.9.13"
  }
 },
 "nbformat": 4,
 "nbformat_minor": 4
}
