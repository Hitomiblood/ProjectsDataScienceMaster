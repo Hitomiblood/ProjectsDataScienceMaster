{
  "nbformat": 4,
  "nbformat_minor": 0,
  "metadata": {
    "colab": {
      "provenance": [],
      "authorship_tag": "ABX9TyOblbpOUrJ5uYMC49Hulg66",
      "include_colab_link": true
    },
    "kernelspec": {
      "name": "python3",
      "display_name": "Python 3"
    },
    "language_info": {
      "name": "python"
    }
  },
  "cells": [
    {
      "cell_type": "markdown",
      "metadata": {
        "id": "view-in-github",
        "colab_type": "text"
      },
      "source": [
        "<a href=\"https://colab.research.google.com/github/Hitomiblood/ProjectsDataScienceMaster/blob/main/Proyecto_TFM/TestingModelos/Models/ExtractingROIFromVideoList.ipynb\" target=\"_parent\"><img src=\"https://colab.research.google.com/assets/colab-badge.svg\" alt=\"Open In Colab\"/></a>"
      ]
    },
    {
      "cell_type": "markdown",
      "source": [
        "# Creando procesamiento de Frames para extracción de secciones de espermatozoides móviles en un conjunto de videos."
      ],
      "metadata": {
        "id": "awjBvmJeps6z"
      }
    },
    {
      "cell_type": "code",
      "execution_count": 1,
      "metadata": {
        "id": "m7nMTNempqct"
      },
      "outputs": [],
      "source": [
        "%%capture\n",
        "!pip install ultralytics"
      ]
    },
    {
      "cell_type": "code",
      "source": [
        "%%capture\n",
        "!wget https://www.dropbox.com/scl/fi/g1ozmpe6y9k48cxc041rp/bestSmall100.pt?rlkey=fs2aktr3tdkay39lg3gw9x9tb&st=iynm04em&dl=0\n",
        "!mv bestSmall100.pt?rlkey=fs2aktr3tdkay39lg3gw9x9tb bestSmall100.pt"
      ],
      "metadata": {
        "id": "JX83jaefp25v"
      },
      "execution_count": 2,
      "outputs": []
    },
    {
      "cell_type": "code",
      "source": [
        "%%capture\n",
        "!wget https://www.dropbox.com/scl/fi/v0t8noyhzp1eutaj13w6y/VideosTrackingTest.zip?rlkey=pxdttv3eepxfvglud37qkzegr&st=jw9bqwug&dl=0\n",
        "!mv VideosTrackingTest.zip?rlkey=pxdttv3eepxfvglud37qkzegr VideosTrackingTest.zip\n",
        "!unzip VideosTrackingTest.zip"
      ],
      "metadata": {
        "id": "xqidC31Yp5E_"
      },
      "execution_count": 3,
      "outputs": []
    },
    {
      "cell_type": "code",
      "source": [
        "from ultralytics import YOLO\n",
        "# Load a pretrained YOLO model (recommended for training)\n",
        "model = YOLO('bestSmall100.pt')"
      ],
      "metadata": {
        "id": "ovn-j0Jwq9os"
      },
      "execution_count": 4,
      "outputs": []
    },
    {
      "cell_type": "code",
      "source": [
        "import cv2\n",
        "import os\n",
        "\n",
        "def extraer_primer_frame_video(video_path):\n",
        "    # Cargar el video\n",
        "    cap = cv2.VideoCapture(video_path)\n",
        "\n",
        "    # Verificar si el video se ha abierto correctamente\n",
        "    if not cap.isOpened():\n",
        "        print(f\"Error al abrir el video: {video_path}\")\n",
        "        return None\n",
        "\n",
        "    # Leer el primer frame\n",
        "    ret, frame = cap.read()\n",
        "\n",
        "    # Verificar si el frame se ha leído correctamente\n",
        "    if not ret:\n",
        "        print(f\"Error al leer el primer frame del video: {video_path}\")\n",
        "        return None\n",
        "\n",
        "    # Liberar el objeto VideoCapture\n",
        "    cap.release()\n",
        "\n",
        "    print(f\"\\n Primer frame del video {video_path} extraído exitosamente\")\n",
        "\n",
        "    return frame\n",
        "\n",
        "def recortar_y_guardar_imagenes(orig_img, result, output_folder):\n",
        "    # Aumentar el tamaño de las imágenes recolectadas en 30 píxeles por lado\n",
        "    margin = 30\n",
        "\n",
        "    # Nombre del video sin la extensión\n",
        "    video_name = os.path.splitext(os.path.basename(output_folder))[0]\n",
        "\n",
        "    # Crear la carpeta para este video si no existe\n",
        "    if not os.path.exists(output_folder):\n",
        "        os.makedirs(output_folder)\n",
        "\n",
        "    # Obtener las cajas y los IDs de seguimiento\n",
        "    boxes = result[0].boxes.xyxyn.cpu()\n",
        "\n",
        "    # Dimensiones de la imagen original\n",
        "    img_height, img_width = orig_img.shape[:2]\n",
        "\n",
        "    # Iterar sobre las cajas\n",
        "    for j, box in enumerate(boxes):\n",
        "        # Desnormalizar las coordenadas de la caja\n",
        "        left, top, right, bottom = box\n",
        "        left = int(left * img_width)\n",
        "        top = int(top * img_height)\n",
        "        right = int(right * img_width)\n",
        "        bottom = int(bottom * img_height)\n",
        "\n",
        "        # Recortar la región de interés (ROI) de la imagen original\n",
        "        roi = orig_img[max(top - margin, 0):min(bottom + margin, img_height),\n",
        "                        max(left - margin, 0):min(right + margin, img_width)]\n",
        "\n",
        "        # Guardar la región de interés como una imagen separada\n",
        "        cv2.imwrite(os.path.join(output_folder, f\"objeto_{j}.jpg\"), roi)\n",
        "\n",
        "    print(f\"Imágenes recortadas del video {video_name} guardadas exitosamente\")\n",
        "\n",
        "def procesar_videos(carpetas_videos, modelo, output_folder):\n",
        "    for carpeta in carpetas_videos:\n",
        "        # Obtener la lista de archivos en la carpeta de video\n",
        "        archivos_video = [archivo for archivo in os.listdir(carpeta) if archivo.endswith(\".mp4\") or archivo.endswith(\".avi\")]\n",
        "\n",
        "        for archivo in archivos_video:\n",
        "            video_path = os.path.join(carpeta, archivo)\n",
        "            # Extraer el primer frame del video\n",
        "            primer_frame = extraer_primer_frame_video(video_path)\n",
        "\n",
        "            if primer_frame is not None:\n",
        "                # Pasar el primer frame por el modelo\n",
        "                results = modelo(primer_frame)\n",
        "                # Crear la carpeta de salida para este video\n",
        "                video_output_folder = os.path.join(output_folder, os.path.splitext(os.path.basename(video_path))[0])\n",
        "                # Recortar y guardar las imágenes\n",
        "                recortar_y_guardar_imagenes(primer_frame, results, video_output_folder)\n"
      ],
      "metadata": {
        "id": "auhOYoW7rFdw"
      },
      "execution_count": 5,
      "outputs": []
    },
    {
      "cell_type": "code",
      "source": [
        "# Lista de carpetas que contienen videos\n",
        "carpetas_videos = [\"VideosTrackingTest/\"]\n",
        "\n",
        "# Carpeta donde se guardarán las imágenes recortadas\n",
        "carpeta_objetos_detectados = \"objetos_detectados\"\n",
        "\n",
        "# Llamar a la función para procesar los videos\n",
        "procesar_videos(carpetas_videos, model, carpeta_objetos_detectados)"
      ],
      "metadata": {
        "colab": {
          "base_uri": "https://localhost:8080/"
        },
        "id": "dUKrCf_KrcFv",
        "outputId": "48825eec-1f1e-44c5-cfad-a3c1ffe78236"
      },
      "execution_count": 6,
      "outputs": [
        {
          "output_type": "stream",
          "name": "stdout",
          "text": [
            "Primer frame del video VideosTrackingTest/Suppl_1.avi extraído exitosamente\n",
            "\n",
            "0: 768x1216 32 Movils, 1612.9ms\n",
            "Speed: 35.1ms preprocess, 1612.9ms inference, 2711.2ms postprocess per image at shape (1, 3, 768, 1216)\n",
            "Imágenes recortadas del video Suppl_1 guardadas exitosamente\n",
            "Primer frame del video VideosTrackingTest/acA1920-155um__22949301__20210628_094625267.avi extraído exitosamente\n",
            "\n",
            "0: 768x1216 5 Movils, 1368.1ms\n",
            "Speed: 12.1ms preprocess, 1368.1ms inference, 1.1ms postprocess per image at shape (1, 3, 768, 1216)\n",
            "Imágenes recortadas del video acA1920-155um__22949301__20210628_094625267 guardadas exitosamente\n",
            "Primer frame del video VideosTrackingTest/acA1920-155um__22949301__20210625_105958792.avi extraído exitosamente\n",
            "\n",
            "0: 768x1216 74 Movils, 1338.1ms\n",
            "Speed: 10.3ms preprocess, 1338.1ms inference, 1.7ms postprocess per image at shape (1, 3, 768, 1216)\n",
            "Imágenes recortadas del video acA1920-155um__22949301__20210625_105958792 guardadas exitosamente\n",
            "Primer frame del video VideosTrackingTest/acA1920-155um__22949301__20220526_124553810.avi extraído exitosamente\n",
            "\n",
            "0: 768x1216 38 Movils, 1394.9ms\n",
            "Speed: 11.9ms preprocess, 1394.9ms inference, 1.2ms postprocess per image at shape (1, 3, 768, 1216)\n",
            "Imágenes recortadas del video acA1920-155um__22949301__20220526_124553810 guardadas exitosamente\n",
            "Primer frame del video VideosTrackingTest/acA1920-155um__22949301__20220526_160756867.avi extraído exitosamente\n",
            "\n",
            "0: 768x1216 45 Movils, 1689.5ms\n",
            "Speed: 10.2ms preprocess, 1689.5ms inference, 1.9ms postprocess per image at shape (1, 3, 768, 1216)\n",
            "Imágenes recortadas del video acA1920-155um__22949301__20220526_160756867 guardadas exitosamente\n",
            "Primer frame del video VideosTrackingTest/acA1920-155um__22949301__20200710_094124535.avi extraído exitosamente\n",
            "\n",
            "0: 768x1216 5 Movils, 2190.4ms\n",
            "Speed: 15.0ms preprocess, 2190.4ms inference, 1.6ms postprocess per image at shape (1, 3, 768, 1216)\n",
            "Imágenes recortadas del video acA1920-155um__22949301__20200710_094124535 guardadas exitosamente\n",
            "Primer frame del video VideosTrackingTest/acA1920-155um__22949301__20210628_114549599.avi extraído exitosamente\n",
            "\n",
            "0: 768x1216 10 Movils, 1519.3ms\n",
            "Speed: 12.6ms preprocess, 1519.3ms inference, 1.2ms postprocess per image at shape (1, 3, 768, 1216)\n",
            "Imágenes recortadas del video acA1920-155um__22949301__20210628_114549599 guardadas exitosamente\n"
          ]
        }
      ]
    },
    {
      "cell_type": "code",
      "source": [
        "import shutil\n",
        "archivo = shutil.make_archive('objetos_detectados', 'zip','/content/objetos_detectados')"
      ],
      "metadata": {
        "id": "EHKIXBNwuIdo"
      },
      "execution_count": 7,
      "outputs": []
    }
  ]
}