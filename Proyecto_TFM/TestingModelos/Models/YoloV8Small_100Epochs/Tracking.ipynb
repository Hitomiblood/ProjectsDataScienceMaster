{
  "nbformat": 4,
  "nbformat_minor": 0,
  "metadata": {
    "colab": {
      "provenance": []
    },
    "kernelspec": {
      "name": "python3",
      "display_name": "Python 3"
    },
    "language_info": {
      "name": "python"
    }
  },
  "cells": [
    {
      "cell_type": "markdown",
      "source": [
        "# Generando Video de Tracking con modelo Small"
      ],
      "metadata": {
        "id": "MuN5TZpRP_5P"
      }
    },
    {
      "cell_type": "code",
      "execution_count": null,
      "metadata": {
        "id": "WaeqYXI6PWh_"
      },
      "outputs": [],
      "source": [
        "%%capture\n",
        "!pip install ultralytics"
      ]
    },
    {
      "cell_type": "code",
      "source": [
        "from ultralytics import YOLO"
      ],
      "metadata": {
        "id": "cSa_nNr5WCYv"
      },
      "execution_count": null,
      "outputs": []
    },
    {
      "cell_type": "code",
      "source": [
        "# Load a pretrained YOLO model (recommended for training)\n",
        "model = YOLO('best.pt')"
      ],
      "metadata": {
        "id": "TF9qOqEoWrxk"
      },
      "execution_count": null,
      "outputs": []
    },
    {
      "cell_type": "code",
      "source": [
        "!wget https://www.dropbox.com/scl/fi/f0wmb3677x28qwt3np0t8/acA1920-155um__22949301__20210628_094625267.avi?rlkey=2lfsr3mspsh5potd64pkb7coc&st=17daydxb&dl=1"
      ],
      "metadata": {
        "colab": {
          "base_uri": "https://localhost:8080/"
        },
        "id": "_RPEpat4X08v",
        "outputId": "28667025-1812-4832-adb5-a90180ea6f6b"
      },
      "execution_count": null,
      "outputs": [
        {
          "output_type": "stream",
          "name": "stdout",
          "text": [
            "--2024-05-07 19:21:02--  https://www.dropbox.com/scl/fi/f0wmb3677x28qwt3np0t8/acA1920-155um__22949301__20210628_094625267.avi?rlkey=2lfsr3mspsh5potd64pkb7coc\n",
            "Resolving www.dropbox.com (www.dropbox.com)... 162.125.81.18, 2620:100:6035:18::a27d:5512\n",
            "Connecting to www.dropbox.com (www.dropbox.com)|162.125.81.18|:443... connected.\n",
            "HTTP request sent, awaiting response... 302 Found\n",
            "Location: https://uc2bf67b73494332e8c6da1775e3.dl.dropboxusercontent.com/cd/0/inline/CSeUZZktP5pISh4E6Tln4-Qq6iSEbyjAJp-WkYCVwE-YP9E-gulAApDAzUdny9uoWDLmFWYjcK1-yxvzFiiHsPOa0Hok7F8LcFC09hKyKUu716tkL_pZNM89mcSI_9z5rNgJJbLcicPuBMduLwzhxCXt/file# [following]\n",
            "--2024-05-07 19:21:04--  https://uc2bf67b73494332e8c6da1775e3.dl.dropboxusercontent.com/cd/0/inline/CSeUZZktP5pISh4E6Tln4-Qq6iSEbyjAJp-WkYCVwE-YP9E-gulAApDAzUdny9uoWDLmFWYjcK1-yxvzFiiHsPOa0Hok7F8LcFC09hKyKUu716tkL_pZNM89mcSI_9z5rNgJJbLcicPuBMduLwzhxCXt/file\n",
            "Resolving uc2bf67b73494332e8c6da1775e3.dl.dropboxusercontent.com (uc2bf67b73494332e8c6da1775e3.dl.dropboxusercontent.com)... 162.125.4.15, 2620:100:6031:15::a27d:510f\n",
            "Connecting to uc2bf67b73494332e8c6da1775e3.dl.dropboxusercontent.com (uc2bf67b73494332e8c6da1775e3.dl.dropboxusercontent.com)|162.125.4.15|:443... connected.\n",
            "HTTP request sent, awaiting response... 200 OK\n",
            "Length: 135941632 (130M) [video/x-msvideo]\n",
            "Saving to: ‘acA1920-155um__22949301__20210628_094625267.avi?rlkey=2lfsr3mspsh5potd64pkb7coc’\n",
            "\n",
            "acA1920-155um__2294 100%[===================>] 129.64M  46.7MB/s    in 2.8s    \n",
            "\n",
            "2024-05-07 19:21:07 (46.7 MB/s) - ‘acA1920-155um__22949301__20210628_094625267.avi?rlkey=2lfsr3mspsh5potd64pkb7coc’ saved [135941632/135941632]\n",
            "\n"
          ]
        }
      ]
    },
    {
      "cell_type": "code",
      "source": [
        "%%capture\n",
        "!mv acA1920-155um__22949301__20210628_094625267.avi?rlkey=2lfsr3mspsh5potd64pkb7coc test.avi"
      ],
      "metadata": {
        "id": "JcubLw6bZIJz"
      },
      "execution_count": null,
      "outputs": []
    },
    {
      "cell_type": "code",
      "source": [
        "import cv2\n",
        "from google.colab.patches import cv2_imshow\n",
        "\n",
        "cv2.imshow = cv2_imshow\n"
      ],
      "metadata": {
        "id": "TuHy4FnHdovE"
      },
      "execution_count": null,
      "outputs": []
    },
    {
      "cell_type": "code",
      "source": [
        "# results = model.track(source=\"test.avi\", show=True, save = True)"
      ],
      "metadata": {
        "colab": {
          "base_uri": "https://localhost:8080/"
        },
        "id": "UZdt0mSAZIvG",
        "outputId": "3fbd66f0-161b-478f-8862-de488d980447"
      },
      "execution_count": null,
      "outputs": [
        {
          "output_type": "stream",
          "name": "stdout",
          "text": [
            "WARNING ⚠️ Environment does not support cv2.imshow() or PIL Image.show()\n",
            "\n",
            "\n",
            "\n",
            "WARNING ⚠️ inference results will accumulate in RAM unless `stream=True` is passed, causing potential out-of-memory\n",
            "errors for large sources or long-running streams and videos. See https://docs.ultralytics.com/modes/predict/ for help.\n",
            "\n",
            "Example:\n",
            "    results = model(source=..., stream=True)  # generator of Results objects\n",
            "    for r in results:\n",
            "        boxes = r.boxes  # Boxes object for bbox outputs\n",
            "        masks = r.masks  # Masks object for segment masks outputs\n",
            "        probs = r.probs  # Class probabilities for classification outputs\n",
            "\n",
            "video 1/1 (frame 1/60) /content/test.avi: 768x1216 3 Movils, 1302.3ms\n",
            "video 1/1 (frame 2/60) /content/test.avi: 768x1216 3 Movils, 1231.2ms\n",
            "video 1/1 (frame 3/60) /content/test.avi: 768x1216 4 Movils, 1544.1ms\n",
            "video 1/1 (frame 4/60) /content/test.avi: 768x1216 4 Movils, 1232.2ms\n",
            "video 1/1 (frame 5/60) /content/test.avi: 768x1216 4 Movils, 1225.3ms\n",
            "video 1/1 (frame 6/60) /content/test.avi: 768x1216 4 Movils, 1252.1ms\n",
            "video 1/1 (frame 7/60) /content/test.avi: 768x1216 4 Movils, 1839.7ms\n",
            "video 1/1 (frame 8/60) /content/test.avi: 768x1216 4 Movils, 1379.1ms\n",
            "video 1/1 (frame 9/60) /content/test.avi: 768x1216 4 Movils, 1258.0ms\n",
            "video 1/1 (frame 10/60) /content/test.avi: 768x1216 4 Movils, 1249.2ms\n",
            "video 1/1 (frame 11/60) /content/test.avi: 768x1216 4 Movils, 1237.4ms\n",
            "video 1/1 (frame 12/60) /content/test.avi: 768x1216 4 Movils, 1212.7ms\n",
            "video 1/1 (frame 13/60) /content/test.avi: 768x1216 4 Movils, 1190.3ms\n",
            "video 1/1 (frame 14/60) /content/test.avi: 768x1216 4 Movils, 1264.3ms\n",
            "video 1/1 (frame 15/60) /content/test.avi: 768x1216 4 Movils, 1323.1ms\n",
            "video 1/1 (frame 16/60) /content/test.avi: 768x1216 4 Movils, 1935.3ms\n",
            "video 1/1 (frame 17/60) /content/test.avi: 768x1216 4 Movils, 1264.4ms\n",
            "video 1/1 (frame 18/60) /content/test.avi: 768x1216 4 Movils, 1230.9ms\n",
            "video 1/1 (frame 19/60) /content/test.avi: 768x1216 4 Movils, 1233.3ms\n",
            "video 1/1 (frame 20/60) /content/test.avi: 768x1216 4 Movils, 1410.0ms\n",
            "video 1/1 (frame 21/60) /content/test.avi: 768x1216 4 Movils, 1224.0ms\n",
            "video 1/1 (frame 22/60) /content/test.avi: 768x1216 4 Movils, 1200.6ms\n",
            "video 1/1 (frame 23/60) /content/test.avi: 768x1216 4 Movils, 1211.4ms\n",
            "video 1/1 (frame 24/60) /content/test.avi: 768x1216 4 Movils, 1545.4ms\n",
            "video 1/1 (frame 25/60) /content/test.avi: 768x1216 4 Movils, 1795.7ms\n",
            "video 1/1 (frame 26/60) /content/test.avi: 768x1216 4 Movils, 1182.3ms\n",
            "video 1/1 (frame 27/60) /content/test.avi: 768x1216 4 Movils, 1213.7ms\n",
            "video 1/1 (frame 28/60) /content/test.avi: 768x1216 4 Movils, 1185.2ms\n",
            "video 1/1 (frame 29/60) /content/test.avi: 768x1216 4 Movils, 1216.0ms\n",
            "video 1/1 (frame 30/60) /content/test.avi: 768x1216 4 Movils, 1211.7ms\n",
            "video 1/1 (frame 31/60) /content/test.avi: 768x1216 4 Movils, 1213.1ms\n",
            "video 1/1 (frame 32/60) /content/test.avi: 768x1216 4 Movils, 1230.4ms\n",
            "video 1/1 (frame 33/60) /content/test.avi: 768x1216 4 Movils, 1514.8ms\n",
            "video 1/1 (frame 34/60) /content/test.avi: 768x1216 4 Movils, 2221.8ms\n",
            "video 1/1 (frame 35/60) /content/test.avi: 768x1216 4 Movils, 1226.2ms\n",
            "video 1/1 (frame 36/60) /content/test.avi: 768x1216 4 Movils, 1246.8ms\n",
            "video 1/1 (frame 37/60) /content/test.avi: 768x1216 4 Movils, 1233.1ms\n",
            "video 1/1 (frame 38/60) /content/test.avi: 768x1216 4 Movils, 1248.9ms\n",
            "video 1/1 (frame 39/60) /content/test.avi: 768x1216 4 Movils, 1225.2ms\n",
            "video 1/1 (frame 40/60) /content/test.avi: 768x1216 4 Movils, 1204.3ms\n",
            "video 1/1 (frame 41/60) /content/test.avi: 768x1216 4 Movils, 1220.6ms\n",
            "video 1/1 (frame 42/60) /content/test.avi: 768x1216 4 Movils, 1766.6ms\n",
            "video 1/1 (frame 43/60) /content/test.avi: 768x1216 4 Movils, 1574.4ms\n",
            "video 1/1 (frame 44/60) /content/test.avi: 768x1216 4 Movils, 1244.7ms\n",
            "video 1/1 (frame 45/60) /content/test.avi: 768x1216 4 Movils, 1241.9ms\n",
            "video 1/1 (frame 46/60) /content/test.avi: 768x1216 4 Movils, 1206.3ms\n",
            "video 1/1 (frame 47/60) /content/test.avi: 768x1216 4 Movils, 1224.3ms\n",
            "video 1/1 (frame 48/60) /content/test.avi: 768x1216 4 Movils, 1223.4ms\n",
            "video 1/1 (frame 49/60) /content/test.avi: 768x1216 4 Movils, 1225.5ms\n",
            "video 1/1 (frame 50/60) /content/test.avi: 768x1216 4 Movils, 1209.2ms\n",
            "video 1/1 (frame 51/60) /content/test.avi: 768x1216 4 Movils, 1768.2ms\n",
            "video 1/1 (frame 52/60) /content/test.avi: 768x1216 4 Movils, 1528.9ms\n",
            "video 1/1 (frame 53/60) /content/test.avi: 768x1216 4 Movils, 1216.9ms\n",
            "video 1/1 (frame 54/60) /content/test.avi: 768x1216 4 Movils, 1241.2ms\n",
            "video 1/1 (frame 55/60) /content/test.avi: 768x1216 4 Movils, 1234.3ms\n",
            "video 1/1 (frame 56/60) /content/test.avi: 768x1216 4 Movils, 1245.1ms\n",
            "video 1/1 (frame 57/60) /content/test.avi: 768x1216 4 Movils, 1240.1ms\n",
            "video 1/1 (frame 58/60) /content/test.avi: 768x1216 4 Movils, 1226.0ms\n",
            "video 1/1 (frame 59/60) /content/test.avi: 768x1216 4 Movils, 1216.6ms\n",
            "Speed: 10.2ms preprocess, 1329.2ms inference, 30.7ms postprocess per image at shape (1, 3, 768, 1216)\n",
            "Results saved to \u001b[1mruns/detect/track3\u001b[0m\n"
          ]
        }
      ]
    },
    {
      "cell_type": "code",
      "source": [
        "# Open the video file\n",
        "video_path = \"test.avi\"\n",
        "cap = cv2.VideoCapture(video_path)"
      ],
      "metadata": {
        "id": "2rKlD2SPcUyq"
      },
      "execution_count": null,
      "outputs": []
    },
    {
      "cell_type": "code",
      "source": [
        "# Loop through the video frames\n",
        "while cap.isOpened():\n",
        "    # Read a frame from the video\n",
        "    success, frame = cap.read()\n",
        "\n",
        "    if success:\n",
        "        # Run YOLOv8 tracking on the frame, persisting tracks between frames\n",
        "        results = model.track(frame, persist=True)\n",
        "\n",
        "        # Visualize the results on the frame\n",
        "        annotated_frame = results[0].plot()\n",
        "\n",
        "        # Display the annotated frame\n",
        "        cv2.imshow(annotated_frame)\n",
        "\n",
        "        # Break the loop if 'q' is pressed\n",
        "        if cv2.waitKey(1) & 0xFF == ord(\"q\"):\n",
        "            break\n",
        "    else:\n",
        "        # Break the loop if the end of the video is reached\n",
        "        break\n",
        "\n",
        "# Release the video capture object and close the display window\n",
        "cap.release()\n",
        "cv2.destroyAllWindows()"
      ],
      "metadata": {
        "colab": {
          "base_uri": "https://localhost:8080/",
          "height": 1000
        },
        "id": "TxUO7YSuhoB-",
        "outputId": "dfea83d6-33d9-4d14-c300-3f897f19691a"
      },
      "execution_count": null,
      "outputs": []
    }
  ]
}