{
 "cells": [
  {
   "cell_type": "markdown",
   "metadata": {},
   "source": [
    "# Steps for the Presentation of the Work:\n",
    "\n",
    "## Data Exploration:\n",
    "- Identification of Outliers (With and Without Review).\n",
    "    * LOF.\n",
    "    * Statistical Methods (Standard Deviation - Interquartile).\n",
    "- Duplicates (With and Without Review).\n",
    "- Imputation (Fill and Remove) {Necessary}.\n",
    "- Statistical Data.\n",
    "- Distribution Analysis.\n",
    "\n",
    "## Base Implementation:\n",
    "- 4 Classification Algorithms.\n",
    "\n",
    "## Stratified K-Fold Evaluation:\n",
    "- Pipeline Creation.\n",
    "   * Decision Tree.\n",
    "   * Support Vector Classifier (SVC).\n",
    "   * Random Forest.\n",
    "   * k-Nearest Neighbors (KNN).\n",
    "   * Naive Bayes - Gaussian NB.\n",
    "   * Logistic Regression.\n",
    "\n",
    "## Unit Treatment {Feature Selection of a Single Type}:\n",
    "- Categorical Variable Treatment (One-Hot Encoding - Ordinal Encoder).\n",
    "    * Feature Selection.\n",
    "- Numeric Variable Treatment (Normalize - Standardize - RobustScaler - Class 5 - P10).\n",
    "    * Feature Selection (ANOVA - Mutual Information) Note: Feature selection is done first, then scaling. Class 5 - P8-P9.\n",
    "\n",
    "## Feature Selection for Multiple Variables:\n",
    "- Feature Selection (Class 6 - P11).\n",
    "- Selection by Importance Index (Class 6 - P12).\n",
    "\n",
    "## Advanced Data Transformation {Creation of New Data Based on Initial Data}:\n",
    "- Numeric transformations to make our data more Gaussian (Limitations and use characteristics of PowerTransform \"BoxCox - Yeo Johnson\" Class 7 - P14. P13 {Example of TargetRegressor and ColumnTransformer}).\n",
    "- Numeric transformations with quintiles - Purpose, making the distribution more Gaussian (Class 8 - P15).\n",
    "- Transformation from numeric to categorical - (Class 8 - P16).\n",
    "- Feature Engineering (Polynomial Feature Transform Class 9 - P17).\n",
    "- Dimensionality Reduction of our data (PCA - SVD).\n",
    "\n",
    "## Put it all together:\n",
    "- Pipeline Creation.\n"
   ]
  }
 ],
 "metadata": {
  "language_info": {
   "name": "python"
  }
 },
 "nbformat": 4,
 "nbformat_minor": 2
}
